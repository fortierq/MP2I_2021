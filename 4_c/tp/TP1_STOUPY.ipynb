{
 "cells": [
  {
   "cell_type": "markdown",
   "id": "549b4744-7395-43e1-9486-e4031db5d918",
   "metadata": {},
   "source": [
    "# TP 1 : Implémentation d'une structure d'ensemble à l'aide d'une représentation binaire (*bit field*)\n",
    "\n",
    "On rappelle qu'un `uint` est un entier non-signé (positif). Ils sont stockés sur $4$ octets, soit $4\\times 8 = 32$ bits :"
   ]
  },
  {
   "cell_type": "code",
   "execution_count": 1,
   "id": "03452d8d-1312-43e8-8bcf-b6826544638a",
   "metadata": {
    "execution": {
     "iopub.execute_input": "2021-11-19T09:11:00.473779Z",
     "iopub.status.busy": "2021-11-19T09:11:00.473254Z",
     "iopub.status.idle": "2021-11-19T09:11:00.909529Z",
     "shell.execute_reply": "2021-11-19T09:11:00.907868Z"
    }
   },
   "outputs": [
    {
     "data": {
      "text/plain": [
       "4"
      ]
     },
     "execution_count": 1,
     "metadata": {},
     "output_type": "execute_result"
    }
   ],
   "source": [
    "uint x = 18;\n",
    "sizeof(x) // 4 octets"
   ]
  },
  {
   "cell_type": "markdown",
   "id": "c6461fbf-2315-4178-b857-44d54f30e63f",
   "metadata": {},
   "source": [
    "On rappelle qu'un `uint` est stocké en mémoire en base 2. Ainsi, $10$ est stocké comme $1010_2$.  \n",
    "Dans ce TP, on utilise la représentation binaire des entiers positifs pour coder des ensembles : à chaque entier écrit en base 2 on associe l'ensemble dont les éléments sont les positions des bits égaux à 1.  \n",
    "Par exemple, $1010_2$ a deux bits égaux à $1$, en positions $1$ et $3$ (la position 0 étant celle du chiffre des unités, tout à droite). Donc l'entier $1010_2$, c'est-à-dire $10$, représente l'ensemble $\\{1, 3\\}$.  \n",
    "Comme un `uint` est stocké sur $32$ bits, cette méthode permet donc de coder n'importe quel sous-ensemble de $\\{0, ..., 31\\}$ sous forme d'un `uint`.  \n",
    "Pour les questions suivantes, on pourra utiliser `&`, `|`, `<<`, `~` (voir 1er cours de C)."
   ]
  },
  {
   "cell_type": "markdown",
   "id": "041aeecb-58d3-44c2-ac0c-068f30c49e77",
   "metadata": {},
   "source": [
    "## Petites questions"
   ]
  },
  {
   "cell_type": "markdown",
   "id": "7b42f1d6-a311-4c1a-b6f9-d7e50f62346b",
   "metadata": {
    "tags": [
     "exo"
    ]
   },
   "source": [
    "1. Par quel entier est codé l'ensemble $\\{0, 3, 4\\}$?\n",
    "2. Quel est l'ensemble codé par l'entier $26$ ?\n",
    "3. Écrire une fonction `singleton` telle que `singleton(i)` renvoie l'entier représentant $\\{i\\}$, c'est-à-dire $2^i$ ($= 1\\underbrace{0...0}_i {}_2$)."
   ]
  },
  {
   "cell_type": "markdown",
   "id": "b3335e81-58ed-4410-9f86-0d83f424d901",
   "metadata": {},
   "source": [
    "1. L'entier codé par l'ensemble {0,3,4} est $11001_2$, ce qui donne en base 10: $25$\n",
    "2. L'ensemble codé par $26$ est {1,3,4}"
   ]
  },
  {
   "cell_type": "code",
   "execution_count": 1,
   "id": "d9ee433d-cf3f-4621-b907-87bb14363dad",
   "metadata": {},
   "outputs": [
    {
     "data": {
      "text/plain": [
       "4"
      ]
     },
     "execution_count": 1,
     "metadata": {},
     "output_type": "execute_result"
    }
   ],
   "source": [
    "int singleton(int i){\n",
    "    return 1<<i;\n",
    "}\n",
    "singleton(2)"
   ]
  },
  {
   "cell_type": "markdown",
   "id": "83d5cb70-63b0-4e72-85ea-d2635f6ddde9",
   "metadata": {},
   "source": [
    "## Union, intersection, appartenance"
   ]
  },
  {
   "cell_type": "markdown",
   "id": "9a90e596-c6d1-46ed-88c2-fe9a56f525a1",
   "metadata": {
    "tags": [
     "exo"
    ]
   },
   "source": [
    "1. Écrire une fonction `union2` telle que, si `s1` et `s2` sont deux entiers représentants des ensembles, `union2(s1, s2)` renvoie un entier représentant leur union.  \n",
    "2. Faire de même pour l'intersection de deux ensembles.  \n",
    "3. Écrire une fonction `has` telle que `has(s, e)` détermine si l'entier `e` appartient à l'ensemble représenté par l'entier `s`.  "
   ]
  },
  {
   "cell_type": "code",
   "execution_count": 4,
   "id": "25f586ed-89ee-46cc-947f-fea0f6384e42",
   "metadata": {},
   "outputs": [
    {
     "data": {
      "text/plain": [
       "6"
      ]
     },
     "execution_count": 4,
     "metadata": {},
     "output_type": "execute_result"
    }
   ],
   "source": [
    "int unions(int s1, int s2){\n",
    "    return s1 | s2;\n",
    "}\n",
    "unions(2, 4)"
   ]
  },
  {
   "cell_type": "code",
   "execution_count": 5,
   "id": "337ee4f6-56c9-4320-8cf3-76d2755c8315",
   "metadata": {},
   "outputs": [
    {
     "data": {
      "text/plain": [
       "0"
      ]
     },
     "execution_count": 5,
     "metadata": {},
     "output_type": "execute_result"
    }
   ],
   "source": [
    "int intersection(int s1, int s2){\n",
    "    return s1 & s2;\n",
    "}\n",
    "intersection(2, 4)"
   ]
  },
  {
   "cell_type": "code",
   "execution_count": 15,
   "id": "0bb0a0da-16aa-4b48-a77b-86781341869c",
   "metadata": {},
   "outputs": [
    {
     "data": {
      "text/plain": [
       "false"
      ]
     },
     "execution_count": 15,
     "metadata": {},
     "output_type": "execute_result"
    }
   ],
   "source": [
    "bool has(int e, int s){\n",
    "    if ((e&s) == e){\n",
    "        return true;\n",
    "    }\n",
    "    else{\n",
    "        return false;\n",
    "    }\n",
    "}\n",
    "has(2,5)"
   ]
  },
  {
   "cell_type": "markdown",
   "id": "82790228-3c51-467c-9315-9339bb3ba137",
   "metadata": {},
   "source": [
    "## Algorithme de Kernighan"
   ]
  },
  {
   "cell_type": "markdown",
   "id": "d2d10fc8-f78f-4570-b69a-d47d6607bf73",
   "metadata": {},
   "source": [
    "1. Si $n = 1011100_2$, que vaut $n$ & $(n - 1)$ ? Quel est le lien entre l'écriture de $n$ et celle de $n$ & $(n - 1)$ ?\n",
    "2. En s'inspirant de la question précédente, écrire une fonction `card` telle que `card(n)` renvoie le nombre de 1 dans l'écriture binaire de `n`. Cette fonction sera linéaire en le nombre de 1 dans l'écriture binaire de `n`. (Remarque : `card` renvoie donc le cardinal (taille) de l'ensemble codé par l'entier en argument)  \n",
    "3. Un des intérêts de cette représentation binaire des ensembles est qu'il est facile d'énumérer tous les sous-ensembles de $\\{0, ..., 31\\}$, en faisant une boucle `for` sur les entiers de $0$ à $2^{32} - 1$. Calculer ainsi la somme des cardinaux de tous les sous-ensembles de $\\{0, ..., 31\\}$. Quel nombre retrouve t-on?  "
   ]
  },
  {
   "cell_type": "markdown",
   "id": "d537a04c-f2de-4cb9-93b5-13328fe09f4e",
   "metadata": {},
   "source": [
    "1. Si $n = 1011100_2$ alors $n$ & $(n-1)$ = $1011000_2$\n",
    "Le n&(n-1) va supprimer le 1 le plus à droite."
   ]
  },
  {
   "cell_type": "code",
   "execution_count": 22,
   "id": "e80c49cf-0b25-46f2-8ee8-057d8c96c14f",
   "metadata": {},
   "outputs": [
    {
     "data": {
      "text/plain": [
       "4"
      ]
     },
     "execution_count": 22,
     "metadata": {},
     "output_type": "execute_result"
    }
   ],
   "source": [
    "uint card(int n, int somme){\n",
    "    if (n == 0){\n",
    "        return somme;\n",
    "    }\n",
    "    else{\n",
    "        return card((n&n-1),(somme+1));\n",
    "    }\n",
    "}\n",
    "card(92, 0)"
   ]
  },
  {
   "cell_type": "code",
   "execution_count": null,
   "id": "30745596-3a40-4bff-a975-dce140b1d372",
   "metadata": {},
   "outputs": [],
   "source": [
    "uint nb = 0;\n",
    "for (uint i = 1;i <= 4294967294; i++) {\n",
    "    nb = nb + (card(i, 0));\n",
    "}"
   ]
  },
  {
   "cell_type": "markdown",
   "id": "5e0b7005-55ab-42bd-b9ba-6475a3291b06",
   "metadata": {},
   "source": [
    "## Bit de poids faible"
   ]
  },
  {
   "cell_type": "markdown",
   "id": "18bcad5b-cea4-44d0-9625-e0ba6c5cc5d4",
   "metadata": {
    "tags": [
     "exo"
    ]
   },
   "source": [
    "1. Si `x` est un entier positif, que permet d'obtenir l'instruction `x & (~x + 1)` ? On pourra essayer sur des exemples.  \n",
    "2. Montrer qu'on pourrait utiliser `x & -x` au lieu de `x & (~x + 1)` (c'est-à-dire que les deux instructions donnent la même chose), en sachant que `-x` est stocké par complément à 2 (voir cours à ce sujet)."
   ]
  },
  {
   "cell_type": "markdown",
   "id": "deef3474-84f9-4b78-be37-428bc6a728d1",
   "metadata": {},
   "source": [
    "1. L'instruction permet de savoir si un nombre est pair ou impair. \n",
    "Si le nombre est pair, l'instruction renvoie $2$ sinon il renvoie $1$."
   ]
  },
  {
   "cell_type": "code",
   "execution_count": 24,
   "id": "31986453-9aa4-4043-aef1-39ece4f207b1",
   "metadata": {},
   "outputs": [],
   "source": [
    "int test(int x){\n",
    "    return (x & (~x+1));\n",
    "}"
   ]
  },
  {
   "cell_type": "code",
   "execution_count": 25,
   "id": "974cd4a8-d501-427d-89bc-fe1cacf22114",
   "metadata": {},
   "outputs": [
    {
     "data": {
      "text/plain": [
       "1"
      ]
     },
     "execution_count": 25,
     "metadata": {},
     "output_type": "execute_result"
    }
   ],
   "source": [
    "test(5)"
   ]
  },
  {
   "cell_type": "code",
   "execution_count": 30,
   "id": "d6374e29-be30-46db-9601-9062f750aae0",
   "metadata": {},
   "outputs": [
    {
     "data": {
      "text/plain": [
       "2"
      ]
     },
     "execution_count": 30,
     "metadata": {},
     "output_type": "execute_result"
    }
   ],
   "source": [
    "test(10)"
   ]
  },
  {
   "cell_type": "code",
   "execution_count": 31,
   "id": "01007ac8-1027-42c1-948f-f026c90ee42a",
   "metadata": {},
   "outputs": [],
   "source": [
    "int test2(int x){\n",
    "    return (x & -x);\n",
    "}"
   ]
  },
  {
   "cell_type": "code",
   "execution_count": 32,
   "id": "0ac495a7-8750-42f8-961f-7c0dc09df8da",
   "metadata": {},
   "outputs": [
    {
     "data": {
      "text/plain": [
       "1"
      ]
     },
     "execution_count": 32,
     "metadata": {},
     "output_type": "execute_result"
    }
   ],
   "source": [
    "test2(5)"
   ]
  },
  {
   "cell_type": "code",
   "execution_count": 34,
   "id": "dfbdaf8b-9d69-4c9e-ac20-dbdde2954b3f",
   "metadata": {},
   "outputs": [
    {
     "data": {
      "text/plain": [
       "2"
      ]
     },
     "execution_count": 34,
     "metadata": {},
     "output_type": "execute_result"
    }
   ],
   "source": [
    "test2(10)"
   ]
  },
  {
   "cell_type": "markdown",
   "id": "2fe73fd3-c55f-489d-95ac-477dfe37a0cf",
   "metadata": {},
   "source": [
    "2. Si un nombre est pair, ce nombre et son opposé ont comme intersection le deuxème bit, $a$ & $-a$ va donc toujours renvoy 2.\n",
    "Pour les nombres impairs, le seul bit en commun est le premier, tel que $a$ & $-a$ va toujours renvoyer 1"
   ]
  }
 ],
 "metadata": {
  "kernelspec": {
   "display_name": "C++14",
   "language": "C++14",
   "name": "xcpp14"
  },
  "language_info": {
   "codemirror_mode": "text/x-c++src",
   "file_extension": ".cpp",
   "mimetype": "text/x-c++src",
   "name": "c++",
   "version": "14"
  }
 },
 "nbformat": 4,
 "nbformat_minor": 5
}

