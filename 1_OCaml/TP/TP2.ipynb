{
 "cells": [
  {
   "cell_type": "markdown",
   "id": "5d6a2457",
   "metadata": {},
   "source": [
    "# TP 2 : récursivité et conditions\n",
    "\n",
    "Dans tout le TP, il est interdit d'utiliser des boucles (pas de `for` ni `while`).\n",
    "\n",
    "Rappel : pensez à tester toutes vos fonctions sur des exemples."
   ]
  },
  {
   "cell_type": "markdown",
   "id": "42f52927",
   "metadata": {},
   "source": [
    "## Petites questions\n",
    "\n",
    "1. Définir une fonction `divise` telle que `divise a b` renvoie `true` si  `a` divise `b`, `false` sinon. Il est interdit d'utiliser `if`.\n",
    "2. Définir une fonction récursive `somme` telle que `somme n` renvoie $\\sum_{k=1}^n k^2$.\n",
    "3. Définir une fonction récursive `u` telle que `u n` renvoie $u_n$ définie par :\n",
    "$$u_0 = 42$$\n",
    "$$u_{n} = 3\\sqrt{u_{n - 1}} + 2$$\n",
    "4. Définir une fonction récursive `v` telle que `v a n` renvoie $v_n$ définie par (on fera attention à n'utiliser qu'un appel récursif) :\n",
    "$$v_0 = a$$\n",
    "$$v_{n + 1} = \\frac{1}{2}(v_n + \\frac{a}{v_n})$$\n",
    "5. Calculer `v a n` pour plusieurs valeurs de `a` et de `n` : que peut-on conjecturer sur la limite de $v_n$ ? Optionnel : le démontrer.  \n",
    "6. Soient $a$ et $b$ deux entiers et $q, r$ le quotient et reste de la division euclidienne de $a$ par $b$ ($a = bq + r$). En utilisant le fait que $PGCD(a, b)$ = $PGCD(b, r)$, écrire une fonction `euclide` telle que `euclide a b` renvoie le PGCD de $a$ et $b$."
   ]
  },
  {
   "cell_type": "code",
   "execution_count": 1,
   "id": "33764bad",
   "metadata": {
    "scrolled": false
   },
   "outputs": [
    {
     "data": {
      "text/plain": [
       "val divise : int -> int -> bool = <fun>\n"
      ]
     },
     "execution_count": 1,
     "metadata": {},
     "output_type": "execute_result"
    },
    {
     "data": {
      "text/plain": [
       "- : bool = false\n"
      ]
     },
     "execution_count": 1,
     "metadata": {},
     "output_type": "execute_result"
    },
    {
     "data": {
      "text/plain": [
       "- : bool = true\n"
      ]
     },
     "execution_count": 1,
     "metadata": {},
     "output_type": "execute_result"
    },
    {
     "data": {
      "text/plain": [
       "- : bool = true\n"
      ]
     },
     "execution_count": 1,
     "metadata": {},
     "output_type": "execute_result"
    }
   ],
   "source": [
    "(* --- QUESTION 1 --- *)\n",
    "\n",
    "(*let divise b a = (float_of_int a /. float_of_int b) -. float_of_int( a / b) <= 0.001;;*)\n",
    "let divise a b = b mod a = 0;;\n",
    "\n",
    "divise 4 5;;\n",
    "divise 4 8;;\n",
    "divise 3 12;;\n"
   ]
  },
  {
   "cell_type": "code",
   "execution_count": 2,
   "id": "8f7a433f",
   "metadata": {},
   "outputs": [
    {
     "data": {
      "text/plain": [
       "val somme : int -> int = <fun>\n"
      ]
     },
     "execution_count": 2,
     "metadata": {},
     "output_type": "execute_result"
    },
    {
     "data": {
      "text/plain": [
       "- : int = 14\n"
      ]
     },
     "execution_count": 2,
     "metadata": {},
     "output_type": "execute_result"
    },
    {
     "data": {
      "text/plain": [
       "- : int = 30\n"
      ]
     },
     "execution_count": 2,
     "metadata": {},
     "output_type": "execute_result"
    }
   ],
   "source": [
    "(* --- QUESTION 2 --- *)\n",
    "\n",
    "let rec somme n = if n = 0 then 0 else n*n+ somme (n-1);;\n",
    "\n",
    "somme 3;;\n",
    "somme 4;;"
   ]
  },
  {
   "cell_type": "code",
   "execution_count": 3,
   "id": "4ec02236",
   "metadata": {},
   "outputs": [
    {
     "data": {
      "text/plain": [
       "val u_n : int -> float = <fun>\n"
      ]
     },
     "execution_count": 3,
     "metadata": {},
     "output_type": "execute_result"
    },
    {
     "data": {
      "text/plain": [
       "- : float = 13.9593276159321622\n"
      ]
     },
     "execution_count": 3,
     "metadata": {},
     "output_type": "execute_result"
    },
    {
     "data": {
      "text/plain": [
       "- : float = 15.8917241139108523\n"
      ]
     },
     "execution_count": 3,
     "metadata": {},
     "output_type": "execute_result"
    }
   ],
   "source": [
    "(* --- QUESTION 3 --- *)\n",
    "\n",
    "let rec u_n n = if n = 0 then 42. else 3. *. sqrt (u_n (n-1)) +. 2.;;\n",
    "\n",
    "u_n 3;;\n",
    "u_n 2;;"
   ]
  },
  {
   "cell_type": "code",
   "execution_count": 4,
   "id": "56f5920c",
   "metadata": {
    "scrolled": true
   },
   "outputs": [
    {
     "data": {
      "text/plain": [
       "val v_n : float -> int -> float = <fun>\n"
      ]
     },
     "execution_count": 4,
     "metadata": {},
     "output_type": "execute_result"
    },
    {
     "data": {
      "text/plain": [
       "- : float = 2.00000000000000222\n"
      ]
     },
     "execution_count": 4,
     "metadata": {},
     "output_type": "execute_result"
    },
    {
     "data": {
      "text/plain": [
       "- : float = 1.73205080756887719\n"
      ]
     },
     "execution_count": 4,
     "metadata": {},
     "output_type": "execute_result"
    }
   ],
   "source": [
    "(* --- QUESTION 4 --- *)\n",
    "\n",
    "let rec v_n a n = if n = 0 then a else let old = v_n a (n-1) in 0.5 *. ( old +. a /. old);;\n",
    "\n",
    "v_n 4. 5;;\n",
    "v_n 3. 5;;"
   ]
  },
  {
   "cell_type": "code",
   "execution_count": 5,
   "id": "e032aab0",
   "metadata": {},
   "outputs": [
    {
     "data": {
      "text/plain": [
       "- : float = 2.\n"
      ]
     },
     "execution_count": 5,
     "metadata": {},
     "output_type": "execute_result"
    },
    {
     "data": {
      "text/plain": [
       "- : float = 3.\n"
      ]
     },
     "execution_count": 5,
     "metadata": {},
     "output_type": "execute_result"
    },
    {
     "data": {
      "text/plain": [
       "- : float = 4.\n"
      ]
     },
     "execution_count": 5,
     "metadata": {},
     "output_type": "execute_result"
    }
   ],
   "source": [
    "(* --- QUESTION 5 --- *)\n",
    "\n",
    "v_n 4.  99;; (* Limite vers 2*)\n",
    "v_n 9.  99;; (* Limite vers 3*)\n",
    "v_n 16. 99;; (* Limite vers 4*)\n",
    "\n",
    "(* Je conjecture que la limite tend vers la racine de a *)"
   ]
  },
  {
   "cell_type": "code",
   "execution_count": 6,
   "id": "8ec601fe",
   "metadata": {},
   "outputs": [
    {
     "data": {
      "text/plain": [
       "val euclide : int -> int -> int = <fun>\n"
      ]
     },
     "execution_count": 6,
     "metadata": {},
     "output_type": "execute_result"
    },
    {
     "data": {
      "text/plain": [
       "- : int = 4\n"
      ]
     },
     "execution_count": 6,
     "metadata": {},
     "output_type": "execute_result"
    },
    {
     "data": {
      "text/plain": [
       "- : int = 6\n"
      ]
     },
     "execution_count": 6,
     "metadata": {},
     "output_type": "execute_result"
    },
    {
     "data": {
      "text/plain": [
       "- : int = 5\n"
      ]
     },
     "execution_count": 6,
     "metadata": {},
     "output_type": "execute_result"
    }
   ],
   "source": [
    "(* --- QUESTION 6 --- *)\n",
    "\n",
    "let rec euclide a b = if b = 0 then a else euclide b (a mod b);;\n",
    "\n",
    "euclide 4  8  ;;\n",
    "euclide 24 18 ;;\n",
    "euclide 35 120;;"
   ]
  },
  {
   "cell_type": "markdown",
   "id": "7cf05809",
   "metadata": {},
   "source": [
    "## Exponentiation rapide\n",
    "\n",
    "1. Écrire une fonction récursive `puissance` naïve (c'est à dire très simple) telle que `puissance a n` renvoie $a^n$. Combien effectue t-elle de multiplications (en fonction de n) ?\n",
    "2. Écrire une fonction récursive `exp_rapide` pour calculer $a^n$, en utilisant les relations suivantes :\n",
    "$$ \n",
    "\\begin{cases} \n",
    "a^n = (a^{\\frac{n}{2}})^2 ~~~~~~~~~\\text{si }n\\text{ est pair}\\\\\n",
    "a^{n} = a \\times (a^{\\frac{n-1}{2}})^2 ~~~~~\\text{sinon}\n",
    "\\end{cases}\n",
    "$$\n",
    "**Attention** : pour mettre au carré, utiliser une variable plutôt que faire 2 appels récursifs, ce qui augmenterait beaucoup le nombre d'opérations.  \n",
    "**Remarque** : On montrera plus tard que cette 2ème version demande de l'ordre de $\\ln(n)$ multiplications seulement."
   ]
  },
  {
   "cell_type": "code",
   "execution_count": 7,
   "id": "3c2d5f17",
   "metadata": {},
   "outputs": [
    {
     "data": {
      "text/plain": [
       "val puissance : int -> int -> int = <fun>\n"
      ]
     },
     "execution_count": 7,
     "metadata": {},
     "output_type": "execute_result"
    },
    {
     "data": {
      "text/plain": [
       "- : int = 9\n"
      ]
     },
     "execution_count": 7,
     "metadata": {},
     "output_type": "execute_result"
    },
    {
     "data": {
      "text/plain": [
       "- : int = 81\n"
      ]
     },
     "execution_count": 7,
     "metadata": {},
     "output_type": "execute_result"
    }
   ],
   "source": [
    "let rec puissance a n = if n = 0 then 1 else a * (puissance a (n-1) );;\n",
    "\n",
    "puissance 3 2;;\n",
    "puissance 3 4;;\n",
    "\n",
    "(* Elle fera n multiplications *)"
   ]
  },
  {
   "cell_type": "code",
   "execution_count": 8,
   "id": "5f100454",
   "metadata": {},
   "outputs": [
    {
     "data": {
      "text/plain": [
       "val exp_rapide : int -> int -> int = <fun>\n"
      ]
     },
     "execution_count": 8,
     "metadata": {},
     "output_type": "execute_result"
    },
    {
     "data": {
      "text/plain": [
       "- : int = 9\n"
      ]
     },
     "execution_count": 8,
     "metadata": {},
     "output_type": "execute_result"
    },
    {
     "data": {
      "text/plain": [
       "- : int = 81\n"
      ]
     },
     "execution_count": 8,
     "metadata": {},
     "output_type": "execute_result"
    }
   ],
   "source": [
    "let rec exp_rapide a n = \n",
    "    if n = 1 then a else\n",
    "    if n mod 2 = 0 \n",
    "        then let out = exp_rapide a (n/2) in out*out\n",
    "        else let out = exp_rapide a ((n-1)/2) in a*out*out;;\n",
    "\n",
    "exp_rapide 3 2;;\n",
    "exp_rapide 3 4;;"
   ]
  },
  {
   "cell_type": "markdown",
   "id": "f299ef52",
   "metadata": {},
   "source": [
    "# Accumulateur\n",
    "\n",
    "On a vu dans le cours sur la récursivité (avec l'exemple de la suite de Fibonacci) qu'un accumulateur est un argument que l'on ajoute à une fonction pour calculer sa valeur de retour.  \n",
    "1. Écrire une fonction `fact` telle que `fact acc n` renvoie `n`!, en utilisant `acc` comme accumulateur. Voici à quoi va ressemble `fact` :\n",
    "```ocaml\n",
    "let rec fact acc n =\n",
    "    if n = 0 then acc  (* on renvoie l'accumulateur qui contient le résultat *)\n",
    "    else fact ... (* appel récursif en modifiant l'accumulateur *)\n",
    "```\n",
    "2. En utilisant `fact` et l'application partielle de fonction, définir `f : int -> int` renvoyant la factoielle d'un entier.\n",
    "\n",
    "**Remarque** : le but ici est juste de vous entraîner à savoir utiliser un accumulateur, qui sont parfois utiles (comme pour la fonction `fibo` du cours). En DS ou concours on évitera d'utiliser un accumulateur lorsqu'il y en a pas besoin (comme pour la fonction `fact`...), car cela rend le code plus compliqué.  "
   ]
  },
  {
   "cell_type": "code",
   "execution_count": 9,
   "id": "cc5e7990",
   "metadata": {},
   "outputs": [
    {
     "data": {
      "text/plain": [
       "val fact : int -> int -> int = <fun>\n"
      ]
     },
     "execution_count": 9,
     "metadata": {},
     "output_type": "execute_result"
    },
    {
     "data": {
      "text/plain": [
       "val f : int -> int = <fun>\n"
      ]
     },
     "execution_count": 9,
     "metadata": {},
     "output_type": "execute_result"
    },
    {
     "data": {
      "text/plain": [
       "- : int = 6\n"
      ]
     },
     "execution_count": 9,
     "metadata": {},
     "output_type": "execute_result"
    },
    {
     "data": {
      "text/plain": [
       "- : int = 24\n"
      ]
     },
     "execution_count": 9,
     "metadata": {},
     "output_type": "execute_result"
    }
   ],
   "source": [
    "let rec fact acc n =\n",
    "    if n = 0 then acc \n",
    "    else fact (acc*n) (n-1);;\n",
    "\n",
    "let f = fact 1;;\n",
    "\n",
    "f 3;;\n",
    "f 4;;"
   ]
  },
  {
   "cell_type": "markdown",
   "id": "56db1136",
   "metadata": {},
   "source": [
    "## Temps de vol de la suite de Syracuse\n",
    "\n",
    "La suite de Syracuse d'un entier $a$ est définie par :  \n",
    "$$u_0 = a$$\n",
    "$$u_{n+1} =\n",
    "\\begin{cases} \n",
    "     \\frac{u_n}{2}, \\text{si } n \\text{ est pair}\\\\\n",
    "    3u_n + 1, \\text{sinon}\\\\\n",
    "\\end{cases}$$\n",
    "\n",
    "Le temps de vol de $(u_n)_n$ est le plus petit entier $t$ tel que $u_t = 1$.  \n",
    "\n",
    "1. Écrire une fonction récursive `temps_vol` telle que `temps_vol a` renvoie le temps de vol de $(u_n)_n$ (où $u_0 = a$)."
   ]
  },
  {
   "cell_type": "code",
   "execution_count": 10,
   "id": "86705e65",
   "metadata": {},
   "outputs": [
    {
     "data": {
      "text/plain": [
       "val temps_vol : int -> int = <fun>\n"
      ]
     },
     "execution_count": 10,
     "metadata": {},
     "output_type": "execute_result"
    },
    {
     "data": {
      "text/plain": [
       "- : int = 2\n"
      ]
     },
     "execution_count": 10,
     "metadata": {},
     "output_type": "execute_result"
    },
    {
     "data": {
      "text/plain": [
       "- : int = 16\n"
      ]
     },
     "execution_count": 10,
     "metadata": {},
     "output_type": "execute_result"
    }
   ],
   "source": [
    "let rec temps_vol act = \n",
    "    if act = 1 then 0 else\n",
    "    if act mod 2 = 0 \n",
    "    then 1+ temps_vol (act/2)\n",
    "    else 1+ temps_vol (3*act + 1);;\n",
    "\n",
    "\n",
    "temps_vol 4;;\n",
    "temps_vol 7;;"
   ]
  },
  {
   "cell_type": "markdown",
   "id": "c0cc5d04",
   "metadata": {},
   "source": [
    "## Fonction mystérieuse\n",
    "\n",
    "Tester la fonction suivante, conjecturer un théorème et prouvez-le par récurrence."
   ]
  },
  {
   "cell_type": "code",
   "execution_count": 11,
   "id": "baa1edde",
   "metadata": {
    "execution": {
     "iopub.execute_input": "2021-09-13T10:03:41.285512Z",
     "iopub.status.busy": "2021-09-13T10:03:41.284797Z",
     "iopub.status.idle": "2021-09-13T10:03:41.287023Z",
     "shell.execute_reply": "2021-09-13T10:03:41.287525Z"
    }
   },
   "outputs": [
    {
     "data": {
      "text/plain": [
       "val f : int -> int = <fun>\n"
      ]
     },
     "execution_count": 11,
     "metadata": {},
     "output_type": "execute_result"
    }
   ],
   "source": [
    "let rec f n =\n",
    "    if n > 100 then n - 10 \n",
    "    else f (f (n + 11)) ;;"
   ]
  },
  {
   "cell_type": "code",
   "execution_count": 12,
   "id": "39d1bcd5",
   "metadata": {},
   "outputs": [
    {
     "data": {
      "text/plain": [
       "val print_recur : int -> unit = <fun>\n"
      ]
     },
     "execution_count": 12,
     "metadata": {},
     "output_type": "execute_result"
    },
    {
     "data": {
      "text/plain": [
       "- : unit = ()\n"
      ]
     },
     "execution_count": 12,
     "metadata": {},
     "output_type": "execute_result"
    },
    {
     "name": "stdout",
     "output_type": "stream",
     "text": [
      "For 211: 201 \n",
      "For 210: 200 \n",
      "For 209: 199 \n",
      "For 208: 198 \n",
      "For 207: 197 \n",
      "For 206: 196 \n",
      "For 205: 195 \n",
      "For 204: 194 \n",
      "For 203: 193 \n",
      "For 202: 192 \n",
      "For 201: 191 \n",
      "For 200: 190 \n",
      "For 199: 189 \n",
      "For 198: 188 \n",
      "For 197: 187 \n",
      "For 196: 186 \n",
      "For 195: 185 \n",
      "For 194: 184 \n",
      "For 193: 183 \n",
      "For 192: 182 \n",
      "For 191: 181 \n",
      "For 190: 180 \n",
      "For 189: 179 \n",
      "For 188: 178 \n",
      "For 187: 177 \n",
      "For 186: 176 \n",
      "For 185: 175 \n",
      "For 184: 174 \n",
      "For 183: 173 \n",
      "For 182: 172 \n",
      "For 181: 171 \n",
      "For 180: 170 \n",
      "For 179: 169 \n",
      "For 178: 168 \n",
      "For 177: 167 \n",
      "For 176: 166 \n",
      "For 175: 165 \n",
      "For 174: 164 \n",
      "For 173: 163 \n",
      "For 172: 162 \n",
      "For 171: 161 \n",
      "For 170: 160 \n",
      "For 169: 159 \n",
      "For 168: 158 \n",
      "For 167: 157 \n",
      "For 166: 156 \n",
      "For 165: 155 \n",
      "For 164: 154 \n",
      "For 163: 153 \n",
      "For 162: 152 \n",
      "For 161: 151 \n",
      "For 160: 150 \n",
      "For 159: 149 \n",
      "For 158: 148 \n",
      "For 157: 147 \n",
      "For 156: 146 \n",
      "For 155: 145 \n",
      "For 154: 144 \n",
      "For 153: 143 \n",
      "For 152: 142 \n",
      "For 151: 141 \n",
      "For 150: 140 \n",
      "For 149: 139 \n",
      "For 148: 138 \n",
      "For 147: 137 \n",
      "For 146: 136 \n",
      "For 145: 135 \n",
      "For 144: 134 \n",
      "For 143: 133 \n",
      "For 142: 132 \n",
      "For 141: 131 \n",
      "For 140: 130 \n",
      "For 139: 129 \n",
      "For 138: 128 \n",
      "For 137: 127 \n",
      "For 136: 126 \n",
      "For 135: 125 \n",
      "For 134: 124 \n",
      "For 133: 123 \n",
      "For 132: 122 \n",
      "For 131: 121 \n",
      "For 130: 120 \n",
      "For 129: 119 \n",
      "For 128: 118 \n",
      "For 127: 117 \n",
      "For 126: 116 \n",
      "For 125: 115 \n",
      "For 124: 114 \n",
      "For 123: 113 \n",
      "For 122: 112 \n",
      "For 121: 111 \n",
      "For 120: 110 \n",
      "For 119: 109 \n",
      "For 118: 108 \n",
      "For 117: 107 \n",
      "For 116: 106 \n",
      "For 115: 105 \n",
      "For 114: 104 \n",
      "For 113: 103 \n",
      "For 112: 102 \n",
      "For 111: 101 \n",
      "For 110: 100 \n",
      "For 109: 99 \n",
      "For 108: 98 \n",
      "For 107: 97 \n",
      "For 106: 96 \n",
      "For 105: 95 \n",
      "For 104: 94 \n",
      "For 103: 93 \n",
      "For 102: 92 \n",
      "For 101: 91 \n",
      "For 100: 91 \n",
      "For 99: 91 \n",
      "For 98: 91 \n",
      "For 97: 91 \n",
      "For 96: 91 \n",
      "For 95: 91 \n",
      "For 94: 91 \n",
      "For 93: 91 \n",
      "For 92: 91 \n",
      "For 91: 91 \n",
      "For 90: 91 \n",
      "For 89: 91 \n",
      "For 88: 91 \n",
      "For 87: 91 \n",
      "For 86: 91 \n",
      "For 85: 91 \n",
      "For 84: 91 \n",
      "For 83: 91 \n",
      "For 82: 91 \n",
      "For 81: 91 \n",
      "\n"
     ]
    },
    {
     "data": {
      "text/plain": [
       "- : unit = ()\n"
      ]
     },
     "execution_count": 12,
     "metadata": {},
     "output_type": "execute_result"
    }
   ],
   "source": [
    "let rec print_recur x = \n",
    "    if x = 80 then () else (\n",
    "    Format.printf \"For %d: %d \\n\" x (f x); \n",
    "    print_recur (x-1);\n",
    "    ());;\n",
    "\n",
    "print_recur 211;;\n",
    "print_newline ();;"
   ]
  },
  {
   "cell_type": "markdown",
   "id": "7a13892f",
   "metadata": {},
   "source": [
    "La conjecture peut-etre que la fonction retourne \n",
    "$$\n",
    "F_{modele}: x \\to \\max( x-10 ;91)\n",
    "$$\n",
    "Nous posons $P_n :\\  \"f(x)=f_{modele}(x)\"$\n",
    "\n",
    "Nous procédons par bijonction de cas: \n",
    "### Cas 1,  $n> 100$\n",
    "Dans ce cas, nous avons $x-10 > 91$, donc $f(x) = x-10 = max(x-10;91) = f_{modele}(x)$\n",
    "\n",
    "Dons $P_n$ vrai pour tout $n > 100$\n",
    "\n",
    "### Cas 2,  $n\\le100$\n",
    "\n",
    "Nous procédons par récurrence forte inverse. Soit $f(91) = 91$ et $max(0;91) = 91$, nous avons $P_{91}$ vrai.\n",
    "\n",
    "Or, nous avons pour $n<91$ :\n",
    "$$\n",
    "f(n-1) = f(f(n+10))\n",
    "$$\n",
    "\n",
    "Or $n < n+10 < 91$, et avec notre hypothèse de récurence ($P_{n+10}$), nous avons $f(91) = 91$\n",
    "\n",
    "Donc nous avons $P_n$ vrai pour tout $n$"
   ]
  },
  {
   "cell_type": "markdown",
   "id": "5ce213d3",
   "metadata": {},
   "source": [
    "## Fonctions mutuellement récursives\n",
    "\n",
    "Il est possible de définir simultanément deux fonctions `f` et `g`, dépendant l'une de l'autre avec `and` :\n",
    "```ocaml\n",
    "let rec f x = ... and g y = ... in ...\n",
    "```\n",
    "\n",
    "Écrire deux fonctions `u` et `v` permettant de calculer le $nième$ terme des suites définies par :\n",
    "$$u_0 = 2$$\n",
    "$$v_0 = 3$$\n",
    "$$u_{n + 1} = u_n - u_n v_n$$\n",
    "$$v_{n + 1} = v_n + u_n v_n$$"
   ]
  },
  {
   "cell_type": "code",
   "execution_count": 13,
   "id": "b5918ea6",
   "metadata": {},
   "outputs": [
    {
     "data": {
      "text/plain": [
       "val u : int -> int = <fun>\n",
       "val v : int -> int = <fun>\n"
      ]
     },
     "execution_count": 13,
     "metadata": {},
     "output_type": "execute_result"
    },
    {
     "data": {
      "text/plain": [
       "- : int = -799227\n"
      ]
     },
     "execution_count": 13,
     "metadata": {},
     "output_type": "execute_result"
    }
   ],
   "source": [
    "let rec u n = \n",
    "      (if n = 0 then 2 else let un = u (n-1) in un - un* (v (n-1))) and\n",
    "v n = (if n = 0 then 3 else let vn = v (n-1) in vn + vn* (u (n-1)));;\n",
    "\n",
    "v 4;;"
   ]
  },
  {
   "cell_type": "markdown",
   "id": "93314856",
   "metadata": {},
   "source": [
    "## Retour sur les tours de Hanoi\n",
    "\n",
    "**Remarque** : le problème des tours de Hanoi a déjà été vu en stage, mais on le refait ici en OCaml. En outre, il est utile de réactiver sa mémoire pour se souvenir des méthodes et il m'arrivera pendant l'année de redonner des exercices déjà posés."
   ]
  },
  {
   "cell_type": "markdown",
   "id": "83ab905e",
   "metadata": {},
   "source": [
    "![](../img/hanoi.png)\n",
    "\n",
    "$n$ disques sont posés sur la tige à gauche. L'objectif est de déplacer tous les disques sur la tige à droite :\n",
    "\n",
    "![](../img/hanoi2.png)\n",
    "\n",
    "Règles du jeu :\n",
    "\n",
    "- On ne peut déplacer qu'un disque à la fois (celui tout en haut), sur une autre tige.\n",
    "- Il est interdit de poser un disque sur un autre plus petit.\n",
    "\n",
    "Exemple de premier déplacement valide :\n",
    "\n",
    "![](../img/hanoi3.png)\n",
    "\n",
    "On souhaite écrire une fonction récursive `hanoi` telle que `hanoi n tige1 tige2` affiche une suite de déplacements (avec des `print_int`) permettant de déplacer $n$ disques depuis `tige1` vers `tige2`. On supposera que les tiges sont numérotées 0, 1, 2 (de gauche à droite).\n",
    "\n",
    "1. Supposons que vous sachiez déplacer $n-1$ disques d'une tige à une autre. Comment déplacer $n$ disques d'une tige à une autre ?\n",
    "2. Écrire `hanoi`."
   ]
  },
  {
   "cell_type": "code",
   "execution_count": 14,
   "id": "253be829",
   "metadata": {},
   "outputs": [
    {
     "data": {
      "text/plain": [
       "val hanoi : int -> int -> int -> int -> unit = <fun>\n"
      ]
     },
     "execution_count": 14,
     "metadata": {},
     "output_type": "execute_result"
    },
    {
     "data": {
      "text/plain": [
       "- : unit = ()\n"
      ]
     },
     "execution_count": 14,
     "metadata": {},
     "output_type": "execute_result"
    },
    {
     "name": "stdout",
     "output_type": "stream",
     "text": [
      "1> 1 -> 2 \n",
      "2) 1 -> 3 \n",
      "1> 2 -> 3 \n",
      "3) 1 -> 2 \n",
      "1> 3 -> 1 \n",
      "2) 3 -> 2 \n",
      "1> 1 -> 2 \n",
      "4) 1 -> 3 \n",
      "1> 2 -> 3 \n",
      "2) 2 -> 1 \n",
      "1> 3 -> 1 \n",
      "3) 2 -> 3 \n",
      "1> 1 -> 2 \n",
      "2) 1 -> 3 \n",
      "1> 2 -> 3 \n",
      "\n"
     ]
    },
    {
     "data": {
      "text/plain": [
       "- : unit = ()\n"
      ]
     },
     "execution_count": 14,
     "metadata": {},
     "output_type": "execute_result"
    }
   ],
   "source": [
    "let rec hanoi (n:int) (tige1:int) (tige2:int) (tigeVide:int) = \n",
    "    if n < 2 then \n",
    "        (Format.printf \"%d -> %d \\n\" tige1 tige2)\n",
    "    else\n",
    "        (hanoi (n-1) (tige1) (tigeVide) (tige2);\n",
    "        Format.printf \"%d -> %d \\n\" tige1 tige2;\n",
    "        hanoi (n-1) (tigeVide) (tige2) (tige1));;\n",
    "\n",
    "hanoi 4 1 3 2;; (* bouger 10 éléments de la tige 1 à la tige 3 en utillisant comme vide la tige 2 *)\n",
    "print_newline () ;;"
   ]
  },
  {
   "cell_type": "code",
   "execution_count": null,
   "id": "e76df4b3",
   "metadata": {},
   "outputs": [],
   "source": []
  }
 ],
 "metadata": {
  "kernelspec": {
   "display_name": "OCaml default",
   "language": "OCaml",
   "name": "ocaml-jupyter"
  },
  "language_info": {
   "codemirror_mode": "text/x-ocaml",
   "file_extension": ".ml",
   "mimetype": "text/x-ocaml",
   "name": "OCaml",
   "nbconverter_exporter": null,
   "pygments_lexer": "OCaml",
   "version": "4.11.1"
  }
 },
 "nbformat": 4,
 "nbformat_minor": 5
}
