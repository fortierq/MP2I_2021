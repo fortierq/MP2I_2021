{
 "cells": [
  {
   "cell_type": "markdown",
   "id": "f51c9906",
   "metadata": {},
   "source": [
    "# TP 2 : récursivité et conditions\n",
    "\n",
    "Dans tout le TP, il est interdit d'utiliser des boucles (pas de `for` ni `while`).\n",
    "\n",
    "Rappel : pensez à tester toutes vos fonctions sur des exemples."
   ]
  },
  {
   "cell_type": "markdown",
   "id": "f20dbd56",
   "metadata": {},
   "source": [
    "## Petites questions\n",
    "\n",
    "1. Définir une fonction `divise` telle que `divise a b` renvoie `true` si  `a` divise `b`, `false` sinon. Il est interdit d'utiliser `if`.\n",
    "2. Définir une fonction récursive `somme` telle que `somme n` renvoie $\\sum_{k=1}^n k^2$.\n",
    "3. Définir une fonction récursive `u` telle que `u n` renvoie $u_n$ définie par :\n",
    "$$u_0 = 42$$\n",
    "$$u_{n} = 3\\sqrt{u_{n - 1}} + 2$$\n",
    "4. Définir une fonction récursive `v` telle que `v a n` renvoie $v_n$ définie par (on fera attention à n'utiliser qu'un appel récursif) :\n",
    "$$v_0 = a$$\n",
    "$$v_{n + 1} = \\frac{1}{2}(v_n + \\frac{a}{v_n})$$\n",
    "5. Calculer `v a n` pour plusieurs valeurs de `a` et de `n` : que peut-on conjecturer sur la limite de $v_n$ ? Optionnel : le démontrer.  \n",
    "6. Soient $a$ et $b$ deux entiers et $q, r$ le quotient et reste de la division euclidienne de $a$ par $b$ ($a = bq + r$). En utilisant le fait que $PGCD(a, b)$ = $PGCD(b, r)$, écrire une fonction `euclide` telle que `euclide a b` renvoie le PGCD de $a$ et $b$."
   ]
  },
  {
   "cell_type": "code",
   "execution_count": 1,
   "id": "10625989-e6a4-424b-9d59-87b8580bf6ff",
   "metadata": {},
   "outputs": [
    {
     "data": {
      "text/plain": [
       "val divise : int -> int -> bool = <fun>\n"
      ]
     },
     "execution_count": 1,
     "metadata": {},
     "output_type": "execute_result"
    },
    {
     "data": {
      "text/plain": [
       "- : bool = false\n"
      ]
     },
     "execution_count": 1,
     "metadata": {},
     "output_type": "execute_result"
    },
    {
     "data": {
      "text/plain": [
       "- : bool = true\n"
      ]
     },
     "execution_count": 1,
     "metadata": {},
     "output_type": "execute_result"
    }
   ],
   "source": [
    "(*1*)\n",
    "let divise a b =\n",
    "    a mod b <> 0;;\n",
    "    \n",
    "divise 10 5;;\n",
    "divise 5 10;;"
   ]
  },
  {
   "cell_type": "code",
   "execution_count": 2,
   "id": "5c9d450f-1319-4cb0-940f-6c0080cf34a8",
   "metadata": {},
   "outputs": [
    {
     "data": {
      "text/plain": [
       "- : int = 14\n"
      ]
     },
     "execution_count": 2,
     "metadata": {},
     "output_type": "execute_result"
    }
   ],
   "source": [
    "(*2*)\n",
    "let rec somme n =\n",
    "    if n = 1 then 1\n",
    "    else somme (n-1) + n * n in\n",
    "    \n",
    "somme 3;;"
   ]
  },
  {
   "cell_type": "code",
   "execution_count": 3,
   "id": "f30924ae-36b1-48c6-84cc-6b456d316805",
   "metadata": {},
   "outputs": [
    {
     "data": {
      "text/plain": [
       "- : float = 13.9593276159321622\n"
      ]
     },
     "execution_count": 3,
     "metadata": {},
     "output_type": "execute_result"
    }
   ],
   "source": [
    "(*3*)\n",
    "let rec u n =\n",
    "    if n = 0 then 42.\n",
    "    else 3.*.Float.sqrt( u (n-1) ) +. 2. in\n",
    "\n",
    "u 3;;"
   ]
  },
  {
   "cell_type": "code",
   "execution_count": 4,
   "id": "f135b71e-dca1-446a-a90f-96e04c0eff69",
   "metadata": {},
   "outputs": [
    {
     "data": {
      "text/plain": [
       "- : float = 3.\n"
      ]
     },
     "execution_count": 4,
     "metadata": {},
     "output_type": "execute_result"
    }
   ],
   "source": [
    "(*4*)\n",
    "let rec v a n =\n",
    "    if n = 0 then a\n",
    "    else \n",
    "        let v_n = (v a (n-1)) in \n",
    "        1. /. 2. *. (v_n +. a /. v_n) in\n",
    "        \n",
    "v 9. 51"
   ]
  },
  {
   "cell_type": "markdown",
   "id": "c40c6218-8621-4c36-a007-7af25d52a74c",
   "metadata": {
    "jp-MarkdownHeadingCollapsed": true,
    "tags": []
   },
   "source": [
    "5) On peut conjecturer que la suite $v_n$ tend vers $\\sqrt{a}$, plus $n$ est grand, plus la valeur est précise"
   ]
  },
  {
   "cell_type": "code",
   "execution_count": 5,
   "id": "c068b393-3afd-4c94-a785-152ea70c6751",
   "metadata": {},
   "outputs": [
    {
     "data": {
      "text/plain": [
       "- : int = 5\n"
      ]
     },
     "execution_count": 5,
     "metadata": {},
     "output_type": "execute_result"
    }
   ],
   "source": [
    "(*6*)\n",
    "let rec euclide a b =\n",
    "    if b > 0 then\n",
    "        let r = a mod b in\n",
    "        euclide b r\n",
    "    else a in    \n",
    "    \n",
    "euclide 10 45;;"
   ]
  },
  {
   "cell_type": "markdown",
   "id": "7afee366",
   "metadata": {},
   "source": [
    "## Exponentiation rapide\n",
    "\n",
    "1. Écrire une fonction récursive `puissance` naïve (c'est à dire très simple) telle que `puissance a n` renvoie $a^n$. Combien effectue t-elle de multiplications (en fonction de n) ?\n",
    "2. Écrire une fonction récursive `exp_rapide` pour calculer $a^n$, en utilisant les relations suivantes :\n",
    "$$ \n",
    "\\begin{cases} \n",
    "a^n = (a^{\\frac{n}{2}})^2 ~~~~~~~~~\\text{si }n\\text{ est pair}\\\\\n",
    "a^{n} = a \\times (a^{\\frac{n-1}{2}})^2 ~~~~~\\text{sinon}\n",
    "\\end{cases}\n",
    "$$\n",
    "**Attention** : pour mettre au carré, utiliser une variable plutôt que faire 2 appels récursifs, ce qui augmenterait beaucoup le nombre d'opérations.  \n",
    "**Remarque** : On montrera plus tard que cette 2ème version demande de l'ordre de $\\ln(n)$ multiplications seulement."
   ]
  },
  {
   "cell_type": "code",
   "execution_count": 6,
   "id": "d3d130a1-9419-415f-8811-5d65d58d6a14",
   "metadata": {},
   "outputs": [
    {
     "data": {
      "text/plain": [
       "- : int = 1152921504606846976\n"
      ]
     },
     "execution_count": 6,
     "metadata": {},
     "output_type": "execute_result"
    }
   ],
   "source": [
    "(*1*)\n",
    "let rec puissance a n =\n",
    "    if n = 1 then a else puissance a (n-1) * a in\n",
    "\n",
    "puissance 2 60;;"
   ]
  },
  {
   "cell_type": "code",
   "execution_count": 7,
   "id": "5f9a95c3-0615-4b96-938a-364d0c8f8457",
   "metadata": {},
   "outputs": [
    {
     "data": {
      "text/plain": [
       "- : int = 1152921504606846976\n"
      ]
     },
     "execution_count": 7,
     "metadata": {},
     "output_type": "execute_result"
    }
   ],
   "source": [
    "(*2*)\n",
    "let rec exp_rapide a n =\n",
    "    if n = 1 then a\n",
    "    else \n",
    "        if n mod 2 = 1 then\n",
    "            let a_n_1_2 = exp_rapide a ((n-1)/2) in \n",
    "            a * a_n_1_2 * a_n_1_2\n",
    "        else\n",
    "            let a_n_2 = exp_rapide a (n/2) in\n",
    "            a_n_2 * a_n_2 in\n",
    "            \n",
    "exp_rapide 2 60;;"
   ]
  },
  {
   "cell_type": "markdown",
   "id": "2da20220",
   "metadata": {},
   "source": [
    "# Accumulateur\n",
    "\n",
    "On a vu dans le cours sur la récursivité (avec l'exemple de la suite de Fibonacci) qu'un accumulateur est un argument que l'on ajoute à une fonction pour calculer sa valeur de retour.  \n",
    "1. Écrire une fonction `fact` telle que `fact acc n` renvoie `n`!, en utilisant `acc` comme accumulateur. Voici à quoi va ressemble `fact` :\n",
    "```ocaml\n",
    "let rec fact acc n =\n",
    "    if n = 0 then acc  (* on renvoie l'accumulateur qui contient le résultat *)\n",
    "    else fact ... (* appel récursif en modifiant l'accumulateur *)\n",
    "```\n",
    "2. En utilisant `fact` et l'application partielle de fonction, définir `f : int -> int` renvoyant la factoielle d'un entier.\n",
    "\n",
    "**Remarque** : le but ici est juste de vous entraîner à savoir utiliser un accumulateur, qui sont parfois utiles (comme pour la fonction `fibo` du cours). En DS ou concours on évitera d'utiliser un accumulateur lorsqu'il y en a pas besoin (comme pour la fonction `fact`...), car cela rend le code plus compliqué.  "
   ]
  },
  {
   "cell_type": "code",
   "execution_count": 8,
   "id": "a7026970-ee0e-4ff5-8caf-73a1ba34d020",
   "metadata": {},
   "outputs": [
    {
     "data": {
      "text/plain": [
       "val fact : int -> int -> int = <fun>\n"
      ]
     },
     "execution_count": 8,
     "metadata": {},
     "output_type": "execute_result"
    },
    {
     "data": {
      "text/plain": [
       "- : int = 720\n"
      ]
     },
     "execution_count": 8,
     "metadata": {},
     "output_type": "execute_result"
    }
   ],
   "source": [
    "let rec fact acc n =\n",
    "    if n = 0 then acc\n",
    "    else fact (acc*n) (n-1);;\n",
    "    \n",
    "fact 1 6;;"
   ]
  },
  {
   "cell_type": "markdown",
   "id": "c1b7cf83",
   "metadata": {},
   "source": [
    "## Temps de vol de la suite de Syracuse\n",
    "\n",
    "La suite de Syracuse d'un entier $a$ est définie par :  \n",
    "$$u_0 = a$$\n",
    "$$u_{n+1} =\n",
    "\\begin{cases} \n",
    "     \\frac{u_n}{2}, \\text{si } u_n \\text{ est pair}\\\\\n",
    "    3u_n + 1, \\text{sinon}\\\\\n",
    "\\end{cases}$$\n",
    "\n",
    "Le temps de vol de $(u_n)_n$ est le plus petit entier $t$ tel que $u_t = 1$.  \n",
    "\n",
    "1. Écrire une fonction récursive `temps_vol` telle que `temps_vol a` renvoie le temps de vol de $(u_n)_n$ (où $u_0 = a$)."
   ]
  },
  {
   "cell_type": "code",
   "execution_count": 9,
   "id": "2416ab44-b583-43a5-8ad0-7fdfb530eb26",
   "metadata": {},
   "outputs": [
    {
     "data": {
      "text/plain": [
       "val temps_vol : int -> int = <fun>\n"
      ]
     },
     "execution_count": 9,
     "metadata": {},
     "output_type": "execute_result"
    },
    {
     "data": {
      "text/plain": [
       "- : int = 106\n"
      ]
     },
     "execution_count": 9,
     "metadata": {},
     "output_type": "execute_result"
    }
   ],
   "source": [
    "let rec temps_vol a =\n",
    "    if a = 1 then 0 else\n",
    "    if a mod 2 = 0 then\n",
    "        1 + temps_vol (a/2)\n",
    "    else\n",
    "        1 + temps_vol (3*a + 1);;\n",
    "    \n",
    "temps_vol 31;;"
   ]
  },
  {
   "cell_type": "markdown",
   "id": "11c5f47b",
   "metadata": {},
   "source": [
    "## Fonction mystérieuse\n",
    "\n",
    "Tester la fonction suivante pour des $n$ entre $0$ et $100$, conjecturer un théorème et prouvez-le par récurrence."
   ]
  },
  {
   "cell_type": "code",
   "execution_count": 10,
   "id": "39aea599",
   "metadata": {
    "tags": []
   },
   "outputs": [
    {
     "data": {
      "text/plain": [
       "val f : int -> int = <fun>\n"
      ]
     },
     "execution_count": 10,
     "metadata": {},
     "output_type": "execute_result"
    }
   ],
   "source": [
    "let rec f n =\n",
    "    if n > 100 then n - 10 \n",
    "    else f (f (n + 11)) ;;"
   ]
  },
  {
   "cell_type": "markdown",
   "id": "476bd1b3-bf86-4452-b62b-fb1d886a57b2",
   "metadata": {},
   "source": [
    "On peut conjecturer que $\\forall{n}\\in [\\![ 0~;~100 ]\\!], f(n)=91$"
   ]
  },
  {
   "cell_type": "markdown",
   "id": "8015fa13",
   "metadata": {},
   "source": [
    "## Fonctions mutuellement récursives\n",
    "\n",
    "Il est possible de définir simultanément deux fonctions `f` et `g`, dépendant l'une de l'autre avec `and` :\n",
    "```ocaml\n",
    "let rec f x = ... and g y = ... in ...\n",
    "```\n",
    "\n",
    "Écrire deux fonctions `u` et `v` permettant de calculer le $n$ième terme des suites définies par :\n",
    "$$u_0 = 2$$\n",
    "$$v_0 = 3$$\n",
    "$$u_{n + 1} = u_n - u_n v_n$$\n",
    "$$v_{n + 1} = v_n + u_n v_n$$"
   ]
  },
  {
   "cell_type": "code",
   "execution_count": 11,
   "id": "536015f4-f49c-4e0e-8a21-f3356591c71b",
   "metadata": {},
   "outputs": [
    {
     "data": {
      "text/plain": [
       "val u : int -> int = <fun>\n",
       "val v : int -> int = <fun>\n"
      ]
     },
     "execution_count": 11,
     "metadata": {},
     "output_type": "execute_result"
    },
    {
     "data": {
      "text/plain": [
       "- : int = 32\n"
      ]
     },
     "execution_count": 11,
     "metadata": {},
     "output_type": "execute_result"
    },
    {
     "data": {
      "text/plain": [
       "- : int = -891\n"
      ]
     },
     "execution_count": 11,
     "metadata": {},
     "output_type": "execute_result"
    }
   ],
   "source": [
    "let rec u n = \n",
    "    if n = 0 then 2 \n",
    "    else \n",
    "        let u_n_1 = u (n-1) in \n",
    "        u_n_1 - u_n_1 * v (n-1) and\n",
    "    v n =\n",
    "    if n = 0 then 3\n",
    "    else \n",
    "        let v_n_1 = v (n-1) in\n",
    "        v_n_1 + u (n-1) * v_n_1;;\n",
    "        \n",
    "u 2;;\n",
    "v 3;;"
   ]
  },
  {
   "cell_type": "markdown",
   "id": "28f1e644",
   "metadata": {},
   "source": [
    "## Retour sur les tours de Hanoi\n",
    "\n",
    "**Remarque** : le problème des tours de Hanoi a déjà été vu en stage, mais on le refait ici en OCaml. En outre, il est utile de réactiver sa mémoire pour se souvenir des méthodes et il m'arrivera pendant l'année de redonner des exercices déjà posés."
   ]
  },
  {
   "cell_type": "markdown",
   "id": "035197da",
   "metadata": {},
   "source": [
    "![](../img/hanoi.png)\n",
    "\n",
    "$n$ disques sont posés sur la tige à gauche. L'objectif est de déplacer tous les disques sur la tige à droite :\n",
    "\n",
    "![](../img/hanoi2.png)\n",
    "\n",
    "Règles du jeu :\n",
    "\n",
    "- On ne peut déplacer qu'un disque à la fois (celui tout en haut), sur une autre tige.\n",
    "- Il est interdit de poser un disque sur un autre plus petit.\n",
    "\n",
    "Exemple de premier déplacement valide :\n",
    "\n",
    "![](../img/hanoi3.png)\n",
    "\n",
    "On souhaite écrire une fonction récursive `hanoi` telle que `hanoi n tige1 tige2` affiche une suite de déplacements (avec des `print_int`) permettant de déplacer $n$ disques depuis `tige1` vers `tige2`. On supposera que les tiges sont numérotées 0, 1, 2 (de gauche à droite).\n",
    "\n",
    "1. Supposons que vous sachiez déplacer $n-1$ disques d'une tige à une autre. Comment déplacer $n$ disques d'une tige à une autre ?\n",
    "2. Écrire `hanoi`."
   ]
  },
  {
   "cell_type": "code",
   "execution_count": 12,
   "id": "9b0e19ef-818d-4b1b-87ce-e6ad7fb2f277",
   "metadata": {},
   "outputs": [
    {
     "data": {
      "text/plain": [
       "val hanoi : int -> int -> int -> int = <fun>\n"
      ]
     },
     "execution_count": 12,
     "metadata": {},
     "output_type": "execute_result"
    },
    {
     "data": {
      "text/plain": [
       "- : int = 1\n"
      ]
     },
     "execution_count": 12,
     "metadata": {},
     "output_type": "execute_result"
    }
   ],
   "source": [
    "let rec hanoi n tige1 tige2 =\n",
    "    if n = 0 then 1 (*On interrompt la récursion*)\n",
    "    else let tige3 = 3 - tige1 - tige2 in\n",
    "        let _ = hanoi (n-1) tige1 tige3 in (*On ne souhaite pas stocker le résultat mais juste lancer la récursion*)\n",
    "            print_int tige1;\n",
    "            print_string \" -> \";\n",
    "            print_int tige3;\n",
    "            print_string \"\\n\";\n",
    "        hanoi (n-1) tige3 tige2;;\n",
    "\n",
    "hanoi 3 0 2\n",
    "(* Les print_int et print_string ne produisent pas de sortie dans Jupyter,\n",
    "mais voici le résultat du programme testé dans un terminal: (les fichiers sont joints)\n",
    "\n",
    "➜  Scripts ./hanoi\n",
    "0 -> 1\n",
    "0 -> 2\n",
    "2 -> 0\n",
    "0 -> 1\n",
    "1 -> 2\n",
    "1 -> 0\n",
    "0 -> 1\n",
    "\n",
    "*)"
   ]
  }
 ],
 "metadata": {
  "kernelspec": {
   "display_name": "OCaml default",
   "language": "OCaml",
   "name": "ocaml-jupyter"
  },
  "language_info": {
   "codemirror_mode": "text/x-ocaml",
   "file_extension": ".ml",
   "mimetype": "text/x-ocaml",
   "name": "OCaml",
   "nbconverter_exporter": null,
   "pygments_lexer": "OCaml",
   "version": "4.08.1"
  }
 },
 "nbformat": 4,
 "nbformat_minor": 5
}
