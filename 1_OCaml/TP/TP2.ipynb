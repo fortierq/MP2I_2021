{
 "cells": [
  {
   "cell_type": "markdown",
   "id": "f51c9906",
   "metadata": {},
   "source": [
    "# TP 2 : récursivité et conditions\n",
    "\n",
    "Dans tout le TP, il est interdit d'utiliser des boucles (pas de `for` ni `while`).\n",
    "\n",
    "Rappel : pensez à tester toutes vos fonctions sur des exemples."
   ]
  },
  {
   "cell_type": "markdown",
   "id": "f20dbd56",
   "metadata": {},
   "source": [
    "## Petites questions\n",
    "\n",
    "1. Définir une fonction `divise` telle que `divise a b` renvoie `true` si  `a` divise `b`, `false` sinon. Il est interdit d'utiliser `if`.\n",
    "2. Définir une fonction récursive `somme` telle que `somme n` renvoie $\\sum_{k=1}^n k^2$.\n",
    "3. Définir une fonction récursive `u` telle que `u n` renvoie $u_n$ définie par :\n",
    "$$u_0 = 42$$\n",
    "$$u_{n} = 3\\sqrt{u_{n - 1}} + 2$$\n",
    "4. Définir une fonction récursive `v` telle que `v a n` renvoie $v_n$ définie par (on fera attention à n'utiliser qu'un appel récursif) :\n",
    "$$v_0 = a$$\n",
    "$$v_{n + 1} = \\frac{1}{2}(v_n + \\frac{a}{v_n})$$\n",
    "5. Calculer `v a n` pour plusieurs valeurs de `a` et de `n` : que peut-on conjecturer sur la limite de $v_n$ ? Optionnel : le démontrer.  \n",
    "6. Soient $a$ et $b$ deux entiers et $q, r$ le quotient et reste de la division euclidienne de $a$ par $b$ ($a = bq + r$). En utilisant le fait que $PGCD(a, b)$ = $PGCD(b, r)$, écrire une fonction `euclide` telle que `euclide a b` renvoie le PGCD de $a$ et $b$."
   ]
  },
  {
   "cell_type": "code",
   "execution_count": 1,
   "id": "ae7192e4-48d6-4558-9d53-3407ac894a0c",
   "metadata": {
    "tags": []
   },
   "outputs": [
    {
     "data": {
      "text/plain": [
       "val divise : int -> int -> bool = <fun>\n"
      ]
     },
     "execution_count": 1,
     "metadata": {},
     "output_type": "execute_result"
    }
   ],
   "source": [
    "let divise a b =\n",
    "    a mod b == 0 ;"
   ]
  },
  {
   "cell_type": "code",
   "execution_count": 2,
   "id": "ed710bec-d95b-43b4-a097-04e939f98a64",
   "metadata": {},
   "outputs": [
    {
     "data": {
      "text/plain": [
       "- : bool = false\n"
      ]
     },
     "execution_count": 2,
     "metadata": {},
     "output_type": "execute_result"
    }
   ],
   "source": [
    "divise 4 7"
   ]
  },
  {
   "cell_type": "code",
   "execution_count": 3,
   "id": "5e012ae0-d169-43d7-9c53-dae772fefe51",
   "metadata": {},
   "outputs": [
    {
     "data": {
      "text/plain": [
       "val somme : int -> int = <fun>\n"
      ]
     },
     "execution_count": 3,
     "metadata": {},
     "output_type": "execute_result"
    }
   ],
   "source": [
    "let rec somme n =\n",
    "    if n = 1 then 1\n",
    "    else somme (n-1) + n*n ;;"
   ]
  },
  {
   "cell_type": "code",
   "execution_count": 4,
   "id": "205be588-4270-47f6-884c-17f4f4e5ca46",
   "metadata": {},
   "outputs": [
    {
     "data": {
      "text/plain": [
       "- : int = 91\n"
      ]
     },
     "execution_count": 4,
     "metadata": {},
     "output_type": "execute_result"
    }
   ],
   "source": [
    "somme 6"
   ]
  },
  {
   "cell_type": "code",
   "execution_count": 5,
   "id": "550bfa34-ebd3-452e-8cba-5bef642f7854",
   "metadata": {},
   "outputs": [
    {
     "data": {
      "text/plain": [
       "val u : int -> float = <fun>\n"
      ]
     },
     "execution_count": 5,
     "metadata": {},
     "output_type": "execute_result"
    }
   ],
   "source": [
    "let rec u n = \n",
    "    if n = 0 then 42. \n",
    "    else 3.*.sqrt(u(n-1)) +. 2.;;"
   ]
  },
  {
   "cell_type": "code",
   "execution_count": 6,
   "id": "f577e30b-1011-43a7-bdc2-9638af39e9a9",
   "metadata": {},
   "outputs": [
    {
     "data": {
      "text/plain": [
       "- : float = 13.2086550729063585\n"
      ]
     },
     "execution_count": 6,
     "metadata": {},
     "output_type": "execute_result"
    }
   ],
   "source": [
    "u 4"
   ]
  },
  {
   "cell_type": "code",
   "execution_count": 7,
   "id": "df338f8c-e9d9-4d74-a6c7-9d1dc9469d1b",
   "metadata": {},
   "outputs": [
    {
     "data": {
      "text/plain": [
       "val euclide : int -> int -> int = <fun>\n"
      ]
     },
     "execution_count": 7,
     "metadata": {},
     "output_type": "execute_result"
    }
   ],
   "source": [
    "let rec euclide a b = \n",
    "    if b = 0 then a\n",
    "    else euclide b (a mod b) ;;"
   ]
  },
  {
   "cell_type": "code",
   "execution_count": 8,
   "id": "53e1d300-f4a9-4e72-91c6-57215855d98f",
   "metadata": {},
   "outputs": [
    {
     "data": {
      "text/plain": [
       "- : int = 5\n"
      ]
     },
     "execution_count": 8,
     "metadata": {},
     "output_type": "execute_result"
    }
   ],
   "source": [
    "euclide 30 5"
   ]
  },
  {
   "cell_type": "code",
   "execution_count": 9,
   "id": "0753cca5-9e79-4639-b9e4-2ead05bfa2e6",
   "metadata": {},
   "outputs": [
    {
     "data": {
      "text/plain": [
       "val v : float -> int -> float = <fun>\n"
      ]
     },
     "execution_count": 9,
     "metadata": {},
     "output_type": "execute_result"
    }
   ],
   "source": [
    "let rec v a n =\n",
    "    if n = 0 then a \n",
    "    else let b = v a (n-1) in 1./.2. *. (b +. a/.b);;"
   ]
  },
  {
   "cell_type": "code",
   "execution_count": 10,
   "id": "6b88f82b-7588-47d3-bcb4-d33b389bac6e",
   "metadata": {},
   "outputs": [
    {
     "data": {
      "text/plain": [
       "- : float = 5.\n"
      ]
     },
     "execution_count": 10,
     "metadata": {},
     "output_type": "execute_result"
    }
   ],
   "source": [
    "v 25. 40"
   ]
  },
  {
   "cell_type": "code",
   "execution_count": 11,
   "id": "9cb293b8-2b1d-4e06-ad9e-4bdfbcafd6c0",
   "metadata": {},
   "outputs": [
    {
     "data": {
      "text/plain": [
       "- : float = 5.01524760194489794\n"
      ]
     },
     "execution_count": 11,
     "metadata": {},
     "output_type": "execute_result"
    }
   ],
   "source": [
    "v 25. 4"
   ]
  },
  {
   "cell_type": "code",
   "execution_count": 12,
   "id": "72140963-df9b-42f0-ae27-f6bb7e0c11c2",
   "metadata": {},
   "outputs": [
    {
     "data": {
      "text/plain": [
       "- : float = 5.\n"
      ]
     },
     "execution_count": 12,
     "metadata": {},
     "output_type": "execute_result"
    }
   ],
   "source": [
    "v 25. 20"
   ]
  },
  {
   "cell_type": "markdown",
   "id": "4a6ec09e-9d8d-4c6f-aba7-dc947bb66e2c",
   "metadata": {},
   "source": [
    "On conjecture que la limite de v n en + infini est la racine carrée de a."
   ]
  },
  {
   "cell_type": "markdown",
   "id": "7afee366",
   "metadata": {},
   "source": [
    "## Exponentiation rapide\n",
    "\n",
    "1. Écrire une fonction récursive `puissance` naïve (c'est à dire très simple) telle que `puissance a n` renvoie $a^n$. Combien effectue t-elle de multiplications (en fonction de n) ?\n",
    "2. Écrire une fonction récursive `exp_rapide` pour calculer $a^n$, en utilisant les relations suivantes :\n",
    "$$ \n",
    "\\begin{cases} \n",
    "a^n = (a^{\\frac{n}{2}})^2 ~~~~~~~~~\\text{si }n\\text{ est pair}\\\\\n",
    "a^{n} = a \\times (a^{\\frac{n-1}{2}})^2 ~~~~~\\text{sinon}\n",
    "\\end{cases}\n",
    "$$\n",
    "**Attention** : pour mettre au carré, utiliser une variable plutôt que faire 2 appels récursifs, ce qui augmenterait beaucoup le nombre d'opérations.  \n",
    "**Remarque** : On montrera plus tard que cette 2ème version demande de l'ordre de $\\ln(n)$ multiplications seulement."
   ]
  },
  {
   "cell_type": "code",
   "execution_count": 13,
   "id": "989cbd90-c058-495e-828c-e2db642a0bf6",
   "metadata": {},
   "outputs": [
    {
     "data": {
      "text/plain": [
       "val puissance : int -> int -> int = <fun>\n"
      ]
     },
     "execution_count": 13,
     "metadata": {},
     "output_type": "execute_result"
    }
   ],
   "source": [
    "let rec puissance a n =\n",
    "    if n = 0 then 1\n",
    "    else puissance a (n-1) * a;;"
   ]
  },
  {
   "cell_type": "code",
   "execution_count": 14,
   "id": "e579e9f3-5860-4a96-901b-7c350830e8cb",
   "metadata": {},
   "outputs": [
    {
     "data": {
      "text/plain": [
       "- : int = 16\n"
      ]
     },
     "execution_count": 14,
     "metadata": {},
     "output_type": "execute_result"
    }
   ],
   "source": [
    "puissance 2 4"
   ]
  },
  {
   "cell_type": "code",
   "execution_count": 15,
   "id": "7238658c-4ea3-4392-97c9-7c222a987c8a",
   "metadata": {},
   "outputs": [
    {
     "data": {
      "text/plain": [
       "val exp_rapide : int -> int -> int = <fun>\n"
      ]
     },
     "execution_count": 15,
     "metadata": {},
     "output_type": "execute_result"
    },
    {
     "data": {
      "text/plain": [
       "- : int = 1099511627776\n"
      ]
     },
     "execution_count": 15,
     "metadata": {},
     "output_type": "execute_result"
    }
   ],
   "source": [
    "let rec exp_rapide a n =\n",
    "    if n = 0 then 1 \n",
    "    else if n mod 2 = 0 then\n",
    "        let b = (exp_rapide a (n/2)) in b*b\n",
    "    else  \n",
    "        let c = (exp_rapide a ((n-1)/2)) in c*c*a;;\n",
    "    \n",
    "exp_rapide 4 20"
   ]
  },
  {
   "cell_type": "markdown",
   "id": "2da20220",
   "metadata": {},
   "source": [
    "# Accumulateur\n",
    "\n",
    "On a vu dans le cours sur la récursivité (avec l'exemple de la suite de Fibonacci) qu'un accumulateur est un argument que l'on ajoute à une fonction pour calculer sa valeur de retour.  \n",
    "1. Écrire une fonction `fact` telle que `fact acc n` renvoie `n`!, en utilisant `acc` comme accumulateur. Voici à quoi va ressemble `fact` :\n",
    "```ocaml\n",
    "let rec fact acc n =\n",
    "    if n = 0 then acc  (* on renvoie l'accumulateur qui contient le résultat *)\n",
    "    else fact ... (* appel récursif en modifiant l'accumulateur *)\n",
    "```\n",
    "2. En utilisant `fact` et l'application partielle de fonction, définir `f : int -> int` renvoyant la factorielle d'un entier.\n",
    "\n",
    "**Remarque** : le but ici est juste de vous entraîner à savoir utiliser un accumulateur, qui sont parfois utiles (comme pour la fonction `fibo` du cours). En DS ou concours on évitera d'utiliser un accumulateur lorsqu'il y en a pas besoin (comme pour la fonction `fact`...), car cela rend le code plus compliqué.  "
   ]
  },
  {
   "cell_type": "code",
   "execution_count": 20,
   "id": "72149efa-acc6-4c31-81e5-a82422412750",
   "metadata": {
    "tags": []
   },
   "outputs": [
    {
     "data": {
      "text/plain": [
       "val fact : int -> int -> int = <fun>\n"
      ]
     },
     "execution_count": 20,
     "metadata": {},
     "output_type": "execute_result"
    }
   ],
   "source": [
    "let rec fact acc n =\n",
    "    if n = 0 then acc \n",
    "    else fact (n*acc) (n-1) ;;"
   ]
  },
  {
   "cell_type": "code",
   "execution_count": 21,
   "id": "82a04fd6-2b25-4973-8ce5-ea88f96b2730",
   "metadata": {},
   "outputs": [
    {
     "data": {
      "text/plain": [
       "- : int = 3628800\n"
      ]
     },
     "execution_count": 21,
     "metadata": {},
     "output_type": "execute_result"
    }
   ],
   "source": [
    "fact 1 10"
   ]
  },
  {
   "cell_type": "code",
   "execution_count": 25,
   "id": "7e4e81bb-2f54-4753-ba9e-6be26e404f75",
   "metadata": {},
   "outputs": [
    {
     "data": {
      "text/plain": [
       "val fact : int -> int = <fun>\n"
      ]
     },
     "execution_count": 25,
     "metadata": {},
     "output_type": "execute_result"
    },
    {
     "data": {
      "text/plain": [
       "- : int = 3628800\n"
      ]
     },
     "execution_count": 25,
     "metadata": {},
     "output_type": "execute_result"
    }
   ],
   "source": [
    "let rec fact n = \n",
    "    if n = 0 then 1\n",
    "    else fact (n-1) * n;;\n",
    "    \n",
    "fact 10"
   ]
  },
  {
   "cell_type": "markdown",
   "id": "c1b7cf83",
   "metadata": {},
   "source": [
    "## Temps de vol de la suite de Syracuse\n",
    "\n",
    "La suite de Syracuse d'un entier $a$ est définie par :  \n",
    "$$u_0 = a$$\n",
    "$$u_{n+1} =\n",
    "\\begin{cases} \n",
    "     \\frac{u_n}{2}, \\text{si } u_n \\text{ est pair}\\\\\n",
    "    3u_n + 1, \\text{sinon}\\\\\n",
    "\\end{cases}$$\n",
    "\n",
    "Le temps de vol de $(u_n)_n$ est le plus petit entier $t$ tel que $u_t = 1$.  \n",
    "\n",
    "1. Écrire une fonction récursive `temps_vol` telle que `temps_vol a` renvoie le temps de vol de $(u_n)_n$ (où $u_0 = a$)."
   ]
  },
  {
   "cell_type": "code",
   "execution_count": 28,
   "id": "6fd0957b-814b-4cb1-a706-bebbc5f6033f",
   "metadata": {},
   "outputs": [
    {
     "data": {
      "text/plain": [
       "val temps_vol : int -> int -> int = <fun>\n"
      ]
     },
     "execution_count": 28,
     "metadata": {},
     "output_type": "execute_result"
    },
    {
     "data": {
      "text/plain": [
       "- : int = 1\n"
      ]
     },
     "execution_count": 28,
     "metadata": {},
     "output_type": "execute_result"
    }
   ],
   "source": [
    "let rec temps_vol a n  = \n",
    "    if n = 0 then a \n",
    "    else if temps_vol a (n-1) mod 2=0 then temps_vol a (n-1)/2\n",
    "    else 3 * temps_vol a (n-1) +1;;\n",
    "\n",
    "temps_vol 2 4 "
   ]
  },
  {
   "cell_type": "markdown",
   "id": "8015fa13",
   "metadata": {},
   "source": [
    "## Fonctions mutuellement récursives\n",
    "\n",
    "Il est possible de définir simultanément deux fonctions `f` et `g`, dépendant l'une de l'autre avec `and` :\n",
    "```ocaml\n",
    "let rec f x = ... and g y = ... in ...\n",
    "```\n",
    "\n",
    "Écrire deux fonctions `u` et `v` permettant de calculer le $n$ième terme des suites définies par :\n",
    "$$u_0 = 2$$\n",
    "$$v_0 = 3$$\n",
    "$$u_{n + 1} = u_n - u_n v_n$$\n",
    "$$v_{n + 1} = v_n + u_n v_n$$"
   ]
  },
  {
   "cell_type": "code",
   "execution_count": 36,
   "id": "26cdf77a-ffa9-4220-8be1-df648710a8c4",
   "metadata": {},
   "outputs": [
    {
     "data": {
      "text/plain": [
       "val u : int -> int = <fun>\n",
       "val v : int -> int = <fun>\n"
      ]
     },
     "execution_count": 36,
     "metadata": {},
     "output_type": "execute_result"
    },
    {
     "data": {
      "text/plain": [
       "- : int = 32\n"
      ]
     },
     "execution_count": 36,
     "metadata": {},
     "output_type": "execute_result"
    },
    {
     "data": {
      "text/plain": [
       "- : int = -1783101399135100923\n"
      ]
     },
     "execution_count": 36,
     "metadata": {},
     "output_type": "execute_result"
    }
   ],
   "source": [
    "let rec u n = \n",
    "    if n = 0 then 2\n",
    "    else u (n-1) - u(n-1)*v(n-1)\n",
    "and v n = \n",
    "    if n = 0 then 3\n",
    "    else v (n-1) + u(n-1)*v(n-1);;\n",
    "    \n",
    "u 2;;\n",
    "v 6;;"
   ]
  },
  {
   "cell_type": "markdown",
   "id": "28f1e644",
   "metadata": {},
   "source": [
    "## Retour sur les tours de Hanoi\n",
    "\n",
    "**Remarque** : le problème des tours de Hanoi a déjà été vu en stage, mais on le refait ici en OCaml. En outre, il est utile de réactiver sa mémoire pour se souvenir des méthodes et il m'arrivera pendant l'année de redonner des exercices déjà posés."
   ]
  },
  {
   "cell_type": "markdown",
   "id": "035197da",
   "metadata": {},
   "source": [
    "![](../img/hanoi.png)\n",
    "\n",
    "$n$ disques sont posés sur la tige à gauche. L'objectif est de déplacer tous les disques sur la tige à droite :\n",
    "\n",
    "![](../img/hanoi2.png)\n",
    "\n",
    "Règles du jeu :\n",
    "\n",
    "- On ne peut déplacer qu'un disque à la fois (celui tout en haut), sur une autre tige.\n",
    "- Il est interdit de poser un disque sur un autre plus petit.\n",
    "\n",
    "Exemple de premier déplacement valide :\n",
    "\n",
    "![](../img/hanoi3.png)\n",
    "\n",
    "On souhaite écrire une fonction récursive `hanoi` telle que `hanoi n tige1 tige2` affiche une suite de déplacements (avec des `print_int`) permettant de déplacer $n$ disques depuis `tige1` vers `tige2`. On supposera que les tiges sont numérotées 0, 1, 2 (de gauche à droite).\n",
    "\n",
    "1. Supposons que vous sachiez déplacer $n-1$ disques d'une tige à une autre. Comment déplacer $n$ disques d'une tige à une autre ?\n",
    "2. Écrire `hanoi`."
   ]
  },
  {
   "cell_type": "code",
   "execution_count": 41,
   "id": "d7b96f17-c3a4-440d-a8de-39d3523c189e",
   "metadata": {},
   "outputs": [
    {
     "data": {
      "text/plain": [
       "val hanoi : int -> int -> int -> int -> unit = <fun>\n"
      ]
     },
     "execution_count": 41,
     "metadata": {},
     "output_type": "execute_result"
    },
    {
     "data": {
      "text/plain": [
       "- : unit = ()\n"
      ]
     },
     "execution_count": 41,
     "metadata": {},
     "output_type": "execute_result"
    },
    {
     "data": {
      "text/plain": [
       "- : unit = ()\n"
      ]
     },
     "execution_count": 41,
     "metadata": {},
     "output_type": "execute_result"
    },
    {
     "name": "stdout",
     "output_type": "stream",
     "text": [
      "0 ==> 1\n",
      "0 ==> 2\n",
      "1 ==> 2\n",
      "0 ==> 1\n",
      "2 ==> 0\n",
      "2 ==> 1\n",
      "0 ==> 1\n",
      "0 ==> 2\n",
      "1 ==> 2\n",
      "1 ==> 0\n",
      "2 ==> 0\n",
      "1 ==> 2\n",
      "0 ==> 1\n",
      "0 ==> 2\n",
      "1 ==> 2\n",
      "0 ==> 1\n",
      "2 ==> 0\n",
      "2 ==> 1\n",
      "0 ==> 1\n",
      "2 ==> 0\n",
      "1 ==> 2\n",
      "1 ==> 0\n",
      "2 ==> 0\n",
      "2 ==> 1\n",
      "0 ==> 1\n",
      "0 ==> 2\n",
      "1 ==> 2\n",
      "0 ==> 1\n",
      "2 ==> 0\n",
      "2 ==> 1\n",
      "0 ==> 1\n",
      "0 ==> 2\n",
      "1 ==> 2\n",
      "1 ==> 0\n",
      "2 ==> 0\n",
      "1 ==> 2\n",
      "0 ==> 1\n",
      "0 ==> 2\n",
      "1 ==> 2\n",
      "1 ==> 0\n",
      "2 ==> 0\n",
      "2 ==> 1\n",
      "0 ==> 1\n",
      "2 ==> 0\n",
      "1 ==> 2\n",
      "1 ==> 0\n",
      "2 ==> 0\n",
      "1 ==> 2\n",
      "0 ==> 1\n",
      "0 ==> 2\n",
      "1 ==> 2\n",
      "0 ==> 1\n",
      "2 ==> 0\n",
      "2 ==> 1\n",
      "0 ==> 1\n",
      "0 ==> 2\n",
      "1 ==> 2\n",
      "1 ==> 0\n",
      "2 ==> 0\n",
      "1 ==> 2\n",
      "0 ==> 1\n",
      "0 ==> 2\n",
      "1 ==> 2\n",
      "0 ==> 1\n",
      "2 ==> 0\n",
      "2 ==> 1\n",
      "0 ==> 1\n",
      "2 ==> 0\n",
      "1 ==> 2\n",
      "1 ==> 0\n",
      "2 ==> 0\n",
      "2 ==> 1\n",
      "0 ==> 1\n",
      "0 ==> 2\n",
      "1 ==> 2\n",
      "0 ==> 1\n",
      "2 ==> 0\n",
      "2 ==> 1\n",
      "0 ==> 1\n",
      "2 ==> 0\n",
      "1 ==> 2\n",
      "1 ==> 0\n",
      "2 ==> 0\n",
      "1 ==> 2\n",
      "0 ==> 1\n",
      "0 ==> 2\n",
      "1 ==> 2\n",
      "1 ==> 0\n",
      "2 ==> 0\n",
      "2 ==> 1\n",
      "0 ==> 1\n",
      "2 ==> 0\n",
      "1 ==> 2\n",
      "1 ==> 0\n",
      "2 ==> 0\n",
      "2 ==> 1\n",
      "0 ==> 1\n",
      "0 ==> 2\n",
      "1 ==> 2\n",
      "0 ==> 1\n",
      "2 ==> 0\n",
      "2 ==> 1\n",
      "0 ==> 1\n",
      "0 ==> 2\n",
      "1 ==> 2\n",
      "1 ==> 0\n",
      "2 ==> 0\n",
      "1 ==> 2\n",
      "0 ==> 1\n",
      "0 ==> 2\n",
      "1 ==> 2\n",
      "0 ==> 1\n",
      "2 ==> 0\n",
      "2 ==> 1\n",
      "0 ==> 1\n",
      "2 ==> 0\n",
      "1 ==> 2\n",
      "1 ==> 0\n",
      "2 ==> 0\n",
      "2 ==> 1\n",
      "0 ==> 1\n",
      "0 ==> 2\n",
      "1 ==> 2\n",
      "0 ==> 1\n",
      "2 ==> 0\n",
      "2 ==> 1\n",
      "0 ==> 1\n",
      "0 ==> 2\n",
      "1 ==> 2\n",
      "1 ==> 0\n",
      "2 ==> 0\n",
      "1 ==> 2\n",
      "0 ==> 1\n",
      "0 ==> 2\n",
      "1 ==> 2\n",
      "1 ==> 0\n",
      "2 ==> 0\n",
      "2 ==> 1\n",
      "0 ==> 1\n",
      "2 ==> 0\n",
      "1 ==> 2\n",
      "1 ==> 0\n",
      "2 ==> 0\n",
      "1 ==> 2\n",
      "0 ==> 1\n",
      "0 ==> 2\n",
      "1 ==> 2\n",
      "0 ==> 1\n",
      "2 ==> 0\n",
      "2 ==> 1\n",
      "0 ==> 1\n",
      "0 ==> 2\n",
      "1 ==> 2\n",
      "1 ==> 0\n",
      "2 ==> 0\n",
      "1 ==> 2\n",
      "0 ==> 1\n",
      "0 ==> 2\n",
      "1 ==> 2\n",
      "1 ==> 0\n",
      "2 ==> 0\n",
      "2 ==> 1\n",
      "0 ==> 1\n",
      "2 ==> 0\n",
      "1 ==> 2\n",
      "1 ==> 0\n",
      "2 ==> 0\n",
      "2 ==> 1\n",
      "0 ==> 1\n",
      "0 ==> 2\n",
      "1 ==> 2\n",
      "0 ==> 1\n",
      "2 ==> 0\n",
      "2 ==> 1\n",
      "0 ==> 1\n",
      "2 ==> 0\n",
      "1 ==> 2\n",
      "1 ==> 0\n",
      "2 ==> 0\n",
      "1 ==> 2\n",
      "0 ==> 1\n",
      "0 ==> 2\n",
      "1 ==> 2\n",
      "1 ==> 0\n",
      "2 ==> 0\n",
      "2 ==> 1\n",
      "0 ==> 1\n",
      "2 ==> 0\n",
      "1 ==> 2\n",
      "1 ==> 0\n",
      "2 ==> 0\n",
      "1 ==> 2\n",
      "0 ==> 1\n",
      "0 ==> 2\n",
      "1 ==> 2\n",
      "0 ==> 1\n",
      "2 ==> 0\n",
      "2 ==> 1\n",
      "0 ==> 1\n",
      "0 ==> 2\n",
      "1 ==> 2\n",
      "1 ==> 0\n",
      "2 ==> 0\n",
      "1 ==> 2\n",
      "0 ==> 1\n",
      "0 ==> 2\n",
      "1 ==> 2\n",
      "0 ==> 1\n",
      "2 ==> 0\n",
      "2 ==> 1\n",
      "0 ==> 1\n",
      "2 ==> 0\n",
      "1 ==> 2\n",
      "1 ==> 0\n",
      "2 ==> 0\n",
      "2 ==> 1\n",
      "0 ==> 1\n",
      "0 ==> 2\n",
      "1 ==> 2\n",
      "0 ==> 1\n",
      "2 ==> 0\n",
      "2 ==> 1\n",
      "0 ==> 1\n",
      "0 ==> 2\n",
      "1 ==> 2\n",
      "1 ==> 0\n",
      "2 ==> 0\n",
      "1 ==> 2\n",
      "0 ==> 1\n",
      "0 ==> 2\n",
      "1 ==> 2\n",
      "1 ==> 0\n",
      "2 ==> 0\n",
      "2 ==> 1\n",
      "0 ==> 1\n",
      "2 ==> 0\n",
      "1 ==> 2\n",
      "1 ==> 0\n",
      "2 ==> 0\n",
      "1 ==> 2\n",
      "0 ==> 1\n",
      "0 ==> 2\n",
      "1 ==> 2\n",
      "0 ==> 1\n",
      "2 ==> 0\n",
      "2 ==> 1\n",
      "0 ==> 1\n",
      "0 ==> 2\n",
      "1 ==> 2\n",
      "1 ==> 0\n",
      "2 ==> 0\n",
      "1 ==> 2\n",
      "0 ==> 1\n",
      "0 ==> 2\n",
      "1 ==> 2\n",
      "\n"
     ]
    }
   ],
   "source": [
    "let rec hanoi n tige0 tige2 tige1 = \n",
    "    if n <= 1 then \n",
    "        Format.printf \"%d ==> %d\\n\" tige0 tige2\n",
    "    else\n",
    "        (hanoi (n-1) tige0 tige1 tige2;\n",
    "        Format.printf \"%d ==> %d\\n\" tige0 tige2;     \n",
    "        hanoi (n-1) tige1 tige2 tige0);;\n",
    "\n",
    "hanoi 8 0 2 1;;\n",
    "print_newline();;"
   ]
  },
  {
   "cell_type": "code",
   "execution_count": null,
   "id": "4524f9b7-73c5-40c5-b1e1-a2576a1081cc",
   "metadata": {},
   "outputs": [],
   "source": []
  }
 ],
 "metadata": {
  "kernelspec": {
   "display_name": "OCaml default",
   "language": "OCaml",
   "name": "ocaml-jupyter"
  },
  "language_info": {
   "codemirror_mode": "text/x-ocaml",
   "file_extension": ".ml",
   "mimetype": "text/x-ocaml",
   "name": "OCaml",
   "nbconverter_exporter": null,
   "pygments_lexer": "OCaml",
   "version": "4.08.1"
  }
 },
 "nbformat": 4,
 "nbformat_minor": 5
}
