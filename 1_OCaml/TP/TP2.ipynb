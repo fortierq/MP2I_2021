{
 "cells": [
  {
   "cell_type": "markdown",
   "id": "f51c9906",
   "metadata": {},
   "source": [
    "# TP 2 : récursivité et conditions\n",
    "\n",
    "Dans tout le TP, il est interdit d'utiliser des boucles (pas de `for` ni `while`).\n",
    "\n",
    "Rappel : pensez à tester toutes vos fonctions sur des exemples."
   ]
  },
  {
   "cell_type": "markdown",
   "id": "f20dbd56",
   "metadata": {},
   "source": [
    "## Petites questions\n",
    "\n",
    "1. Définir une fonction `divise` telle que `divise a b` renvoie `true` si  `a` divise `b`, `false` sinon. Il est interdit d'utiliser `if`.\n",
    "2. Définir une fonction récursive `somme` telle que `somme n` renvoie $\\sum_{k=1}^n k^2$.\n",
    "3. Définir une fonction récursive `u` telle que `u n` renvoie $u_n$ définie par :\n",
    "$$u_0 = 42$$\n",
    "$$u_{n} = 3\\sqrt{u_{n - 1}} + 2$$\n",
    "4. Définir une fonction récursive `v` telle que `v a n` renvoie $v_n$ définie par (on fera attention à n'utiliser qu'un appel récursif) :\n",
    "$$v_0 = a$$\n",
    "$$v_{n + 1} = \\frac{1}{2}(v_n + \\frac{a}{v_n})$$\n",
    "5. Calculer `v a n` pour plusieurs valeurs de `a` et de `n` : que peut-on conjecturer sur la limite de $v_n$ ? Optionnel : le démontrer.  \n",
    "6. Soient $a$ et $b$ deux entiers et $q, r$ le quotient et reste de la division euclidienne de $a$ par $b$ ($a = bq + r$). En utilisant le fait que $PGCD(a, b)$ = $PGCD(b, r)$, écrire une fonction `euclide` telle que `euclide a b` renvoie le PGCD de $a$ et $b$."
   ]
  },
  {
   "cell_type": "code",
   "execution_count": 2,
   "id": "b8e0d589-62c5-4828-95f7-ff69c67747a4",
   "metadata": {},
   "outputs": [
    {
     "data": {
      "text/plain": [
       "val divise : int -> int -> bool = <fun>\n"
      ]
     },
     "execution_count": 2,
     "metadata": {},
     "output_type": "execute_result"
    }
   ],
   "source": [
    "let divise a b =\n",
    "    b / a * a = b"
   ]
  },
  {
   "cell_type": "code",
   "execution_count": 3,
   "id": "9683a268-413a-4ddf-9496-7151d4c747e4",
   "metadata": {},
   "outputs": [
    {
     "data": {
      "text/plain": [
       "val somme : int -> int = <fun>\n"
      ]
     },
     "execution_count": 3,
     "metadata": {},
     "output_type": "execute_result"
    }
   ],
   "source": [
    "let rec somme n =\n",
    "    if n = 1 then 1\n",
    "    else n*n + somme(n-1)"
   ]
  },
  {
   "cell_type": "code",
   "execution_count": 4,
   "id": "90fe7a84-4326-491b-ac20-b947ab7d5956",
   "metadata": {},
   "outputs": [
    {
     "data": {
      "text/plain": [
       "val u : int -> float = <fun>\n"
      ]
     },
     "execution_count": 4,
     "metadata": {},
     "output_type": "execute_result"
    }
   ],
   "source": [
    "let rec u n =\n",
    "    if n = 0 then 42.\n",
    "    else 3.*.sqrt(u(n-1)) +. 2."
   ]
  },
  {
   "cell_type": "code",
   "execution_count": 5,
   "id": "6141348d-4ff9-4180-9232-cf39b75ad1e4",
   "metadata": {},
   "outputs": [
    {
     "data": {
      "text/plain": [
       "val v : float -> int -> float = <fun>\n"
      ]
     },
     "execution_count": 5,
     "metadata": {},
     "output_type": "execute_result"
    }
   ],
   "source": [
    "let rec v a n =\n",
    "    if n = 0 then a\n",
    "    else \n",
    "        let v2 = v a (n-1) in\n",
    "        0.5*.(v2 +. a/.v2)"
   ]
  },
  {
   "cell_type": "code",
   "execution_count": 6,
   "id": "c0f36dc7-ad59-43e2-ae9a-651ac663df3d",
   "metadata": {},
   "outputs": [
    {
     "data": {
      "text/plain": [
       "- : float = 2.45425636007827785\n"
      ]
     },
     "execution_count": 6,
     "metadata": {},
     "output_type": "execute_result"
    }
   ],
   "source": [
    "v 6. 3"
   ]
  },
  {
   "cell_type": "code",
   "execution_count": 7,
   "id": "4929b891-d295-482d-94df-5d680e9cee9b",
   "metadata": {},
   "outputs": [
    {
     "data": {
      "text/plain": [
       "- : float = 2.82842712474619\n"
      ]
     },
     "execution_count": 7,
     "metadata": {},
     "output_type": "execute_result"
    }
   ],
   "source": [
    "v 8. 212"
   ]
  },
  {
   "cell_type": "code",
   "execution_count": 8,
   "id": "230e667a-4725-4868-a9c7-8be8cc2edb45",
   "metadata": {},
   "outputs": [
    {
     "data": {
      "text/plain": [
       "- : float = 27.6586333718786612\n"
      ]
     },
     "execution_count": 8,
     "metadata": {},
     "output_type": "execute_result"
    }
   ],
   "source": [
    "v 765. 678"
   ]
  },
  {
   "cell_type": "markdown",
   "id": "6a51d511-9041-4882-9de4-21794d7fe7fc",
   "metadata": {},
   "source": [
    "On remarque que pour un a donné, v tend vers la racine de a.\n",
    "\n",
    "-- On remarque que lorsque a >= 1, v est décroissante, et est supérieure ou égale à 0. On résoud : x = 1/2*(x + a/x), et on obtient l'unique solution x = sqrt(x), qui est la limite de v (selon le théorème du point, et sachant que f:x -> 1/2*(x + a/x) est continue sur l'intervalle étudié).\n",
    "\n",
    "-- Dans le cas contraire, v est croissante, et on réitère le procédé précédent en montrant que v est majorée par a."
   ]
  },
  {
   "cell_type": "code",
   "execution_count": 9,
   "id": "34c67d81-e642-422f-a311-a3a80c77597e",
   "metadata": {},
   "outputs": [
    {
     "data": {
      "text/plain": [
       "val euclide : int -> int -> int = <fun>\n"
      ]
     },
     "execution_count": 9,
     "metadata": {},
     "output_type": "execute_result"
    }
   ],
   "source": [
    "let rec euclide a b =\n",
    "    if a mod b = 0 then b\n",
    "    else euclide b (a mod b)"
   ]
  },
  {
   "cell_type": "markdown",
   "id": "7afee366",
   "metadata": {},
   "source": [
    "## Exponentiation rapide\n",
    "\n",
    "1. Écrire une fonction récursive `puissance` naïve (c'est à dire très simple) telle que `puissance a n` renvoie $a^n$. Combien effectue t-elle de multiplications (en fonction de n) ?\n",
    "2. Écrire une fonction récursive `exp_rapide` pour calculer $a^n$, en utilisant les relations suivantes :\n",
    "$$ \n",
    "\\begin{cases} \n",
    "a^n = (a^{\\frac{n}{2}})^2 ~~~~~~~~~\\text{si }n\\text{ est pair}\\\\\n",
    "a^{n} = a \\times (a^{\\frac{n-1}{2}})^2 ~~~~~\\text{sinon}\n",
    "\\end{cases}\n",
    "$$\n",
    "**Attention** : pour mettre au carré, utiliser une variable plutôt que faire 2 appels récursifs, ce qui augmenterait beaucoup le nombre d'opérations.  \n",
    "**Remarque** : On montrera plus tard que cette 2ème version demande de l'ordre de $\\ln(n)$ multiplications seulement."
   ]
  },
  {
   "cell_type": "code",
   "execution_count": 10,
   "id": "549d93b4-e913-48e9-acf5-86ff15847f58",
   "metadata": {},
   "outputs": [
    {
     "data": {
      "text/plain": [
       "val puissance : float -> int -> float = <fun>\n"
      ]
     },
     "execution_count": 10,
     "metadata": {},
     "output_type": "execute_result"
    }
   ],
   "source": [
    "let rec puissance a n =\n",
    "    if n = 1 then a\n",
    "    else a*.(puissance a (n-1))"
   ]
  },
  {
   "cell_type": "code",
   "execution_count": 11,
   "id": "a6b65bf9-5bf8-4770-92f9-6b66c10c4f0a",
   "metadata": {},
   "outputs": [
    {
     "data": {
      "text/plain": [
       "val exp_rapide : float -> int -> float = <fun>\n"
      ]
     },
     "execution_count": 11,
     "metadata": {},
     "output_type": "execute_result"
    }
   ],
   "source": [
    "let rec exp_rapide a n =\n",
    "    if n = 1 then a\n",
    "    else if (n mod 2) = 0 then\n",
    "        let b = exp_rapide a (n/2) in\n",
    "        b*.b\n",
    "    else\n",
    "        let b = exp_rapide a ((n-1)/2) in\n",
    "        a*.b*.b"
   ]
  },
  {
   "cell_type": "markdown",
   "id": "2da20220",
   "metadata": {},
   "source": [
    "# Accumulateur\n",
    "\n",
    "On a vu dans le cours sur la récursivité (avec l'exemple de la suite de Fibonacci) qu'un accumulateur est un argument que l'on ajoute à une fonction pour calculer sa valeur de retour.  \n",
    "1. Écrire une fonction `fact` telle que `fact acc n` renvoie `n`!, en utilisant `acc` comme accumulateur. Voici à quoi va ressemble `fact` :\n",
    "```ocaml\n",
    "let rec fact acc n =\n",
    "    if n = 0 then acc  (* on renvoie l'accumulateur qui contient le résultat *)\n",
    "    else fact ... (* appel récursif en modifiant l'accumulateur *)\n",
    "```\n",
    "2. En utilisant `fact` et l'application partielle de fonction, définir `f : int -> int` renvoyant la factoielle d'un entier.\n",
    "\n",
    "**Remarque** : le but ici est juste de vous entraîner à savoir utiliser un accumulateur, qui sont parfois utiles (comme pour la fonction `fibo` du cours). En DS ou concours on évitera d'utiliser un accumulateur lorsqu'il y en a pas besoin (comme pour la fonction `fact`...), car cela rend le code plus compliqué.  "
   ]
  },
  {
   "cell_type": "code",
   "execution_count": 13,
   "id": "a37a2345-3cf6-4b64-a9b1-24619b67a336",
   "metadata": {},
   "outputs": [
    {
     "data": {
      "text/plain": [
       "val fact : int -> int -> int = <fun>\n"
      ]
     },
     "execution_count": 13,
     "metadata": {},
     "output_type": "execute_result"
    }
   ],
   "source": [
    "let rec fact acc n =\n",
    " if n = 0 then acc\n",
    " else fact (acc*n) (n-1)"
   ]
  },
  {
   "cell_type": "markdown",
   "id": "c1b7cf83",
   "metadata": {},
   "source": [
    "## Temps de vol de la suite de Syracuse\n",
    "\n",
    "La suite de Syracuse d'un entier $a$ est définie par :  \n",
    "$$u_0 = a$$\n",
    "$$u_{n+1} =\n",
    "\\begin{cases} \n",
    "     \\frac{u_n}{2}, \\text{si } s_n \\text{ est pair}\\\\\n",
    "    3u_n + 1, \\text{sinon}\\\\\n",
    "\\end{cases}$$\n",
    "\n",
    "Le temps de vol de $(u_n)_n$ est le plus petit entier $t$ tel que $u_t = 1$.  \n",
    "\n",
    "1. Écrire une fonction récursive `temps_vol` telle que `temps_vol a` renvoie le temps de vol de $(u_n)_n$ (où $u_0 = a$)."
   ]
  },
  {
   "cell_type": "code",
   "execution_count": 15,
   "id": "931ac4cf-10ba-4458-9408-3c6bab208b59",
   "metadata": {},
   "outputs": [
    {
     "data": {
      "text/plain": [
       "val temps_vol : int -> int = <fun>\n"
      ]
     },
     "execution_count": 15,
     "metadata": {},
     "output_type": "execute_result"
    }
   ],
   "source": [
    "let rec temps_vol a =\n",
    "    if a = 1 then 0\n",
    "    else if (a mod 2) == 0 then\n",
    "        1 + temps_vol (a/2)\n",
    "    else\n",
    "        1 + temps_vol (3*a + 1)"
   ]
  },
  {
   "cell_type": "markdown",
   "id": "11c5f47b",
   "metadata": {},
   "source": [
    "## Fonction mystérieuse\n",
    "\n",
    "Tester la fonction suivante pour des $n$ entre $0$ et $100$, conjecturer un théorème et prouvez-le par récurrence."
   ]
  },
  {
   "cell_type": "code",
   "execution_count": 18,
   "id": "39aea599",
   "metadata": {
    "tags": []
   },
   "outputs": [
    {
     "data": {
      "text/plain": [
       "val f : int -> int = <fun>\n"
      ]
     },
     "execution_count": 18,
     "metadata": {},
     "output_type": "execute_result"
    }
   ],
   "source": [
    "let rec f n =\n",
    "    if n > 100 then n - 10 \n",
    "    else f (f (n + 11)) ;;"
   ]
  },
  {
   "cell_type": "code",
   "execution_count": 19,
   "id": "533f9683-e7de-4415-8d85-325ca7299beb",
   "metadata": {},
   "outputs": [
    {
     "data": {
      "text/plain": [
       "- : int = 91\n"
      ]
     },
     "execution_count": 19,
     "metadata": {},
     "output_type": "execute_result"
    }
   ],
   "source": [
    "f 65"
   ]
  },
  {
   "cell_type": "code",
   "execution_count": 20,
   "id": "26102beb-bdaa-4512-a892-ed5340c40011",
   "metadata": {},
   "outputs": [
    {
     "data": {
      "text/plain": [
       "- : int = 91\n"
      ]
     },
     "execution_count": 20,
     "metadata": {},
     "output_type": "execute_result"
    }
   ],
   "source": [
    "f 12"
   ]
  },
  {
   "cell_type": "code",
   "execution_count": 21,
   "id": "fc91d150-6745-429e-a745-d3c9b6009747",
   "metadata": {},
   "outputs": [
    {
     "data": {
      "text/plain": [
       "- : int = 91\n"
      ]
     },
     "execution_count": 21,
     "metadata": {},
     "output_type": "execute_result"
    }
   ],
   "source": [
    "f 98"
   ]
  },
  {
   "cell_type": "markdown",
   "id": "8015fa13",
   "metadata": {},
   "source": [
    "## Fonctions mutuellement récursives\n",
    "\n",
    "Il est possible de définir simultanément deux fonctions `f` et `g`, dépendant l'une de l'autre avec `and` :\n",
    "```ocaml\n",
    "let rec f x = ... and g y = ... in ...\n",
    "```\n",
    "\n",
    "Écrire deux fonctions `u` et `v` permettant de calculer le $n$ième terme des suites définies par :\n",
    "$$u_0 = 2$$\n",
    "$$v_0 = 3$$\n",
    "$$u_{n + 1} = u_n - u_n v_n$$\n",
    "$$v_{n + 1} = v_n + u_n v_n$$"
   ]
  },
  {
   "cell_type": "code",
   "execution_count": 22,
   "id": "dd4d2a5f-abd9-4396-8367-3fb63437155c",
   "metadata": {},
   "outputs": [
    {
     "data": {
      "text/plain": [
       "val u : int -> int = <fun>\n",
       "val v : int -> int = <fun>\n"
      ]
     },
     "execution_count": 22,
     "metadata": {},
     "output_type": "execute_result"
    }
   ],
   "source": [
    "let rec u n =\n",
    "    if n = 0 then 2\n",
    "    else (u (n-1))*(1 - v (n-1))\n",
    "and v n =\n",
    "    if n = 0 then 3\n",
    "    else (v (n-1))*(1 + u (n-1))"
   ]
  },
  {
   "cell_type": "markdown",
   "id": "28f1e644",
   "metadata": {},
   "source": [
    "## Retour sur les tours de Hanoi\n",
    "\n",
    "**Remarque** : le problème des tours de Hanoi a déjà été vu en stage, mais on le refait ici en OCaml. En outre, il est utile de réactiver sa mémoire pour se souvenir des méthodes et il m'arrivera pendant l'année de redonner des exercices déjà posés."
   ]
  },
  {
   "cell_type": "markdown",
   "id": "035197da",
   "metadata": {},
   "source": [
    "![](../img/hanoi.png)\n",
    "\n",
    "$n$ disques sont posés sur la tige à gauche. L'objectif est de déplacer tous les disques sur la tige à droite :\n",
    "\n",
    "![](../img/hanoi2.png)\n",
    "\n",
    "Règles du jeu :\n",
    "\n",
    "- On ne peut déplacer qu'un disque à la fois (celui tout en haut), sur une autre tige.\n",
    "- Il est interdit de poser un disque sur un autre plus petit.\n",
    "\n",
    "Exemple de premier déplacement valide :\n",
    "\n",
    "![](../img/hanoi3.png)\n",
    "\n",
    "On souhaite écrire une fonction récursive `hanoi` telle que `hanoi n tige1 tige2` affiche une suite de déplacements (avec des `print_int`) permettant de déplacer $n$ disques depuis `tige1` vers `tige2`. On supposera que les tiges sont numérotées 0, 1, 2 (de gauche à droite).\n",
    "\n",
    "1. Supposons que vous sachiez déplacer $n-1$ disques d'une tige à une autre. Comment déplacer $n$ disques d'une tige à une autre ?\n",
    "2. Écrire `hanoi`."
   ]
  },
  {
   "cell_type": "markdown",
   "id": "438793d3-12a4-490d-b2eb-19da46602211",
   "metadata": {},
   "source": [
    "Pour déplacer n disques d'une tige à l'autre, il suffit d'en déplacer n-1 sur une tige intermédiaire, de déplacer le plus grand disque parmis les n sur la tige voulue, puis de déplacer les n-1 précédents sur la tige voulue. "
   ]
  },
  {
   "cell_type": "code",
   "execution_count": 15,
   "id": "0b367979-82da-4366-b57f-575a46b665cc",
   "metadata": {},
   "outputs": [
    {
     "data": {
      "text/plain": [
       "val hanoi : int -> int -> int -> string = <fun>\n"
      ]
     },
     "execution_count": 15,
     "metadata": {},
     "output_type": "execute_result"
    },
    {
     "name": "stderr",
     "output_type": "stream",
     "text": [
      "File \"[15]\", line 13, characters 8-31:\n",
      "13 |         hanoi (n-1) tige1 tige3;\n",
      "             ^^^^^^^^^^^^^^^^^^^^^^^\n",
      "Warning 10: this expression should have type unit.\n"
     ]
    },
    {
     "ename": "error",
     "evalue": "compile_error",
     "output_type": "error",
     "traceback": [
      "File \"[15]\", line 15, characters 8-31:\n15 |         hanoi (n-1) tige3 tige2;;\n             ^^^^^^^^^^^^^^^^^^^^^^^\nError: This expression has type string but an expression was expected of type\n         unit\n       because it is in the result of a conditional with no else branch\n"
     ]
    }
   ],
   "source": [
    "let rec hanoi n tige1 tige2 =\n",
    "    if n = 0 then \"\"\n",
    "    else\n",
    "        let tige3 = 3-tige1-tige2 in\n",
    "        (hanoi (n-1) tige1 tige3)^(\"déplacer \" ^ (string_of_int tige1) ^ \" vers \" ^ (string_of_int tige2)^\" || \")^(hanoi (n-1) tige3 tige2);;\n",
    "\n",
    "(*je fais renvoyer un string par hanoi car dans mon cas les fonctions print_string et print_int n'affichent rien en résultat, et renvoient simplement un type unit : *)\n",
    "\n",
    "\n",
    "let rec hanoi2 n tige1 tige2 =\n",
    "    if n > 0 then\n",
    "        let tige3 = 3-tige1-tige2 in\n",
    "        hanoi (n-1) tige1 tige3;\n",
    "        print_string \"déplacer \"; print_int tige1; print_string \" vers \"; print_int tige2;\n",
    "        hanoi (n-1) tige3 tige2;;"
   ]
  },
  {
   "cell_type": "code",
   "execution_count": 3,
   "id": "e7726970-560f-40ba-9324-32feb4372b68",
   "metadata": {},
   "outputs": [
    {
     "data": {
      "text/plain": [
       "- : string =\n",
       "\"déplacer 0 vers 2 || déplacer 0 vers 1 || déplacer 2 vers 1 || déplacer 0 vers 2 || déplacer 1 vers 0 || déplacer 1 vers 2 || déplacer 0 vers 2 || \"\n"
      ]
     },
     "execution_count": 12,
     "metadata": {},
     "output_type": "execute_result"
    }
   ],
   "source": [
    "hanoi 7 0 2"
   ]
  },
  {
   "cell_type": "code",
   "execution_count": 12,
   "id": "161a66ce-493c-45cd-83e3-cb15f34e7195",
   "metadata": {},
   "outputs": [
    {
     "data": {
      "text/plain": [
       "- : unit = ()\n"
      ]
     },
     "execution_count": 12,
     "metadata": {},
     "output_type": "execute_result"
    }
   ],
   "source": [
    "print_int 4"
   ]
  },
  {
   "cell_type": "code",
   "execution_count": null,
   "id": "9cff870c-d04f-4bd6-b11d-7821c8b97bbf",
   "metadata": {},
   "outputs": [],
   "source": []
  }
 ],
 "metadata": {
  "kernelspec": {
   "display_name": "OCaml default",
   "language": "OCaml",
   "name": "ocaml-jupyter"
  },
  "language_info": {
   "codemirror_mode": "text/x-ocaml",
   "file_extension": ".ml",
   "mimetype": "text/x-ocaml",
   "name": "OCaml",
   "nbconverter_exporter": null,
   "pygments_lexer": "OCaml",
   "version": "4.08.1"
  }
 },
 "nbformat": 4,
 "nbformat_minor": 5
}
