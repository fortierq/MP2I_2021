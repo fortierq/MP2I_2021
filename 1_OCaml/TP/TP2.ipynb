{
 "cells": [
  {
   "cell_type": "markdown",
   "id": "0b8602ac",
   "metadata": {},
   "source": [
    "# TP 2 : récursivité et conditions\n",
    "\n",
    "Dans tout le TP, il est interdit d'utiliser des boucles (pas de `for` ni `while`).\n",
    "\n",
    "Rappel : pensez à tester toutes vos fonctions sur des exemples."
   ]
  },
  {
   "cell_type": "markdown",
   "id": "483ccb0b",
   "metadata": {},
   "source": [
    "## Petites questions\n",
    "\n",
    "1. Définir une fonction `divise` telle que `divise a b` renvoie `true` si  `a` divise `b`, `false` sinon. Il est interdit d'utiliser `if`.\n",
    "2. Définir une fonction récursive `somme` telle que `somme n` renvoie $\\sum_{k=1}^n k^2$.\n",
    "3. Définir une fonction récursive `u` telle que `u n` renvoie $u_n$ définie par :\n",
    "$$u_0 = 42$$\n",
    "$$u_{n} = 3\\sqrt{u_{n - 1}} + 2$$\n",
    "4. Définir une fonction récursive `v` telle que `v a n` renvoie $v_n$ définie par (on fera attention à n'utiliser qu'un appel récursif) :\n",
    "$$v_0 = a$$\n",
    "$$v_{n + 1} = \\frac{1}{2}(v_n + \\frac{a}{v_n})$$\n",
    "5. Calculer `v a n` pour plusieurs valeurs de `a` et de `n` : que peut-on conjecturer sur la limite de $v_n$ ? Optionnel : le démontrer.  \n",
    "6. Soient $a$ et $b$ deux entiers et $q, r$ le quotient et reste de la division euclidienne de $a$ par $b$ ($a = bq + r$). En utilisant le fait que $PGCD(a, b)$ = $PGCD(b, r)$, écrire une fonction `euclide` telle que `euclide a b` renvoie le PGCD de $a$ et $b$."
   ]
  },
  {
   "cell_type": "code",
   "execution_count": 6,
   "id": "56da1be2-9f39-451e-a630-226e4cc9c5d6",
   "metadata": {},
   "outputs": [
    {
     "data": {
      "text/plain": [
       "val divise : int -> int -> bool = <fun>\n"
      ]
     },
     "execution_count": 6,
     "metadata": {},
     "output_type": "execute_result"
    },
    {
     "data": {
      "text/plain": [
       "- : bool = true\n"
      ]
     },
     "execution_count": 6,
     "metadata": {},
     "output_type": "execute_result"
    },
    {
     "data": {
      "text/plain": [
       "- : bool = false\n"
      ]
     },
     "execution_count": 6,
     "metadata": {},
     "output_type": "execute_result"
    }
   ],
   "source": [
    "(*question 1*)\n",
    "let divise a b =\n",
    "    a mod b = 0;;\n",
    "\n",
    "divise 12 6;;\n",
    "divise 13 12;;"
   ]
  },
  {
   "cell_type": "code",
   "execution_count": 5,
   "id": "47fb767b-4a98-4b6e-87e1-a068761d47e0",
   "metadata": {},
   "outputs": [
    {
     "data": {
      "text/plain": [
       "val somme : int -> int = <fun>\n"
      ]
     },
     "execution_count": 5,
     "metadata": {},
     "output_type": "execute_result"
    },
    {
     "data": {
      "text/plain": [
       "- : int = 55\n"
      ]
     },
     "execution_count": 5,
     "metadata": {},
     "output_type": "execute_result"
    }
   ],
   "source": [
    "(*question 2*)\n",
    "let rec somme n =\n",
    "    if n = 1 then 1\n",
    "    else n*n + somme(n-1);;\n",
    "    \n",
    "somme 5;;"
   ]
  },
  {
   "cell_type": "code",
   "execution_count": 4,
   "id": "fddf6c3c-79d3-4a1f-8c4d-2dd6d8175b1b",
   "metadata": {},
   "outputs": [
    {
     "data": {
      "text/plain": [
       "val u : int -> float = <fun>\n"
      ]
     },
     "execution_count": 4,
     "metadata": {},
     "output_type": "execute_result"
    },
    {
     "data": {
      "text/plain": [
       "- : float = 13.2086550729063585\n"
      ]
     },
     "execution_count": 4,
     "metadata": {},
     "output_type": "execute_result"
    }
   ],
   "source": [
    "(*question 3*)\n",
    "let rec u n =\n",
    "    if n = 0 then 42.\n",
    "    else 3.*.(u (n-1))**0.5 +. 2.;;\n",
    "\n",
    "u 4;;"
   ]
  },
  {
   "cell_type": "code",
   "execution_count": 2,
   "id": "2f1ee084-97fe-4c06-89a3-d295121d90e2",
   "metadata": {},
   "outputs": [
    {
     "data": {
      "text/plain": [
       "val v : float -> int -> float = <fun>\n"
      ]
     },
     "execution_count": 2,
     "metadata": {},
     "output_type": "execute_result"
    },
    {
     "data": {
      "text/plain": [
       "- : float = 2.\n"
      ]
     },
     "execution_count": 2,
     "metadata": {},
     "output_type": "execute_result"
    }
   ],
   "source": [
    "(*question 4*)\n",
    "let rec v a n =\n",
    "    if n = 0 then a\n",
    "    else let c = v a (n-1) in 1.0/.(2.0)*.(c +. a/.c);;\n",
    "\n",
    "v 4. 100;;"
   ]
  },
  {
   "cell_type": "code",
   "execution_count": 3,
   "id": "7e03fac4-ae1f-4f4f-90c8-8bb4ed52cada",
   "metadata": {},
   "outputs": [
    {
     "data": {
      "text/plain": [
       "- : float = 10.\n"
      ]
     },
     "execution_count": 3,
     "metadata": {},
     "output_type": "execute_result"
    },
    {
     "data": {
      "text/plain": [
       "- : float = 5.\n"
      ]
     },
     "execution_count": 3,
     "metadata": {},
     "output_type": "execute_result"
    },
    {
     "data": {
      "text/plain": [
       "- : float = 3.\n"
      ]
     },
     "execution_count": 3,
     "metadata": {},
     "output_type": "execute_result"
    }
   ],
   "source": [
    "v 100. 1000;;\n",
    "v 25. 1000;;\n",
    "v 9.0 1000;;"
   ]
  },
  {
   "cell_type": "markdown",
   "id": "6577fb38-2b91-4729-a3f4-704f1e01f2f3",
   "metadata": {},
   "source": [
    "##### \n",
    "(*question 5*)\n",
    "On conjecture que cette suite nous permet de connaître la racine d'un nombre.*\n",
    "\n",
    "Démonstration: \n",
    "\n",
    "La suite est définie par récurrence, on peut donc l'écrire sous la forme u(n+1) = f(u(n)).\n",
    "Pour trouver la limite de u(n), on résout l'équation l = f(l)\n",
    "l = 1/2(l + a/l)\n",
    "donc l/2 = a/(2l)\n",
    "donc l^2 = a\n",
    "donc l = sqrt(a)\n",
    "\n",
    "on a donc bien démontré que la limite de cette suite est racine de a."
   ]
  },
  {
   "cell_type": "code",
   "execution_count": 17,
   "id": "c068ebce-0b77-465c-9984-1911df06fad4",
   "metadata": {},
   "outputs": [
    {
     "data": {
      "text/plain": [
       "val euclide : int -> int -> int = <fun>\n"
      ]
     },
     "execution_count": 17,
     "metadata": {},
     "output_type": "execute_result"
    },
    {
     "data": {
      "text/plain": [
       "- : int = 6\n"
      ]
     },
     "execution_count": 17,
     "metadata": {},
     "output_type": "execute_result"
    },
    {
     "data": {
      "text/plain": [
       "- : int = 1\n"
      ]
     },
     "execution_count": 17,
     "metadata": {},
     "output_type": "execute_result"
    }
   ],
   "source": [
    "(*question 6*)\n",
    "let rec euclide a b =\n",
    "    if b = 0 then a\n",
    "    else euclide b (a mod b);;\n",
    "\n",
    "euclide 12 6;;\n",
    "euclide 13 7;;"
   ]
  },
  {
   "cell_type": "markdown",
   "id": "f9323ab0",
   "metadata": {},
   "source": [
    "## Exponentiation rapide\n",
    "\n",
    "1. Écrire une fonction récursive `puissance` naïve (c'est à dire très simple) telle que `puissance a n` renvoie $a^n$. Combien effectue t-elle de multiplications (en fonction de n) ?\n",
    "2. Écrire une fonction récursive `exp_rapide` pour calculer $a^n$, en utilisant les relations suivantes :\n",
    "$$ \n",
    "\\begin{cases} \n",
    "a^n = (a^{\\frac{n}{2}})^2 ~~~~~~~~~\\text{si }n\\text{ est pair}\\\\\n",
    "a^{n} = a \\times (a^{\\frac{n-1}{2}})^2 ~~~~~\\text{sinon}\n",
    "\\end{cases}\n",
    "$$\n",
    "**Attention** : pour mettre au carré, utiliser une variable plutôt que faire 2 appels récursifs, ce qui augmenterait beaucoup le nombre d'opérations.  \n",
    "**Remarque** : On montrera plus tard que cette 2ème version demande de l'ordre de $\\ln(n)$ multiplications seulement."
   ]
  },
  {
   "cell_type": "code",
   "execution_count": 24,
   "id": "04829c6f-d928-4347-9c2a-f65399cc685b",
   "metadata": {},
   "outputs": [
    {
     "data": {
      "text/plain": [
       "val puissance : int -> int -> int = <fun>\n"
      ]
     },
     "execution_count": 24,
     "metadata": {},
     "output_type": "execute_result"
    },
    {
     "data": {
      "text/plain": [
       "- : int = 256\n"
      ]
     },
     "execution_count": 24,
     "metadata": {},
     "output_type": "execute_result"
    }
   ],
   "source": [
    "(*question 1*)\n",
    "let rec puissance a n =\n",
    "    if n = 0 then 1\n",
    "    else a*puissance a (n-1);;\n",
    "\n",
    "puissance 4 4;;"
   ]
  },
  {
   "cell_type": "code",
   "execution_count": 25,
   "id": "7234f8d6-fa41-484b-8eb9-a1b3ba779ea0",
   "metadata": {},
   "outputs": [
    {
     "data": {
      "text/plain": [
       "val exp_rapide : int -> int -> int = <fun>\n"
      ]
     },
     "execution_count": 25,
     "metadata": {},
     "output_type": "execute_result"
    },
    {
     "data": {
      "text/plain": [
       "- : int = 256\n"
      ]
     },
     "execution_count": 25,
     "metadata": {},
     "output_type": "execute_result"
    }
   ],
   "source": [
    "(*question 2*)\n",
    "let rec exp_rapide a n =\n",
    "    if n = 0 then 1\n",
    "    else\n",
    "        if n mod 2 = 0 then let c = puissance a (n/2) in c*c\n",
    "        else let d = puissance a ((n-1)/2) in a*d*d;;\n",
    "\n",
    "exp_rapide 4 4;;"
   ]
  },
  {
   "cell_type": "markdown",
   "id": "1dba41b0",
   "metadata": {},
   "source": [
    "# Accumulateur\n",
    "\n",
    "On a vu dans le cours sur la récursivité (avec l'exemple de la suite de Fibonacci) qu'un accumulateur est un argument que l'on ajoute à une fonction pour calculer sa valeur de retour.  \n",
    "1. Écrire une fonction `fact` telle que `fact acc n` renvoie `n`!, en utilisant `acc` comme accumulateur. Voici à quoi va ressemble `fact` :\n",
    "```ocaml\n",
    "let rec fact acc n =\n",
    "    if n = 0 then acc  (* on renvoie l'accumulateur qui contient le résultat *)\n",
    "    else fact ... (* appel récursif en modifiant l'accumulateur *)\n",
    "```\n",
    "2. En utilisant `fact` et l'application partielle de fonction, définir `f : int -> int` renvoyant la factoielle d'un entier.\n",
    "\n",
    "**Remarque** : le but ici est juste de vous entraîner à savoir utiliser un accumulateur, qui sont parfois utiles (comme pour la fonction `fibo` du cours). En DS ou concours on évitera d'utiliser un accumulateur lorsqu'il y en a pas besoin (comme pour la fonction `fact`...), car cela rend le code plus compliqué.  "
   ]
  },
  {
   "cell_type": "code",
   "execution_count": 27,
   "id": "16ceaf4c-9643-44f1-b9a3-34fced40da3a",
   "metadata": {},
   "outputs": [
    {
     "data": {
      "text/plain": [
       "val fact : int -> int = <fun>\n"
      ]
     },
     "execution_count": 27,
     "metadata": {},
     "output_type": "execute_result"
    },
    {
     "data": {
      "text/plain": [
       "- : int = 120\n"
      ]
     },
     "execution_count": 27,
     "metadata": {},
     "output_type": "execute_result"
    }
   ],
   "source": [
    "(*question1*)\n",
    "let rec fact n =\n",
    "    if n = 0 then 1\n",
    "    else n * fact (n-1);;\n",
    "\n",
    "fact 5;;"
   ]
  },
  {
   "cell_type": "code",
   "execution_count": 34,
   "id": "eb68f5c9-f11b-477e-847c-d7257554ec73",
   "metadata": {},
   "outputs": [
    {
     "data": {
      "text/plain": [
       "val fact : int -> int -> int = <fun>\n"
      ]
     },
     "execution_count": 34,
     "metadata": {},
     "output_type": "execute_result"
    },
    {
     "data": {
      "text/plain": [
       "- : int = 120\n"
      ]
     },
     "execution_count": 34,
     "metadata": {},
     "output_type": "execute_result"
    }
   ],
   "source": [
    "(*question 2*)\n",
    "let rec fact acc n =\n",
    "    if n = 0 then acc\n",
    "    else fact (n*acc) (n-1);;\n",
    "\n",
    "fact 1 5;;"
   ]
  },
  {
   "cell_type": "markdown",
   "id": "3ce1d3dc",
   "metadata": {},
   "source": [
    "## Temps de vol de la suite de Syracuse\n",
    "\n",
    "La suite de Syracuse d'un entier $a$ est définie par :  \n",
    "$$u_0 = a$$\n",
    "$$u_{n+1} =\n",
    "\\begin{cases} \n",
    "     \\frac{u_n}{2}, \\text{si } u_n \\text{ est pair}\\\\\n",
    "    3u_n + 1, \\text{sinon}\\\\\n",
    "\\end{cases}$$\n",
    "\n",
    "Le temps de vol de $(u_n)_n$ est le plus petit entier $t$ tel que $u_t = 1$.  \n",
    "\n",
    "1. Écrire une fonction récursive `temps_vol` telle que `temps_vol a` renvoie le temps de vol de $(u_n)_n$ (où $u_0 = a$)."
   ]
  },
  {
   "cell_type": "code",
   "execution_count": 11,
   "id": "615fa270-3f87-486f-970e-a176a7c255c4",
   "metadata": {},
   "outputs": [
    {
     "data": {
      "text/plain": [
       "val temps_vols : int -> int -> int * int = <fun>\n"
      ]
     },
     "execution_count": 11,
     "metadata": {},
     "output_type": "execute_result"
    },
    {
     "data": {
      "text/plain": [
       "- : int * int = (1, 20)\n"
      ]
     },
     "execution_count": 11,
     "metadata": {},
     "output_type": "execute_result"
    },
    {
     "data": {
      "text/plain": [
       "- : int * int = (1, 25)\n"
      ]
     },
     "execution_count": 11,
     "metadata": {},
     "output_type": "execute_result"
    },
    {
     "data": {
      "text/plain": [
       "- : int * int = (1, 118)\n"
      ]
     },
     "execution_count": 11,
     "metadata": {},
     "output_type": "execute_result"
    }
   ],
   "source": [
    "let rec temps_vols a n =\n",
    "    if a = 1 then (a,n)\n",
    "    else if a mod 2 = 0  then temps_vols (a/2) (n+1)\n",
    "    else temps_vols (3*a+1) (n+1);;\n",
    "\n",
    "temps_vols 18 0;;\n",
    "temps_vols 100 0;;\n",
    "temps_vols 97 0;;"
   ]
  },
  {
   "cell_type": "markdown",
   "id": "da47237d",
   "metadata": {},
   "source": [
    "## Fonction mystérieuse\n",
    "\n",
    "Tester la fonction suivante pour des $n$ entre $0$ et $100$, conjecturer un théorème et prouvez-le par récurrence."
   ]
  },
  {
   "cell_type": "code",
   "execution_count": 1,
   "id": "1c7692d4",
   "metadata": {
    "execution": {
     "iopub.execute_input": "2021-09-16T14:04:22.236899Z",
     "iopub.status.busy": "2021-09-16T14:04:22.236336Z",
     "iopub.status.idle": "2021-09-16T14:04:22.239838Z",
     "shell.execute_reply": "2021-09-16T14:04:22.240266Z"
    }
   },
   "outputs": [
    {
     "data": {
      "text/plain": [
       "val f : int -> int = <fun>\n"
      ]
     },
     "execution_count": 1,
     "metadata": {},
     "output_type": "execute_result"
    }
   ],
   "source": [
    "let rec f n =\n",
    "    if n > 100 then n - 10 \n",
    "    else f (f (n + 11)) ;;"
   ]
  },
  {
   "cell_type": "markdown",
   "id": "256f5cdb",
   "metadata": {},
   "source": [
    "## Fonctions mutuellement récursives\n",
    "\n",
    "Il est possible de définir simultanément deux fonctions `f` et `g`, dépendant l'une de l'autre avec `and` :\n",
    "```ocaml\n",
    "let rec f x = ... and g y = ... in ...\n",
    "```\n",
    "\n",
    "Écrire deux fonctions `u` et `v` permettant de calculer le $n$ième terme des suites définies par :\n",
    "$$u_0 = 2$$\n",
    "$$v_0 = 3$$\n",
    "$$u_{n + 1} = u_n - u_n v_n$$\n",
    "$$v_{n + 1} = v_n + u_n v_n$$"
   ]
  },
  {
   "cell_type": "code",
   "execution_count": 1,
   "id": "d0882e8e-3b32-4227-baf8-35a41b2746d5",
   "metadata": {},
   "outputs": [
    {
     "data": {
      "text/plain": [
       "val u : int -> int = <fun>\n",
       "val v : int -> int = <fun>\n"
      ]
     },
     "execution_count": 1,
     "metadata": {},
     "output_type": "execute_result"
    },
    {
     "data": {
      "text/plain": [
       "- : int = 32\n"
      ]
     },
     "execution_count": 1,
     "metadata": {},
     "output_type": "execute_result"
    },
    {
     "data": {
      "text/plain": [
       "- : int = -27\n"
      ]
     },
     "execution_count": 1,
     "metadata": {},
     "output_type": "execute_result"
    }
   ],
   "source": [
    "let rec u n =\n",
    "    if n = 0 then 2\n",
    "    else let a = u(n-1) in a - a*v(n-1)\n",
    "    and v n =\n",
    "    if n = 0 then 3\n",
    "    else let b = v(n-1) in b +b*u(n-1);;\n",
    "\n",
    "u 2;;\n",
    "v 2;;"
   ]
  },
  {
   "cell_type": "markdown",
   "id": "633fff0c",
   "metadata": {},
   "source": [
    "## Retour sur les tours de Hanoi\n",
    "\n",
    "**Remarque** : le problème des tours de Hanoi a déjà été vu en stage, mais on le refait ici en OCaml. En outre, il est utile de réactiver sa mémoire pour se souvenir des méthodes et il m'arrivera pendant l'année de redonner des exercices déjà posés."
   ]
  },
  {
   "cell_type": "markdown",
   "id": "b3da91d9",
   "metadata": {},
   "source": [
    "![](../img/hanoi.png)\n",
    "\n",
    "$n$ disques sont posés sur la tige à gauche. L'objectif est de déplacer tous les disques sur la tige à droite :\n",
    "\n",
    "![](../img/hanoi2.png)\n",
    "\n",
    "Règles du jeu :\n",
    "\n",
    "- On ne peut déplacer qu'un disque à la fois (celui tout en haut), sur une autre tige.\n",
    "- Il est interdit de poser un disque sur un autre plus petit.\n",
    "\n",
    "Exemple de premier déplacement valide :\n",
    "\n",
    "![](../img/hanoi3.png)\n",
    "\n",
    "On souhaite écrire une fonction récursive `hanoi` telle que `hanoi n tige1 tige2` affiche une suite de déplacements (avec des `print_int`) permettant de déplacer $n$ disques depuis `tige1` vers `tige2`. On supposera que les tiges sont numérotées 0, 1, 2 (de gauche à droite).\n",
    "\n",
    "1. Supposons que vous sachiez déplacer $n-1$ disques d'une tige à une autre. Comment déplacer $n$ disques d'une tige à une autre ?\n",
    "2. Écrire `hanoi`."
   ]
  },
  {
   "cell_type": "code",
   "execution_count": 2,
   "id": "15f12c50-ed5a-4b99-9d01-6850e7287298",
   "metadata": {},
   "outputs": [
    {
     "data": {
      "text/plain": [
       "val hanoi : int -> int -> int -> int -> unit = <fun>\n"
      ]
     },
     "execution_count": 2,
     "metadata": {},
     "output_type": "execute_result"
    },
    {
     "data": {
      "text/plain": [
       "- : unit = ()\n"
      ]
     },
     "execution_count": 2,
     "metadata": {},
     "output_type": "execute_result"
    },
    {
     "name": "stdout",
     "output_type": "stream",
     "text": [
      "0 ==> 2\n",
      "0 ==> 1\n",
      "2 ==> 1\n",
      "0 ==> 2\n",
      "1 ==> 0\n",
      "1 ==> 2\n",
      "0 ==> 2\n",
      "0 ==> 1\n",
      "2 ==> 1\n",
      "2 ==> 0\n",
      "1 ==> 0\n",
      "2 ==> 1\n",
      "0 ==> 2\n",
      "0 ==> 1\n",
      "2 ==> 1\n",
      "0 ==> 2\n",
      "1 ==> 0\n",
      "1 ==> 2\n",
      "0 ==> 2\n",
      "1 ==> 0\n",
      "2 ==> 1\n",
      "2 ==> 0\n",
      "1 ==> 0\n",
      "1 ==> 2\n",
      "0 ==> 2\n",
      "0 ==> 1\n",
      "2 ==> 1\n",
      "0 ==> 2\n",
      "1 ==> 0\n",
      "1 ==> 2\n",
      "0 ==> 2\n",
      "\n"
     ]
    },
    {
     "data": {
      "text/plain": [
       "- : unit = ()\n"
      ]
     },
     "execution_count": 2,
     "metadata": {},
     "output_type": "execute_result"
    }
   ],
   "source": [
    "    let rec hanoi n tige0 tige2 tige1 = \n",
    "        if n <= 1 then \n",
    "             Format.printf \"%d ==> %d\\n\" tige0 tige2\n",
    "        else\n",
    "             (hanoi (n-1) tige0 tige1 tige2;\n",
    "             Format.printf \"%d ==> %d\\n\" tige0 tige2;\n",
    "             hanoi (n-1) tige1 tige2 tige0);;\n",
    "\n",
    "hanoi 5 0 2 1;;\n",
    "print_newline();;"
   ]
  },
  {
   "cell_type": "code",
   "execution_count": null,
   "id": "e101794d-e320-4161-aa2b-960516391e42",
   "metadata": {},
   "outputs": [],
   "source": []
  }
 ],
 "metadata": {
  "kernelspec": {
   "display_name": "OCaml default",
   "language": "OCaml",
   "name": "ocaml-jupyter"
  },
  "language_info": {
   "codemirror_mode": "text/x-ocaml",
   "file_extension": ".ml",
   "mimetype": "text/x-ocaml",
   "name": "OCaml",
   "nbconverter_exporter": null,
   "pygments_lexer": "OCaml",
   "version": "4.08.1"
  }
 },
 "nbformat": 4,
 "nbformat_minor": 5
}

