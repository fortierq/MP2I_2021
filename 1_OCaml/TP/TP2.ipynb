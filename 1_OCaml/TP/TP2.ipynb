{
 "cells": [
  {
   "cell_type": "markdown",
   "id": "5d6a2457",
   "metadata": {},
   "source": [
    "# TP 2 : récursivité et conditions\n",
    "\n",
    "Dans tout le TP, il est interdit d'utiliser des boucles (pas de `for` ni `while`).\n",
    "\n",
    "Rappel : pensez à tester toutes vos fonctions sur des exemples."
   ]
  },
  {
   "cell_type": "markdown",
   "id": "42f52927",
   "metadata": {},
   "source": [
    "## Petites questions\n",
    "\n",
    "1. Définir une fonction `divise` telle que `divise a b` renvoie `true` si  `a` divise `b`, `false` sinon. Il est interdit d'utiliser `if`.\n",
    "2. Définir une fonction récursive `somme` telle que `somme n` renvoie $\\sum_{k=1}^n k^2$.\n",
    "3. Définir une fonction récursive `u` telle que `u n` renvoie $u_n$ définie par :\n",
    "$$u_0 = 42$$\n",
    "$$u_{n} = 3\\sqrt{u_{n - 1}} + 2$$\n",
    "4. Définir une fonction récursive `v` telle que `v a n` renvoie $v_n$ définie par (on fera attention à n'utiliser qu'un appel récursif) :\n",
    "$$v_0 = a$$\n",
    "$$v_{n + 1} = \\frac{1}{2}(v_n + \\frac{a}{v_n})$$\n",
    "5. Calculer `v a n` pour plusieurs valeurs de `a` et de `n` : que peut-on conjecturer sur la limite de $v_n$ ? Optionnel : le démontrer.  \n",
    "6. Soient $a$ et $b$ deux entiers et $q, r$ le quotient et reste de la division euclidienne de $a$ par $b$ ($a = bq + r$). En utilisant le fait que $PGCD(a, b)$ = $PGCD(b, r)$, écrire une fonction `euclide` telle que `euclide a b` renvoie le PGCD de $a$ et $b$."
   ]
  },
  {
   "cell_type": "code",
   "execution_count": 58,
   "id": "b7168bf5-3021-4135-b58e-d9af09c6aa1e",
   "metadata": {},
   "outputs": [
    {
     "data": {
      "text/plain": [
       "- : bool = true\n"
      ]
     },
     "execution_count": 58,
     "metadata": {},
     "output_type": "execute_result"
    },
    {
     "data": {
      "text/plain": [
       "- : float = 14.\n"
      ]
     },
     "execution_count": 58,
     "metadata": {},
     "output_type": "execute_result"
    },
    {
     "data": {
      "text/plain": [
       "- : float = 12.6851681506073071\n"
      ]
     },
     "execution_count": 58,
     "metadata": {},
     "output_type": "execute_result"
    },
    {
     "data": {
      "text/plain": [
       "val v : float -> float -> float = <fun>\n"
      ]
     },
     "execution_count": 58,
     "metadata": {},
     "output_type": "execute_result"
    },
    {
     "data": {
      "text/plain": [
       "- : float = 2.00000000000000222\n"
      ]
     },
     "execution_count": 58,
     "metadata": {},
     "output_type": "execute_result"
    },
    {
     "data": {
      "text/plain": [
       "- : float = 2.\n"
      ]
     },
     "execution_count": 58,
     "metadata": {},
     "output_type": "execute_result"
    },
    {
     "data": {
      "text/plain": [
       "- : float = 2.\n"
      ]
     },
     "execution_count": 58,
     "metadata": {},
     "output_type": "execute_result"
    },
    {
     "data": {
      "text/plain": [
       "- : float = 3.\n"
      ]
     },
     "execution_count": 58,
     "metadata": {},
     "output_type": "execute_result"
    },
    {
     "data": {
      "text/plain": [
       "- : int = 14\n"
      ]
     },
     "execution_count": 58,
     "metadata": {},
     "output_type": "execute_result"
    }
   ],
   "source": [
    "(*1*)\n",
    "\n",
    "let divise a b = a mod b <> 0 in\n",
    "divise 5 10 ;;\n",
    "\n",
    "(*2*)\n",
    "\n",
    "let rec somme n = \n",
    "if n = 1. then 1. else n**2.+.somme(n-.1.) in\n",
    "somme 3. ;;\n",
    "\n",
    "(*3*)\n",
    "\n",
    "let rec u n = \n",
    "if n = 0 then 42.\n",
    "else 3. *. (sqrt (u (n-1))) +. 2. in\n",
    "u 12 ;;\n",
    "\n",
    "(*4*)\n",
    "\n",
    "let rec v a n =\n",
    "if n = 0. then a\n",
    "else let var = v a (n-.1.) in 0.5*.(var +. a/.var) ;;\n",
    "\n",
    "(*5*)\n",
    "\n",
    "v 4. 5. ;;\n",
    "v 4. 10. ;;\n",
    "v 4. 15. ;;\n",
    "v 9. 15. ;;\n",
    "(*vn converge vers la racine carrée de a*)\n",
    "\n",
    "(*6*)\n",
    "\n",
    "let rec euclide a b =\n",
    "if a mod b = 0 then b\n",
    "else euclide b (a mod b) in\n",
    "euclide 210 112 ;;"
   ]
  },
  {
   "cell_type": "markdown",
   "id": "7cf05809",
   "metadata": {},
   "source": [
    "## Exponentiation rapide\n",
    "\n",
    "1. Écrire une fonction récursive `puissance` naïve (c'est à dire très simple) telle que `puissance a n` renvoie $a^n$. Combien effectue t-elle de multiplications (en fonction de n) ?\n",
    "2. Écrire une fonction récursive `exp_rapide` pour calculer $a^n$, en utilisant les relations suivantes :\n",
    "$$ \n",
    "\\begin{cases} \n",
    "a^n = (a^{\\frac{n}{2}})^2 ~~~~~~~~~\\text{si }n\\text{ est pair}\\\\\n",
    "a^{n} = a \\times (a^{\\frac{n-1}{2}})^2 ~~~~~\\text{sinon}\n",
    "\\end{cases}\n",
    "$$\n",
    "**Attention** : pour mettre au carré, utiliser une variable plutôt que faire 2 appels récursifs, ce qui augmenterait beaucoup le nombre d'opérations.  \n",
    "**Remarque** : On montrera plus tard que cette 2ème version demande de l'ordre de $\\ln(n)$ multiplications seulement."
   ]
  },
  {
   "cell_type": "code",
   "execution_count": null,
   "id": "29c4f11a-0673-4e7e-a70b-b1f3c409a341",
   "metadata": {},
   "outputs": [
    {
     "data": {
      "text/plain": [
       "- : int = 16\n"
      ]
     },
     "execution_count": 65,
     "metadata": {},
     "output_type": "execute_result"
    }
   ],
   "source": [
    "(*1*)\n",
    "\n",
    "let rec puissance a n = \n",
    "if n = 0 then 1 else a*(puissance a (n-1)) in\n",
    "puissance 2 4 ;;\n",
    "\n",
    "(*cette fonction effectue n multiplications*)\n",
    "\n",
    "(*2*)\n",
    "\n",
    "let rec exp_rapide a n = \n",
    "if n = 1 then a else\n",
    "if n mod 2 = 0 then exp_rapide (exp_rapide a (n/2)) 2\n",
    "else a*exp_rapide (exp_rapide a ((n-1)/2)) 2 in\n",
    "exp_rapide 2 4 ;;"
   ]
  },
  {
   "cell_type": "markdown",
   "id": "f299ef52",
   "metadata": {},
   "source": [
    "# Accumulateur\n",
    "\n",
    "On a vu dans le cours sur la récursivité (avec l'exemple de la suite de Fibonacci) qu'un accumulateur est un argument que l'on ajoute à une fonction pour calculer sa valeur de retour.  \n",
    "1. Écrire une fonction `fact` telle que `fact acc n` renvoie `n`!, en utilisant `acc` comme accumulateur. Voici à quoi va ressemble `fact` :\n",
    "```ocaml\n",
    "let rec fact acc n =\n",
    "    if n = 0 then acc  (* on renvoie l'accumulateur qui contient le résultat *)\n",
    "    else fact ... (* appel récursif en modifiant l'accumulateur *)\n",
    "```\n",
    "2. En utilisant `fact` et l'application partielle de fonction, définir `f : int -> int` renvoyant la factorielle d'un entier.\n",
    "\n",
    "**Remarque** : le but ici est juste de vous entraîner à savoir utiliser un accumulateur, qui sont parfois utiles (comme pour la fonction `fibo` du cours). En DS ou concours on évitera d'utiliser un accumulateur lorsqu'il y en a pas besoin (comme pour la fonction `fact`...), car cela rend le code plus compliqué.  "
   ]
  },
  {
   "cell_type": "code",
   "execution_count": 5,
   "id": "5d4408e7-13be-40f0-8443-da9b7d974f0e",
   "metadata": {},
   "outputs": [
    {
     "data": {
      "text/plain": [
       "- : int = 24\n"
      ]
     },
     "execution_count": 5,
     "metadata": {},
     "output_type": "execute_result"
    }
   ],
   "source": [
    "(*1*)\n",
    "\n",
    "let rec fact acc n = \n",
    "if n = 0 then acc \n",
    "else fact (acc*n) (n-1) in\n",
    "\n",
    "(*2*)\n",
    "\n",
    "let f x = fact 1 x in\n",
    "f 4 ;;\n"
   ]
  },
  {
   "cell_type": "markdown",
   "id": "56db1136",
   "metadata": {},
   "source": [
    "## Temps de vol de la suite de Syracuse\n",
    "\n",
    "La suite de Syracuse d'un entier $a$ est définie par :  \n",
    "$$u_0 = a$$\n",
    "$$u_{n+1} =\n",
    "\\begin{cases} \n",
    "     \\frac{u_n}{2}, \\text{si } n \\text{ est pair}\\\\\n",
    "    3u_n + 1, \\text{sinon}\\\\\n",
    "\\end{cases}$$\n",
    "\n",
    "Le temps de vol de $(u_n)_n$ est le plus petit entier $t$ tel que $u_t = 1$.  \n",
    "\n",
    "1. Écrire une fonction récursive `temps_vol` telle que `temps_vol a` renvoie le temps de vol de $(u_n)_n$ (où $u_0 = a$)."
   ]
  },
  {
   "cell_type": "code",
   "execution_count": 35,
   "id": "ae7187d6-d49e-4d0d-a870-ee15e5598c10",
   "metadata": {},
   "outputs": [
    {
     "data": {
      "text/plain": [
       "val syracuse : int -> int -> int = <fun>\n"
      ]
     },
     "execution_count": 35,
     "metadata": {},
     "output_type": "execute_result"
    },
    {
     "data": {
      "text/plain": [
       "- : int = 7\n"
      ]
     },
     "execution_count": 35,
     "metadata": {},
     "output_type": "execute_result"
    }
   ],
   "source": [
    "(*1*)\n",
    "\n",
    "let rec syracuse u n = \n",
    "if n = 0 then u else\n",
    "if u mod 2 = 0 then syracuse (u/2) (n-1)\n",
    "else syracuse (3*u+1) (n-1) ;;\n",
    "\n",
    "let rec temp_vol a i =\n",
    "if syracuse a i = 1 then i \n",
    "else temp_vol a (i+1) in\n",
    "temp_vol 20 0 ;;\n"
   ]
  },
  {
   "cell_type": "markdown",
   "id": "5ce213d3",
   "metadata": {},
   "source": [
    "## Fonctions mutuellement récursives\n",
    "\n",
    "Il est possible de définir simultanément deux fonctions `f` et `g`, dépendant l'une de l'autre avec `and` :\n",
    "```ocaml\n",
    "let rec f x = ... and g y = ... in ...\n",
    "```\n",
    "\n",
    "Écrire deux fonctions `u` et `v` permettant de calculer le $nième$ terme des suites définies par :\n",
    "$$u_0 = 2$$\n",
    "$$v_0 = 3$$\n",
    "$$u_{n + 1} = u_n - u_n v_n$$\n",
    "$$v_{n + 1} = v_n + u_n v_n$$"
   ]
  },
  {
   "cell_type": "code",
   "execution_count": 42,
   "id": "07d722d4-7ccb-4401-b726-45746d0cb565",
   "metadata": {},
   "outputs": [
    {
     "data": {
      "text/plain": [
       "val u : int -> int = <fun>\n",
       "val v : int -> int = <fun>\n"
      ]
     },
     "execution_count": 42,
     "metadata": {},
     "output_type": "execute_result"
    },
    {
     "data": {
      "text/plain": [
       "- : int = 896\n"
      ]
     },
     "execution_count": 42,
     "metadata": {},
     "output_type": "execute_result"
    },
    {
     "data": {
      "text/plain": [
       "- : int = -891\n"
      ]
     },
     "execution_count": 42,
     "metadata": {},
     "output_type": "execute_result"
    }
   ],
   "source": [
    "let rec u n = \n",
    "if n = 0 then 2 \n",
    "else (u (n-1)) - (u (n-1))*(v (n-1))\n",
    "and \n",
    "v n =  \n",
    "if n = 0 then 3\n",
    "else (v (n-1)) + (u (n-1))*(v (n-1)) ;;\n",
    "\n",
    "u 3 ;;\n",
    "v 3 ;;"
   ]
  },
  {
   "cell_type": "markdown",
   "id": "93314856",
   "metadata": {},
   "source": [
    "## Retour sur les tours de Hanoi\n",
    "\n",
    "**Remarque** : le problème des tours de Hanoi a déjà été vu en stage, mais on le refait ici en OCaml. En outre, il est utile de réactiver sa mémoire pour se souvenir des méthodes et il m'arrivera pendant l'année de redonner des exercices déjà posés."
   ]
  },
  {
   "cell_type": "markdown",
   "id": "83ab905e",
   "metadata": {},
   "source": [
    "![](../img/hanoi.png)\n",
    "\n",
    "$n$ disques sont posés sur la tige à gauche. L'objectif est de déplacer tous les disques sur la tige à droite :\n",
    "\n",
    "![](../img/hanoi2.png)\n",
    "\n",
    "Règles du jeu :\n",
    "\n",
    "- On ne peut déplacer qu'un disque à la fois (celui tout en haut), sur une autre tige.\n",
    "- Il est interdit de poser un disque sur un autre plus petit.\n",
    "\n",
    "Exemple de premier déplacement valide :\n",
    "\n",
    "![](../img/hanoi3.png)\n",
    "\n",
    "On souhaite écrire une fonction récursive `hanoi` telle que `hanoi n tige1 tige2` affiche une suite de déplacements (avec des `print_int`) permettant de déplacer $n$ disques depuis `tige1` vers `tige2`. On supposera que les tiges sont numérotées 0, 1, 2 (de gauche à droite).\n",
    "\n",
    "1. Supposons que vous sachiez déplacer $n-1$ disques d'une tige à une autre. Comment déplacer $n$ disques d'une tige à une autre ?\n",
    "2. Écrire `hanoi`."
   ]
  },
  {
   "cell_type": "code",
   "execution_count": 45,
   "id": "03b4d6a7-e21b-4bed-ab21-a039eb8a138e",
   "metadata": {},
   "outputs": [
    {
     "name": "stderr",
     "output_type": "stream",
     "text": [
      "File \"[45]\", line 13, characters 0-33:\n",
      "13 | hanoi (n-1) tige1 tige2 tigeInter ; \n",
      "     ^^^^^^^^^^^^^^^^^^^^^^^^^^^^^^^^^\n",
      "Warning 10: this expression should have type unit.\n",
      "File \"[45]\", line 14, characters 0-21:\n",
      "14 | display n tige1 tige2 ;\n",
      "     ^^^^^^^^^^^^^^^^^^^^^\n",
      "Warning 10: this expression should have type unit.\n",
      "File \"[45]\", line 13, characters 0-33:\n",
      "13 | hanoi (n-1) tige1 tige2 tigeInter ; \n",
      "     ^^^^^^^^^^^^^^^^^^^^^^^^^^^^^^^^^\n",
      "Warning 10: this expression should have type unit.\n",
      "File \"[45]\", line 14, characters 0-21:\n",
      "14 | display n tige1 tige2 ;\n",
      "     ^^^^^^^^^^^^^^^^^^^^^\n",
      "Warning 10: this expression should have type unit.\n"
     ]
    },
    {
     "data": {
      "text/plain": [
       "- : unit * unit * unit * unit * unit * unit * unit * unit =\n",
       "((), (), (), (), (), (), (), ())\n"
      ]
     },
     "execution_count": 45,
     "metadata": {},
     "output_type": "execute_result"
    },
    {
     "name": "stdout",
     "output_type": "stream",
     "text": [
      "30154623703510653160804020105168421421421421421301546237035106531608040201051684214214214214213015462370351065316080402010516842142142142142140201051684214214214214214201051684214214214214214201051684214214214214214201051684214214214214214\n",
      "\n",
      "1\n",
      "0\n",
      "2\n",
      "\n",
      "\n",
      "2\n",
      "0\n",
      "1\n",
      "\n",
      "\n",
      "1\n",
      "2\n",
      "1\n",
      "\n",
      "\n",
      "3\n",
      "0\n",
      "2\n",
      "\n",
      "\n",
      "1\n",
      "1\n",
      "0\n",
      "\n",
      "\n",
      "2\n",
      "1\n",
      "2\n",
      "\n",
      "\n",
      "1\n",
      "0\n",
      "2\n"
     ]
    }
   ],
   "source": [
    "(*1*)\n",
    "(* Si on sait déplacer n-1 disques d'un tige à l'autre, il suffit de placer le n-ième disque sur un tige intermédiaire,\n",
    "de déplacer n-1 disques et enfin de déplacer le n-ième disque. *)\n",
    "\n",
    "(*2*)\n",
    "let display n t1 t2 = \n",
    "print_newline (), print_int t2, print_newline (), print_int t1, print_newline (), print_int n, print_newline (), print_newline ()\n",
    "in\n",
    "\n",
    "let rec hanoi n tige1 tigeInter tige2 = \n",
    "if n=1 then display 1 tige1 tige2\n",
    "else begin \n",
    "hanoi (n-1) tige1 tige2 tigeInter ; \n",
    "display n tige1 tige2 ;\n",
    "hanoi (n-1) tigeInter tige1 tige2\n",
    "end in\n",
    "\n",
    "hanoi 3 0 1 2 ;;"
   ]
  }
 ],
 "metadata": {
  "kernelspec": {
   "display_name": "OCaml default",
   "language": "OCaml",
   "name": "ocaml-jupyter"
  },
  "language_info": {
   "codemirror_mode": "text/x-ocaml",
   "file_extension": ".ml",
   "mimetype": "text/x-ocaml",
   "name": "OCaml",
   "nbconverter_exporter": null,
   "pygments_lexer": "OCaml",
   "version": "4.08.1"
  }
 },
 "nbformat": 4,
 "nbformat_minor": 5
}
