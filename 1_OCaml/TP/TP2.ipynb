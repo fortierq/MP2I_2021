{
 "cells": [
  {
   "cell_type": "markdown",
   "id": "0b8602ac",
   "metadata": {},
   "source": [
    "# TP 2 : récursivité et conditions\n",
    "\n",
    "Dans tout le TP, il est interdit d'utiliser des boucles (pas de `for` ni `while`).\n",
    "\n",
    "Rappel : pensez à tester toutes vos fonctions sur des exemples."
   ]
  },
  {
   "cell_type": "markdown",
   "id": "483ccb0b",
   "metadata": {},
   "source": [
    "## Petites questions\n",
    "\n",
    "1. Définir une fonction `divise` telle que `divise a b` renvoie `true` si  `a` divise `b`, `false` sinon. Il est interdit d'utiliser `if`.\n",
    "2. Définir une fonction récursive `somme` telle que `somme n` renvoie $\\sum_{k=1}^n k^2$.\n",
    "3. Définir une fonction récursive `u` telle que `u n` renvoie $u_n$ définie par :\n",
    "$$u_0 = 42$$\n",
    "$$u_{n} = 3\\sqrt{u_{n - 1}} + 2$$\n",
    "4. Définir une fonction récursive `v` telle que `v a n` renvoie $v_n$ définie par (on fera attention à n'utiliser qu'un appel récursif) :\n",
    "$$v_0 = a$$\n",
    "$$v_{n + 1} = \\frac{1}{2}(v_n + \\frac{a}{v_n})$$\n",
    "5. Calculer `v a n` pour plusieurs valeurs de `a` et de `n` : que peut-on conjecturer sur la limite de $v_n$ ? Optionnel : le démontrer.  \n",
    "6. Soient $a$ et $b$ deux entiers et $q, r$ le quotient et reste de la division euclidienne de $a$ par $b$ ($a = bq + r$). En utilisant le fait que $PGCD(a, b)$ = $PGCD(b, r)$, écrire une fonction `euclide` telle que `euclide a b` renvoie le PGCD de $a$ et $b$."
   ]
  },
  {
   "cell_type": "code",
   "execution_count": 4,
   "id": "b9a47724-a68a-4fc4-a29c-96ed43c413ee",
   "metadata": {},
   "outputs": [
    {
     "data": {
      "text/plain": [
       "val divise : int -> int -> bool = <fun>\n"
      ]
     },
     "execution_count": 4,
     "metadata": {},
     "output_type": "execute_result"
    },
    {
     "data": {
      "text/plain": [
       "- : bool = true\n"
      ]
     },
     "execution_count": 4,
     "metadata": {},
     "output_type": "execute_result"
    },
    {
     "data": {
      "text/plain": [
       "- : bool = false\n"
      ]
     },
     "execution_count": 4,
     "metadata": {},
     "output_type": "execute_result"
    },
    {
     "data": {
      "text/plain": [
       "val somme : int -> int = <fun>\n"
      ]
     },
     "execution_count": 4,
     "metadata": {},
     "output_type": "execute_result"
    },
    {
     "data": {
      "text/plain": [
       "- : int = 14\n"
      ]
     },
     "execution_count": 4,
     "metadata": {},
     "output_type": "execute_result"
    },
    {
     "data": {
      "text/plain": [
       "- : int = 30\n"
      ]
     },
     "execution_count": 4,
     "metadata": {},
     "output_type": "execute_result"
    },
    {
     "data": {
      "text/plain": [
       "- : int = 173880\n"
      ]
     },
     "execution_count": 4,
     "metadata": {},
     "output_type": "execute_result"
    },
    {
     "data": {
      "text/plain": [
       "val u : float -> float = <fun>\n"
      ]
     },
     "execution_count": 4,
     "metadata": {},
     "output_type": "execute_result"
    },
    {
     "data": {
      "text/plain": [
       "- : float = 12.6846584384264904\n"
      ]
     },
     "execution_count": 4,
     "metadata": {},
     "output_type": "execute_result"
    },
    {
     "data": {
      "text/plain": [
       "- : float = 12.7008671897108592\n"
      ]
     },
     "execution_count": 4,
     "metadata": {},
     "output_type": "execute_result"
    },
    {
     "data": {
      "text/plain": [
       "- : float = 12.6846584384264904\n"
      ]
     },
     "execution_count": 4,
     "metadata": {},
     "output_type": "execute_result"
    },
    {
     "data": {
      "text/plain": [
       "val v : float -> float -> float = <fun>\n"
      ]
     },
     "execution_count": 4,
     "metadata": {},
     "output_type": "execute_result"
    },
    {
     "data": {
      "text/plain": [
       "- : float = 2.23606797749979\n"
      ]
     },
     "execution_count": 4,
     "metadata": {},
     "output_type": "execute_result"
    },
    {
     "data": {
      "text/plain": [
       "- : float = 2.82842712474619\n"
      ]
     },
     "execution_count": 4,
     "metadata": {},
     "output_type": "execute_result"
    },
    {
     "data": {
      "text/plain": [
       "- : float = 1.\n"
      ]
     },
     "execution_count": 4,
     "metadata": {},
     "output_type": "execute_result"
    },
    {
     "data": {
      "text/plain": [
       "- : float = 1.\n"
      ]
     },
     "execution_count": 4,
     "metadata": {},
     "output_type": "execute_result"
    },
    {
     "data": {
      "text/plain": [
       "- : float = 1.41421356237309492\n"
      ]
     },
     "execution_count": 4,
     "metadata": {},
     "output_type": "execute_result"
    },
    {
     "data": {
      "text/plain": [
       "val euclide : int -> int -> int = <fun>\n"
      ]
     },
     "execution_count": 4,
     "metadata": {},
     "output_type": "execute_result"
    },
    {
     "data": {
      "text/plain": [
       "- : int = 3\n"
      ]
     },
     "execution_count": 4,
     "metadata": {},
     "output_type": "execute_result"
    }
   ],
   "source": [
    "(*1.*)\n",
    "let divise a b = b mod a = 0 ;;\n",
    "\n",
    "divise 3 90;;\n",
    "divise 4 55;;\n",
    "\n",
    "(*2.*)\n",
    "let rec somme n = if n = 1 then 1 else n*n + somme (n-1) ;;\n",
    "\n",
    "somme 3;;\n",
    "somme 4;;\n",
    "somme 80;;\n",
    "\n",
    "(*3.*)\n",
    "let rec u n = if n < 0.001 then 42.0 else 3.0*.(sqrt (u (n-.1.0)))+.2.0 ;;\n",
    "\n",
    "u 54.0;;\n",
    "u 8.0;;\n",
    "u 6666.0;;\n",
    "\n",
    "(*4.*)\n",
    "let rec v a n =\n",
    "    if n < 0.001 then a\n",
    "    else let p = (v a (n-.1.0)) in ((p +. a/.p)/.2.0) ;;\n",
    "    \n",
    "(*5.*)\n",
    "v 5.0 23.0;;\n",
    "v 8.0 34.0;;\n",
    "v 1.0 1.0;;\n",
    "v 1.0 0.0;;\n",
    "v 2.0 8999.0;;\n",
    "(* Conjecture : lim V(a, n) ; n -> +inf = sqrt(a) *)\n",
    "\n",
    "(*6.*)\n",
    "let rec euclide a b = \n",
    "    if b = 0 then a\n",
    "    else euclide b (a mod b) ;;\n",
    "    \n",
    "euclide 33 21;;"
   ]
  },
  {
   "cell_type": "markdown",
   "id": "f9323ab0",
   "metadata": {},
   "source": [
    "## Exponentiation rapide\n",
    "\n",
    "1. Écrire une fonction récursive `puissance` naïve (c'est à dire très simple) telle que `puissance a n` renvoie $a^n$. Combien effectue t-elle de multiplications (en fonction de n) ?\n",
    "2. Écrire une fonction récursive `exp_rapide` pour calculer $a^n$, en utilisant les relations suivantes :\n",
    "$$ \n",
    "\\begin{cases} \n",
    "a^n = (a^{\\frac{n}{2}})^2 ~~~~~~~~~\\text{si }n\\text{ est pair}\\\\\n",
    "a^{n} = a \\times (a^{\\frac{n-1}{2}})^2 ~~~~~\\text{sinon}\n",
    "\\end{cases}\n",
    "$$\n",
    "**Attention** : pour mettre au carré, utiliser une variable plutôt que faire 2 appels récursifs, ce qui augmenterait beaucoup le nombre d'opérations.  \n",
    "**Remarque** : On montrera plus tard que cette 2ème version demande de l'ordre de $\\ln(n)$ multiplications seulement."
   ]
  },
  {
   "cell_type": "code",
   "execution_count": 5,
   "id": "c74830df-9093-49c7-9b2d-642b763edf0f",
   "metadata": {},
   "outputs": [
    {
     "data": {
      "text/plain": [
       "val puissance : int -> int -> int = <fun>\n"
      ]
     },
     "execution_count": 5,
     "metadata": {},
     "output_type": "execute_result"
    },
    {
     "data": {
      "text/plain": [
       "- : int = 9\n"
      ]
     },
     "execution_count": 5,
     "metadata": {},
     "output_type": "execute_result"
    },
    {
     "data": {
      "text/plain": [
       "val exp_rapide : int -> int -> int = <fun>\n"
      ]
     },
     "execution_count": 5,
     "metadata": {},
     "output_type": "execute_result"
    },
    {
     "data": {
      "text/plain": [
       "- : int = 1099511627776\n"
      ]
     },
     "execution_count": 5,
     "metadata": {},
     "output_type": "execute_result"
    },
    {
     "data": {
      "text/plain": [
       "- : int = 64\n"
      ]
     },
     "execution_count": 5,
     "metadata": {},
     "output_type": "execute_result"
    }
   ],
   "source": [
    "let rec puissance a n =\n",
    "    if n = 0 then 1\n",
    "    else a * puissance a (n - 1);;\n",
    "    \n",
    "puissance 3 2\n",
    "(* Cette fonction récursive effectue n multiplications *)\n",
    "\n",
    "let rec exp_rapide a n =\n",
    "    if n = 0 then 1\n",
    "    else if n mod 2 = 0 then (exp_rapide a (n/2))*(exp_rapide a (n/2))\n",
    "    else a * (exp_rapide a ((n - 1) / 2))*(exp_rapide a ((n - 1) / 2)) ;;\n",
    "    \n",
    "exp_rapide 4 20;;\n",
    "exp_rapide 2 6;;"
   ]
  },
  {
   "cell_type": "markdown",
   "id": "1dba41b0",
   "metadata": {},
   "source": [
    "# Accumulateur\n",
    "\n",
    "On a vu dans le cours sur la récursivité (avec l'exemple de la suite de Fibonacci) qu'un accumulateur est un argument que l'on ajoute à une fonction pour calculer sa valeur de retour.  \n",
    "1. Écrire une fonction `fact` telle que `fact acc n` renvoie `n`!, en utilisant `acc` comme accumulateur. Voici à quoi va ressemble `fact` :\n",
    "```ocaml\n",
    "let rec fact acc n =\n",
    "    if n = 0 then acc  (* on renvoie l'accumulateur qui contient le résultat *)\n",
    "    else fact ... (* appel récursif en modifiant l'accumulateur *)\n",
    "```\n",
    "2. En utilisant `fact` et l'application partielle de fonction, définir `f : int -> int` renvoyant la factoielle d'un entier.\n",
    "\n",
    "**Remarque** : le but ici est juste de vous entraîner à savoir utiliser un accumulateur, qui sont parfois utiles (comme pour la fonction `fibo` du cours). En DS ou concours on évitera d'utiliser un accumulateur lorsqu'il y en a pas besoin (comme pour la fonction `fact`...), car cela rend le code plus compliqué.  "
   ]
  },
  {
   "cell_type": "code",
   "execution_count": 2,
   "id": "f75fb23b-39eb-4085-b35d-b7cadec1d675",
   "metadata": {},
   "outputs": [
    {
     "data": {
      "text/plain": [
       "val fact : int -> int -> int = <fun>\n"
      ]
     },
     "execution_count": 2,
     "metadata": {},
     "output_type": "execute_result"
    },
    {
     "data": {
      "text/plain": [
       "val fact_entier : int -> int = <fun>\n"
      ]
     },
     "execution_count": 2,
     "metadata": {},
     "output_type": "execute_result"
    },
    {
     "data": {
      "text/plain": [
       "- : int = 720\n"
      ]
     },
     "execution_count": 2,
     "metadata": {},
     "output_type": "execute_result"
    }
   ],
   "source": [
    "(*1.*)\n",
    "let rec fact acc n =\n",
    "    if n = 0 then acc\n",
    "    else fact (acc*n) (n-1);;\n",
    "    \n",
    "(*2.*)\n",
    "let rec fact_entier n = fact 1 n;;\n",
    "\n",
    "fact_entier 6;;"
   ]
  },
  {
   "cell_type": "markdown",
   "id": "3ce1d3dc",
   "metadata": {},
   "source": [
    "## Temps de vol de la suite de Syracuse\n",
    "\n",
    "La suite de Syracuse d'un entier $a$ est définie par :  \n",
    "$$u_0 = a$$\n",
    "$$u_{n+1} =\n",
    "\\begin{cases} \n",
    "     \\frac{u_n}{2}, \\text{si } u_n \\text{ est pair}\\\\\n",
    "    3u_n + 1, \\text{sinon}\\\\\n",
    "\\end{cases}$$\n",
    "\n",
    "Le temps de vol de $(u_n)_n$ est le plus petit entier $t$ tel que $u_t = 1$.  \n",
    "\n",
    "1. Écrire une fonction récursive `temps_vol` telle que `temps_vol a` renvoie le temps de vol de $(u_n)_n$ (où $u_0 = a$)."
   ]
  },
  {
   "cell_type": "code",
   "execution_count": 12,
   "id": "5cb8338e-268a-4bbb-abdf-8898782f562b",
   "metadata": {},
   "outputs": [
    {
     "data": {
      "text/plain": [
       "val temps_vol : int -> int = <fun>\n"
      ]
     },
     "execution_count": 12,
     "metadata": {},
     "output_type": "execute_result"
    },
    {
     "data": {
      "text/plain": [
       "- : int = 25\n"
      ]
     },
     "execution_count": 12,
     "metadata": {},
     "output_type": "execute_result"
    }
   ],
   "source": [
    "(*1.*)\n",
    "let rec temps_vol a =\n",
    "    if a = 1 then 0\n",
    "    else if a mod 2 = 0 then temps_vol (a/2)+1 else temps_vol (3*a+1)+1 ;;\n",
    "    \n",
    "temps_vol 99;;"
   ]
  },
  {
   "cell_type": "markdown",
   "id": "da47237d",
   "metadata": {},
   "source": [
    "## Fonction mystérieuse\n",
    "\n",
    "Tester la fonction suivante pour des $n$ entre $0$ et $100$, conjecturer un théorème et prouvez-le par récurrence."
   ]
  },
  {
   "cell_type": "code",
   "execution_count": 1,
   "id": "1c7692d4",
   "metadata": {
    "execution": {
     "iopub.execute_input": "2021-09-16T14:04:22.236899Z",
     "iopub.status.busy": "2021-09-16T14:04:22.236336Z",
     "iopub.status.idle": "2021-09-16T14:04:22.239838Z",
     "shell.execute_reply": "2021-09-16T14:04:22.240266Z"
    }
   },
   "outputs": [
    {
     "data": {
      "text/plain": [
       "val f : int -> int = <fun>\n"
      ]
     },
     "execution_count": 1,
     "metadata": {},
     "output_type": "execute_result"
    }
   ],
   "source": [
    "let rec f n =\n",
    "    if n > 100 then n - 10 \n",
    "    else f (f (n + 11)) ;;\n",
    "    \n",
    "(* Exercice non à faire car déjà étudié en cours de mathématiques. *)"
   ]
  },
  {
   "cell_type": "markdown",
   "id": "256f5cdb",
   "metadata": {},
   "source": [
    "## Fonctions mutuellement récursives\n",
    "\n",
    "Il est possible de définir simultanément deux fonctions `f` et `g`, dépendant l'une de l'autre avec `and` :\n",
    "```ocaml\n",
    "let rec f x = ... and g y = ... in ...\n",
    "```\n",
    "\n",
    "Écrire deux fonctions `u` et `v` permettant de calculer le $n$ième terme des suites définies par :\n",
    "$$u_0 = 2$$\n",
    "$$v_0 = 3$$\n",
    "$$u_{n + 1} = u_n - u_n v_n$$\n",
    "$$v_{n + 1} = v_n + u_n v_n$$"
   ]
  },
  {
   "cell_type": "code",
   "execution_count": 7,
   "id": "49d34756-1148-4da0-a34a-2fc38bdfa3ee",
   "metadata": {},
   "outputs": [
    {
     "data": {
      "text/plain": [
       "val u : int -> int = <fun>\n",
       "val v : int -> int = <fun>\n"
      ]
     },
     "execution_count": 7,
     "metadata": {},
     "output_type": "execute_result"
    },
    {
     "data": {
      "text/plain": [
       "- : int = -256\n"
      ]
     },
     "execution_count": 7,
     "metadata": {},
     "output_type": "execute_result"
    },
    {
     "data": {
      "text/plain": [
       "- : int = -3\n"
      ]
     },
     "execution_count": 7,
     "metadata": {},
     "output_type": "execute_result"
    }
   ],
   "source": [
    "let rec u n = if n = 0 then 2 else ((u (n-1))*(1-(v (n-1)))) and v n = if n = 0 then 3 else ((v (n-1))*(1-(u (n-1)))) ;;\n",
    "\n",
    "u 3;;\n",
    "v 1;;"
   ]
  },
  {
   "cell_type": "markdown",
   "id": "633fff0c",
   "metadata": {},
   "source": [
    "## Retour sur les tours de Hanoi\n",
    "\n",
    "**Remarque** : le problème des tours de Hanoi a déjà été vu en stage, mais on le refait ici en OCaml. En outre, il est utile de réactiver sa mémoire pour se souvenir des méthodes et il m'arrivera pendant l'année de redonner des exercices déjà posés."
   ]
  },
  {
   "cell_type": "markdown",
   "id": "b3da91d9",
   "metadata": {},
   "source": [
    "![](../img/hanoi.png)\n",
    "\n",
    "$n$ disques sont posés sur la tige à gauche. L'objectif est de déplacer tous les disques sur la tige à droite :\n",
    "\n",
    "![](../img/hanoi2.png)\n",
    "\n",
    "Règles du jeu :\n",
    "\n",
    "- On ne peut déplacer qu'un disque à la fois (celui tout en haut), sur une autre tige.\n",
    "- Il est interdit de poser un disque sur un autre plus petit.\n",
    "\n",
    "Exemple de premier déplacement valide :\n",
    "\n",
    "![](../img/hanoi3.png)\n",
    "\n",
    "On souhaite écrire une fonction récursive `hanoi` telle que `hanoi n tige1 tige2` affiche une suite de déplacements (avec des `print_int`) permettant de déplacer $n$ disques depuis `tige1` vers `tige2`. On supposera que les tiges sont numérotées 0, 1, 2 (de gauche à droite).\n",
    "\n",
    "1. Supposons que vous sachiez déplacer $n-1$ disques d'une tige à une autre. Comment déplacer $n$ disques d'une tige à une autre ?\n",
    "2. Écrire `hanoi`."
   ]
  },
  {
   "cell_type": "code",
   "execution_count": 18,
   "id": "4179b5e9-9bfe-4196-9068-5f16081c78ae",
   "metadata": {},
   "outputs": [
    {
     "data": {
      "text/plain": [
       "val hanoi : int -> int -> int -> int -> unit = <fun>\n"
      ]
     },
     "execution_count": 18,
     "metadata": {},
     "output_type": "execute_result"
    },
    {
     "name": "stdout",
     "output_type": "stream",
     "text": [
      "1 -> 3\n",
      "1 -> 3\n",
      "2 -> 3\n",
      "1 -> 2\n",
      "3 -> 1\n",
      "3 -> 1\n",
      "2 -> 1\n",
      "1 -> 3\n",
      "2 -> 3\n",
      "2 -> 3\n",
      "1 -> 3\n",
      "2 -> 1\n",
      "3 -> 2\n",
      "3 -> 2\n",
      "1 -> 2\n",
      "1 -> 2\n",
      "3 -> 1\n",
      "3 -> 1\n"
     ]
    },
    {
     "data": {
      "text/plain": [
       "- : unit = ()\n"
      ]
     },
     "execution_count": 18,
     "metadata": {},
     "output_type": "execute_result"
    },
    {
     "name": "stdout",
     "output_type": "stream",
     "text": [
      "2 -> 1\n",
      "3 -> 2\n",
      "1 -> 3\n",
      "1 -> 3\n",
      "2 -> 3\n",
      "3 -> 1\n",
      "2 -> 1\n",
      "2 -> 1\n",
      "3 -> 1\n",
      "2 -> 3\n",
      "1 -> 2\n",
      "1 -> 2\n",
      "3 -> 2\n",
      "1 -> 3\n",
      "2 -> 3\n",
      "2 -> 3\n",
      "1 -> 3\n",
      "2 -> 1\n",
      "3 -> 2\n",
      "3 -> 2\n",
      "1 -> 2\n",
      "2 -> 3\n",
      "1 -> 3\n",
      "1 -> 3\n",
      "2 -> 3\n",
      "1 -> 2\n",
      "3 -> 1\n",
      "3 -> 1\n",
      "2 -> 1\n",
      "2 -> 1\n",
      "3 -> 2\n",
      "3 -> 2\n",
      "1 -> 2\n",
      "3 -> 1\n",
      "2 -> 3\n",
      "2 -> 3\n",
      "1 -> 3\n",
      "3 -> 2\n",
      "1 -> 2\n",
      "1 -> 2\n",
      "3 -> 2\n",
      "1 -> 3\n",
      "2 -> 1\n",
      "2 -> 1\n",
      "3 -> 1\n",
      "1 -> 2\n",
      "3 -> 1\n",
      "3 -> 1\n",
      "2 -> 1\n",
      "3 -> 2\n",
      "1 -> 3\n",
      "1 -> 3\n",
      "2 -> 3\n",
      "3 -> 1\n",
      "2 -> 1\n",
      "2 -> 1\n",
      "3 -> 1\n",
      "2 -> 3\n",
      "1 -> 2\n",
      "1 -> 2\n",
      "3 -> 2\n",
      "3 -> 2\n",
      "1 -> 3\n",
      "1 -> 3\n",
      "2 -> 3\n",
      "1 -> 2\n",
      "3 -> 1\n",
      "3 -> 1\n",
      "2 -> 1\n",
      "1 -> 3\n",
      "2 -> 3\n",
      "2 -> 3\n",
      "1 -> 3\n",
      "2 -> 1\n",
      "3 -> 2\n",
      "3 -> 2\n",
      "1 -> 2\n",
      "3 -> 1\n",
      "2 -> 1\n",
      "2 -> 1\n",
      "3 -> 1\n",
      "2 -> 3\n",
      "1 -> 2\n",
      "1 -> 2\n",
      "3 -> 2\n",
      "2 -> 1\n",
      "3 -> 1\n",
      "3 -> 1\n",
      "2 -> 1\n",
      "3 -> 2\n",
      "1 -> 3\n",
      "1 -> 3\n",
      "2 -> 3\n",
      "2 -> 3\n",
      "1 -> 2\n",
      "1 -> 2\n",
      "3 -> 2\n",
      "1 -> 3\n",
      "2 -> 1\n",
      "2 -> 1\n",
      "3 -> 1\n",
      "1 -> 2\n",
      "3 -> 2\n",
      "3 -> 2\n",
      "1 -> 2\n",
      "3 -> 1\n",
      "2 -> 3\n",
      "2 -> 3\n",
      "1 -> 3\n",
      "1 -> 3\n",
      "2 -> 3\n",
      "2 -> 3\n",
      "1 -> 3\n",
      "2 -> 1\n",
      "3 -> 2\n",
      "3 -> 2\n",
      "1 -> 2\n",
      "2 -> 3\n",
      "1 -> 3\n",
      "1 -> 3\n",
      "2 -> 3\n",
      "1 -> 2\n",
      "3 -> 1\n",
      "3 -> 1\n",
      "2 -> 1\n",
      "2 -> 1\n",
      "3 -> 2\n",
      "3 -> 2\n",
      "1 -> 2\n",
      "3 -> 1\n",
      "2 -> 3\n",
      "2 -> 3\n",
      "1 -> 3\n",
      "3 -> 2\n",
      "1 -> 2\n",
      "1 -> 2\n",
      "3 -> 2\n",
      "1 -> 3\n",
      "2 -> 1\n",
      "2 -> 1\n",
      "3 -> 1\n",
      "2 -> 3\n",
      "1 -> 3\n",
      "1 -> 3\n",
      "2 -> 3\n",
      "1 -> 2\n",
      "3 -> 1\n",
      "3 -> 1\n",
      "2 -> 1\n",
      "1 -> 3\n",
      "2 -> 3\n",
      "2 -> 3\n",
      "1 -> 3\n",
      "2 -> 1\n",
      "3 -> 2\n",
      "3 -> 2\n",
      "1 -> 2\n",
      "1 -> 2\n",
      "3 -> 1\n",
      "3 -> 1\n",
      "2 -> 1\n",
      "3 -> 2\n",
      "1 -> 3\n",
      "1 -> 3\n",
      "2 -> 3\n",
      "3 -> 1\n",
      "2 -> 1\n",
      "2 -> 1\n",
      "3 -> 1\n",
      "2 -> 3\n",
      "1 -> 2\n",
      "1 -> 2\n",
      "3 -> 2\n",
      "2 -> 1\n",
      "3 -> 2\n",
      "3 -> 2\n",
      "1 -> 2\n",
      "3 -> 1\n",
      "2 -> 3\n",
      "2 -> 3\n",
      "1 -> 3\n",
      "3 -> 2\n",
      "1 -> 2\n",
      "1 -> 2\n",
      "3 -> 2\n",
      "1 -> 3\n",
      "2 -> 1\n",
      "2 -> 1\n",
      "3 -> 1\n",
      "3 -> 1\n",
      "2 -> 3\n",
      "2 -> 3\n",
      "1 -> 3\n",
      "2 -> 1\n",
      "3 -> 2\n",
      "3 -> 2\n",
      "1 -> 2\n",
      "2 -> 3\n",
      "1 -> 3\n",
      "1 -> 3\n",
      "2 -> 3\n",
      "1 -> 2\n",
      "3 -> 1\n",
      "3 -> 1\n",
      "2 -> 1\n",
      "3 -> 2\n",
      "1 -> 2\n",
      "1 -> 2\n",
      "3 -> 2\n",
      "1 -> 3\n",
      "2 -> 1\n",
      "2 -> 1\n",
      "3 -> 1\n",
      "1 -> 2\n",
      "3 -> 2\n",
      "3 -> 2\n",
      "1 -> 2\n",
      "3 -> 1\n",
      "2 -> 3\n",
      "2 -> 3\n",
      "1 -> 3\n",
      "1 -> 3\n",
      "2 -> 1\n",
      "2 -> 1\n",
      "3 -> 1\n",
      "2 -> 3\n",
      "1 -> 2\n",
      "1 -> 2\n",
      "3 -> 2\n",
      "2 -> 1\n",
      "3 -> 1\n",
      "3 -> 1\n",
      "2 -> 1\n",
      "3 -> 2\n",
      "1 -> 3\n",
      "1 -> 3\n",
      "2 -> 3\n"
     ]
    }
   ],
   "source": [
    "(*1.\n",
    "Si l'on peut déplacer n-1 disques d'une tige A à une tige B alors il reste une tige C libre. \n",
    "Ainsi on peut déplacer le dernier disque resté sur A vers B. \n",
    "Comme nous pouvons déplacer n-1 disques, on déplace tout les disques de C vers B (donc n-1 disques).\n",
    "Ainsi nous avons déplacé n disques de A vers B. *)\n",
    "\n",
    "(*2.*)\n",
    "\n",
    "let rec hanoi n tige1 tige2 tigeT =\n",
    "    if n < 2 then\n",
    "        (print_int tige1;\n",
    "        print_string \" -> \";\n",
    "        print_int tige2;\n",
    "        print_newline ())\n",
    "    else\n",
    "        (hanoi (n-1) tige1 tigeT tige2;\n",
    "        print_int tige1;\n",
    "        print_string \" -> \";\n",
    "        print_int tigeT;\n",
    "        print_newline ();\n",
    "        (hanoi (n-1) tige2 tigeT tige1)) ;;\n",
    "        \n",
    "hanoi 8 1 2 3;;"
   ]
  },
  {
   "cell_type": "code",
   "execution_count": null,
   "id": "a28ff20f-93fd-45af-ad7b-f89624fb74c2",
   "metadata": {},
   "outputs": [],
   "source": []
  }
 ],
 "metadata": {
  "kernelspec": {
   "display_name": "OCaml default",
   "language": "OCaml",
   "name": "ocaml-jupyter"
  },
  "language_info": {
   "codemirror_mode": "text/x-ocaml",
   "file_extension": ".ml",
   "mimetype": "text/x-ocaml",
   "name": "OCaml",
   "nbconverter_exporter": null,
   "pygments_lexer": "OCaml",
   "version": "4.08.1"
  }
 },
 "nbformat": 4,
 "nbformat_minor": 5
}
