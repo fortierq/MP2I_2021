{
 "cells": [
  {
   "cell_type": "markdown",
   "id": "5d6a2457",
   "metadata": {},
   "source": [
    "# TP 2 : récursivité et conditions\n",
    "\n",
    "Dans tout le TP, il est interdit d'utiliser des boucles (pas de `for` ni `while`).\n",
    "\n",
    "Rappel : pensez à tester toutes vos fonctions sur des exemples."
   ]
  },
  {
   "cell_type": "markdown",
   "id": "42f52927",
   "metadata": {},
   "source": [
    "## Petites questions\n",
    "\n",
    "1. Définir une fonction `divise` telle que `divise a b` renvoie `true` si  `a` divise `b`, `false` sinon. Il est interdit d'utiliser `if`.\n",
    "2. Définir une fonction récursive `somme` telle que `somme n` renvoie $\\sum_{k=1}^n k^2$.\n",
    "3. Définir une fonction récursive `u` telle que `u n` renvoie $u_n$ définie par :\n",
    "$$u_0 = 42$$\n",
    "$$u_{n} = 3\\sqrt{u_{n - 1}} + 2$$\n",
    "4. Définir une fonction récursive `v` telle que `v a n` renvoie $v_n$ définie par (on fera attention à n'utiliser qu'un appel récursif) :\n",
    "$$v_0 = a$$\n",
    "$$v_{n + 1} = \\frac{1}{2}(v_n + \\frac{a}{v_n})$$\n",
    "5. Calculer `v a n` pour plusieurs valeurs de `a` et de `n` : que peut-on conjecturer sur la limite de $v_n$ ? Optionnel : le démontrer.  \n",
    "6. Soient $a$ et $b$ deux entiers et $q, r$ le quotient et reste de la division euclidienne de $a$ par $b$ ($a = bq + r$). En utilisant le fait que $PGCD(a, b)$ = $PGCD(b, r)$, écrire une fonction `euclide` telle que `euclide a b` renvoie le PGCD de $a$ et $b$."
   ]
  },
  {
   "cell_type": "code",
   "execution_count": 6,
   "id": "08b58e24-3a63-4dca-b6a5-8d5ff3bc2d6a",
   "metadata": {},
   "outputs": [
    {
     "data": {
      "text/plain": [
       "val divise : int -> int -> bool = <fun>\n"
      ]
     },
     "execution_count": 6,
     "metadata": {},
     "output_type": "execute_result"
    },
    {
     "data": {
      "text/plain": [
       "- : bool = true\n"
      ]
     },
     "execution_count": 6,
     "metadata": {},
     "output_type": "execute_result"
    }
   ],
   "source": [
    "let divise a b =\n",
    "    b mod a = 0;;\n",
    "divise 2 4"
   ]
  },
  {
   "cell_type": "code",
   "execution_count": 12,
   "id": "e78f2974-dd0e-406e-80b3-fa89982d3619",
   "metadata": {},
   "outputs": [
    {
     "data": {
      "text/plain": [
       "val somme : float -> float = <fun>\n"
      ]
     },
     "execution_count": 12,
     "metadata": {},
     "output_type": "execute_result"
    },
    {
     "data": {
      "text/plain": [
       "- : float = 14.\n"
      ]
     },
     "execution_count": 12,
     "metadata": {},
     "output_type": "execute_result"
    }
   ],
   "source": [
    "let rec somme n =\n",
    "    if n = 0. then 0.\n",
    "    else (n**2.)+.somme(n-.1.);;\n",
    "somme 3."
   ]
  },
  {
   "cell_type": "code",
   "execution_count": 11,
   "id": "7c7dbed0-d568-4fff-8b74-04be576c7468",
   "metadata": {},
   "outputs": [
    {
     "data": {
      "text/plain": [
       "val u : float -> float = <fun>\n"
      ]
     },
     "execution_count": 11,
     "metadata": {},
     "output_type": "execute_result"
    },
    {
     "data": {
      "text/plain": [
       "- : float = 13.9593276159321622\n"
      ]
     },
     "execution_count": 11,
     "metadata": {},
     "output_type": "execute_result"
    }
   ],
   "source": [
    "let rec u n =\n",
    "    if n = 0. then 42.\n",
    "    else 3.*.sqrt(u(n-.1.))+.2.;;\n",
    "u 3."
   ]
  },
  {
   "cell_type": "code",
   "execution_count": 14,
   "id": "3d4fc2bf-fec1-4eda-8a23-99f7ab4d00a5",
   "metadata": {},
   "outputs": [
    {
     "data": {
      "text/plain": [
       "val v : float -> float -> float = <fun>\n"
      ]
     },
     "execution_count": 14,
     "metadata": {},
     "output_type": "execute_result"
    },
    {
     "data": {
      "text/plain": [
       "- : float = 2.\n"
      ]
     },
     "execution_count": 14,
     "metadata": {},
     "output_type": "execute_result"
    }
   ],
   "source": [
    "let rec v a n =\n",
    "    if n = 0. then a\n",
    "    else 0.5*.((v a (n-.1.))+.(a/.(v a (n-.1.))));;\n",
    "v 4. 10."
   ]
  },
  {
   "cell_type": "code",
   "execution_count": null,
   "id": "6b809f8b-77ce-4089-a96d-583d37f9beec",
   "metadata": {},
   "outputs": [],
   "source": [
    "(*La limite de Vn est la racine carrée de l'argument \"a\" (Par exemple, pour a = 4., la limite de la suite tend vers 2.)*)"
   ]
  },
  {
   "cell_type": "code",
   "execution_count": 3,
   "id": "2d088dea-9711-4713-ab5a-d7c3a7ccaaf1",
   "metadata": {},
   "outputs": [
    {
     "data": {
      "text/plain": [
       "val euclide : int -> int -> int = <fun>\n"
      ]
     },
     "execution_count": 3,
     "metadata": {},
     "output_type": "execute_result"
    },
    {
     "data": {
      "text/plain": [
       "- : int = 3\n"
      ]
     },
     "execution_count": 3,
     "metadata": {},
     "output_type": "execute_result"
    }
   ],
   "source": [
    "let rec euclide a b =\n",
    "  if a>=b then (if b = 0 then a else euclide b (a mod b))\n",
    "  else euclide b a;;\n",
    "euclide 12 3"
   ]
  },
  {
   "cell_type": "markdown",
   "id": "f3090bf7-4c15-4af5-b399-c974afac44bb",
   "metadata": {},
   "source": [
    "## Exponentiation rapide\n",
    "\n",
    "1. Écrire une fonction récursive `puissance` naïve (c'est à dire très simple) telle que `puissance a n` renvoie $a^n$. Combien effectue t-elle de multiplications (en fonction de n) ?\n",
    "2. Écrire une fonction récursive `exp_rapide` pour calculer $a^n$, en utilisant les relations suivantes :\n",
    "$$ \n",
    "\\begin{cases} \n",
    "a^n = (a^{\\frac{n}{2}})^2 ~~~~~~~~~\\text{si }n\\text{ est pair}\\\\\n",
    "a^{n} = a \\times (a^{\\frac{n-1}{2}})^2 ~~~~~\\text{sinon}\n",
    "\\end{cases}\n",
    "$$\n",
    "**Attention** : pour mettre au carré, utiliser une variable plutôt que faire 2 appels récursifs, ce qui augmenterait beaucoup le nombre d'opérations.  \n",
    "**Remarque** : On montrera plus tard que cette 2ème version demande de l'ordre de $\\ln(n)$ multiplications seulement."
   ]
  },
  {
   "cell_type": "code",
   "execution_count": 51,
   "id": "020037ca-55e6-43ec-bc87-d714f8fdb490",
   "metadata": {},
   "outputs": [
    {
     "data": {
      "text/plain": [
       "val puissance : float -> float -> float = <fun>\n"
      ]
     },
     "execution_count": 51,
     "metadata": {},
     "output_type": "execute_result"
    },
    {
     "data": {
      "text/plain": [
       "- : float = 1024.\n"
      ]
     },
     "execution_count": 51,
     "metadata": {},
     "output_type": "execute_result"
    }
   ],
   "source": [
    "let rec puissance a n =\n",
    "    if n = 0. then 1.\n",
    "    else a*.(puissance a (n-.1.));;\n",
    "puissance 2. 10."
   ]
  },
  {
   "cell_type": "code",
   "execution_count": 4,
   "id": "27da7c45-f4c6-4559-bdd3-85cf4f61430c",
   "metadata": {},
   "outputs": [],
   "source": [
    "(* La fonction effectue n-1 multiplications*)"
   ]
  },
  {
   "cell_type": "code",
   "execution_count": 3,
   "id": "e24257fd-1201-44a3-a392-809d092f5a94",
   "metadata": {},
   "outputs": [
    {
     "data": {
      "text/plain": [
       "val exp_rapide : float -> int -> float = <fun>\n"
      ]
     },
     "execution_count": 3,
     "metadata": {},
     "output_type": "execute_result"
    }
   ],
   "source": [
    "let rec exp_rapide a n =\n",
    "    if n = 0 then 1.\n",
    "    else if n mod 2 = 0\n",
    "    then (exp_rapide a (n/2))**2.\n",
    "    else a*.(exp_rapide a ((n-1)/2))**2.;;"
   ]
  },
  {
   "cell_type": "code",
   "execution_count": 2,
   "id": "b2dd3af3-93fd-42dc-a9ba-b4e5da83f5ab",
   "metadata": {},
   "outputs": [
    {
     "data": {
      "text/plain": [
       "- : float = 1024.\n"
      ]
     },
     "execution_count": 2,
     "metadata": {},
     "output_type": "execute_result"
    }
   ],
   "source": [
    "exp_rapide 2. 10"
   ]
  },
  {
   "cell_type": "markdown",
   "id": "f299ef52",
   "metadata": {},
   "source": [
    "# Accumulateur\n",
    "\n",
    "On a vu dans le cours sur la récursivité (avec l'exemple de la suite de Fibonacci) qu'un accumulateur est un argument que l'on ajoute à une fonction pour calculer sa valeur de retour.  \n",
    "1. Écrire une fonction `fact` telle que `fact acc n` renvoie `n`!, en utilisant `acc` comme accumulateur. Voici à quoi va ressemble `fact` :\n",
    "```ocaml\n",
    "let rec fact acc n =\n",
    "    if n = 0 then acc  (* on renvoie l'accumulateur qui contient le résultat *)\n",
    "    else fact ... (* appel récursif en modifiant l'accumulateur *)\n",
    "```\n",
    "2. En utilisant `fact` et l'application partielle de fonction, définir `f : int -> int` renvoyant la factoielle d'un entier.\n",
    "\n",
    "**Remarque** : le but ici est juste de vous entraîner à savoir utiliser un accumulateur, qui sont parfois utiles (comme pour la fonction `fibo` du cours). En DS ou concours on évitera d'utiliser un accumulateur lorsqu'il y en a pas besoin (comme pour la fonction `fact`...), car cela rend le code plus compliqué.  "
   ]
  },
  {
   "cell_type": "code",
   "execution_count": 37,
   "id": "e948fe6d-410e-49c6-b409-3caa8fcdf51e",
   "metadata": {},
   "outputs": [
    {
     "data": {
      "text/plain": [
       "val fact : int -> int -> int = <fun>\n"
      ]
     },
     "execution_count": 37,
     "metadata": {},
     "output_type": "execute_result"
    }
   ],
   "source": [
    "let rec fact acc n =\n",
    "    if n = 0 then acc\n",
    "    else fact (acc*n) (n-1);;"
   ]
  },
  {
   "cell_type": "code",
   "execution_count": 39,
   "id": "ded341fe-548f-4e99-bf46-34b9b393e9a2",
   "metadata": {},
   "outputs": [
    {
     "data": {
      "text/plain": [
       "- : int = 120\n"
      ]
     },
     "execution_count": 39,
     "metadata": {},
     "output_type": "execute_result"
    }
   ],
   "source": [
    "fact 1 5"
   ]
  },
  {
   "cell_type": "code",
   "execution_count": 40,
   "id": "6052d931-d43d-4020-852c-9075c8b8b195",
   "metadata": {},
   "outputs": [
    {
     "data": {
      "text/plain": [
       "val f : int -> int = <fun>\n"
      ]
     },
     "execution_count": 40,
     "metadata": {},
     "output_type": "execute_result"
    }
   ],
   "source": [
    "let f =\n",
    "    fact 1;;"
   ]
  },
  {
   "cell_type": "code",
   "execution_count": 42,
   "id": "6e986c62-6b91-4e92-92a7-c1d61208ec77",
   "metadata": {},
   "outputs": [
    {
     "data": {
      "text/plain": [
       "- : int = 120\n"
      ]
     },
     "execution_count": 42,
     "metadata": {},
     "output_type": "execute_result"
    }
   ],
   "source": [
    "f 5"
   ]
  },
  {
   "cell_type": "markdown",
   "id": "56db1136",
   "metadata": {},
   "source": [
    "## Temps de vol de la suite de Syracuse\n",
    "\n",
    "La suite de Syracuse d'un entier $a$ est définie par :  \n",
    "$$u_0 = a$$\n",
    "$$u_{n+1} =\n",
    "\\begin{cases} \n",
    "     \\frac{u_n}{2}, \\text{si } n \\text{ est pair}\\\\\n",
    "    3u_n + 1, \\text{sinon}\\\\\n",
    "\\end{cases}$$\n",
    "\n",
    "Le temps de vol de $(u_n)_n$ est le plus petit entier $t$ tel que $u_t = 1$.  \n",
    "\n",
    "1. Écrire une fonction récursive `temps_vol` telle que `temps_vol a` renvoie le temps de vol de $(u_n)_n$ (où $u_0 = a$)."
   ]
  },
  {
   "cell_type": "code",
   "execution_count": 2,
   "id": "76c0ce05-5d1a-4a13-b746-6c3085658c21",
   "metadata": {},
   "outputs": [
    {
     "data": {
      "text/plain": [
       "val temps_vol : int -> int = <fun>\n"
      ]
     },
     "execution_count": 2,
     "metadata": {},
     "output_type": "execute_result"
    }
   ],
   "source": [
    "let rec temps_vol a =\n",
    "    if a = 1 then a\n",
    "    else if a mod 2 = 0\n",
    "    then temps_vol (a/2)\n",
    "    else temps_vol ((3*a)+1)"
   ]
  },
  {
   "cell_type": "code",
   "execution_count": 3,
   "id": "eda655ca-6c3d-432d-b8ae-ae7c5eb5ed3f",
   "metadata": {},
   "outputs": [
    {
     "data": {
      "text/plain": [
       "- : int = 1\n"
      ]
     },
     "execution_count": 3,
     "metadata": {},
     "output_type": "execute_result"
    }
   ],
   "source": [
    "temps_vol 3"
   ]
  },
  {
   "cell_type": "markdown",
   "id": "c0cc5d04",
   "metadata": {},
   "source": [
    "## Fonction mystérieuse\n",
    "\n",
    "Tester la fonction suivante, conjecturer un théorème et prouvez-le par récurrence."
   ]
  },
  {
   "cell_type": "code",
   "execution_count": 1,
   "id": "baa1edde",
   "metadata": {
    "execution": {
     "iopub.execute_input": "2021-09-13T10:03:41.285512Z",
     "iopub.status.busy": "2021-09-13T10:03:41.284797Z",
     "iopub.status.idle": "2021-09-13T10:03:41.287023Z",
     "shell.execute_reply": "2021-09-13T10:03:41.287525Z"
    }
   },
   "outputs": [
    {
     "data": {
      "text/plain": [
       "val f : int -> int = <fun>\n"
      ]
     },
     "execution_count": 1,
     "metadata": {},
     "output_type": "execute_result"
    }
   ],
   "source": [
    "let rec f n =\n",
    "    if n > 100 then n - 10 \n",
    "    else f (f (n + 11)) ;;"
   ]
  },
  {
   "cell_type": "code",
   "execution_count": 53,
   "id": "97919894-836a-43eb-9161-a7df1e38058e",
   "metadata": {},
   "outputs": [],
   "source": [
    "(* Fonction 91 de Maccarty déjà démontrée en cours*)"
   ]
  },
  {
   "cell_type": "markdown",
   "id": "5ce213d3",
   "metadata": {},
   "source": [
    "## Fonctions mutuellement récursives\n",
    "\n",
    "Il est possible de définir simultanément deux fonctions `f` et `g`, dépendant l'une de l'autre avec `and` :\n",
    "```ocaml\n",
    "let rec f x = ... and g y = ... in ...\n",
    "```\n",
    "\n",
    "Écrire deux fonctions `u` et `v` permettant de calculer le $nième$ terme des suites définies par :\n",
    "$$u_0 = 2$$\n",
    "$$v_0 = 3$$\n",
    "$$u_{n + 1} = u_n - u_n v_n$$\n",
    "$$v_{n + 1} = v_n + u_n v_n$$"
   ]
  },
  {
   "cell_type": "code",
   "execution_count": 63,
   "id": "f1958d2b-923e-4a13-9686-f2bc704dee0c",
   "metadata": {},
   "outputs": [
    {
     "data": {
      "text/plain": [
       "val u : int -> int = <fun>\n",
       "val v : int -> int = <fun>\n"
      ]
     },
     "execution_count": 63,
     "metadata": {},
     "output_type": "execute_result"
    }
   ],
   "source": [
    "let rec u n =\n",
    "    if n = 0 then 2\n",
    "    else (u (n-1)) - (u (n-1) * v (n-1))\n",
    "    and v n =\n",
    "    if n = 0 then 3\n",
    "    else (v (n-1)) + (u (n-1) * v (n-1))"
   ]
  },
  {
   "cell_type": "code",
   "execution_count": 64,
   "id": "ca1c5a8f-0f01-45c3-9519-3c3de1b1f90e",
   "metadata": {},
   "outputs": [
    {
     "data": {
      "text/plain": [
       "- : int = -4\n"
      ]
     },
     "execution_count": 64,
     "metadata": {},
     "output_type": "execute_result"
    }
   ],
   "source": [
    "u 1"
   ]
  },
  {
   "cell_type": "markdown",
   "id": "93314856",
   "metadata": {},
   "source": [
    "## Retour sur les tours de Hanoi\n",
    "\n",
    "**Remarque** : le problème des tours de Hanoi a déjà été vu en stage, mais on le refait ici en OCaml. En outre, il est utile de réactiver sa mémoire pour se souvenir des méthodes et il m'arrivera pendant l'année de redonner des exercices déjà posés."
   ]
  },
  {
   "cell_type": "markdown",
   "id": "83ab905e",
   "metadata": {},
   "source": [
    "![](../img/hanoi.png)\n",
    "\n",
    "$n$ disques sont posés sur la tige à gauche. L'objectif est de déplacer tous les disques sur la tige à droite :\n",
    "\n",
    "![](../img/hanoi2.png)\n",
    "\n",
    "Règles du jeu :\n",
    "\n",
    "- On ne peut déplacer qu'un disque à la fois (celui tout en haut), sur une autre tige.\n",
    "- Il est interdit de poser un disque sur un autre plus petit.\n",
    "\n",
    "Exemple de premier déplacement valide :\n",
    "\n",
    "![](../img/hanoi3.png)\n",
    "\n",
    "On souhaite écrire une fonction récursive `hanoi` telle que `hanoi n tige1 tige2` affiche une suite de déplacements (avec des `print_int`) permettant de déplacer $n$ disques depuis `tige1` vers `tige2`. On supposera que les tiges sont numérotées 0, 1, 2 (de gauche à droite).\n",
    "\n",
    "1. Supposons que vous sachiez déplacer $n-1$ disques d'une tige à une autre. Comment déplacer $n$ disques d'une tige à une autre ?\n",
    "2. Écrire `hanoi`."
   ]
  },
  {
   "cell_type": "code",
   "execution_count": null,
   "id": "321be8e3-9d74-4bea-af06-7be1cba58e17",
   "metadata": {},
   "outputs": [],
   "source": [
    "(*Pour déplacer n diques de tige1 à tige3, je déplace (n-1) disques de la tige1 vers la tige2\n",
    "puis je déplace le dernier disque (le plus gros) de la tige1 vers la tige3, et enfin je déplace les (n-1) disques qui sont sur la tige2 vers la tige 3*)"
   ]
  },
  {
   "cell_type": "code",
   "execution_count": 24,
   "id": "460c16cb-1d78-40d6-b11f-80df018a409b",
   "metadata": {},
   "outputs": [
    {
     "data": {
      "text/plain": [
       "val hanoi : int -> int -> int -> int -> unit = <fun>\n"
      ]
     },
     "execution_count": 24,
     "metadata": {},
     "output_type": "execute_result"
    }
   ],
   "source": [
    "let rec hanoi n tige1 tigeTemp tige2 = \n",
    "    if n < 2 then (print_int(tige1); print_int(tigeTemp); print_newline ())\n",
    "    else (hanoi (n-1) tige1 tige2 tigeTemp;\n",
    "         print_int(tige1);\n",
    "         print_int(tigeTemp);\n",
    "         print_newline ();\n",
    "         hanoi (n-1) tige2 tigeTemp tige1);"
   ]
  },
  {
   "cell_type": "code",
   "execution_count": 25,
   "id": "7257310c-0f75-4b1d-85aa-4697728ebb49",
   "metadata": {},
   "outputs": [
    {
     "data": {
      "text/plain": [
       "- : unit = ()\n"
      ]
     },
     "execution_count": 25,
     "metadata": {},
     "output_type": "execute_result"
    },
    {
     "name": "stdout",
     "output_type": "stream",
     "text": [
      "01\n",
      "02\n",
      "12\n",
      "01\n",
      "20\n",
      "21\n",
      "01\n",
      "02\n",
      "12\n",
      "10\n",
      "20\n",
      "12\n",
      "01\n",
      "02\n",
      "12\n",
      "01\n",
      "20\n",
      "21\n",
      "01\n",
      "20\n",
      "12\n",
      "10\n",
      "20\n",
      "21\n",
      "01\n",
      "02\n",
      "12\n",
      "01\n",
      "20\n",
      "21\n",
      "01\n"
     ]
    }
   ],
   "source": [
    "hanoi 5 0 1 2"
   ]
  }
 ],
 "metadata": {
  "kernelspec": {
   "display_name": "OCaml default",
   "language": "OCaml",
   "name": "ocaml-jupyter"
  },
  "language_info": {
   "codemirror_mode": "text/x-ocaml",
   "file_extension": ".ml",
   "mimetype": "text/x-ocaml",
   "name": "OCaml",
   "nbconverter_exporter": null,
   "pygments_lexer": "OCaml",
   "version": "4.08.1"
  }
 },
 "nbformat": 4,
 "nbformat_minor": 5
}
