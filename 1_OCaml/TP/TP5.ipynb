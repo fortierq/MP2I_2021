{
 "cells": [
  {
   "cell_type": "markdown",
   "metadata": {},
   "source": [
    "# TP 5 : Tableaux et Complexité"
   ]
  },
  {
   "cell_type": "markdown",
   "metadata": {},
   "source": [
    "## Petites questions\n",
    "\n",
    "1. Écrire une fonction `somme` pour calculer la somme des éléments d'un tableau d'entiers.  \n",
    "2. Écrire une fonction `maximum` pour calculer le maximum d'un tableau d'entiers. On pourra utiliser la fonction `max` renvoyant le maximum de 2 nombres.  \n",
    "3. Écrire une fonction `list_of_array` transformant un tableau en liste.  \n",
    "4. Tester si un tableau est trié par ordre croissant."
   ]
  },
  {
   "cell_type": "code",
   "execution_count": 1,
   "metadata": {},
   "outputs": [
    {
     "data": {
      "text/plain": [
       "val somme : int array -> int = <fun>\n"
      ]
     },
     "execution_count": 1,
     "metadata": {},
     "output_type": "execute_result"
    },
    {
     "data": {
      "text/plain": [
       "- : int = 10\n"
      ]
     },
     "execution_count": 1,
     "metadata": {},
     "output_type": "execute_result"
    }
   ],
   "source": [
    "let somme t =\n",
    "    let somme = ref 0 in\n",
    "    for i=0 to ((Array.length t) -1) do \n",
    "        somme := !somme + (t.(i))\n",
    "    done;\n",
    "    !somme;;\n",
    "\n",
    "somme [|1;2;3;4|]"
   ]
  },
  {
   "cell_type": "code",
   "execution_count": 2,
   "metadata": {},
   "outputs": [
    {
     "data": {
      "text/plain": [
       "val maximum : int array -> int = <fun>\n"
      ]
     },
     "execution_count": 2,
     "metadata": {},
     "output_type": "execute_result"
    },
    {
     "data": {
      "text/plain": [
       "- : int = 4\n"
      ]
     },
     "execution_count": 2,
     "metadata": {},
     "output_type": "execute_result"
    }
   ],
   "source": [
    "let maximum t = \n",
    "    let maximum = ref min_int in \n",
    "    for i=0 to ((Array.length t) -1) do\n",
    "        if !maximum < t.(i) \n",
    "        then maximum := t.(i)\n",
    "    done;\n",
    "    !maximum;;\n",
    "\n",
    "maximum [|1;2;4;3|]"
   ]
  },
  {
   "cell_type": "code",
   "execution_count": 3,
   "metadata": {},
   "outputs": [
    {
     "data": {
      "text/plain": [
       "val liste : 'a array -> int -> 'a list = <fun>\n"
      ]
     },
     "execution_count": 3,
     "metadata": {},
     "output_type": "execute_result"
    },
    {
     "data": {
      "text/plain": [
       "val list_of_array : 'a array -> 'a list = <fun>\n"
      ]
     },
     "execution_count": 3,
     "metadata": {},
     "output_type": "execute_result"
    },
    {
     "data": {
      "text/plain": [
       "- : int list = [3; 4; 2; 1]\n"
      ]
     },
     "execution_count": 3,
     "metadata": {},
     "output_type": "execute_result"
    }
   ],
   "source": [
    "let rec liste t n =\n",
    "        if n = -1 then []\n",
    "        else t.(n)::(liste t (n-1));;\n",
    "        \n",
    "let list_of_array t =\n",
    "    let n = (Array.length t) - 1  in\n",
    "    liste t n;;\n",
    "\n",
    "list_of_array [|1;2;4;3|]"
   ]
  },
  {
   "cell_type": "code",
   "execution_count": 4,
   "metadata": {},
   "outputs": [
    {
     "data": {
      "text/plain": [
       "val croissant : 'a array -> bool = <fun>\n"
      ]
     },
     "execution_count": 4,
     "metadata": {},
     "output_type": "execute_result"
    },
    {
     "data": {
      "text/plain": [
       "- : bool = false\n"
      ]
     },
     "execution_count": 4,
     "metadata": {},
     "output_type": "execute_result"
    },
    {
     "data": {
      "text/plain": [
       "- : bool = true\n"
      ]
     },
     "execution_count": 4,
     "metadata": {},
     "output_type": "execute_result"
    }
   ],
   "source": [
    "let croissant t =\n",
    "    let maximum = ref t.(0) in\n",
    "    let rep = ref true in\n",
    "    for i=1 to ((Array.length t) -1) do \n",
    "        if !maximum > t.(i) then rep := false \n",
    "        else maximum := t.(i)\n",
    "    done;\n",
    "    !rep;;\n",
    "    \n",
    "croissant [|1;2;4;3|];;\n",
    "croissant [|1;2;3;4|]"
   ]
  },
  {
   "cell_type": "markdown",
   "metadata": {},
   "source": [
    "## Maximum local dans un tableau\n",
    "\n",
    "Un maximum local dans un tableau `t` est un indice `i` tel que `t.(i) >= t.(i+1)` et `t.(i) >= t.(i-1)`. Pour les extrémités, qu'une seule de ces conditions doit être vérifiée (si `t.(i-1)` ou `t.(i+1)` n'existe pas).  \n",
    "1. Montrer qu'il existe forcément un minimum local dans `t`.  \n",
    "2. Écrire une fonction `max_local1` trouvant un maximum local dans un tableau en regardant chaque élément un par un (recherche séquentielle). Quelle est sa complexité ?  \n",
    "3. Ecrire une fonction `max_local2` faisant la même chose mais avec une méthode par dichotomie (en divisant par 2 la taille du problème à chaque itération), pour avoir une complexité logarithmique.  \n",
    "*Aide* : soit `t.(m)` le milieu du tableau. Que peut-on dire si `t.(m) < t.(m+1)` ? Si `t.(m) < t.(m-1)` ?"
   ]
  },
  {
   "cell_type": "code",
   "execution_count": 5,
   "metadata": {},
   "outputs": [
    {
     "data": {
      "text/plain": [
       "val max_local1 : 'a array -> int = <fun>\n"
      ]
     },
     "execution_count": 5,
     "metadata": {},
     "output_type": "execute_result"
    },
    {
     "data": {
      "text/plain": [
       "- : int = 1\n"
      ]
     },
     "execution_count": 5,
     "metadata": {},
     "output_type": "execute_result"
    }
   ],
   "source": [
    "(* il existe forcément un minimum local car un tableau est toujours fini, et Ocaml est limité au nombre min_int() *)\n",
    "\n",
    "let max_local1 t =\n",
    "    let maxlocal = ref 0 in\n",
    "    for i=1 to ((Array.length t) -2) do\n",
    "        if t.(i) >= t.(i+1) && t.(i) >= t.(i-1)\n",
    "        then maxlocal := i\n",
    "    done;\n",
    "    !maxlocal;;\n",
    "\n",
    "max_local1 [|1;5;4;3|]"
   ]
  },
  {
   "cell_type": "code",
   "execution_count": 6,
   "metadata": {},
   "outputs": [
    {
     "data": {
      "text/plain": [
       "val max_local2 : 'a array -> 'b -> int = <fun>\n"
      ]
     },
     "execution_count": 6,
     "metadata": {},
     "output_type": "execute_result"
    },
    {
     "data": {
      "text/plain": [
       "- : '_weak1 -> int = <fun>\n"
      ]
     },
     "execution_count": 6,
     "metadata": {},
     "output_type": "execute_result"
    }
   ],
   "source": [
    "let max_local2 t e =\n",
    "    let rec aux i j =\n",
    "        let m = (i + j)/2 in\n",
    "        if m <> 0 && m <> ((Array.length t) - 1)\n",
    "        then (\n",
    "            if t.(m) >= t.(m+1) && t.(m) >= t.(m-1) \n",
    "            then m\n",
    "            else (if t.(m) < t.(m+1)\n",
    "                then aux (m) j \n",
    "                else aux i (m))) \n",
    "        else (Array.length t) -1 in \n",
    "                    \n",
    "        aux 0 ((Array.length t) - 1);;\n",
    "\n",
    "max_local2 [|1;2;3;1;4;6;4;2;3;4;5;4;6;8;5;4;3|]"
   ]
  },
  {
   "cell_type": "code",
   "execution_count": 7,
   "metadata": {},
   "outputs": [
    {
     "data": {
      "text/plain": [
       "val max_local2 : 'a array -> int = <fun>\n"
      ]
     },
     "execution_count": 7,
     "metadata": {},
     "output_type": "execute_result"
    },
    {
     "data": {
      "text/plain": [
       "- : int = 13\n"
      ]
     },
     "execution_count": 7,
     "metadata": {},
     "output_type": "execute_result"
    }
   ],
   "source": [
    "(* correction max_local 2 *)\n",
    "\n",
    "let max_local2 t =\n",
    "    let n = Array.length t in\n",
    "    let rec aux i j =\n",
    "        let m = (i+ j)/2 in\n",
    "        if (m=0 || t.(m) >= t.(m-1)) && (m=n-1 || t.(m) >= t.(m+1)) \n",
    "        then m\n",
    "        else if m <> n-1 && t.(m) <= t.(m+1) \n",
    "            then aux (m+1) j\n",
    "            else aux i(m-1) in\n",
    "    aux 0 (n-1);;\n",
    "\n",
    "max_local2 [|1;2;3;1;4;6;4;2;3;4;5;4;6;8;5;4;3|]"
   ]
  },
  {
   "cell_type": "markdown",
   "metadata": {},
   "source": [
    "## Tri par comptage\n",
    "\n",
    "Écrire une fonction `tri_comptage : ’a array -> unit` qui trie un tableau `t` de taille $n$ dont les entrées sont des entiers entre 0\n",
    "et $M$ (où $M$ est le maximum de `t`), en complexité O($n + M$).  \n",
    "Pour cela :  \n",
    "- Créer un autre tableau `compte` de taille $M + 1$ (avec `Array.make`), initialement rempli de 0\n",
    "- Remplir `compte` pour que `compte.(i)` contienne le nombre d'apparitions de `i` dans `t`\n",
    "- Recopier les éléments de `compte` dans `t` dans l'ordre croissant pour obtenir un tableau trié"
   ]
  },
  {
   "cell_type": "code",
   "execution_count": 8,
   "metadata": {},
   "outputs": [
    {
     "data": {
      "text/plain": [
       "val nombre : 'a -> 'a array -> int = <fun>\n"
      ]
     },
     "execution_count": 8,
     "metadata": {},
     "output_type": "execute_result"
    },
    {
     "data": {
      "text/plain": [
       "val compte : int -> int array -> int array = <fun>\n"
      ]
     },
     "execution_count": 8,
     "metadata": {},
     "output_type": "execute_result"
    },
    {
     "data": {
      "text/plain": [
       "val tri : int -> int array -> int array = <fun>\n"
      ]
     },
     "execution_count": 8,
     "metadata": {},
     "output_type": "execute_result"
    },
    {
     "data": {
      "text/plain": [
       "- : int array = [|1; 3; 3; 2; 2; 4; 2; 1; 2|]\n"
      ]
     },
     "execution_count": 8,
     "metadata": {},
     "output_type": "execute_result"
    }
   ],
   "source": [
    "let nombre e t  =\n",
    "    let n = ref 0 in\n",
    "    for i=0 to ((Array.length t) - 1) do\n",
    "        if t.(i) = e then n := !n + 1\n",
    "    done;\n",
    "    !n;;\n",
    "\n",
    "let compte m t = \n",
    "    let m1 = (Array. make (m+1) 0) in\n",
    "    for i = 0 to m do\n",
    "        m1.(i) <- (nombre i t)\n",
    "    done;\n",
    "    m1;;\n",
    "\n",
    "let tri m t = \n",
    "    let liste = compte m t in\n",
    "    let indice = ref 0 in\n",
    "    for i = 0 to ((Array.length liste) - 1) do\n",
    "        for j = 0 to liste.(i) - 1 do\n",
    "            t.(!indice) <- i;\n",
    "            incr indice\n",
    "        done;\n",
    "    done; \n",
    "    t;;\n",
    "\n",
    "compte 8 [|1;2;1;3;2;1;5;3;5;2;8;0;5;7;4;6;8;4;5;6|]"
   ]
  },
  {
   "cell_type": "code",
   "execution_count": 9,
   "metadata": {},
   "outputs": [
    {
     "data": {
      "text/plain": [
       "val maximum : int array -> int = <fun>\n"
      ]
     },
     "execution_count": 9,
     "metadata": {},
     "output_type": "execute_result"
    },
    {
     "data": {
      "text/plain": [
       "val tri_comptage : int array -> unit = <fun>\n"
      ]
     },
     "execution_count": 9,
     "metadata": {},
     "output_type": "execute_result"
    },
    {
     "data": {
      "text/plain": [
       "- : int array = [|1; 1; 2; 2; 3; 4; 5; 5; 5; 6; 8; 5; 7; 4; 6; 8; 4; 5; 6|]\n"
      ]
     },
     "execution_count": 9,
     "metadata": {},
     "output_type": "execute_result"
    }
   ],
   "source": [
    "let maximum t = \n",
    "    let maximum = ref min_int in \n",
    "    for i=0 to ((Array.length t) -1) do\n",
    "        if !maximum < t.(i) \n",
    "        then maximum := t.(i)\n",
    "    done;\n",
    "    !maximum;;\n",
    "\n",
    "let tri_comptage t =\n",
    "    let m = maximum t in\n",
    "    let compte = Array.make (m+1) 0 in\n",
    "    for i = 0 to Array.length t - 1 do\n",
    "        compte.(t.(i)) <- compte.(t.(i))+1\n",
    "    done;\n",
    "    let indice = ref 0 in \n",
    "    for j = 0 to m do \n",
    "        for k=1 to compte.(j)-1 do \n",
    "            t.(!indice) <- j;\n",
    "            incr indice\n",
    "        done;\n",
    "    done;;\n",
    "\n",
    "let t = [|1;2;1;3;2;1;5;3;5;2;8;5;7;4;6;8;4;5;6|] in\n",
    "tri_comptage t;\n",
    "t;;"
   ]
  },
  {
   "cell_type": "markdown",
   "metadata": {},
   "source": [
    "## Tranche maximum\r\n",
    "\r\n",
    "Ecrire une fonction `tranche_max : int array -> int` qui renvoie en O($n$) la somme maximum d'éléments consécutifs d'un tableau de taille $n$. Par exemple, `tranche_max [|1; -2; 6; -3; 2; 4; -8; 7|]` doit renvoyer $9$, correspondant aux éléments 6; -3; 2; 4.  \r\n",
    "\r\n",
    "*Indice* : parcourir le tableau `t` avec une boucle for. Stocker 2 variables `m` et `m_cur` telles que, au $i$ème passage dans la boucle for :  \r\n",
    "- `m` contient la somme maximum d'éléments consécutifs parmi les $i$ premiers éléments du tableau\r\n",
    "- `m_cur` contient la somme maximum d'éléments consécutifs finissant en `t.(i)`.  \r\n",
    "Par exemple, lorsque `tranche_max [|1; -2; 6; -3; 2; 4; -8; 7|]` exécute la $3$ème itération de la boucle `for` (c'est à dire que -3 est considéré), `m` contient 6 (correspondant au seul élément 6) et `m_cur` contient 3 (correspondant à 6; -3)."
   ]
  },
  {
   "cell_type": "code",
   "execution_count": 5,
   "metadata": {},
   "outputs": [
    {
     "ename": "error",
     "evalue": "compile_error",
     "output_type": "error",
     "traceback": [
      "File \"[12]\", line 7, characters 13-21:\n7 |         then m, m_cur := i, i\n                 ^^^^^^^^\nError: This expression has type 'a * 'b\n       but an expression was expected of type 'c ref\n"
     ]
    }
   ],
   "source": [
    "let tranche_max t = \n",
    "    let m = ref 1 in\n",
    "    let m_cur = ref 1 in\n",
    "    for i = 1  to Array.length t -1 do\n",
    "        m_cur := !m_cur + t.(i);\n",
    "        if !m_cur > !m && t.(i) > !m_cur \n",
    "        then m := i  m_cur := i \n",
    "        else if !m_cur < !m && t.(i) < !m_cur \n",
    "            then m := m_cur\n",
    "    done;\n",
    "    !m;;\n",
    "\n",
    "tranche_max [|1; -2; 6; -3; 2; 4; -8; 7|]\n",
    "\n",
    "(*je pense que l'algorithme est correcte mais en regardant la documentation Osam"
   ]
  },
  {
   "cell_type": "markdown",
   "metadata": {},
   "source": [
    "## Inversions dans un tableau"
   ]
  },
  {
   "cell_type": "markdown",
   "metadata": {},
   "source": [
    "Étant donné un tableau `t`, une inversion de `t` est un couple d'indices $(i, j)$ tels que $i < j$ et `t`.$(i)$ > `t`.$(j)$. Par exemple, `[|4; 1; 5; 2|]` possède 3 inversions: $(0, 1)$, $(0, 3)$ et $(2, 3)$.\n",
    "1. Écrire une fonction `inv` en O($n^2$) déterminant le nombre d'inversions d'un tableau de taille $n$. Justifier que la complexité est bien O$(n^2$).\n",
    "2. Écrire une fonction `inv_triee` telle que, si `t1` et `t2` sont deux tableaux triés par ordre croissant, `inv_triee t1 t2` renvoie le nombre de couples $(i, j)$ tels que `t1.(i) > t2.(j)`. La complexité de `inv_triee` doit être linéaire en le nombre total d'éléments de `t1` et `t2`.\n",
    "3. (Difficile) Écrire une fonction `inv2` telle que, si `t` est un tableau de taille $n$, `inv2 t` renvoie le nombre d'inversions de `t` en complexité O($n\\log(n)$).  \n",
    "On modifiera le tri fusion pour renvoyer le nombre d'inversions en plus de la liste triée."
   ]
  },
  {
   "cell_type": "code",
   "execution_count": 21,
   "metadata": {},
   "outputs": [
    {
     "data": {
      "text/plain": [
       "val inv : 'a array -> int = <fun>\n"
      ]
     },
     "execution_count": 21,
     "metadata": {},
     "output_type": "execute_result"
    },
    {
     "data": {
      "text/plain": [
       "- : int = 3\n"
      ]
     },
     "execution_count": 21,
     "metadata": {},
     "output_type": "execute_result"
    },
    {
     "ename": "interrupt",
     "evalue": "intterupt",
     "output_type": "error",
     "traceback": [
      "\u001b[31mException: Sys.Break.\u001b[0m"
     ]
    }
   ],
   "source": [
    "let inv t =\n",
    "    let result = ref 0 in\n",
    "    for i=0 to (Array.length t -1) do\n",
    "        for j=i+1 to (Array.length t -1) do\n",
    "            if t.(i) > t.(j) then incr result\n",
    "        done;\n",
    "    done;\n",
    "    !result;;\n",
    "    \n",
    "inv [|4; 1; 5; 2|]"
   ]
  },
  {
   "cell_type": "code",
   "execution_count": 20,
   "metadata": {},
   "outputs": [
    {
     "data": {
      "text/plain": [
       "val inv_triee : 'a array -> 'a array -> int = <fun>\n"
      ]
     },
     "execution_count": 20,
     "metadata": {},
     "output_type": "execute_result"
    },
    {
     "data": {
      "text/plain": [
       "- : int = 11\n"
      ]
     },
     "execution_count": 20,
     "metadata": {},
     "output_type": "execute_result"
    }
   ],
   "source": [
    "let inv_triee t1 t2 =\n",
    "    let result = ref 0 in\n",
    "    let nb = ref 0 in (* nombre d'éléments choisi pour faire la boucle *)\n",
    "    if (Array.length t1) < (Array.length t2) \n",
    "    (* Si la taille de t2 est inférieur à la taille de t1 car i > j donc la condition \n",
    "    ne pourra jamais être établie *)\n",
    "    then nb := Array.length t1\n",
    "    else nb := Array.length t2;\n",
    "    for i=0 to !nb - 1 do\n",
    "        for j=i+1 to (Array.length t2 -1) do\n",
    "            if t1.(i) > t2.(j)\n",
    "            then incr result\n",
    "        done;\n",
    "    done;\n",
    "    !result;;\n",
    "\n",
    "inv_triee [|4;7;9;10|] [|1;2;3;4;5;6|]"
   ]
  },
  {
   "cell_type": "code",
   "execution_count": null,
   "metadata": {},
   "outputs": [],
   "source": []
  }
 ],
 "metadata": {
  "kernelspec": {
   "display_name": "OCaml default",
   "language": "OCaml",
   "name": "ocaml-jupyter"
  },
  "language_info": {
   "codemirror_mode": "text/x-ocaml",
   "file_extension": ".ml",
   "mimetype": "text/x-ocaml",
   "name": "OCaml",
   "nbconverter_exporter": null,
   "pygments_lexer": "OCaml",
   "version": "4.08.1"
  }
 },
 "nbformat": 4,
 "nbformat_minor": 4
}

