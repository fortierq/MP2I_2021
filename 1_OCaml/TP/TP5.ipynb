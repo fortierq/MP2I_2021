{
 "cells": [
  {
   "cell_type": "markdown",
   "metadata": {},
   "source": [
    "# TP 5 : Tableaux et Complexité"
   ]
  },
  {
   "cell_type": "markdown",
   "metadata": {},
   "source": [
    "## Petites questions\n",
    "\n",
    "1. Écrire une fonction `somme` pour calculer la somme des éléments d'un tableau d'entiers.  \n",
    "2. Écrire une fonction `maximum` pour calculer le maximum d'un tableau d'entiers. On pourra utiliser la fonction `max` renvoyant le maximum de 2 nombres.  \n",
    "3. Écrire une fonction `list_of_array` transformant un tableau en liste.  \n",
    "4. Tester si un tableau est trié par ordre croissant."
   ]
  },
  {
   "cell_type": "code",
   "execution_count": 6,
   "metadata": {},
   "outputs": [
    {
     "data": {
      "text/plain": [
       "val somme : int array -> int = <fun>\n"
      ]
     },
     "execution_count": 6,
     "metadata": {},
     "output_type": "execute_result"
    },
    {
     "data": {
      "text/plain": [
       "- : int = 11\n"
      ]
     },
     "execution_count": 6,
     "metadata": {},
     "output_type": "execute_result"
    }
   ],
   "source": [
    "(*question 1*)\n",
    "let somme t =\n",
    "    let s = ref 0 in\n",
    "    for i=0 to ((Array.length t)-1) do\n",
    "        s:= !s + t.(i)\n",
    "    done;\n",
    "    !s;;\n",
    "\n",
    "somme [|1;7;3|];;"
   ]
  },
  {
   "cell_type": "code",
   "execution_count": 5,
   "metadata": {},
   "outputs": [
    {
     "data": {
      "text/plain": [
       "val maximum : int array -> int = <fun>\n"
      ]
     },
     "execution_count": 5,
     "metadata": {},
     "output_type": "execute_result"
    },
    {
     "data": {
      "text/plain": [
       "- : int = 8\n"
      ]
     },
     "execution_count": 5,
     "metadata": {},
     "output_type": "execute_result"
    }
   ],
   "source": [
    "(*question 2*)\n",
    "let maximum t =\n",
    "    let m = ref 0 in\n",
    "    for i=0 to ((Array.length t)-1) do\n",
    "        if t.(i)> !m then m := t.(i)      \n",
    "    done;\n",
    "    !m;;\n",
    "    \n",
    "maximum [|-1;8;4|];;"
   ]
  },
  {
   "cell_type": "code",
   "execution_count": 3,
   "metadata": {},
   "outputs": [
    {
     "data": {
      "text/plain": [
       "val liste : 'a array -> int -> 'a list = <fun>\n"
      ]
     },
     "execution_count": 3,
     "metadata": {},
     "output_type": "execute_result"
    },
    {
     "data": {
      "text/plain": [
       "val list_of_array : 'a array -> 'a list = <fun>\n"
      ]
     },
     "execution_count": 3,
     "metadata": {},
     "output_type": "execute_result"
    },
    {
     "data": {
      "text/plain": [
       "- : int list = [1; 2; 3; 4]\n"
      ]
     },
     "execution_count": 3,
     "metadata": {},
     "output_type": "execute_result"
    }
   ],
   "source": [
    "(*question 3*)\n",
    "let rec liste t n =\n",
    "    if n = -1 then []\n",
    "    else t.(n)::(liste t (n-1));;\n",
    "\n",
    "let list_of_array t =\n",
    "    let n = (Array.length t)-1 in\n",
    "    List.rev(liste t n);;\n",
    "\n",
    "list_of_array [|1;2;3;4|];;"
   ]
  },
  {
   "cell_type": "code",
   "execution_count": 4,
   "metadata": {},
   "outputs": [
    {
     "ename": "error",
     "evalue": "compile_error",
     "output_type": "error",
     "traceback": [
      "File \"[4]\", line 4, characters 30-35:\n4 |         if t.(i)>t.(i+1) then false\n                                  ^^^^^\nError: This variant expression is expected to have type unit\n         because it is in the result of a conditional with no else branch\n       The constructor false does not belong to type unit\n"
     ]
    }
   ],
   "source": [
    "(*question 4*)\n",
    "let ordre_croissant t =\n",
    "    for i = 0 to ((Array.length t)-1) do\n",
    "        if t.(i)>t.(i+1) then false\n",
    "    done;\n",
    "    true;;\n",
    "    "
   ]
  },
  {
   "cell_type": "markdown",
   "metadata": {},
   "source": [
    "## Maximum local dans un tableau\n",
    "\n",
    "Un maximum local dans un tableau `t` est un indice `i` tel que `t.(i) >= t.(i+1)` et `t.(i) >= t.(i-1)`. Pour les extrémités, qu'une seule de ces conditions doit être vérifiée (si `t.(i-1)` ou `t.(i+1)` n'existe pas).  \n",
    "1. Montrer qu'il existe forcément un minimum local dans `t`.  \n",
    "2. Écrire une fonction `max_local1` trouvant un maximum local dans un tableau en regardant chaque élément un par un (recherche séquentielle). Quelle est sa complexité ?  \n",
    "3. Ecrire une fonction `max_local2` faisant la même chose mais avec une méthode par dichotomie (en divisant par 2 la taille du problème à chaque itération), pour avoir une complexité logarithmique.  \n",
    "*Aide* : soit `t.(m)` le milieu du tableau. Que peut-on dire si `t.(m) < t.(m+1)` ? Si `t.(m) < t.(m-1)` ?"
   ]
  },
  {
   "cell_type": "code",
   "execution_count": 11,
   "metadata": {},
   "outputs": [
    {
     "data": {
      "text/plain": [
       "val max_local1 : 'a array -> int = <fun>\n"
      ]
     },
     "execution_count": 11,
     "metadata": {},
     "output_type": "execute_result"
    },
    {
     "data": {
      "text/plain": [
       "- : int = 2\n"
      ]
     },
     "execution_count": 11,
     "metadata": {},
     "output_type": "execute_result"
    }
   ],
   "source": [
    "(*question 2*)\n",
    "let max_local1 t = let m = ref (-1) in\n",
    "    if t.(0) >= t.(1) then m:=0;\n",
    "    let n = Array.length t in\n",
    "    if t.(n-1) >= t.(n-2) then m:= (n-1);\n",
    "    for i=1 to n-2 do\n",
    "        if t.(i)>= max t.(i-1) t.(i+1)\n",
    "        then m := i\n",
    "    done;\n",
    "    !m;;\n",
    "\n",
    "max_local1 [|1;2;5;4|];;\n",
    "    "
   ]
  },
  {
   "cell_type": "code",
   "execution_count": 32,
   "metadata": {},
   "outputs": [
    {
     "data": {
      "text/plain": [
       "val max_local2 : 'a array -> int = <fun>\n"
      ]
     },
     "execution_count": 32,
     "metadata": {},
     "output_type": "execute_result"
    },
    {
     "data": {
      "text/plain": [
       "- : int = 8\n"
      ]
     },
     "execution_count": 32,
     "metadata": {},
     "output_type": "execute_result"
    }
   ],
   "source": [
    "let max_local2 t =\n",
    "    let rec aux i j = \n",
    "        let m = (i+j)/2 in \n",
    "        if ( m=0 || t.(m) >= t.(m-1)) && (m=(Array.length t)-1 || t.(m) >= t.(m+1)) then m\n",
    "        else if t.(m) <= t.(m+1) then aux (m+1) j\n",
    "        else aux i (m-1)\n",
    "in aux 0 (Array.length t);;\n",
    "\n",
    "max_local2 [|2;3;103;2;3;4;5;6;7|]"
   ]
  },
  {
   "cell_type": "markdown",
   "metadata": {
    "tags": []
   },
   "source": [
    "##### Tri par comptage\n",
    "\n",
    "Écrire une fonction `tri_comptage : ’a array -> unit` qui trie un tableau `t` de taille $n$ dont les entrées sont des entiers entre 0\n",
    "et $M$ (où $M$ est le maximum de `t`), en complexité O($n + M$).  \n",
    "Pour cela :  \n",
    "- Créer un autre tableau `compte` de taille $M + 1$ (avec `Array.make`), initialement rempli de 0\n",
    "- Remplir `compte` pour que `compte.(i)` contienne le nombre d'apparitions de `i` dans `t`\n",
    "- Recopier les éléments de `compte` dans `t` dans l'ordre croissant pour obtenir un tableau trié"
   ]
  },
  {
   "cell_type": "code",
   "execution_count": 9,
   "metadata": {},
   "outputs": [
    {
     "data": {
      "text/plain": [
       "val tri_comptage : int array -> int array = <fun>\n"
      ]
     },
     "execution_count": 9,
     "metadata": {},
     "output_type": "execute_result"
    },
    {
     "data": {
      "text/plain": [
       "- : int array = [|1; 1; 1; 2; 3; 4; 6; 6; 8; 9; 9|]\n"
      ]
     },
     "execution_count": 9,
     "metadata": {},
     "output_type": "execute_result"
    },
    {
     "ename": "interrupt",
     "evalue": "intterupt",
     "output_type": "error",
     "traceback": [
      "\u001b[31mException: Sys.Break.\u001b[0m"
     ]
    }
   ],
   "source": [
    "let tri_comptage t = \n",
    "    let m = maximum t in\n",
    "    let compte = Array.make (m+1) 0 in\n",
    "    for i= 0 to Array.length t-1 do\n",
    "        compte.(t.(i)) <- compte.(t.(i)) +1\n",
    "    done;\n",
    "    let indice = ref 0 in\n",
    "    for j = 0 to m do\n",
    "        for k = 1 to compte.(j) do\n",
    "            t.(!indice) <- j;\n",
    "            incr indice\n",
    "        done;\n",
    "    done;\n",
    "    t;;\n",
    "    \n",
    "\n",
    "tri_comptage [|4;6;9;3;1;2;1;1;8;6;9;|]"
   ]
  },
  {
   "cell_type": "markdown",
   "metadata": {},
   "source": [
    "## Tranche maximum\r\n",
    "\r\n",
    "Ecrire une fonction `tranche_max : int array -> int` qui renvoie en O($n$) la somme maximum d'éléments consécutifs d'un tableau de taille $n$. Par exemple, `tranche_max [|1; -2; 6; -3; 2; 4; -8; 7|]` doit renvoyer $9$, correspondant aux éléments 6; -3; 2; 4.  \r\n",
    "\r\n",
    "*Indice* : parcourir le tableau `t` avec une boucle for. Stocker 2 variables `m` et `m_cur` telles que, au $i$ème passage dans la boucle for :  \r\n",
    "- `m` contient la somme maximum d'éléments consécutifs parmi les $i$ premiers éléments du tableau\r\n",
    "- `m_cur` contient la somme maximum d'éléments consécutifs finissant en `t.(i)`.  \r\n",
    "Par exemple, lorsque `tranche_max [|1; -2; 6; -3; 2; 4; -8; 7|]` exécute la $3$ème itération de la boucle `for` (c'est à dire que -3 est considéré), `m` contient 6 (correspondant au seul élément 6) et `m_cur` contient 3 (correspondant à 6; -3)."
   ]
  },
  {
   "cell_type": "code",
   "execution_count": 7,
   "metadata": {},
   "outputs": [
    {
     "ename": "error",
     "evalue": "compile_error",
     "output_type": "error",
     "traceback": [
      "File \"[7]\", line 9, characters 6-8:\n9 |     !m;;\n          ^^\nError: Syntax error\n"
     ]
    }
   ],
   "source": [
    "let tranche_max t =\n",
    "    let m = ref 0 in \n",
    "    let m_cur = ref 1 in\n",
    "    let aux i =\n",
    "    for a= i to array.length t-2 do \n",
    "    if t.(a)<t.(a+1) then m_cur := !m_cur + 1 && (if !m_cur > !m then m := !m +1)\n",
    "    else m_cur := 1 && aux (i+1)\n",
    "    done;\n",
    "    !m;;\n",
    "    \n",
    "let tranche_max [|2;3;4;2;3;4;5;6;2;1|]"
   ]
  },
  {
   "cell_type": "markdown",
   "metadata": {},
   "source": [
    "## Inversions dans un tableau"
   ]
  },
  {
   "cell_type": "markdown",
   "metadata": {},
   "source": [
    "Étant donné un tableau `t`, une inversion de `t` est un couple d'indices $(i, j)$ tels que $i < j$ et `t`.$(i)$ > `t`.$(j)$. Par exemple, `[|4; 1; 5; 2|]` possède 3 inversions: $(0, 1)$, $(0, 3)$ et $(2, 3)$.\n",
    "- Écrire une fonction `inv` en O($n^2$) déterminant le nombre d'inversions d'un tableau de taille $n$.\n",
    "- Écrire une fonction `inv_triee` telle que, si `l1` et `l2` sont deux listes triées par ordre croissant, renvoie le nombre de couples $(i, j)$ tels que `l1.(i) > l2.(j)`.\n",
    "- (Difficile) Écrire une fonction `inv2` telle que, si `t` est un tableau de taille $n$, `inv2 t` renvoie le nombre d'inversions de `t` en complexité O($n\\log(n)$).  \n",
    "On modifiera le tri fusion pour renvoyer le nombre d'inversions en plus de la liste triée."
   ]
  },
  {
   "cell_type": "markdown",
   "metadata": {},
   "source": []
  }
 ],
 "metadata": {
  "kernelspec": {
   "display_name": "OCaml default",
   "language": "OCaml",
   "name": "ocaml-jupyter"
  },
  "language_info": {
   "codemirror_mode": "text/x-ocaml",
   "file_extension": ".ml",
   "mimetype": "text/x-ocaml",
   "name": "OCaml",
   "nbconverter_exporter": null,
   "pygments_lexer": "OCaml",
   "version": "4.08.1"
  }
 },
 "nbformat": 4,
 "nbformat_minor": 4
}
