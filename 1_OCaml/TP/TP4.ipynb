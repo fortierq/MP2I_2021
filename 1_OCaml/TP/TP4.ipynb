{
 "cells": [
  {
   "cell_type": "markdown",
   "metadata": {},
   "source": [
    "# TP 4 : Réécriture de fonctions du module List"
   ]
  },
  {
   "cell_type": "markdown",
   "metadata": {},
   "source": [
    "## \n",
    "\n",
    "`List` est un module OCaml qui contient de nombreuses fonctions sur les listes : https://ocaml.org/api/List.html.  \n",
    "Dans un sujet de concours, vous avez le droit d'utiliser ces fonctions sauf si l'énoncé demande de le recoder (exemple : si l'énoncé demande de coder une fonction calculant la taille d'une liste, il est implicitement interdit d'utiliser `List.length`...)."
   ]
  },
  {
   "cell_type": "markdown",
   "metadata": {},
   "source": [
    "## List.mem\n",
    "Si `l` est une liste, `List.mem e l` détermine si `e` est un élément de `l`.\n",
    "\n",
    "1. Quel est le type de `List.mem`? Le deviner puis vérifier avec OCaml.\n",
    "2. Réécrire `List.mem` (en appelant votre fonction `mem`, par exemple).\n"
   ]
  },
  {
   "cell_type": "code",
   "execution_count": 3,
   "metadata": {},
   "outputs": [
    {
     "data": {
      "text/plain": [
       "val mem : 'a -> 'a list -> bool = <fun>\n"
      ]
     },
     "execution_count": 3,
     "metadata": {},
     "output_type": "execute_result"
    }
   ],
   "source": [
    "(* Je suppose que List.mem est de type : 'a -> 'a list -> bool*)\n",
    "\n",
    "let rec mem e = function\n",
    "    | [] -> false\n",
    "    | e2::q when e2 <> e -> mem e q\n",
    "    |_ -> true"
   ]
  },
  {
   "cell_type": "markdown",
   "metadata": {},
   "source": [
    "## List.iter\n",
    "\n",
    "Si `l` est une liste et `f` une fonction, `List.iter f l` applique `f` sur chaque élément de `l`.  \n",
    "Réécrire `List.iter` (en appelant votre fonction `iter`, par exemple)."
   ]
  },
  {
   "cell_type": "code",
   "execution_count": 7,
   "metadata": {},
   "outputs": [
    {
     "data": {
      "text/plain": [
       "val iter : ('a -> 'b) -> 'a list -> unit = <fun>\n"
      ]
     },
     "execution_count": 7,
     "metadata": {},
     "output_type": "execute_result"
    }
   ],
   "source": [
    "let rec iter f = function\n",
    "    | [] -> ()\n",
    "    | e::q -> f e; iter f q;;"
   ]
  },
  {
   "cell_type": "markdown",
   "metadata": {},
   "source": [
    "## List.filter\n",
    "\n",
    "Si `l : 'a list` est une liste et `f : 'a -> bool` une propriété, `List.filter f l` renvoie les éléments de `l` vérifiant `f`.  \n",
    "1. Que renvoie `List.filter (fun x -> x > 0) [1; -2; 3; 0]` ?\n",
    "2. Réécrire la fonction `List.filter` (en l'appelant `filter`, par exemple)."
   ]
  },
  {
   "cell_type": "code",
   "execution_count": 8,
   "metadata": {},
   "outputs": [
    {
     "data": {
      "text/plain": [
       "val filter : ('a -> bool) -> 'a list -> 'a list = <fun>\n"
      ]
     },
     "execution_count": 8,
     "metadata": {},
     "output_type": "execute_result"
    }
   ],
   "source": [
    "(* la fonction renvoie [1;3] *)\n",
    "let rec filter f = function\n",
    "    | [] -> []\n",
    "    | e::q -> if f e then e::(filter f q) else filter f q;;"
   ]
  },
  {
   "cell_type": "markdown",
   "metadata": {},
   "source": [
    "## List.map\n",
    "\n",
    "1. Ecrire une fonction `somme` pour calculer la somme des termes d'une liste d'entiers.\n",
    "2. Ecrire une fonction `range` telle que `range n` renvoie la liste des entiers de 0 à `n`.\n",
    "3. `List.map` est une fonction telle que, si `f` est une fonction et `l` une liste, `List.map f l` renvoie une liste obtenue à partir de `l` en appliquant `f` sur chaque élément.  \n",
    "Par exemple, `List.map (fun x -> 2*x) [2; 5; 42]` renvoie `[4; 10; 84]`.  \n",
    "Quel est le type de `List.map`? Le deviner puis vérifier avec OCaml.\n",
    "1. Réécrire `List.map` (en appelant votre fonction `map`, par exemple).\n",
    "4. Calculer $\\sum_{k=0}^{10} k^4$ en utilisant les fonctions précédentes."
   ]
  },
  {
   "cell_type": "code",
   "execution_count": 9,
   "metadata": {},
   "outputs": [
    {
     "data": {
      "text/plain": [
       "val somme : int list -> int = <fun>\n"
      ]
     },
     "execution_count": 9,
     "metadata": {},
     "output_type": "execute_result"
    }
   ],
   "source": [
    "let rec somme = function\n",
    "    | [] -> 0\n",
    "    | e::q -> e + somme q;;"
   ]
  },
  {
   "cell_type": "code",
   "execution_count": 11,
   "metadata": {},
   "outputs": [
    {
     "data": {
      "text/plain": [
       "val range : int -> int list = <fun>\n"
      ]
     },
     "execution_count": 11,
     "metadata": {},
     "output_type": "execute_result"
    }
   ],
   "source": [
    "let rec range n =\n",
    "    if n = 0 then [0]\n",
    "    else n::(range (n-1));;"
   ]
  },
  {
   "cell_type": "code",
   "execution_count": 12,
   "metadata": {},
   "outputs": [
    {
     "data": {
      "text/plain": [
       "- : ('a -> 'b) -> 'a list -> 'b list = <fun>\n"
      ]
     },
     "execution_count": 12,
     "metadata": {},
     "output_type": "execute_result"
    }
   ],
   "source": [
    "(* type de Liste.map : ('a -> 'b) -> 'a list -> 'b list *)\n",
    "List.map"
   ]
  },
  {
   "cell_type": "code",
   "execution_count": 15,
   "metadata": {},
   "outputs": [
    {
     "data": {
      "text/plain": [
       "val map : ('a -> 'b) -> 'a list -> 'b list = <fun>\n"
      ]
     },
     "execution_count": 15,
     "metadata": {},
     "output_type": "execute_result"
    }
   ],
   "source": [
    "let rec map f = function\n",
    "    | [] -> []\n",
    "    | e::q -> (f e)::(map f q);;"
   ]
  },
  {
   "cell_type": "code",
   "execution_count": 17,
   "metadata": {},
   "outputs": [
    {
     "data": {
      "text/plain": [
       "- : int = 25333\n"
      ]
     },
     "execution_count": 17,
     "metadata": {},
     "output_type": "execute_result"
    }
   ],
   "source": [
    "somme (map (fun x -> x*x*x*x) (range 10))"
   ]
  },
  {
   "cell_type": "markdown",
   "metadata": {},
   "source": [
    "## List.for_all et List.exists\n",
    "\n",
    "Si `l : 'a list` est une liste et `f : 'a -> bool` une propriété :\n",
    "- `List.for_all f l` vérifie que tous les éléments de `l` satisfont `f` ($\\forall e \\in l, ~f(e)$)\n",
    "- `List.exists f l` vérifie qu'au moins un élément de `l` satisfait `f` ($\\exists e \\in l, ~f(e)$)"
   ]
  },
  {
   "cell_type": "markdown",
   "metadata": {},
   "source": [
    "1. En utilisant une de ces fonctions et l'application partielle de fonction, définir une fonction  `positif : int list -> bool` testant si tous les éléments d'une liste sont positifs.\n",
    "2. En utilisant une de ces fonctions et l'application partielle de fonction, définir une fonction  `pair : int list -> bool` testant si il y a au moins un élément d'une liste qui est pair."
   ]
  },
  {
   "cell_type": "code",
   "execution_count": 18,
   "metadata": {},
   "outputs": [
    {
     "data": {
      "text/plain": [
       "val positif : 'a -> (int list -> bool) * 'a = <fun>\n"
      ]
     },
     "execution_count": 18,
     "metadata": {},
     "output_type": "execute_result"
    }
   ],
   "source": [
    "let positif l =\n",
    "    List.for_all (fun x -> x>=0), l;;"
   ]
  },
  {
   "cell_type": "code",
   "execution_count": 20,
   "metadata": {},
   "outputs": [
    {
     "data": {
      "text/plain": [
       "val pair : 'a -> (int list -> bool) * 'a = <fun>\n"
      ]
     },
     "execution_count": 20,
     "metadata": {},
     "output_type": "execute_result"
    }
   ],
   "source": [
    "let pair l =\n",
    "    List.exists (fun x -> if x mod 2 = 0 then true else false), l;;"
   ]
  },
  {
   "cell_type": "markdown",
   "metadata": {},
   "source": [
    "# Liste de listes\n",
    "\n",
    "1. Écrire une fonction `add : 'a -> 'a list list -> 'a list list` telle que `add e ll` renvoie une liste de listes obtenues en ajoutant `e` à chaque liste de `ll`.  \n",
    "Par exemple, `add 2 [[1; 2]; [7; 4]]` doit renvoyer `[[2; 1; 2]; [2; 7; 4]]`.\n",
    "1. Écrire une fonction `parties : 'a list -> a list list` telle que `parties l` renvoie une liste composée de tous les sous-ensembles d'éléments de `l`.  \n",
    "Par exemple, `parties [1; 2; 1]` peut renvoyer `[[]; [1]; [2]; [2; 1]; [1]; [1; 1]; [1; 2]; [1; 2; 1]].`\n",
    "2. Écrire une fonction `decomposition` telle que, si `l` est une liste d'entiers et `n` un entier, `decomposition n l` renvoie le nombre de façon d'écrire `n` comme somme d'éléments de `l`.  \n",
    "Par exemple, `decomposition 6 [1; 2; 3; 5]` doit renvoyer 2, car on peut écrire $6 = 1 + 2 + 3$ et $6 = 1 + 5$.\n",
    "3. Modifier la fonction précédente pour renvoyer la liste de toutes les possibilités (chaque possibilité étant une liste)."
   ]
  },
  {
   "cell_type": "code",
   "execution_count": 4,
   "metadata": {},
   "outputs": [
    {
     "data": {
      "text/plain": [
       "val add : 'a -> 'a list list -> 'a list list = <fun>\n"
      ]
     },
     "execution_count": 4,
     "metadata": {},
     "output_type": "execute_result"
    }
   ],
   "source": [
    "let rec add e = function\n",
    "    | [] -> []\n",
    "    | q1::q2 -> (e::q1)::(add e q2);;\n",
    "\n"
   ]
  },
  {
   "cell_type": "code",
   "execution_count": 5,
   "metadata": {},
   "outputs": [
    {
     "data": {
      "text/plain": [
       "val parties : 'a list -> 'a list list = <fun>\n"
      ]
     },
     "execution_count": 5,
     "metadata": {},
     "output_type": "execute_result"
    }
   ],
   "source": [
    "let rec parties = function\n",
    "    | [] -> [[]]\n",
    "    | e::q -> let q2 = parties q in (add e q2)@q2"
   ]
  },
  {
   "cell_type": "code",
   "execution_count": 9,
   "metadata": {},
   "outputs": [
    {
     "data": {
      "text/plain": [
       "- : int list list = [[1; 2; 1]; [1; 2]; [1; 1]; [1]; [2; 1]; [2]; [1]; []]\n"
      ]
     },
     "execution_count": 9,
     "metadata": {},
     "output_type": "execute_result"
    },
    {
     "ename": "interrupt",
     "evalue": "intterupt",
     "output_type": "error",
     "traceback": [
      "\u001b[31mException: Sys.Break.\u001b[0m"
     ]
    }
   ],
   "source": [
    "parties [1; 2; 1]"
   ]
  },
  {
   "cell_type": "code",
   "execution_count": 9,
   "metadata": {},
   "outputs": [
    {
     "data": {
      "text/plain": [
       "val somme : int list -> int = <fun>\n"
      ]
     },
     "execution_count": 9,
     "metadata": {},
     "output_type": "execute_result"
    },
    {
     "data": {
      "text/plain": [
       "val decomposition2 : int -> int list list -> int = <fun>\n"
      ]
     },
     "execution_count": 9,
     "metadata": {},
     "output_type": "execute_result"
    },
    {
     "data": {
      "text/plain": [
       "val decomposition : int -> int list -> int = <fun>\n"
      ]
     },
     "execution_count": 9,
     "metadata": {},
     "output_type": "execute_result"
    }
   ],
   "source": [
    "let rec somme = function\n",
    "    | [] -> 0\n",
    "    | e::q -> e + somme q;;\n",
    "\n",
    "let rec decomposition2 n = function\n",
    "    | [] -> 0\n",
    "    | e::q -> if somme e = n then 1 + decomposition2 n q else decomposition2 n q;;\n",
    "\n",
    "let decomposition n l =\n",
    "    decomposition2 n (parties l);;"
   ]
  },
  {
   "cell_type": "code",
   "execution_count": 8,
   "metadata": {},
   "outputs": [
    {
     "data": {
      "text/plain": [
       "- : int = 3\n"
      ]
     },
     "execution_count": 8,
     "metadata": {},
     "output_type": "execute_result"
    }
   ],
   "source": [
    "decomposition 10 [6;8;1;9;7654;7;3]"
   ]
  },
  {
   "cell_type": "code",
   "execution_count": 11,
   "metadata": {},
   "outputs": [
    {
     "data": {
      "text/plain": [
       "val decomposition_ultime2 : int -> int list list -> int list list = <fun>\n"
      ]
     },
     "execution_count": 11,
     "metadata": {},
     "output_type": "execute_result"
    },
    {
     "data": {
      "text/plain": [
       "val decomposition_ultime : int -> int list -> int list list = <fun>\n"
      ]
     },
     "execution_count": 11,
     "metadata": {},
     "output_type": "execute_result"
    }
   ],
   "source": [
    "let rec decomposition_ultime2 n = function\n",
    "    | [] -> []\n",
    "    | e::q -> if somme e = n then e::(decomposition_ultime2 n q) else decomposition_ultime2 n q;;\n",
    "\n",
    "let rec decomposition_ultime n l =\n",
    "    decomposition_ultime2 n (parties l);;"
   ]
  },
  {
   "cell_type": "code",
   "execution_count": null,
   "metadata": {},
   "outputs": [],
   "source": [
    "decomposition 10 [6;8;1;9;7654;7;3]"
   ]
  }
 ],
 "metadata": {
  "kernelspec": {
   "display_name": "OCaml default",
   "language": "OCaml",
   "name": "ocaml-jupyter"
  },
  "language_info": {
   "codemirror_mode": "text/x-ocaml",
   "file_extension": ".ml",
   "mimetype": "text/x-ocaml",
   "name": "OCaml",
   "nbconverter_exporter": null,
   "pygments_lexer": "OCaml",
   "version": "4.08.1"
  }
 },
 "nbformat": 4,
 "nbformat_minor": 4
}
