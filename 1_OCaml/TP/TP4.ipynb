{
 "cells": [
  {
   "cell_type": "markdown",
   "metadata": {},
   "source": [
    "# TP 4 : Réécriture de fonctions du module List"
   ]
  },
  {
   "cell_type": "markdown",
   "metadata": {},
   "source": [
    "## \n",
    "\n",
    "`List` est un module OCaml qui contient de nombreuses fonctions sur les listes : https://ocaml.org/api/List.html.  \n",
    "Dans un sujet de concours, vous avez le droit d'utiliser ces fonctions sauf si l'énoncé demande de le recoder (exemple : si l'énoncé demande de coder une fonction calculant la taille d'une liste, il est implicitement interdit d'utiliser `List.length`...)."
   ]
  },
  {
   "cell_type": "markdown",
   "metadata": {},
   "source": [
    "## List.mem\n",
    "Si `l` est une liste, `List.mem l e` détermine si `e` est un élément de `l`.\n",
    "\n",
    "1. Quel est le type de `List.mem`? Le deviner puis vérifier avec OCaml.\n",
    "2. Réécrire `List.mem` (en appelant votre fonction `mem`, par exemple).\n"
   ]
  },
  {
   "cell_type": "code",
   "execution_count": 11,
   "metadata": {},
   "outputs": [
    {
     "data": {
      "text/plain": [
       "- : bool = true\n"
      ]
     },
     "execution_count": 11,
     "metadata": {},
     "output_type": "execute_result"
    }
   ],
   "source": [
    "List.mem 2 [1;2;3;4;5];;"
   ]
  },
  {
   "cell_type": "code",
   "execution_count": 13,
   "metadata": {},
   "outputs": [
    {
     "data": {
      "text/plain": [
       "val mem : 'a -> 'a list -> bool = <fun>\n"
      ]
     },
     "execution_count": 13,
     "metadata": {},
     "output_type": "execute_result"
    }
   ],
   "source": [
    "let rec mem e l = match l with\n",
    "    |[]-> false\n",
    "    |e1::q -> if e1 <> e then mem e q\n",
    "            else true;;"
   ]
  },
  {
   "cell_type": "code",
   "execution_count": 15,
   "metadata": {},
   "outputs": [
    {
     "data": {
      "text/plain": [
       "- : bool = false\n"
      ]
     },
     "execution_count": 15,
     "metadata": {},
     "output_type": "execute_result"
    }
   ],
   "source": [
    "mem 6 [1;2;3;4;5];;"
   ]
  },
  {
   "cell_type": "markdown",
   "metadata": {
    "tags": []
   },
   "source": [
    "## List.iter\n",
    "\n",
    "Si `l` est une liste et `f` une fonction, `List.iter f l` applique `f` sur chaque élément de `l`.  \n",
    "Réécrire `List.iter` (en appelant votre fonction `iter`, par exemple)."
   ]
  },
  {
   "cell_type": "code",
   "execution_count": 20,
   "metadata": {},
   "outputs": [
    {
     "data": {
      "text/plain": [
       "val iter : ('a -> 'b) -> 'a list -> 'b list = <fun>\n"
      ]
     },
     "execution_count": 20,
     "metadata": {},
     "output_type": "execute_result"
    }
   ],
   "source": [
    "let rec iter f l = match l with\n",
    "    |[]-> []\n",
    "    |e1 :: q -> f(e1) :: iter f q;;"
   ]
  },
  {
   "cell_type": "code",
   "execution_count": 25,
   "metadata": {},
   "outputs": [
    {
     "data": {
      "text/plain": [
       "- : int list = [2; 4; 6; 8; 10]\n"
      ]
     },
     "execution_count": 25,
     "metadata": {},
     "output_type": "execute_result"
    }
   ],
   "source": [
    "iter (fun x -> 2*x) [1;2;3;4;5];;"
   ]
  },
  {
   "cell_type": "markdown",
   "metadata": {},
   "source": [
    "## List.filter\n",
    "\n",
    "Si `l : 'a list` est une liste et `f : 'a -> bool` une propriété, `List.filter f l` renvoie les éléments de `l` vérifiant `f`.  \n",
    "1. Que renvoie `List.filter (fun x -> x > 0) [1; -2; 3; 0]` ?\n",
    "2. Réécrire la fonction `List.filter` (en l'appelant `filter`, par exemple)."
   ]
  },
  {
   "cell_type": "code",
   "execution_count": 26,
   "metadata": {},
   "outputs": [
    {
     "data": {
      "text/plain": [
       "val filter : ('a -> bool) -> 'a list -> 'a list = <fun>\n"
      ]
     },
     "execution_count": 26,
     "metadata": {},
     "output_type": "execute_result"
    },
    {
     "data": {
      "text/plain": [
       "- : int list = [2; 4; 5]\n"
      ]
     },
     "execution_count": 26,
     "metadata": {},
     "output_type": "execute_result"
    }
   ],
   "source": [
    "let rec filter f l = match l with\n",
    "    |[] -> []\n",
    "    | e1::q -> if f(e1) then e1::filter f q\n",
    "                else filter f q;;\n",
    "\n",
    "filter (fun x -> x>0) [-1;2;-3;4;5];;"
   ]
  },
  {
   "cell_type": "markdown",
   "metadata": {},
   "source": [
    "## List.map\n",
    "\n",
    "1. Ecrire une fonction `somme` pour calculer la somme des termes d'une liste d'entiers.\n",
    "2. Ecrire une fonction `range` telle que `range n` renvoie la liste des entiers de 0 à `n`.\n",
    "3. `List.map` est une fonction telle que, si `f` est une fonction et `l` une liste, `List.map f l` renvoie une liste obtenue à partir de `l` en appliquant `f` sur chaque élément.  \n",
    "Par exemple, `List.map (fun x -> 2*x) [2; 5; 42]` renvoie `[4; 10; 84]`.  \n",
    "Quel est le type de `List.map`? Le deviner puis vérifier avec OCaml.\n",
    "1. Réécrire `List.map` (en appelant votre fonction `map`, par exemple).\n",
    "4. Calculer $\\sum_{k=0}^{10} k^4$ en utilisant les fonctions précédentes."
   ]
  },
  {
   "cell_type": "code",
   "execution_count": 14,
   "metadata": {},
   "outputs": [
    {
     "data": {
      "text/plain": [
       "val somme : int list -> int = <fun>\n"
      ]
     },
     "execution_count": 3,
     "metadata": {},
     "output_type": "execute_result"
    },
    {
     "data": {
      "text/plain": [
       "- : int = 15\n"
      ]
     },
     "execution_count": 3,
     "metadata": {},
     "output_type": "execute_result"
    }
   ],
   "source": [
    "(*question 1*)\n",
    "let rec somme l = match l with\n",
    "    | [] -> 0\n",
    "    | e1::q -> e1 + somme q;;\n",
    "\n",
    "somme [1;2;3;4;5];;"
   ]
  },
  {
   "cell_type": "code",
   "execution_count": 52,
   "metadata": {},
   "outputs": [
    {
     "data": {
      "text/plain": [
       "val range : int -> int list = <fun>\n"
      ]
     },
     "execution_count": 52,
     "metadata": {},
     "output_type": "execute_result"
    }
   ],
   "source": [
    "(*question 2*)\n",
    "let rec range n =\n",
    "    if n = 0 then [0]\n",
    "    else  n::range(n-1);;"
   ]
  },
  {
   "cell_type": "code",
   "execution_count": 47,
   "metadata": {},
   "outputs": [
    {
     "data": {
      "text/plain": [
       "- : float list = [10.; 9.; 8.; 7.; 6.; 5.; 4.; 3.; 2.; 1.; 0.]\n"
      ]
     },
     "execution_count": 47,
     "metadata": {},
     "output_type": "execute_result"
    }
   ],
   "source": [
    "range 10;;"
   ]
  },
  {
   "cell_type": "code",
   "execution_count": 59,
   "metadata": {},
   "outputs": [
    {
     "data": {
      "text/plain": [
       "val map : ('a -> 'b) -> 'a list -> 'b list = <fun>\n"
      ]
     },
     "execution_count": 59,
     "metadata": {},
     "output_type": "execute_result"
    }
   ],
   "source": [
    "let rec map f l = match l with\n",
    "    |[] -> []\n",
    "    | e1::q -> f(e1)::map f q\n",
    "                "
   ]
  },
  {
   "cell_type": "code",
   "execution_count": 60,
   "metadata": {},
   "outputs": [
    {
     "data": {
      "text/plain": [
       "val somme1 : int -> int = <fun>\n"
      ]
     },
     "execution_count": 60,
     "metadata": {},
     "output_type": "execute_result"
    },
    {
     "data": {
      "text/plain": [
       "- : int = 25333\n"
      ]
     },
     "execution_count": 60,
     "metadata": {},
     "output_type": "execute_result"
    }
   ],
   "source": [
    "let somme1 n =\n",
    "    let l = range n in\n",
    "    let l1 = map (fun x -> x*x*x*x) l in\n",
    "    somme l1;;\n",
    "\n",
    "somme1 10;;"
   ]
  },
  {
   "cell_type": "markdown",
   "metadata": {},
   "source": [
    "## List.for_all et List.exists\n",
    "\n",
    "Si `l : 'a list` est une liste et `f : 'a -> bool` une propriété :\n",
    "- `List.for_all f l` vérifie que tous les éléments de `l` satisfont `f` ($\\forall e \\in l, ~f(e)$)\n",
    "- `List.exists f l` vérifie qu'au moins un élément de `l` satisfait `f` ($\\exists e \\in l, ~f(e)$)"
   ]
  },
  {
   "cell_type": "markdown",
   "metadata": {},
   "source": [
    "1. En utilisant une de ces fonctions et l'application partielle de fonction, définir une fonction  `positif : int list -> bool` testant si tous les éléments d'une liste sont positifs.\n",
    "2. En utilisant une de ces fonctions et l'application partielle de fonction, définir une fonction  `pair : int list -> bool` testant si il y a au moins un élément d'une liste qui est pair."
   ]
  },
  {
   "cell_type": "code",
   "execution_count": 70,
   "metadata": {},
   "outputs": [
    {
     "data": {
      "text/plain": [
       "val positif : int list -> bool = <fun>\n"
      ]
     },
     "execution_count": 70,
     "metadata": {},
     "output_type": "execute_result"
    },
    {
     "data": {
      "text/plain": [
       "- : bool = true\n"
      ]
     },
     "execution_count": 70,
     "metadata": {},
     "output_type": "execute_result"
    }
   ],
   "source": [
    "(*question 1*)\n",
    "let positif =  List.for_all (fun x -> x>=0);;  \n",
    "    \n",
    "positif [1;2;3;4;5];;"
   ]
  },
  {
   "cell_type": "code",
   "execution_count": 73,
   "metadata": {},
   "outputs": [
    {
     "data": {
      "text/plain": [
       "val pair : int list -> bool = <fun>\n"
      ]
     },
     "execution_count": 73,
     "metadata": {},
     "output_type": "execute_result"
    },
    {
     "data": {
      "text/plain": [
       "- : bool = false\n"
      ]
     },
     "execution_count": 73,
     "metadata": {},
     "output_type": "execute_result"
    }
   ],
   "source": [
    "(*question 2*)\n",
    "let pair = List.exists (fun x -> (x mod 2) =0);;\n",
    "\n",
    "pair [1;3;5]"
   ]
  },
  {
   "cell_type": "markdown",
   "metadata": {},
   "source": [
    "# Liste de listes\n",
    "\n",
    "1. Écrire une fonction `add : 'a -> 'a list list -> 'a list list` telle que `add e ll` renvoie une liste de listes obtenues en ajoutant `e` à chaque liste de `ll`.  \n",
    "Par exemple, `add 2 [[1; 2]; [7; 4]]` doit renvoyer `[[2; 1; 2]; [2; 7; 4]]`.\n",
    "1. Écrire une fonction `parties : 'a list -> a list list` telle que `parties l` renvoie une liste composée de tous les sous-ensembles d'éléments de `l`.  \n",
    "Par exemple, `parties [1; 2; 1]` peut renvoyer `[[]; [1]; [2]; [2; 1]; [1]; [1; 1]; [1; 2]; [1; 2; 1]].`\n",
    "2. Écrire une fonction `decomposition` telle que, si `l` est une liste d'entiers et `n` un entier, `decomposition n l` renvoie le nombre de façon d'écrire `n` comme somme d'éléments de `l`.  \n",
    "Par exemple, `decomposition 6 [1; 2; 3; 5]` doit renvoyer 2, car on peut écrire $6 = 1 + 2 + 3$ et $6 = 1 + 5$.\n",
    "3. Modifier la fonction précédente pour renvoyer la liste de toutes les possibilités (chaque possibilité étant une liste)."
   ]
  },
  {
   "cell_type": "code",
   "execution_count": 6,
   "metadata": {},
   "outputs": [
    {
     "data": {
      "text/plain": [
       "val add : 'a -> 'a list list -> 'a list list = <fun>\n"
      ]
     },
     "execution_count": 6,
     "metadata": {},
     "output_type": "execute_result"
    },
    {
     "data": {
      "text/plain": [
       "- : int list list = [[10; 1; 2; 3; 4]; [10; 1; 2; 3]]\n"
      ]
     },
     "execution_count": 6,
     "metadata": {},
     "output_type": "execute_result"
    }
   ],
   "source": [
    "(*question 1*)\n",
    "let rec add e ll = match ll with\n",
    "    | [] -> []\n",
    "    | e1::q ->[[e]@e1]@ add e q;;\n",
    "\n",
    "add 10 [[1;2;3;4];[1;2;3;]];;"
   ]
  },
  {
   "cell_type": "code",
   "execution_count": 13,
   "metadata": {},
   "outputs": [
    {
     "data": {
      "text/plain": [
       "val parties : 'a list -> 'a list list = <fun>\n"
      ]
     },
     "execution_count": 7,
     "metadata": {},
     "output_type": "execute_result"
    },
    {
     "data": {
      "text/plain": [
       "- : int list list =\n",
       "[[]; [10]; [9]; [9; 10]; [8]; [8; 10]; [8; 9]; [8; 9; 10]; [7]; [7; 10];\n",
       " [7; 9]; [7; 9; 10]; [7; 8]; [7; 8; 10]; [7; 8; 9]; [7; 8; 9; 10]; [2];\n",
       " [2; 10]; [2; 9]; [2; 9; 10]; [2; 8]; [2; 8; 10]; [2; 8; 9]; [2; 8; 9; 10];\n",
       " [2; 7]; [2; 7; 10]; [2; 7; 9]; [2; 7; 9; 10]; [2; 7; 8]; [2; 7; 8; 10];\n",
       " [2; 7; 8; 9]; [2; 7; 8; 9; 10]; [1]; [1; 10]; [1; 9]; [1; 9; 10]; [1; 8];\n",
       " [1; 8; 10]; [1; 8; 9]; [1; 8; 9; 10]; [1; 7]; [1; 7; 10]; [1; 7; 9];\n",
       " [1; 7; 9; 10]; [1; 7; 8]; [1; 7; 8; 10]; [1; 7; 8; 9]; [1; 7; 8; 9; 10];\n",
       " [1; 2]; [1; 2; 10]; [1; 2; 9]; [1; 2; 9; 10]; [1; 2; 8]; [1; 2; 8; 10];\n",
       " [1; 2; 8; 9]; [1; 2; 8; 9; 10]; [1; 2; 7]; [1; 2; 7; 10]; [1; 2; 7; 9];\n",
       " [1; 2; 7; 9; 10]; [1; 2; 7; 8]; [1; 2; 7; 8; 10]; [1; 2; 7; 8; 9];\n",
       " [1; 2; 7; 8; 9; 10]]\n"
      ]
     },
     "execution_count": 7,
     "metadata": {},
     "output_type": "execute_result"
    }
   ],
   "source": [
    "(*question 2*)\n",
    "let rec parties l = match l with\n",
    "    |[] -> []\n",
    "    |[e] -> [[];[e]]\n",
    "    |e::q -> parties q @ (add e (parties q));;\n",
    "\n",
    "parties [1;2;7;8;9;10];;"
   ]
  },
  {
   "cell_type": "code",
   "execution_count": 22,
   "metadata": {},
   "outputs": [
    {
     "data": {
      "text/plain": [
       "val decomposition : int -> int list -> int = <fun>\n"
      ]
     },
     "execution_count": 22,
     "metadata": {},
     "output_type": "execute_result"
    },
    {
     "data": {
      "text/plain": [
       "- : int = 4\n"
      ]
     },
     "execution_count": 22,
     "metadata": {},
     "output_type": "execute_result"
    }
   ],
   "source": [
    "(*question 3*)\n",
    "let decomposition n l = \n",
    "   List.length (List.filter (fun q -> somme q = n) (parties l));;\n",
    "\n",
    "decomposition 20 [1;2;7;8;9;10];;"
   ]
  },
  {
   "cell_type": "code",
   "execution_count": 24,
   "metadata": {},
   "outputs": [
    {
     "data": {
      "text/plain": [
       "val decomposition1 : int -> int list -> int list list = <fun>\n"
      ]
     },
     "execution_count": 24,
     "metadata": {},
     "output_type": "execute_result"
    },
    {
     "data": {
      "text/plain": [
       "- : int list list = [[2; 8; 10]; [1; 9; 10]; [1; 2; 8; 9]; [1; 2; 7; 10]]\n"
      ]
     },
     "execution_count": 24,
     "metadata": {},
     "output_type": "execute_result"
    }
   ],
   "source": [
    "(*question 4*)\n",
    "let decomposition1 n l = \n",
    "   (List.filter (fun q -> somme q = n) (parties l));;\n",
    "\n",
    "decomposition1 20 [1;2;7;8;9;10];;"
   ]
  }
 ],
 "metadata": {
  "kernelspec": {
   "display_name": "OCaml default",
   "language": "OCaml",
   "name": "ocaml-jupyter"
  },
  "language_info": {
   "codemirror_mode": "text/x-ocaml",
   "file_extension": ".ml",
   "mimetype": "text/x-ocaml",
   "name": "OCaml",
   "nbconverter_exporter": null,
   "pygments_lexer": "OCaml",
   "version": "4.08.1"
  }
 },
 "nbformat": 4,
 "nbformat_minor": 4
}

