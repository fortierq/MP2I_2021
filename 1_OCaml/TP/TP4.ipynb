{
 "cells": [
  {
   "cell_type": "markdown",
   "metadata": {},
   "source": [
    "# TP 4 : Réécriture de fonctions du module List"
   ]
  },
  {
   "cell_type": "markdown",
   "metadata": {},
   "source": [
    "## \n",
    "\n",
    "`List` est un module OCaml qui contient de nombreuses fonctions sur les listes : https://ocaml.org/api/List.html.  \n",
    "Dans un sujet de concours, vous avez le droit d'utiliser ces fonctions sauf si l'énoncé demande de le recoder (exemple : si l'énoncé demande de coder une fonction calculant la taille d'une liste, il est implicitement interdit d'utiliser `List.length`...)."
   ]
  },
  {
   "cell_type": "markdown",
   "metadata": {},
   "source": [
    "## List.mem\n",
    "Si `l` est une liste, `List.mem e l` détermine si `e` est un élément de `l`.\n",
    "\n",
    "1. Quel est le type de `List.mem`? Le deviner puis vérifier avec OCaml.\n",
    "2. Réécrire `List.mem` (en appelant votre fonction `mem`, par exemple).\n"
   ]
  },
  {
   "cell_type": "code",
   "execution_count": 1,
   "metadata": {},
   "outputs": [
    {
     "data": {
      "text/plain": [
       "val l : int list = [1; 3; 4]\n"
      ]
     },
     "execution_count": 1,
     "metadata": {},
     "output_type": "execute_result"
    },
    {
     "data": {
      "text/plain": [
       "- : bool = true\n"
      ]
     },
     "execution_count": 1,
     "metadata": {},
     "output_type": "execute_result"
    },
    {
     "data": {
      "text/plain": [
       "- : 'a -> 'a list -> bool = <fun>\n"
      ]
     },
     "execution_count": 1,
     "metadata": {},
     "output_type": "execute_result"
    }
   ],
   "source": [
    "let l = [1;3;4];;\n",
    "List.mem 1 l;;\n",
    "List.mem;;"
   ]
  },
  {
   "cell_type": "markdown",
   "metadata": {},
   "source": [
    "## List.iter\n",
    "\n",
    "Si `l` est une liste et `f` une fonction, `List.iter f l` applique `f` sur chaque élément de `l`.  \n",
    "Réécrire `List.iter` (en appelant votre fonction `iter`, par exemple)."
   ]
  },
  {
   "cell_type": "code",
   "execution_count": 2,
   "metadata": {},
   "outputs": [
    {
     "data": {
      "text/plain": [
       "val iter : ('a -> 'b) -> 'a list -> 'b list = <fun>\n"
      ]
     },
     "execution_count": 2,
     "metadata": {},
     "output_type": "execute_result"
    },
    {
     "data": {
      "text/plain": [
       "- : int list = [2; 4; 5]\n"
      ]
     },
     "execution_count": 2,
     "metadata": {},
     "output_type": "execute_result"
    }
   ],
   "source": [
    "let rec iter f l = match l with\n",
    "    | e::q -> (f e)::(iter f q)\n",
    "    | _ -> [];;\n",
    "    \n",
    "iter (fun x -> x+1) l;;\n",
    "(*Cette fonction renvoyant en sortie la liste des sorties est en fait List.map et non List.iter*)"
   ]
  },
  {
   "cell_type": "markdown",
   "metadata": {},
   "source": [
    "## List.filter\n",
    "\n",
    "Si `l : 'a list` est une liste et `f : 'a -> bool` une propriété, `List.filter f l` renvoie les éléments de `l` vérifiant `f`.  \n",
    "1. Que renvoie `List.filter (fun x -> x > 0) [1; -2; 3; 0]` ?\n",
    "2. Réécrire la fonction `List.filter` (en l'appelant `filter`, par exemple)."
   ]
  },
  {
   "cell_type": "markdown",
   "metadata": {},
   "source": [
    "1. `List.filter (fun x -> x > 0) [1; -2; 3; 0]` renvoie `[1; 3]`"
   ]
  },
  {
   "cell_type": "code",
   "execution_count": 3,
   "metadata": {},
   "outputs": [
    {
     "data": {
      "text/plain": [
       "val filter : ('a -> bool) -> 'a list -> 'a list = <fun>\n"
      ]
     },
     "execution_count": 3,
     "metadata": {},
     "output_type": "execute_result"
    },
    {
     "data": {
      "text/plain": [
       "- : int list = [1; 3]\n"
      ]
     },
     "execution_count": 3,
     "metadata": {},
     "output_type": "execute_result"
    }
   ],
   "source": [
    "let rec filter f l = match l with\n",
    "    | e::q -> if f e then e::(filter f q)\n",
    "                    else filter f q\n",
    "    | _ -> [];;\n",
    "    \n",
    "filter (fun x -> x > 0) [1;-2;3;0];;"
   ]
  },
  {
   "cell_type": "markdown",
   "metadata": {},
   "source": [
    "## List.map\n",
    "\n",
    "1. Ecrire une fonction `somme` pour calculer la somme des termes d'une liste d'entiers.\n",
    "2. Ecrire une fonction `range` telle que `range n` renvoie la liste des entiers de 0 à `n`.\n",
    "3. `List.map` est une fonction telle que, si `f` est une fonction et `l` une liste, `List.map f l` renvoie une liste obtenue à partir de `l` en appliquant `f` sur chaque élément.  \n",
    "Par exemple, `List.map (fun x -> 2*x) [2; 5; 42]` renvoie `[4; 10; 84]`.  \n",
    "Quel est le type de `List.map`? Le deviner puis vérifier avec OCaml.\n",
    "1. Réécrire `List.map` (en appelant votre fonction `map`, par exemple).\n",
    "4. Calculer $\\sum_{k=0}^{10} k^4$ en utilisant les fonctions précédentes."
   ]
  },
  {
   "cell_type": "code",
   "execution_count": 4,
   "metadata": {},
   "outputs": [
    {
     "data": {
      "text/plain": [
       "val somme : int list -> int = <fun>\n"
      ]
     },
     "execution_count": 4,
     "metadata": {},
     "output_type": "execute_result"
    },
    {
     "data": {
      "text/plain": [
       "- : int = 12\n"
      ]
     },
     "execution_count": 4,
     "metadata": {},
     "output_type": "execute_result"
    }
   ],
   "source": [
    "let rec somme l = match l with\n",
    "    | e::q -> (somme q) + e\n",
    "    | _ -> 0;;\n",
    "    \n",
    "somme [0;4;5;3];;"
   ]
  },
  {
   "cell_type": "code",
   "execution_count": 5,
   "metadata": {},
   "outputs": [
    {
     "data": {
      "text/plain": [
       "val range : int -> 'a -> int list = <fun>\n"
      ]
     },
     "execution_count": 5,
     "metadata": {},
     "output_type": "execute_result"
    },
    {
     "data": {
      "text/plain": [
       "- : int list = [5; 4; 3; 2; 1; 0]\n"
      ]
     },
     "execution_count": 5,
     "metadata": {},
     "output_type": "execute_result"
    }
   ],
   "source": [
    "let rec range n l = \n",
    "    if n = 0 then [0]\n",
    "    else n::range (n-1) l;;\n",
    "    \n",
    "range 5 [];;"
   ]
  },
  {
   "cell_type": "code",
   "execution_count": 6,
   "metadata": {},
   "outputs": [
    {
     "data": {
      "text/plain": [
       "val map : ('a -> 'b) -> 'a list -> 'b list = <fun>\n"
      ]
     },
     "execution_count": 6,
     "metadata": {},
     "output_type": "execute_result"
    },
    {
     "data": {
      "text/plain": [
       "- : bool list = [false; false; true; false]\n"
      ]
     },
     "execution_count": 6,
     "metadata": {},
     "output_type": "execute_result"
    }
   ],
   "source": [
    "let rec map f l = match l with\n",
    "    | e::q -> (f e)::(map f q)\n",
    "    | _ -> [];;\n",
    "    \n",
    "map (fun x -> x > 0) [-3; -6; 4; 0];;"
   ]
  },
  {
   "cell_type": "code",
   "execution_count": 7,
   "metadata": {},
   "outputs": [
    {
     "data": {
      "text/plain": [
       "- : int = 3025\n"
      ]
     },
     "execution_count": 7,
     "metadata": {},
     "output_type": "execute_result"
    }
   ],
   "source": [
    "somme (map (fun x -> (x*x)*x) (range 10 []));;"
   ]
  },
  {
   "cell_type": "markdown",
   "metadata": {},
   "source": [
    "## List.for_all et List.exists\n",
    "\n",
    "Si `l : 'a list` est une liste et `f : 'a -> bool` une propriété :\n",
    "- `List.for_all f l` vérifie que tous les éléments de `l` satisfont `f` ($\\forall e \\in l, ~f(e)$)\n",
    "- `List.exists f l` vérifie qu'au moins un élément de `l` satisfait `f` ($\\exists e \\in l, ~f(e)$)"
   ]
  },
  {
   "cell_type": "markdown",
   "metadata": {},
   "source": [
    "1. En utilisant une de ces fonctions et l'application partielle de fonction, définir une fonction  `positif : int list -> bool` testant si tous les éléments d'une liste sont positifs.\n",
    "2. En utilisant une de ces fonctions et l'application partielle de fonction, définir une fonction  `pair : int list -> bool` testant si il y a au moins un élément d'une liste qui est pair."
   ]
  },
  {
   "cell_type": "code",
   "execution_count": 8,
   "metadata": {},
   "outputs": [
    {
     "data": {
      "text/plain": [
       "val positif : int list -> bool = <fun>\n"
      ]
     },
     "execution_count": 8,
     "metadata": {},
     "output_type": "execute_result"
    },
    {
     "data": {
      "text/plain": [
       "- : bool = true\n"
      ]
     },
     "execution_count": 8,
     "metadata": {},
     "output_type": "execute_result"
    }
   ],
   "source": [
    "let positif l = \n",
    "    List.for_all (fun x -> x >= 0) l;;\n",
    "    \n",
    "positif [1;7;5];;"
   ]
  },
  {
   "cell_type": "code",
   "execution_count": 9,
   "metadata": {},
   "outputs": [
    {
     "data": {
      "text/plain": [
       "val pair : int list -> bool = <fun>\n"
      ]
     },
     "execution_count": 9,
     "metadata": {},
     "output_type": "execute_result"
    },
    {
     "data": {
      "text/plain": [
       "- : bool = false\n"
      ]
     },
     "execution_count": 9,
     "metadata": {},
     "output_type": "execute_result"
    }
   ],
   "source": [
    "let pair l =\n",
    "    List.exists (fun x -> x mod 2 = 0) l;;\n",
    "\n",
    "pair [1;-7;5];;"
   ]
  },
  {
   "cell_type": "markdown",
   "metadata": {},
   "source": [
    "# Liste de listes\n",
    "\n",
    "1. Écrire une fonction `add : 'a -> 'a list list -> 'a list list` telle que `add e ll` renvoie une liste de listes obtenues en ajoutant `e` à chaque liste de `ll`.  \n",
    "Par exemple, `add 2 [[1; 2]; [7; 4]]` doit renvoyer `[[2; 1; 2]; [2; 7; 4]]`.\n",
    "1. Écrire une fonction `parties : 'a list -> a list list` telle que `parties l` renvoie une liste composée de tous les sous-ensembles d'éléments de `l`.  \n",
    "Par exemple, `parties [1; 2; 1]` peut renvoyer `[[]; [1]; [2]; [2; 1]; [1]; [1; 1]; [1; 2]; [1; 2; 1]].`\n",
    "2. Écrire une fonction `decomposition` telle que, si `l` est une liste d'entiers et `n` un entier, `decomposition n l` renvoie le nombre de façon d'écrire `n` comme somme d'éléments de `l`.  \n",
    "Par exemple, `decomposition 6 [1; 2; 3; 5]` doit renvoyer 2, car on peut écrire $6 = 1 + 2 + 3$ et $6 = 1 + 5$.\n",
    "3. Modifier la fonction précédente pour renvoyer la liste de toutes les possibilités (chaque possibilité étant une liste)."
   ]
  },
  {
   "cell_type": "code",
   "execution_count": 10,
   "metadata": {},
   "outputs": [
    {
     "data": {
      "text/plain": [
       "val add : 'a -> 'a list list -> 'a list list = <fun>\n"
      ]
     },
     "execution_count": 10,
     "metadata": {},
     "output_type": "execute_result"
    },
    {
     "data": {
      "text/plain": [
       "- : int list list = [[2; 1; 2]; [2; 7; 4]]\n"
      ]
     },
     "execution_count": 10,
     "metadata": {},
     "output_type": "execute_result"
    }
   ],
   "source": [
    "let add e ll = \n",
    "    List.map (fun l -> e::l) ll;;\n",
    "    \n",
    "add 2 [[1; 2]; [7; 4]];;"
   ]
  },
  {
   "cell_type": "code",
   "execution_count": 11,
   "metadata": {},
   "outputs": [
    {
     "data": {
      "text/plain": [
       "val parties : 'a list -> 'a list list = <fun>\n"
      ]
     },
     "execution_count": 11,
     "metadata": {},
     "output_type": "execute_result"
    },
    {
     "data": {
      "text/plain": [
       "- : int list list = [[]; [5]; [3]; [3; 5]; [1]; [1; 5]; [1; 3]; [1; 3; 5]]\n"
      ]
     },
     "execution_count": 11,
     "metadata": {},
     "output_type": "execute_result"
    }
   ],
   "source": [
    "let rec parties l = match l with\n",
    "    | e::q -> let p = (parties q) in\n",
    "                p @ (add e p)\n",
    "    | _ -> [[]];;\n",
    "    \n",
    "parties [1;3;5];;"
   ]
  },
  {
   "cell_type": "code",
   "execution_count": 12,
   "metadata": {},
   "outputs": [
    {
     "data": {
      "text/plain": [
       "val decomposition : int -> int list -> int = <fun>\n"
      ]
     },
     "execution_count": 12,
     "metadata": {},
     "output_type": "execute_result"
    },
    {
     "data": {
      "text/plain": [
       "- : int = 2\n"
      ]
     },
     "execution_count": 12,
     "metadata": {},
     "output_type": "execute_result"
    }
   ],
   "source": [
    "let rec decomposition n l = \n",
    "    let p = parties l in\n",
    "    List.length (List.filter (fun l -> (somme l) = n) p);;\n",
    "\n",
    "let l = [1;2;3;5] in\n",
    "decomposition 6 l;;"
   ]
  }
 ],
 "metadata": {
  "kernelspec": {
   "display_name": "OCaml default",
   "language": "OCaml",
   "name": "ocaml-jupyter"
  },
  "language_info": {
   "codemirror_mode": "text/x-ocaml",
   "file_extension": ".ml",
   "mimetype": "text/x-ocaml",
   "name": "OCaml",
   "nbconverter_exporter": null,
   "pygments_lexer": "OCaml",
   "version": "4.08.1"
  }
 },
 "nbformat": 4,
 "nbformat_minor": 4
}
