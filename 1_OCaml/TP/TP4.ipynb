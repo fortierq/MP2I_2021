{
 "cells": [
  {
   "cell_type": "markdown",
   "id": "e9af4b92",
   "metadata": {},
   "source": [
    "# TP 4 : Réécriture de fonctions du module List"
   ]
  },
  {
   "cell_type": "markdown",
   "id": "f896f06b",
   "metadata": {},
   "source": [
    "## \n",
    "\n",
    "`List` est un module OCaml qui contient de nombreuses fonctions sur les listes : https://ocaml.org/api/List.html.  \n",
    "Dans un sujet de concours, vous avez le droit d'utiliser ces fonctions sauf si l'énoncé demande de le recoder (exemple : si l'énoncé demande de coder une fonction calculant la taille d'une liste, il est implicitement interdit d'utiliser `List.length`...)."
   ]
  },
  {
   "cell_type": "markdown",
   "id": "fbc84576",
   "metadata": {},
   "source": [
    "## List.mem\n",
    "Si `l` est une liste, `List.mem l e` détermine si `e` est un élément de `l`.\n",
    "\n",
    "1. Quel est le type de `List.mem`? Le deviner puis vérifier avec OCaml.\n",
    "2. Réécrire `List.mem` (en appelant votre fonction `mem`, par exemple).\n"
   ]
  },
  {
   "cell_type": "code",
   "execution_count": 6,
   "id": "269630d8",
   "metadata": {},
   "outputs": [
    {
     "data": {
      "text/plain": [
       "- : 'a -> 'a list -> bool = <fun>\n"
      ]
     },
     "execution_count": 6,
     "metadata": {},
     "output_type": "execute_result"
    },
    {
     "data": {
      "text/plain": [
       "val mem : 'a -> 'a list -> bool = <fun>\n"
      ]
     },
     "execution_count": 6,
     "metadata": {},
     "output_type": "execute_result"
    },
    {
     "data": {
      "text/plain": [
       "- : bool = false\n"
      ]
     },
     "execution_count": 6,
     "metadata": {},
     "output_type": "execute_result"
    },
    {
     "data": {
      "text/plain": [
       "- : bool = true\n"
      ]
     },
     "execution_count": 6,
     "metadata": {},
     "output_type": "execute_result"
    }
   ],
   "source": [
    "(* Type deviné: 'a list -> bool *)\n",
    "List.mem;;\n",
    "(* Oups, j'avais oublié un argument *)\n",
    "\n",
    "let rec mem a l = match l with \n",
    "| [] -> false\n",
    "| [e]  -> e = a\n",
    "| e::q -> e = a || mem a q;;\n",
    "\n",
    "mem 4 [5;6;7];;\n",
    "mem 4 [5;6;4;7];;"
   ]
  },
  {
   "cell_type": "markdown",
   "id": "29f3b993",
   "metadata": {},
   "source": [
    "## List.iter\n",
    "\n",
    "Si `l` est une liste et `f` une fonction, `List.iter f l` applique `f` sur chaque élément de `l`.  \n",
    "Réécrire `List.iter` (en appelant votre fonction `iter`, par exemple)."
   ]
  },
  {
   "cell_type": "code",
   "execution_count": 19,
   "id": "83438b13",
   "metadata": {},
   "outputs": [
    {
     "data": {
      "text/plain": [
       "val iter : ('a -> 'b) -> 'a list -> unit = <fun>\n"
      ]
     },
     "execution_count": 19,
     "metadata": {},
     "output_type": "execute_result"
    },
    {
     "data": {
      "text/plain": [
       "- : unit = ()\n"
      ]
     },
     "execution_count": 19,
     "metadata": {},
     "output_type": "execute_result"
    },
    {
     "name": "stdout",
     "output_type": "stream",
     "text": [
      "456\n"
     ]
    },
    {
     "data": {
      "text/plain": [
       "- : unit = ()\n"
      ]
     },
     "execution_count": 19,
     "metadata": {},
     "output_type": "execute_result"
    }
   ],
   "source": [
    "let rec iter f l = match l with \n",
    "| [] -> ();\n",
    "| e::q -> (f e;iter f q);;\n",
    "\n",
    "iter print_int [4;5;6];;\n",
    "print_newline ();"
   ]
  },
  {
   "cell_type": "markdown",
   "id": "637a74a6",
   "metadata": {},
   "source": [
    "## List.filter\n",
    "\n",
    "Si `l : 'a list` est une liste et `f : 'a -> bool` une propriété, `List.filter f l` renvoie les éléments de `l` vérifiant `f`.  \n",
    "1. Que renvoie `List.filter (fun x -> x > 0) [1; -2; 3; 0]` ?\n",
    "2. Réécrire la fonction `List.filter` (en l'appelant `filter`, par exemple)."
   ]
  },
  {
   "cell_type": "code",
   "execution_count": 23,
   "id": "87e209b7",
   "metadata": {},
   "outputs": [
    {
     "data": {
      "text/plain": [
       "- : int list = [1; 3]\n"
      ]
     },
     "execution_count": 23,
     "metadata": {},
     "output_type": "execute_result"
    },
    {
     "data": {
      "text/plain": [
       "val filter : ('a -> bool) -> 'a list -> 'a list = <fun>\n"
      ]
     },
     "execution_count": 23,
     "metadata": {},
     "output_type": "execute_result"
    },
    {
     "data": {
      "text/plain": [
       "- : int list = [1; 3]\n"
      ]
     },
     "execution_count": 23,
     "metadata": {},
     "output_type": "execute_result"
    }
   ],
   "source": [
    "(* Prévision: Elle retournera [1;3] *)\n",
    "List.filter (fun x -> x > 0) [1; -2; 3; 0];;\n",
    "\n",
    "let rec filter f l = match l with\n",
    "| [] -> []\n",
    "| e::q -> if f e then e::(filter f q) else filter f q;;\n",
    "\n",
    "filter (fun x -> x > 0) [1; -2; 3; 0];;"
   ]
  },
  {
   "cell_type": "markdown",
   "id": "f3d00fdd",
   "metadata": {},
   "source": [
    "## List.map\n",
    "\n",
    "1. Ecrire une fonction `somme` pour calculer la somme des termes d'une liste d'entiers.\n",
    "2. Ecrire une fonction `range` telle que `range n` renvoie la liste des entiers de 0 à `n`.\n",
    "3. `List.map` est une fonction telle que, si `f` est une fonction et `l` une liste, `List.map f l` renvoie une liste obtenue à partir de `l` en appliquant `f` sur chaque élément.  \n",
    "Par exemple, `List.map (fun x -> 2*x) [2; 5; 42]` renvoie `[4; 10; 84]`.  \n",
    "Quel est le type de `List.map`? Le deviner puis vérifier avec OCaml.\n",
    "1. Réécrire `List.map` (en appelant votre fonction `map`, par exemple).\n",
    "4. Calculer $\\sum_{k=0}^{10} k^4$ en utilisant les fonctions précédentes."
   ]
  },
  {
   "cell_type": "code",
   "execution_count": 33,
   "id": "7fd24747",
   "metadata": {},
   "outputs": [
    {
     "data": {
      "text/plain": [
       "val somme : int list -> int = <fun>\n"
      ]
     },
     "execution_count": 33,
     "metadata": {},
     "output_type": "execute_result"
    },
    {
     "data": {
      "text/plain": [
       "- : int = 12\n"
      ]
     },
     "execution_count": 33,
     "metadata": {},
     "output_type": "execute_result"
    },
    {
     "data": {
      "text/plain": [
       "val range : int -> int list = <fun>\n"
      ]
     },
     "execution_count": 33,
     "metadata": {},
     "output_type": "execute_result"
    },
    {
     "data": {
      "text/plain": [
       "- : int list = [5; 4; 3; 2; 1]\n"
      ]
     },
     "execution_count": 33,
     "metadata": {},
     "output_type": "execute_result"
    },
    {
     "data": {
      "text/plain": [
       "- : ('a -> 'b) -> 'a list -> 'b list = <fun>\n"
      ]
     },
     "execution_count": 33,
     "metadata": {},
     "output_type": "execute_result"
    },
    {
     "data": {
      "text/plain": [
       "val map : ('a -> 'b) -> 'a list -> 'b list = <fun>\n"
      ]
     },
     "execution_count": 33,
     "metadata": {},
     "output_type": "execute_result"
    },
    {
     "data": {
      "text/plain": [
       "- : int list = [4; 10; 84]\n"
      ]
     },
     "execution_count": 33,
     "metadata": {},
     "output_type": "execute_result"
    },
    {
     "data": {
      "text/plain": [
       "- : int = 25333\n"
      ]
     },
     "execution_count": 33,
     "metadata": {},
     "output_type": "execute_result"
    }
   ],
   "source": [
    "(* Q1 *)\n",
    "let rec somme = function\n",
    "| [] -> 0\n",
    "| e::q -> e+ somme q;;\n",
    "\n",
    "somme [3;4;5];;\n",
    "\n",
    "(* Q2 *)\n",
    "let rec range n = if n=0 then [] else n::range(n-1);;\n",
    "range 5;;\n",
    "\n",
    "(* Q3: Prédiction du type: ('a -> 'b ) -> ('a list) -> 'b list*)\n",
    "List.map;;\n",
    "\n",
    "(* Q4 *)\n",
    "let rec map f l = match l with\n",
    "| [] -> []\n",
    "| e::q -> (f e)::(map f q);;\n",
    "\n",
    "map (fun x -> 2*x) [2; 5; 42];;\n",
    "\n",
    "(* Q5 *)\n",
    "somme (map (fun x -> x*x*x*x) (range 10));;"
   ]
  },
  {
   "cell_type": "markdown",
   "id": "20879e09",
   "metadata": {},
   "source": [
    "## List.for_all et List.exists\n",
    "\n",
    "Si `l : 'a list` est une liste et `f : 'a -> bool` une propriété :\n",
    "- `List.for_all f l` vérifie que tous les éléments de `l` satisfont `f` ($\\forall e \\in l, ~f(e)$)\n",
    "- `List.exists f l` vérifie qu'au moins un élément de `l` satisfait `f` ($\\exists e \\in l, ~f(e)$)"
   ]
  },
  {
   "cell_type": "markdown",
   "id": "8f320d5f",
   "metadata": {},
   "source": [
    "1. En utilisant une de ces fonctions et l'application partielle de fonction, définir une fonction  `positif : int list -> bool` testant si tous les éléments d'une liste sont positifs.\n",
    "2. En utilisant une de ces fonctions et l'application partielle de fonction, définir une fonction  `pair : int list -> bool` testant si il y a au moins un élément d'une liste qui est pair."
   ]
  },
  {
   "cell_type": "code",
   "execution_count": 39,
   "id": "502014d8",
   "metadata": {},
   "outputs": [
    {
     "data": {
      "text/plain": [
       "val positif : int list -> bool = <fun>\n"
      ]
     },
     "execution_count": 39,
     "metadata": {},
     "output_type": "execute_result"
    },
    {
     "data": {
      "text/plain": [
       "val pair : int list -> bool = <fun>\n"
      ]
     },
     "execution_count": 39,
     "metadata": {},
     "output_type": "execute_result"
    },
    {
     "data": {
      "text/plain": [
       "- : bool = true\n"
      ]
     },
     "execution_count": 39,
     "metadata": {},
     "output_type": "execute_result"
    },
    {
     "data": {
      "text/plain": [
       "- : bool = false\n"
      ]
     },
     "execution_count": 39,
     "metadata": {},
     "output_type": "execute_result"
    },
    {
     "data": {
      "text/plain": [
       "- : bool = true\n"
      ]
     },
     "execution_count": 39,
     "metadata": {},
     "output_type": "execute_result"
    },
    {
     "data": {
      "text/plain": [
       "- : bool = false\n"
      ]
     },
     "execution_count": 39,
     "metadata": {},
     "output_type": "execute_result"
    }
   ],
   "source": [
    "let positif l = List.for_all (fun x -> x>=0 ) l;;\n",
    "let pair l = List.exists (fun x -> x mod 2 = 0 ) l;;\n",
    "\n",
    "positif [3;0;5];;\n",
    "positif [3;0;-1];;\n",
    "pair [3;0;4];;\n",
    "pair [3;99;5];;"
   ]
  },
  {
   "cell_type": "markdown",
   "id": "425e6242",
   "metadata": {},
   "source": [
    "# Liste de listes\n",
    "\n",
    "1. Écrire une fonction `add : 'a -> 'a list list -> 'a list list` telle que `add e ll` renvoie une liste de listes obtenues en ajoutant `e` à chaque liste de `ll`.  \n",
    "Par exemple, `add 2 [[1; 2]; [7; 4]]` doit renvoyer `[[2; 1; 2]; [2; 7; 4]]`.\n",
    "1. Écrire une fonction `parties : 'a list -> a list list` telle que `parties l` renvoie une liste composée de tous les sous-ensembles d'éléments de `l`.  \n",
    "Par exemple, `parties [1; 2; 1]` peut renvoyer `[[]; [1]; [2]; [2; 1]; [1]; [1; 1]; [1; 2]; [1; 2; 1]].`\n",
    "2. Écrire une fonction `decomposition` telle que, si `l` est une liste d'entiers et `n` un entier, `decomposition n l` renvoie le nombre de façon d'écrire `n` comme somme d'éléments de `l`.  \n",
    "Par exemple, `decomposition 6 [1; 2; 3; 5]` doit renvoyer 2, car on peut écrire $6 = 1 + 2 + 3$ et $6 = 1 + 5$.\n",
    "3. Modifier la fonction précédente pour renvoyer la liste de toutes les possibilités (chaque possibilité étant une liste)."
   ]
  },
  {
   "cell_type": "code",
   "execution_count": 40,
   "id": "23adadad",
   "metadata": {},
   "outputs": [
    {
     "data": {
      "text/plain": [
       "val add : 'a -> 'a list list -> 'a list list = <fun>\n"
      ]
     },
     "execution_count": 40,
     "metadata": {},
     "output_type": "execute_result"
    },
    {
     "data": {
      "text/plain": [
       "- : int list list = [[2; 1; 2]; [2; 7; 4]]\n"
      ]
     },
     "execution_count": 40,
     "metadata": {},
     "output_type": "execute_result"
    }
   ],
   "source": [
    "let add a l = map (fun x -> a::x) l;;\n",
    "\n",
    "add 2 [[1; 2]; [7; 4]];;"
   ]
  },
  {
   "cell_type": "code",
   "execution_count": 51,
   "id": "45a5b805",
   "metadata": {},
   "outputs": [
    {
     "data": {
      "text/plain": [
       "val parties : 'a list -> 'a list list = <fun>\n"
      ]
     },
     "execution_count": 51,
     "metadata": {},
     "output_type": "execute_result"
    },
    {
     "data": {
      "text/plain": [
       "- : int list list = [[1; 2; 3]; [1; 2]; [1; 3]; [1]; [2; 3]; [2]; [3]; []]\n"
      ]
     },
     "execution_count": 51,
     "metadata": {},
     "output_type": "execute_result"
    }
   ],
   "source": [
    "let rec parties a = match a with\n",
    "| [] -> [[]]\n",
    "| e::q -> (map (fun x -> e::x) (parties q)) @ (parties q);;\n",
    "\n",
    "parties [1;2;3];;"
   ]
  },
  {
   "cell_type": "code",
   "execution_count": 59,
   "id": "585671f4",
   "metadata": {},
   "outputs": [
    {
     "data": {
      "text/plain": [
       "val decomposition : int -> int list -> int = <fun>\n"
      ]
     },
     "execution_count": 59,
     "metadata": {},
     "output_type": "execute_result"
    },
    {
     "data": {
      "text/plain": [
       "- : int = 2\n"
      ]
     },
     "execution_count": 59,
     "metadata": {},
     "output_type": "execute_result"
    }
   ],
   "source": [
    "let rec decomposition n l = \n",
    "if n = 0 then 1 else \n",
    "if n < 0 then 0 else \n",
    "match l with\n",
    "    | [] -> 0\n",
    "    | e::q -> (decomposition (n-e) q) + decomposition n q ;;\n",
    "\n",
    "decomposition 6 [1;2;3;5];;"
   ]
  },
  {
   "cell_type": "code",
   "execution_count": 58,
   "id": "911f476f",
   "metadata": {},
   "outputs": [
    {
     "data": {
      "text/plain": [
       "val decomposition_get : int -> int list -> int list list = <fun>\n"
      ]
     },
     "execution_count": 58,
     "metadata": {},
     "output_type": "execute_result"
    },
    {
     "data": {
      "text/plain": [
       "- : int list list = [[1; 2; 3]; [1; 5]]\n"
      ]
     },
     "execution_count": 58,
     "metadata": {},
     "output_type": "execute_result"
    }
   ],
   "source": [
    "let rec decomposition_get n l = \n",
    "if n = 0 then [[]] else\n",
    "if n < 0 then []   else\n",
    "match l with\n",
    "    | [] -> []\n",
    "    | e::q -> ( map (fun x -> e::x) (decomposition_get (n-e) q)) @ (decomposition_get n q) ;;\n",
    "\n",
    "decomposition_get 6 [1;2;3;5];;"
   ]
  }
 ],
 "metadata": {
  "kernelspec": {
   "display_name": "OCaml default",
   "language": "OCaml",
   "name": "ocaml-jupyter"
  },
  "language_info": {
   "codemirror_mode": "text/x-ocaml",
   "file_extension": ".ml",
   "mimetype": "text/x-ocaml",
   "name": "OCaml",
   "nbconverter_exporter": null,
   "pygments_lexer": "OCaml",
   "version": "4.11.1"
  }
 },
 "nbformat": 4,
 "nbformat_minor": 5
}
