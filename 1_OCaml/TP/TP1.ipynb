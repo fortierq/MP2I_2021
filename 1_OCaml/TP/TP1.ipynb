{
 "cells": [
  {
   "cell_type": "markdown",
   "id": "e5f3d70e",
   "metadata": {},
   "source": [
    "# Types\n",
    "\n",
    "Devinez le type des fonctions suivantes et vérifier avec OCaml :\n",
    "```ocaml\n",
    "let f x y = x**y\n",
    "```\n",
    "```ocaml\n",
    "let g x y = x (y + 1)\n",
    "```\n",
    "```ocaml\n",
    "let h x y z = x (3. *. (y z)) + 1\n",
    "```\n",
    "Puis utilisez ces fonctions sur des arguments de votre choix."
   ]
  },
  {
   "cell_type": "code",
   "execution_count": 1,
   "id": "23153ba4-3d2f-4cdd-855f-6e8079e81477",
   "metadata": {},
   "outputs": [
    {
     "data": {
      "text/plain": [
       "val f : float -> float -> float = <fun>\n"
      ]
     },
     "execution_count": 1,
     "metadata": {},
     "output_type": "execute_result"
    }
   ],
   "source": [
    "let f x y = x**y (*loat -> loat -> loat*)"
   ]
  },
  {
   "cell_type": "code",
   "execution_count": 2,
   "id": "406a67c2-4ad9-4ab7-bfc6-190c41d27e69",
   "metadata": {},
   "outputs": [
    {
     "data": {
      "text/plain": [
       "val g : (int -> 'a) -> int -> 'a = <fun>\n"
      ]
     },
     "execution_count": 2,
     "metadata": {},
     "output_type": "execute_result"
    }
   ],
   "source": [
    "let g x y = x (y + 1) (*(int -> 'a) -> int -> 'a*)"
   ]
  },
  {
   "cell_type": "code",
   "execution_count": 4,
   "id": "e61199c5-f582-44b5-b410-6a8744f00e11",
   "metadata": {},
   "outputs": [
    {
     "data": {
      "text/plain": [
       "val h : (float -> int) -> ('a -> float) -> 'a -> int = <fun>\n"
      ]
     },
     "execution_count": 4,
     "metadata": {},
     "output_type": "execute_result"
    }
   ],
   "source": [
    "let h x y z = x (3. *. (y z)) + 1 (*(float -> int) -> ('a -> float) -> 'a -> int*)"
   ]
  },
  {
   "cell_type": "markdown",
   "id": "2a10d305-a22b-48a9-9639-8b4047b41e96",
   "metadata": {},
   "source": [
    "# Tangente hyperbolique\n",
    "\n",
    "Définir en OCaml la fonction $\\tanh : x \\longmapsto \\frac{e^x - e^{-x}}{e^x + e^{-x}}$ en utilisant un seul appel à la fonction `exp : float -> float` de OCaml."
   ]
  },
  {
   "cell_type": "code",
   "execution_count": 3,
   "id": "d542ccb4-23e6-4d39-863a-d04d91495145",
   "metadata": {},
   "outputs": [
    {
     "data": {
      "text/plain": [
       "val tanh : float -> float = <fun>\n"
      ]
     },
     "execution_count": 3,
     "metadata": {},
     "output_type": "execute_result"
    },
    {
     "data": {
      "text/plain": [
       "- : float = 1.\n"
      ]
     },
     "execution_count": 3,
     "metadata": {},
     "output_type": "execute_result"
    }
   ],
   "source": [
    "let tanh x =\n",
    "    let e y = 2.71828**y in\n",
    "    (e(x)-.e(-.x))/.(e(x)+.e(-.x));;\n",
    "tanh 109."
   ]
  },
  {
   "cell_type": "markdown",
   "id": "fc8ce049",
   "metadata": {},
   "source": [
    "# Géométrie\n",
    "\n",
    "Le type `float*float` désigne un couple de flottant, représentant un point `p` dans $\\mathbb{R}^2$. On peut récupérer les coordonnées de `p` avec `let x, y = p` . Par exemple :"
   ]
  },
  {
   "cell_type": "code",
   "execution_count": 1,
   "id": "88e5be36",
   "metadata": {
    "execution": {
     "iopub.execute_input": "2021-09-06T11:40:05.869393Z",
     "iopub.status.busy": "2021-09-06T11:40:05.866912Z",
     "iopub.status.idle": "2021-09-06T11:40:05.875260Z",
     "shell.execute_reply": "2021-09-06T11:40:05.873454Z"
    }
   },
   "outputs": [
    {
     "data": {
      "text/plain": [
       "- : float = 2.1\n"
      ]
     },
     "execution_count": 1,
     "metadata": {},
     "output_type": "execute_result"
    }
   ],
   "source": [
    "let p = (2.1, 3.7) in (* exemple de point *)\n",
    "let x, y = p in (* récupération des coordonnées *)\n",
    "x;; (* affichage de x *)"
   ]
  },
  {
   "cell_type": "markdown",
   "id": "7c497359",
   "metadata": {},
   "source": [
    "**Exercice** Écrire une fonction `aire_boule : float -> float` telle que `aire_boule r` renvoie l'aire d'une boule (disque en dimension 3) de rayon `r`, c'est à dire $\\frac{4 \\pi r^3}{3}$. On pourra utiliser `Float.pi`."
   ]
  },
  {
   "cell_type": "code",
   "execution_count": 7,
   "id": "e0847558-ca24-4bd4-9d3f-56a5406d6b7e",
   "metadata": {},
   "outputs": [
    {
     "data": {
      "text/plain": [
       "val aire_boule : float -> float = <fun>\n"
      ]
     },
     "execution_count": 7,
     "metadata": {},
     "output_type": "execute_result"
    },
    {
     "data": {
      "text/plain": [
       "- : float = 523.598775598298857\n"
      ]
     },
     "execution_count": 7,
     "metadata": {},
     "output_type": "execute_result"
    }
   ],
   "source": [
    "let aire_boule x =\n",
    "    (4.*.Float.pi*.(x**3.))/.3.;;\n",
    "aire_boule 5."
   ]
  },
  {
   "cell_type": "markdown",
   "id": "33056159",
   "metadata": {},
   "source": [
    "**Exercice** Écrire une fonction `distance : float*float -> float*float -> float` telle que `distance p1 p2` renvoie la distance euclidienne entre les points `p1` et `p2`.  \n",
    "Vérifier que la distance entre $(0, 0)$ et $(1, 1)$ est (approximativement) $\\sqrt{2}$."
   ]
  },
  {
   "cell_type": "code",
   "execution_count": 2,
   "id": "131d747e-471f-4f3d-9f9c-c11f153427c7",
   "metadata": {},
   "outputs": [
    {
     "data": {
      "text/plain": [
       "val distance : float * float -> float * float -> float = <fun>\n"
      ]
     },
     "execution_count": 2,
     "metadata": {},
     "output_type": "execute_result"
    },
    {
     "data": {
      "text/plain": [
       "- : float = 1.41421356237309515\n"
      ]
     },
     "execution_count": 2,
     "metadata": {},
     "output_type": "execute_result"
    }
   ],
   "source": [
    "let distance (xa,ya) (xb,yb) =\n",
    "    sqrt(((xa-.xb)**2.)+.((ya-.yb)**2.));;\n",
    "distance (0.,0.) (1.,1.)"
   ]
  },
  {
   "cell_type": "markdown",
   "id": "311d0730",
   "metadata": {},
   "source": [
    "**Exercice** Écrire une fonction `polaire : float*float -> float*float` qui, étant donné les coordonnées cartésiennes $(x, y)$ d'un point, renvoie ses coordonnées polaires $(r, \\theta)$. On pourra utiliser `cos` et `sin` en OCaml.  \n",
    "Quelles sont les coordonnées polaires de $(x, y) = (1, 1)$, de $(x, y) = (\\frac{\\sqrt{3}}{2}, \\frac{1}{2})$?"
   ]
  },
  {
   "cell_type": "code",
   "execution_count": 36,
   "id": "e59c29ca-6a8c-42c9-a766-23e40c37d8ed",
   "metadata": {},
   "outputs": [
    {
     "data": {
      "text/plain": [
       "val polaire : float * float -> float * float = <fun>\n"
      ]
     },
     "execution_count": 36,
     "metadata": {},
     "output_type": "execute_result"
    },
    {
     "data": {
      "text/plain": [
       "- : float * float = (1.41421356237309515, 0.78539816339744839)\n"
      ]
     },
     "execution_count": 36,
     "metadata": {},
     "output_type": "execute_result"
    },
    {
     "data": {
      "text/plain": [
       "- : float * float = (0.999999999999999889, 0.523598775598298927)\n"
      ]
     },
     "execution_count": 36,
     "metadata": {},
     "output_type": "execute_result"
    }
   ],
   "source": [
    "let polaire (x,y) =\n",
    "    let a = sqrt(x**2.+.y**2.) in\n",
    "    let b = 2.*.atan(y/.(x+.sqrt(x**2.+.y**2.))) in\n",
    "    (a,b);;\n",
    "polaire (1.,1.);;\n",
    "polaire (sqrt(3.)/.2.,1./.2.)"
   ]
  },
  {
   "cell_type": "markdown",
   "id": "10dcf4cb",
   "metadata": {},
   "source": [
    "**Exercice** Écrire une fonction `milieu : float*float -> float*float -> float*float` telle que `milieu p1 p2` renvoie le milieu du segment d'extrémités `p1` et `p2`."
   ]
  },
  {
   "cell_type": "code",
   "execution_count": 3,
   "id": "4a821a6b-1bc1-4167-8b79-ab1b9fd7d42f",
   "metadata": {},
   "outputs": [
    {
     "data": {
      "text/plain": [
       "val milieu : float * float -> float * float -> float * float = <fun>\n"
      ]
     },
     "execution_count": 3,
     "metadata": {},
     "output_type": "execute_result"
    },
    {
     "data": {
      "text/plain": [
       "- : float * float = (2., 2.)\n"
      ]
     },
     "execution_count": 3,
     "metadata": {},
     "output_type": "execute_result"
    }
   ],
   "source": [
    "let milieu (xa,ya) (xb,yb) =\n",
    "    let a = (xa+.xb)/.2. in\n",
    "    let b = (ya+.yb)/.2. in\n",
    "    (a,b);;\n",
    "milieu (0.,0.) (4.,4.)"
   ]
  },
  {
   "cell_type": "markdown",
   "id": "da58592f",
   "metadata": {},
   "source": [
    "**Exercice** Écrire une fonction `parallelogramme : float*float -> float*float -> float*float -> float*float -> bool` telle que `parallelogramme p1 p2 p3 p4` renvoie `true` si les points `p1`, `p1`, `p1`, `p1` forment un parallélogramme, c'est à dire si les côtés opposés sont (approximativement) de même longueur.  \n",
    "On fera attention à ne pas comparer 2 flottants avec `=`, mais regarder à la place si la différence est petite (< 0.001 par exemple)."
   ]
  },
  {
   "cell_type": "code",
   "execution_count": 6,
   "id": "e089a213-0b4a-4a69-a681-9bd7f0d17688",
   "metadata": {},
   "outputs": [
    {
     "data": {
      "text/plain": [
       "val parallelogramme :\n",
       "  float * float -> float * float -> float * float -> float * float -> bool =\n",
       "  <fun>\n"
      ]
     },
     "execution_count": 6,
     "metadata": {},
     "output_type": "execute_result"
    },
    {
     "data": {
      "text/plain": [
       "- : bool = true\n"
      ]
     },
     "execution_count": 6,
     "metadata": {},
     "output_type": "execute_result"
    }
   ],
   "source": [
    "let parallelogramme (xa,ya) (xb,yb) (xc,yc) (xd,yd) =\n",
    "    let dif1 = sqrt((distance (xa,ya) (xb,yb))**2. -. ((distance (xc,yc) (xd,yd))**2.)) in\n",
    "    let dif2 = sqrt((distance (xb,yb) (xc,yc))**2. -. ((distance (xd,yd) (xa,ya))**2.)) in\n",
    "    if ((dif1+.dif2)< 0.01) then true else false;;\n",
    "parallelogramme (0.,0.) (6.,0.) (8.,6.) (2.,6.)"
   ]
  },
  {
   "cell_type": "markdown",
   "id": "70f6ebc5",
   "metadata": {},
   "source": [
    "# Congruence\n",
    "\n",
    "Le but de cet exercice est de calculer $1357^{2013}$ mod $5$ (mais la méthode utilisée s'applique dans un grande nombre d'exercices mathématiques).  \n",
    "On rappelle que les congruences sont compatibles avec la puissance :\n",
    "$$a \\equiv b [n] \\Longrightarrow a^k \\equiv b^k [n]$$\n",
    "\n",
    "1. Soit $k$ un entier positif. Que vaut $2^{4k}$ mod $5$? On pourra calculer des valeurs avec OCaml puis le démontrer mathématiquement.\n",
    "2. Que vaut $1357$ mod $5$? En déduire la valeur de $1357^{2013}$ mod $5$."
   ]
  },
  {
   "cell_type": "markdown",
   "id": "41c60907",
   "metadata": {},
   "source": [
    "# Nombres aléatoires\n",
    "\n",
    "`Random.int n` permet d'obtenir un entier uniformément au hasard entre 0 et `n - 1` (chacun de ces entiers a la même probabilité $\\frac{1}{n}$ d'être obtenu).  \n",
    "Dans cet exercice, on imagine que l'on possède comme seule source aléatoire un dé à 5 faces (c'est à dire que l'on a seulement le droit d'utiliser `Random.int 5`).\n",
    "\n",
    "1. Calculer `(Random.int 5) + (Random.int 5)` plusieurs fois. Est-ce que le résultat vous semble être un entier uniformément au hasard entre 0 et 8?  \n",
    "2. Quelle est la probabilité d'obtenir `0` avec `(Random.int 5) + (Random.int 5)`? D'obtenir `1`? Quelle est l'entier qui a le plus de chances d'apparaître?\n",
    "3. Comment générer uniformément un entier entre 0 et 24? (C'est à dire passer de 5 possibilités à 25)\n",
    "3. Comment générer uniformément un entier entre 0 et 6? Écrire une fonction pour le faire. On utilisera une méthode par rejection (rejection sampling) : générer dans un espace plus grand et regénérer si la valeur n'est pas dans l'intervalle souhaité.  \n",
    "Pour cela on utilisera une boucle while :\n",
    "```ocaml\n",
    "while ... do\n",
    "    ...\n",
    "done\n",
    "```"
   ]
  },
  {
   "cell_type": "code",
   "execution_count": null,
   "id": "2beff3cf",
   "metadata": {},
   "outputs": [],
   "source": []
  }
 ],
 "metadata": {
  "kernelspec": {
   "display_name": "OCaml default",
   "language": "OCaml",
   "name": "ocaml-jupyter"
  },
  "language_info": {
   "codemirror_mode": "text/x-ocaml",
   "file_extension": ".ml",
   "mimetype": "text/x-ocaml",
   "name": "OCaml",
   "nbconverter_exporter": null,
   "pygments_lexer": "OCaml",
   "version": "4.08.1"
  }
 },
 "nbformat": 4,
 "nbformat_minor": 5
}
