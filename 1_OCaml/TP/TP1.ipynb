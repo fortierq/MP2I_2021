{
 "cells": [
  {
   "cell_type": "markdown",
   "id": "e5f3d70e",
   "metadata": {},
   "source": [
    "# Types\n",
    "\n",
    "Devinez le type des fonctions suivantes et vérifier avec OCaml :\n",
    "```ocaml\n",
    "let f x y = x**y\n",
    "```\n",
    "```ocaml\n",
    "let g x y = x (y + 1)\n",
    "```\n",
    "```ocaml\n",
    "let h x y z = x (3. *. (y z)) + 1\n",
    "```\n",
    "Puis utilisez ces fonctions sur des arguments de votre choix."
   ]
  },
  {
   "cell_type": "markdown",
   "id": "2a10d305-a22b-48a9-9639-8b4047b41e96",
   "metadata": {},
   "source": [
    "# Tangente hyperbolique\n",
    "\n",
    "Définir en OCaml la fonction $\\tanh : x \\longmapsto \\frac{e^x - e^{-x}}{e^x + e^{-x}}$ en utilisant un seul appel à la fonction `exp : float -> float` de OCaml."
   ]
  },
  {
   "cell_type": "code",
   "execution_count": 8,
   "id": "7bd4360d-950e-46fc-966e-e635ab4c6896",
   "metadata": {},
   "outputs": [
    {
     "data": {
      "text/plain": [
       "val tanh : float -> float = <fun>\n"
      ]
     },
     "execution_count": 8,
     "metadata": {},
     "output_type": "execute_result"
    },
    {
     "data": {
      "text/plain": [
       "- : float = 0.999909204262595\n"
      ]
     },
     "execution_count": 8,
     "metadata": {},
     "output_type": "execute_result"
    }
   ],
   "source": [
    "let tanh x = \n",
    "    let ex = exp x in  (* put e^x in a variable ex to use the function exp only one time *)\n",
    "    (ex -. (1. /. ex)) /. (ex +. (1. /. ex)) ;;\n",
    "    \n",
    "tanh 5."
   ]
  },
  {
   "cell_type": "markdown",
   "id": "fc8ce049",
   "metadata": {},
   "source": [
    "# Géométrie\n",
    "\n",
    "Le type `float*float` désigne un couple de flottant, représentant un point `p` dans $\\mathbb{R}^2$. On peut récupérer les coordonnées de `p` avec `let x, y = p` . Par exemple :"
   ]
  },
  {
   "cell_type": "code",
   "execution_count": 1,
   "id": "88e5be36",
   "metadata": {
    "execution": {
     "iopub.execute_input": "2021-09-06T11:40:05.869393Z",
     "iopub.status.busy": "2021-09-06T11:40:05.866912Z",
     "iopub.status.idle": "2021-09-06T11:40:05.875260Z",
     "shell.execute_reply": "2021-09-06T11:40:05.873454Z"
    }
   },
   "outputs": [
    {
     "data": {
      "text/plain": [
       "- : float = 2.1\n"
      ]
     },
     "execution_count": 1,
     "metadata": {},
     "output_type": "execute_result"
    }
   ],
   "source": [
    "let p = (2.1, 3.7) in (* exemple de point *)\n",
    "let x, y = p in (* récupération des coordonnées *)\n",
    "x;; (* affichage de x *)"
   ]
  },
  {
   "cell_type": "markdown",
   "id": "7c497359",
   "metadata": {},
   "source": [
    "**Exercice** Écrire une fonction `aire_boule : float -> float` telle que `aire_boule r` renvoie l'aire d'une boule (disque en dimension 3) de rayon `r`, c'est à dire $\\frac{4 \\pi r^3}{3}$. On pourra utiliser `Float.pi`."
   ]
  },
  {
   "cell_type": "code",
   "execution_count": 13,
   "id": "c7a45af3-e664-4484-b5a3-122b0a9dd1a4",
   "metadata": {},
   "outputs": [
    {
     "data": {
      "text/plain": [
       "val aire_boule : float -> float = <fun>\n"
      ]
     },
     "execution_count": 13,
     "metadata": {},
     "output_type": "execute_result"
    },
    {
     "data": {
      "text/plain": [
       "- : float = 4.18879020478639053\n"
      ]
     },
     "execution_count": 13,
     "metadata": {},
     "output_type": "execute_result"
    }
   ],
   "source": [
    "let aire_boule r = \n",
    "    (4. *. Float.pi *. r *. r *. r) /. 3.;;\n",
    "\n",
    "aire_boule 1."
   ]
  },
  {
   "cell_type": "markdown",
   "id": "33056159",
   "metadata": {},
   "source": [
    "**Exercice** Écrire une fonction `distance : float*float -> float*float -> float` telle que `distance p1 p2` renvoie la distance euclidienne entre les points `p1` et `p2`.  \n",
    "Vérifier que la distance entre $(0, 0)$ et $(1, 1)$ est (approximativement) $\\sqrt{2}$."
   ]
  },
  {
   "cell_type": "code",
   "execution_count": 4,
   "id": "d6e26c04-9207-47cf-a183-fb706aec4300",
   "metadata": {},
   "outputs": [
    {
     "data": {
      "text/plain": [
       "val distance : float * float -> float * float -> float = <fun>\n"
      ]
     },
     "execution_count": 4,
     "metadata": {},
     "output_type": "execute_result"
    },
    {
     "data": {
      "text/plain": [
       "- : float = 1.41421356237309515\n"
      ]
     },
     "execution_count": 4,
     "metadata": {},
     "output_type": "execute_result"
    }
   ],
   "source": [
    "let distance p1 p2 =\n",
    "    let x1, y1 = p1 in\n",
    "    let x2, y2 = p2 in\n",
    "    sqrt ( ((x2 -. x1)**2.) +. ((y2 -. y1)**2.));;\n",
    "\n",
    "distance (0.,0.) (1.,1.)"
   ]
  },
  {
   "cell_type": "markdown",
   "id": "311d0730",
   "metadata": {},
   "source": [
    "**Exercice** Écrire une fonction `polaire : float*float -> float*float` qui, étant donné les coordonnées cartésiennes $(x, y)$ d'un point, renvoie ses coordonnées polaires $(r, \\theta)$. On pourra utiliser `cos` et `sin` en OCaml.  \n",
    "Quelles sont les coordonnées polaires de $(x, y) = (1, 1)$, de $(x, y) = (\\frac{\\sqrt{3}}{2}, \\frac{1}{2})$?\n",
    "\n",
    "Les coordonnées polaires de $(x, y) = (1, 1)$ sont x=$sqrt(2)$ et y=$pi/4$.  \n",
    "Les coordonnées polaires de $(x, y) = (sqrt(3)/2, 1/2)$ sont x=$1$ et y=$pi/6$"
   ]
  },
  {
   "cell_type": "code",
   "execution_count": 15,
   "id": "70282dad-08ed-4d17-8fc9-da48de81f4b2",
   "metadata": {},
   "outputs": [
    {
     "data": {
      "text/plain": [
       "val polaire : float * float -> float * float = <fun>\n"
      ]
     },
     "execution_count": 15,
     "metadata": {},
     "output_type": "execute_result"
    },
    {
     "data": {
      "text/plain": [
       "- : float * float = (0.999999999999999889, 0.523598775598298927)\n"
      ]
     },
     "execution_count": 15,
     "metadata": {},
     "output_type": "execute_result"
    }
   ],
   "source": [
    "let polaire coord =\n",
    "    let x, y = coord in\n",
    "    let r = distance (0.,0.) (x, y) in (* need to use the previous function 'distance' *)\n",
    "    (r , 2. *. atan ( y /. (x +. r) ));;\n",
    "    \n",
    "(* polaire (1. , 1.); *)\n",
    "(* polaire ((sqrt 3. )/.2. , 1./.2.) *)"
   ]
  },
  {
   "cell_type": "markdown",
   "id": "10dcf4cb",
   "metadata": {},
   "source": [
    "**Exercice** Écrire une fonction `milieu : float*float -> float*float -> float*float` telle que `milieu p1 p2` renvoie le milieu du segment d'extrémités `p1` et `p2`."
   ]
  },
  {
   "cell_type": "code",
   "execution_count": 8,
   "id": "ae6304f0-c8ac-4723-bcd0-c14786a645f2",
   "metadata": {},
   "outputs": [
    {
     "data": {
      "text/plain": [
       "val milieu : float * float -> float * float -> float * float = <fun>\n"
      ]
     },
     "execution_count": 8,
     "metadata": {},
     "output_type": "execute_result"
    },
    {
     "data": {
      "text/plain": [
       "- : float * float = (3., 2.)\n"
      ]
     },
     "execution_count": 8,
     "metadata": {},
     "output_type": "execute_result"
    }
   ],
   "source": [
    "let milieu p1 p2 = \n",
    "    let x1, y1 = p1 in\n",
    "    let x2, y2 = p2 in\n",
    "    ((x1 +. x2) /. 2. , (y1 +. y2) /. 2. );;\n",
    "\n",
    "milieu (1.,0.) (5.,4.)"
   ]
  },
  {
   "cell_type": "markdown",
   "id": "da58592f",
   "metadata": {},
   "source": [
    "**Exercice** Écrire une fonction `parallelogramme : float*float -> float*float -> float*float -> float*float -> bool` telle que `parallelogramme p1 p2 p3 p4` renvoie `true` si les points `p1`, `p1`, `p1`, `p1` forment un parallélogramme, c'est à dire si les côtés opposés sont (approximativement) de même longueur.  \n",
    "On fera attention à ne pas comparer 2 flottants avec `=`, mais regarder à la place si la différence est petite (< 0.001 par exemple)."
   ]
  },
  {
   "cell_type": "code",
   "execution_count": 6,
   "id": "fea33b3c-e9cb-4230-a3e6-b7af6c3cd3bf",
   "metadata": {},
   "outputs": [
    {
     "data": {
      "text/plain": [
       "val parallelogramme :\n",
       "  float * float -> float * float -> float * float -> float * float -> bool =\n",
       "  <fun>\n"
      ]
     },
     "execution_count": 6,
     "metadata": {},
     "output_type": "execute_result"
    },
    {
     "data": {
      "text/plain": [
       "- : bool = true\n"
      ]
     },
     "execution_count": 6,
     "metadata": {},
     "output_type": "execute_result"
    }
   ],
   "source": [
    "let parallelogramme p1 p2 p3 p4 = (* need to use the previous function 'distance' *)\n",
    "    let par1 = (distance p1 p2 -. distance p3 p4 < 0.001) && (distance p1 p2 -. distance p3 p4 > -0.001) in\n",
    "    let par2 = (distance p2 p3 -. distance p4 p1 < 0.001) && (distance p2 p3 -. distance p4 p1 > -0.001) in\n",
    "    (par1 && par2);;\n",
    "\n",
    "parallelogramme (1.,0.) (1.,1.) (0.,1.) (0.,0.)"
   ]
  },
  {
   "cell_type": "markdown",
   "id": "70f6ebc5",
   "metadata": {},
   "source": [
    "# Congruence\n",
    "\n",
    "Le but de cet exercice est de calculer $1357^{2013}$ mod $5$ (mais la méthode utilisée s'applique dans un grande nombre d'exercices mathématiques).  \n",
    "On rappelle que les congruences sont compatibles avec la puissance :\n",
    "$$a \\equiv b [n] \\Longrightarrow a^k \\equiv b^k [n]$$\n",
    "\n",
    "1. Soit $k$ un entier positif. Que vaut $2^{4k}$ mod $5$? On pourra calculer des valeurs avec OCaml puis le démontrer mathématiquement.\n",
    "2. Que vaut $1357$ mod $5$? En déduire la valeur de $1357^{2013}$ mod $5$."
   ]
  },
  {
   "cell_type": "code",
   "execution_count": 12,
   "id": "bd0c8802-bebe-44a9-87d4-680af3969f8e",
   "metadata": {},
   "outputs": [
    {
     "data": {
      "text/plain": [
       "- : int = 1\n"
      ]
     },
     "execution_count": 12,
     "metadata": {},
     "output_type": "execute_result"
    }
   ],
   "source": [
    "int_of_float (2. ** (4. *. 1.)) mod 5"
   ]
  },
  {
   "cell_type": "code",
   "execution_count": 13,
   "id": "5d273a4f-e1a9-4821-a4c3-3a86727e4f62",
   "metadata": {},
   "outputs": [
    {
     "data": {
      "text/plain": [
       "- : int = 1\n"
      ]
     },
     "execution_count": 13,
     "metadata": {},
     "output_type": "execute_result"
    }
   ],
   "source": [
    "int_of_float (2. ** (4. *. 2.)) mod 5"
   ]
  },
  {
   "cell_type": "code",
   "execution_count": 14,
   "id": "41fdabfb-bb64-4d6d-b29c-fc4ca3a9c3dc",
   "metadata": {},
   "outputs": [
    {
     "data": {
      "text/plain": [
       "- : int = 1\n"
      ]
     },
     "execution_count": 14,
     "metadata": {},
     "output_type": "execute_result"
    }
   ],
   "source": [
    "int_of_float (2. ** (4. *. 3.)) mod 5"
   ]
  },
  {
   "cell_type": "code",
   "execution_count": 15,
   "id": "7e7c4f2d-b135-4efd-b4dc-ab4916808cc4",
   "metadata": {},
   "outputs": [
    {
     "data": {
      "text/plain": [
       "- : int = 1\n"
      ]
     },
     "execution_count": 15,
     "metadata": {},
     "output_type": "execute_result"
    },
    {
     "ename": "interrupt",
     "evalue": "intterupt",
     "output_type": "error",
     "traceback": [
      "\u001b[31mException: Sys.Break.\u001b[0m"
     ]
    }
   ],
   "source": [
    "int_of_float (2. ** (4. *. 4.)) mod 5"
   ]
  },
  {
   "cell_type": "markdown",
   "id": "199dbe96-000a-480f-8553-663fc86741a9",
   "metadata": {},
   "source": [
    "1. $2^{4k}$ mod $5$ vaut 1 pour tout k entier positif.   \n",
    "\n",
    "Démontrons par récurrence que pour tout k entier $$2^{4k} \\equiv 1 [n]$$   \n",
    "\n",
    "-Initialisation: pour k=0, 2^4k=1 donc 2^4k = 1 (5)  \n",
    "-Hérédité: On suppose que pour un certain k entier positif 2^(4k)=1(5)  \n",
    "2^(4k) = 1(5)   \n",
    "2^(4k) * 2^4 = 2^4(5)  or  2^4=1(5)  donc  \n",
    "2^(4(k+1)) = 1(5)  \n",
    "-Conclusion: La proposition est vrai au rang 0, elle est héréditaire donc par principe de récurrence: $$2^{4k} \\equiv 1 [n]$$   \n",
    "2. $1357$ =1 (5) donc d'après la formule ci-dessus, $1357^{2013}$ =$1^{2013}$ (5) donc $1357^{2013}$ =1 (5)"
   ]
  },
  {
   "cell_type": "markdown",
   "id": "41c60907",
   "metadata": {},
   "source": [
    "# Nombres aléatoires\n",
    "\n",
    "`Random.int n` permet d'obtenir un entier uniformément au hasard entre 0 et `n - 1` (chacun de ces entiers a la même probabilité $\\frac{1}{n}$ d'être obtenu).  \n",
    "Dans cet exercice, on imagine que l'on possède comme seule source aléatoire un dé à 5 faces (c'est à dire que l'on a seulement le droit d'utiliser `Random.int 5`).\n",
    "\n",
    "1. Calculer `(Random.int 5) + (Random.int 5)` plusieurs fois. Est-ce que le résultat vous semble être un entier uniformément au hasard entre 0 et 8?  \n",
    "2. Quelle est la probabilité d'obtenir `0` avec `(Random.int 5) + (Random.int 5)`? D'obtenir `1`? Quelle est l'entier qui a le plus de chances d'apparaître?\n",
    "3. Comment générer uniformément un entier entre 0 et 24? (C'est à dire passer de 5 possibilités à 25)\n",
    "4. Comment générer uniformément un entier entre 0 et 6? Écrire une fonction pour le faire. On utilisera une méthode par rejection (rejection sampling) : générer dans un espace plus grand et regénérer si la valeur n'est pas dans l'intervalle souhaité.  \n",
    "Pour cela on utilisera une boucle while :\n",
    "```ocaml\n",
    "while ... do\n",
    "    ...\n",
    "done\n",
    "```  "
   ]
  },
  {
   "cell_type": "markdown",
   "id": "775fa077-9193-4444-acc0-7aedd5015bc7",
   "metadata": {},
   "source": [
    "1. `Non` le résultat ne semble être un entier uniformément au harsard entre 0 et 8.\n",
    "2. Pour obtenir 0 il faut obligatoirement avoir 0 sur chacun des deux dés. Sachant qu'un dé à 5 faces, la probabilités d'obtenir 0 sur un dé est de 1/5. Donc la probabilité obtenir 0 sur deux dés en même temps est de 1/5 * 1/5 soit `1/25`.     \n",
    "Pour obtenir 1 il faut avoir (0,1) ou (1,0). La probabilité est donc de 2*(1/5 * 1/5) soit `2/25`.  \n",
    "On peut regarder les différentes options pour obtenir les chiffre de 0 à 8:     \n",
    "    obtenir 0: (0,0)  \n",
    "    obtenir 1: (1,0) (0,1)  \n",
    "    obtenir 2: (2,0) (0,2) (1,1)  \n",
    "    obtenir 3: (3,0) (0,3) (2,1) (1,2)  \n",
    "    obtenir 4: (4,0) (0,4) (3,1) (1,3) (2,2)  \n",
    "    obtenir 5: (4,1) (1,4) (3,2) (2,3)  \n",
    "    obtenir 6: (4,2) (2,4) (3,3)  \n",
    "    obtenir 7: (4,3) (3,4)  \n",
    "    obtenir 8: (4,4)  \n",
    "Le chiffre avec le plus de chances d'être obtenu est donc le `4` puisqu'on peut l'obtenir de 4 manière différentes.  \n",
    "3. Pour générer uniformément un entier entre 0 et 24, on peut calculer l'instruction suivante : `5*(Random.int 5) + (Random.int 5)` \n",
    "4.Pour générer uniformément un entier entre 0 et 6, on peut générer un entier entre 0 et 24 (pour réutiliser le code de la question 3.) et relancer une génération si le nombre est supérieur à 6. "
   ]
  },
  {
   "cell_type": "code",
   "execution_count": null,
   "id": "17b9df8f-7a43-4b49-8305-ccd98f7b0894",
   "metadata": {},
   "outputs": [],
   "source": [
    "let nb = 10 in\n",
    "let change = ref nb in\n",
    "while nb > 6 do\n",
    "    change := 5*(Random.int 5) + (Random.int 5)\n",
    "done;\n"
   ]
  }
 ],
 "metadata": {
  "kernelspec": {
   "display_name": "OCaml default",
   "language": "OCaml",
   "name": "ocaml-jupyter"
  },
  "language_info": {
   "codemirror_mode": "text/x-ocaml",
   "file_extension": ".ml",
   "mimetype": "text/x-ocaml",
   "name": "OCaml",
   "nbconverter_exporter": null,
   "pygments_lexer": "OCaml",
   "version": "4.08.1"
  }
 },
 "nbformat": 4,
 "nbformat_minor": 5
}
