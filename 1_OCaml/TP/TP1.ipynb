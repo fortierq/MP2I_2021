{
 "cells": [
  {
   "cell_type": "markdown",
   "id": "4ef1c104",
   "metadata": {},
   "source": [
    "# TP1 : Types, variables, fonctions"
   ]
  },
  {
   "cell_type": "markdown",
   "id": "becd8118",
   "metadata": {
    "tags": []
   },
   "source": [
    "## Types\n",
    "\n",
    "Devinez le type des fonctions suivantes et vérifier avec OCaml :\n",
    "```ocaml\n",
    "let f x y = x**y\n",
    "```\n",
    "```ocaml\n",
    "let g x y = x (y + 1)\n",
    "```\n",
    "```ocaml\n",
    "let h x y z = x (3. *. (y z)) + 1\n",
    "```\n",
    "Puis tester ces fonctions sur des arguments de votre choix."
   ]
  },
  {
   "cell_type": "markdown",
   "id": "b68dee2d-5dd0-45f6-a8d3-6675e41c035c",
   "metadata": {
    "tags": []
   },
   "source": [
    "*réponses :* \n",
    "\n",
    "*  float -> float -> float\n",
    "*  (int -> 'a) -> int -> 'a \n",
    "*  (float -> int) -> ('a -> float) -> 'a -> int\n"
   ]
  },
  {
   "cell_type": "markdown",
   "id": "c22170a6-b1ce-4059-bcc7-cd99d24f4b9a",
   "metadata": {},
   "source": [
    " *test :*\n"
   ]
  },
  {
   "cell_type": "code",
   "execution_count": 5,
   "id": "cdc88291-9fe1-49db-a735-78452f456f29",
   "metadata": {
    "tags": []
   },
   "outputs": [
    {
     "data": {
      "text/plain": [
       "- : float = 32.\n"
      ]
     },
     "execution_count": 5,
     "metadata": {},
     "output_type": "execute_result"
    }
   ],
   "source": [
    "let f x y = x**y in \n",
    "f 2. 5."
   ]
  },
  {
   "cell_type": "code",
   "execution_count": 6,
   "id": "d5c4c1a9-7fe6-4d92-b699-dcf1e91d63e5",
   "metadata": {
    "tags": []
   },
   "outputs": [
    {
     "data": {
      "text/plain": [
       "- : int = 17\n"
      ]
     },
     "execution_count": 6,
     "metadata": {},
     "output_type": "execute_result"
    }
   ],
   "source": [
    "let x a = 10+a in\n",
    "let g x y = x (y + 1) in \n",
    "g x 6"
   ]
  },
  {
   "cell_type": "code",
   "execution_count": 7,
   "id": "34c8c159-2e68-4608-b4a3-97fb24d0aa76",
   "metadata": {},
   "outputs": [
    {
     "data": {
      "text/plain": [
       "- : int = 7204\n"
      ]
     },
     "execution_count": 7,
     "metadata": {},
     "output_type": "execute_result"
    }
   ],
   "source": [
    "let x a = int_of_float a  in \n",
    "let y b = 7.0 ** b in \n",
    "let h x y z = x (3. *. (y z)) + 1 in \n",
    "h x y 4."
   ]
  },
  {
   "cell_type": "markdown",
   "id": "23e9b523",
   "metadata": {},
   "source": [
    "## Tangente hyperbolique\n",
    "\n",
    "Définir en OCaml la fonction $\\tanh : x \\longmapsto \\frac{e^x - e^{-x}}{e^x + e^{-x}}$ en utilisant un seul appel à la fonction `exp : float -> float` de OCaml."
   ]
  },
  {
   "cell_type": "markdown",
   "id": "cd9abcbf-da98-4083-b2c3-24b9cc2cfb3d",
   "metadata": {},
   "source": [
    "*réponse :*"
   ]
  },
  {
   "cell_type": "code",
   "execution_count": 8,
   "id": "a5df686c-8c93-4370-aa8f-62d3b350ea5a",
   "metadata": {},
   "outputs": [
    {
     "data": {
      "text/plain": [
       "- : float = 0.999909204262595\n"
      ]
     },
     "execution_count": 8,
     "metadata": {},
     "output_type": "execute_result"
    }
   ],
   "source": [
    "let e x = exp(x) in \n",
    "let tanh a = (e a -. e (-.a))/.(e a +. e (-.a)) in \n",
    "tanh 5."
   ]
  },
  {
   "cell_type": "markdown",
   "id": "74da135f",
   "metadata": {},
   "source": [
    "## Géométrie\n",
    "\n",
    "Le type `float*float` désigne un couple de flottant, représentant un point `p` dans $\\mathbb{R}^2$. On peut récupérer les coordonnées de `p` avec `let x, y = p` . Par exemple :"
   ]
  },
  {
   "cell_type": "code",
   "execution_count": 9,
   "id": "7073f5d1",
   "metadata": {
    "tags": []
   },
   "outputs": [
    {
     "data": {
      "text/plain": [
       "- : float = 2.1\n"
      ]
     },
     "execution_count": 9,
     "metadata": {},
     "output_type": "execute_result"
    }
   ],
   "source": [
    "let p = (2.1, 3.7) in (* exemple de point *)\n",
    "let x, y = p in (* récupération des coordonnées *)\n",
    "x;; (* affichage de x *)"
   ]
  },
  {
   "cell_type": "markdown",
   "id": "898ce016",
   "metadata": {},
   "source": [
    "**Exercice** Écrire une fonction `aire_boule : float -> float` telle que `aire_boule r` renvoie l'aire d'une boule (disque en dimension 3) de rayon `r`, c'est à dire $\\frac{4 \\pi r^3}{3}$. On pourra utiliser `Float.pi`."
   ]
  },
  {
   "cell_type": "code",
   "execution_count": 10,
   "id": "de5976b0-f131-48e5-a911-066033592843",
   "metadata": {},
   "outputs": [
    {
     "data": {
      "text/plain": [
       "- : float = 523.598775598298857\n"
      ]
     },
     "execution_count": 10,
     "metadata": {},
     "output_type": "execute_result"
    }
   ],
   "source": [
    "let aire_boule r = (4. *. Float.pi *. r**3.) /. 3.0 in \n",
    "aire_boule 5.0"
   ]
  },
  {
   "cell_type": "markdown",
   "id": "18817317",
   "metadata": {},
   "source": [
    "**Exercice** Écrire une fonction `distance : float*float -> float*float -> float` telle que `distance p1 p2` renvoie la distance euclidienne entre les points `p1` et `p2`.  \n",
    "Vérifier que la distance entre $(0, 0)$ et $(1, 1)$ est (approximativement) $\\sqrt{2}$."
   ]
  },
  {
   "cell_type": "code",
   "execution_count": 15,
   "id": "09508faa-345c-4e74-bd85-748c3a9bcf1f",
   "metadata": {},
   "outputs": [
    {
     "data": {
      "text/plain": [
       "- : float = 1.41421356237309515\n"
      ]
     },
     "execution_count": 15,
     "metadata": {},
     "output_type": "execute_result"
    },
    {
     "data": {
      "text/plain": [
       "- : float = 1.41421356237309515\n"
      ]
     },
     "execution_count": 15,
     "metadata": {},
     "output_type": "execute_result"
    }
   ],
   "source": [
    "let distance p1 p2 = \n",
    "    let x1, y1 = p1 in \n",
    "    let x2, y2 = p2 in\n",
    "    ((x2-.x1)**2. +. (y2-.y1)**2.)**0.5 in \n",
    "distance (0., 0.) (1., 1.);;\n",
    "\n",
    "sqrt(2.)"
   ]
  },
  {
   "cell_type": "markdown",
   "id": "6be0092c",
   "metadata": {},
   "source": [
    "**Exercice** Écrire une fonction `polaire : float*float -> float*float` qui, étant donné les coordonnées polaires $(r, \\theta)$ d'un point, renvoie ses coordonnées cartésiennes $(x, y)$. On rappelle que $x = r\\cos(\\theta)$ et $y = r\\sin(\\theta)$. On pourra utiliser `cos` et `sin` en OCaml."
   ]
  },
  {
   "cell_type": "code",
   "execution_count": 12,
   "id": "107c4e9a-b285-4b95-9e22-1506b15f153a",
   "metadata": {},
   "outputs": [
    {
     "data": {
      "text/plain": [
       "val polaire : float * float -> float * float = <fun>\n"
      ]
     },
     "execution_count": 12,
     "metadata": {},
     "output_type": "execute_result"
    },
    {
     "data": {
      "text/plain": [
       "- : float * float = (3.00000000000000089, 5.19615242270663202)\n"
      ]
     },
     "execution_count": 12,
     "metadata": {},
     "output_type": "execute_result"
    }
   ],
   "source": [
    "let polaire p =\n",
    "    let r, theta = p in \n",
    "    let x = r *. cos(theta) in \n",
    "    let y = r *. sin(theta) in \n",
    "    (x, y) ;;\n",
    "    \n",
    "polaire (6., Float.pi/.3.)"
   ]
  },
  {
   "cell_type": "markdown",
   "id": "2992c0fe",
   "metadata": {},
   "source": [
    "**Exercice** Écrire une fonction `milieu : float*float -> float*float -> float*float` telle que `milieu p1 p2` renvoie le milieu du segment d'extrémités `p1` et `p2`."
   ]
  },
  {
   "cell_type": "code",
   "execution_count": 13,
   "id": "bc5577c9-027d-4618-b3ae-438e16f12754",
   "metadata": {},
   "outputs": [
    {
     "data": {
      "text/plain": [
       "val milieu : float * float -> float * float -> float * float = <fun>\n"
      ]
     },
     "execution_count": 13,
     "metadata": {},
     "output_type": "execute_result"
    },
    {
     "data": {
      "text/plain": [
       "- : float * float = (3.75, 7.6)\n"
      ]
     },
     "execution_count": 13,
     "metadata": {},
     "output_type": "execute_result"
    }
   ],
   "source": [
    "let milieu p1 p2 = \n",
    "    let x1, y1 = p1 in \n",
    "    let x2, y2 = p2 in\n",
    "    let x = (x1 +. x2) /. 2. in\n",
    "    let y = (y1 +. y2) /. 2. in\n",
    "    (x, y) ;;\n",
    "    \n",
    "milieu (3., 6.2) (4.5, 9.)"
   ]
  },
  {
   "cell_type": "markdown",
   "id": "b0d67dd4",
   "metadata": {},
   "source": [
    "**Exercice** Écrire une fonction `parallelogramme : float*float -> float*float -> float*float -> float*float -> bool` telle que `parallelogramme p1 p2 p3 p4` renvoie `true` si les points `p1`, `p2`, `p3`, `p4` forment un parallélogramme, c'est à dire si les côtés opposés sont (approximativement) de même longueur.  \n",
    "On fera attention à ne pas comparer 2 flottants avec `=`, mais regarder à la place si la différence est petite (< 0.001 par exemple)."
   ]
  },
  {
   "cell_type": "code",
   "execution_count": 26,
   "id": "0a8cafcf-a8a6-4d37-be61-274068141249",
   "metadata": {},
   "outputs": [
    {
     "data": {
      "text/plain": [
       "val distance : float * float -> float * float -> float = <fun>\n"
      ]
     },
     "execution_count": 26,
     "metadata": {},
     "output_type": "execute_result"
    },
    {
     "data": {
      "text/plain": [
       "val parallelogramme :\n",
       "  float * float -> float * float -> float * float -> float * float -> bool =\n",
       "  <fun>\n"
      ]
     },
     "execution_count": 26,
     "metadata": {},
     "output_type": "execute_result"
    },
    {
     "data": {
      "text/plain": [
       "- : bool = false\n"
      ]
     },
     "execution_count": 26,
     "metadata": {},
     "output_type": "execute_result"
    },
    {
     "data": {
      "text/plain": [
       "- : bool = true\n"
      ]
     },
     "execution_count": 26,
     "metadata": {},
     "output_type": "execute_result"
    }
   ],
   "source": [
    "let distance p1 p2 = \n",
    "    let x1, y1 = p1 in \n",
    "    let x2, y2 = p2 in\n",
    "    ((x2-.x1)**2. +. (y2-.y1)**2.)**0.5 ;;\n",
    "\n",
    "let parallelogramme p1 p2 p3 p4 = \n",
    "    let long1 = distance p1 p2 in\n",
    "    let larg1 = distance p1 p4 in\n",
    "    let larg2 = distance p2 p3 in \n",
    "    let long2 = distance p3 p4 in \n",
    "    abs_float(long1 -. long2) < 0.001 && abs_float(larg1-.larg2) < 0.001 ;;\n",
    "\n",
    "parallelogramme (0.,3.) (1.,7.) (5.,4.) (6.,8.) ;;\n",
    "parallelogramme (1.,5.) (4.,6.) (3.,1.) (0.,0.) ;;\n",
    "    "
   ]
  },
  {
   "cell_type": "markdown",
   "id": "8a89d768",
   "metadata": {
    "tags": []
   },
   "source": [
    "## Congruence\n",
    "\n",
    "Le but de cet exercice est de calculer $1357^{2013}$ mod $5$ (mais la méthode utilisée s'applique dans un grande nombre d'exercices mathématiques).  \n",
    "On rappelle que les congruences sont compatibles avec la puissance :\n",
    "$$a \\equiv b [n] \\Longrightarrow a^k \\equiv b^k [n]$$\n",
    "\n",
    "1. Soit $k$ un entier positif. Que vaut $2^{4k}$ mod $5$? On pourra calculer des valeurs avec OCaml puis le démontrer mathématiquement.\n",
    "2. Que vaut $1357$ mod $5$? En déduire la valeur de $1357^{2013}$ mod $5$."
   ]
  },
  {
   "cell_type": "markdown",
   "id": "456bd411-1236-4fb5-b814-e04d5660cdf6",
   "metadata": {},
   "source": [
    "* *réponse 1 :*"
   ]
  },
  {
   "cell_type": "code",
   "execution_count": 2,
   "id": "3ed76dfa-021f-4a4f-8036-fbd42ea72d8d",
   "metadata": {},
   "outputs": [
    {
     "data": {
      "text/plain": [
       "- : int * int = (1, 1)\n"
      ]
     },
     "execution_count": 2,
     "metadata": {},
     "output_type": "execute_result"
    },
    {
     "data": {
      "text/plain": [
       "- : int * int = (1, 1)\n"
      ]
     },
     "execution_count": 2,
     "metadata": {},
     "output_type": "execute_result"
    },
    {
     "data": {
      "text/plain": [
       "- : int * int = (1, 1)\n"
      ]
     },
     "execution_count": 2,
     "metadata": {},
     "output_type": "execute_result"
    },
    {
     "data": {
      "text/plain": [
       "- : int * int = (1, 1)\n"
      ]
     },
     "execution_count": 2,
     "metadata": {},
     "output_type": "execute_result"
    },
    {
     "data": {
      "text/plain": [
       "- : int * int = (1, 1)\n"
      ]
     },
     "execution_count": 2,
     "metadata": {},
     "output_type": "execute_result"
    },
    {
     "data": {
      "text/plain": [
       "- : int * int = (1, 1)\n"
      ]
     },
     "execution_count": 2,
     "metadata": {},
     "output_type": "execute_result"
    }
   ],
   "source": [
    "int_of_float (2.** 4.) mod 5, 16 mod 5 ;;\n",
    "int_of_float(2.** (4.*.2.)) mod 5, int_of_float(16.**2.) mod 5 ;;\n",
    "int_of_float(2.** (4.*.3.)) mod 5, int_of_float(16.**3.) mod 5 ;;\n",
    "int_of_float(2.** (4.*.6.)) mod 5, int_of_float(16.**6.) mod 5 ;;\n",
    "int_of_float(2.** (4.*.8.)) mod 5, int_of_float(16.**8.) mod 5 ;;\n",
    "int_of_float(2.** (4.*.10.)) mod 5, int_of_float(16.**10.) mod 5 ;;"
   ]
  },
  {
   "cell_type": "markdown",
   "id": "420e832e-d4ec-4810-98b0-7d488e8c7384",
   "metadata": {},
   "source": [
    "On suppose donc que $2^{4k}$ mod $5$, pour tout $k$ entier positif, est égal à 1.\n",
    "\n",
    "On le démontre : $2^{4k}=16^{k}$, or $16= 3 * 5 + 1$ donc $$16 \\equiv 1 [5]$$ \n",
    "Et par propriété des congruences, on a donc : $$16^{k} \\equiv 1 [5]$$ \n",
    "on obtient finalement : $$2^{4k} \\equiv 1 [5]$$\n"
   ]
  },
  {
   "cell_type": "markdown",
   "id": "7b65fcd5-6865-468a-b951-a96d84cfdb05",
   "metadata": {},
   "source": [
    "* *réponse 2 :*"
   ]
  },
  {
   "cell_type": "code",
   "execution_count": 3,
   "id": "118dd4e9-780f-450a-abd4-8b521820dc71",
   "metadata": {},
   "outputs": [
    {
     "data": {
      "text/plain": [
       "- : int = 2\n"
      ]
     },
     "execution_count": 3,
     "metadata": {},
     "output_type": "execute_result"
    }
   ],
   "source": [
    "1357 mod 5"
   ]
  },
  {
   "cell_type": "markdown",
   "id": "d1c61130-8639-46d9-b456-b85a29c09d11",
   "metadata": {},
   "source": [
    "on en déduit que $$1357^{2013} \\equiv 2^{2013} [5]$$ or $2013 = 4 * 503 + 1$ \n",
    "donc : $$1357^{2013} \\equiv 2^{4*503}*2 [5] \\Longleftrightarrow 1357^{2013} \\equiv 2 [5] $$"
   ]
  },
  {
   "cell_type": "markdown",
   "id": "60c42e47",
   "metadata": {},
   "source": [
    "## Nombres aléatoires\n",
    "\n",
    "`Random.int n` permet d'obtenir un entier uniformément au hasard entre 0 et `n - 1` (chacun de ces entiers a la même probabilité $\\frac{1}{n}$ d'être obtenu).  \n",
    "Dans cet exercice, on imagine que l'on possède comme seule source aléatoire un dé à 5 faces (c'est à dire que l'on a seulement le droit d'utiliser `Random.int 5`).\n",
    "\n",
    "1. Calculer `(Random.int 5) + (Random.int 5)` plusieurs fois. Est-ce que le résultat vous semble être un entier uniformément au hasard entre 0 et 8?  \n",
    "2. Quelle est la probabilité d'obtenir `0` avec `(Random.int 5) + (Random.int 5)`? D'obtenir `1`? Quelle est l'entier qui a le plus de chances d'apparaître?\n",
    "3. Comment générer uniformément un entier entre 0 et 24? (C'est à dire passer de 5 possibilités à 25)\n",
    "3. Comment générer uniformément un entier entre 0 et 6? Écrire une fonction pour le faire. On utilisera une méthode par rejection (rejection sampling) : générer dans un espace plus grand et regénérer si la valeur n'est pas dans l'intervalle souhaité.  \n",
    "Pour cela on utilisera une boucle while :\n",
    "```ocaml\n",
    "while ... do\n",
    "    ...\n",
    "done\n",
    "```"
   ]
  },
  {
   "cell_type": "markdown",
   "id": "512a2bc9-810c-4061-b6c6-77432febd208",
   "metadata": {},
   "source": [
    "* *réponse 1 :*"
   ]
  },
  {
   "cell_type": "code",
   "execution_count": 4,
   "id": "0f51903b-a5c2-4449-b64f-98a3e2d83fd5",
   "metadata": {
    "tags": []
   },
   "outputs": [
    {
     "data": {
      "text/plain": [
       "- : int = 4\n"
      ]
     },
     "execution_count": 4,
     "metadata": {},
     "output_type": "execute_result"
    },
    {
     "data": {
      "text/plain": [
       "- : int = 3\n"
      ]
     },
     "execution_count": 4,
     "metadata": {},
     "output_type": "execute_result"
    },
    {
     "data": {
      "text/plain": [
       "- : int = 4\n"
      ]
     },
     "execution_count": 4,
     "metadata": {},
     "output_type": "execute_result"
    },
    {
     "data": {
      "text/plain": [
       "- : int = 4\n"
      ]
     },
     "execution_count": 4,
     "metadata": {},
     "output_type": "execute_result"
    },
    {
     "data": {
      "text/plain": [
       "- : int = 1\n"
      ]
     },
     "execution_count": 4,
     "metadata": {},
     "output_type": "execute_result"
    },
    {
     "data": {
      "text/plain": [
       "- : int = 2\n"
      ]
     },
     "execution_count": 4,
     "metadata": {},
     "output_type": "execute_result"
    },
    {
     "data": {
      "text/plain": [
       "- : int = 7\n"
      ]
     },
     "execution_count": 4,
     "metadata": {},
     "output_type": "execute_result"
    },
    {
     "data": {
      "text/plain": [
       "- : int = 2\n"
      ]
     },
     "execution_count": 4,
     "metadata": {},
     "output_type": "execute_result"
    },
    {
     "data": {
      "text/plain": [
       "- : int = 2\n"
      ]
     },
     "execution_count": 4,
     "metadata": {},
     "output_type": "execute_result"
    },
    {
     "data": {
      "text/plain": [
       "- : int = 7\n"
      ]
     },
     "execution_count": 4,
     "metadata": {},
     "output_type": "execute_result"
    },
    {
     "data": {
      "text/plain": [
       "- : int = 7\n"
      ]
     },
     "execution_count": 4,
     "metadata": {},
     "output_type": "execute_result"
    },
    {
     "data": {
      "text/plain": [
       "- : int = 7\n"
      ]
     },
     "execution_count": 4,
     "metadata": {},
     "output_type": "execute_result"
    },
    {
     "data": {
      "text/plain": [
       "- : int = 7\n"
      ]
     },
     "execution_count": 4,
     "metadata": {},
     "output_type": "execute_result"
    },
    {
     "data": {
      "text/plain": [
       "- : int = 4\n"
      ]
     },
     "execution_count": 4,
     "metadata": {},
     "output_type": "execute_result"
    },
    {
     "data": {
      "text/plain": [
       "- : int = 0\n"
      ]
     },
     "execution_count": 4,
     "metadata": {},
     "output_type": "execute_result"
    },
    {
     "data": {
      "text/plain": [
       "- : int = 6\n"
      ]
     },
     "execution_count": 4,
     "metadata": {},
     "output_type": "execute_result"
    },
    {
     "data": {
      "text/plain": [
       "- : int = 1\n"
      ]
     },
     "execution_count": 4,
     "metadata": {},
     "output_type": "execute_result"
    },
    {
     "data": {
      "text/plain": [
       "- : int = 4\n"
      ]
     },
     "execution_count": 4,
     "metadata": {},
     "output_type": "execute_result"
    }
   ],
   "source": [
    "(Random.int 5) + (Random.int 5);;\n",
    "(Random.int 5) + (Random.int 5);;\n",
    "(Random.int 5) + (Random.int 5);;\n",
    "(Random.int 5) + (Random.int 5);;\n",
    "(Random.int 5) + (Random.int 5);;\n",
    "(Random.int 5) + (Random.int 5);;\n",
    "(Random.int 5) + (Random.int 5);;\n",
    "(Random.int 5) + (Random.int 5);;\n",
    "(Random.int 5) + (Random.int 5);;\n",
    "(Random.int 5) + (Random.int 5);;\n",
    "(Random.int 5) + (Random.int 5);;\n",
    "(Random.int 5) + (Random.int 5);;\n",
    "(Random.int 5) + (Random.int 5);;\n",
    "(Random.int 5) + (Random.int 5);;\n",
    "(Random.int 5) + (Random.int 5);;\n",
    "(Random.int 5) + (Random.int 5);;\n",
    "(Random.int 5) + (Random.int 5);;\n",
    "(Random.int 5) + (Random.int 5);;"
   ]
  },
  {
   "cell_type": "markdown",
   "id": "80f634ca-e5ef-456f-8751-96eae784f81c",
   "metadata": {},
   "source": [
    "Il semble que certains entiers sortent plus que d'autres, donc que les probabilités ne sont pas équiprobables"
   ]
  },
  {
   "cell_type": "markdown",
   "id": "5d0417a2-3b04-45e5-916a-cfbc7fe52e0b",
   "metadata": {},
   "source": [
    "* *réponse 2 :*"
   ]
  },
  {
   "cell_type": "markdown",
   "id": "beaf82ca-8282-4f1c-97e8-2f651817fa22",
   "metadata": {},
   "source": [
    "on obtient le tableau de probabilité suivant correspondant à l'expérience du double lancer de dé à 5 faces :\n",
    "\n",
    "tirage |0|1|2|3|4|5|6|7|8\n",
    "-------|----|----|----|----|----|----|----|----|---\n",
    "probabilité |1/25|2/25|3/25|4/25|5/25|4/25|3/25|2/25|1/25\n",
    "\n",
    "On a donc plus de chance d'obtenir un 5"
   ]
  },
  {
   "cell_type": "markdown",
   "id": "26d4c8f6-db50-4d6a-915a-d48682a5fea7",
   "metadata": {},
   "source": [
    "* *réponse 3 :*"
   ]
  },
  {
   "cell_type": "markdown",
   "id": "cc7c9ee6-0a41-42ae-b115-e0ac9d7914a6",
   "metadata": {},
   "source": [
    "pour passer de 5 possibilités à 25, on peut utiliser `(Random.int 5) + (Random.int 5) + (Random.int 5) + (Random.int 5) + (Random.int 5)` mais le tirage ne sera pas uniforme. il le sera si on utilise `(Random.int 25)`"
   ]
  }
 ],
 "metadata": {
  "kernelspec": {
   "display_name": "OCaml default",
   "language": "OCaml",
   "name": "ocaml-jupyter"
  },
  "language_info": {
   "codemirror_mode": "text/x-ocaml",
   "file_extension": ".ml",
   "mimetype": "text/x-ocaml",
   "name": "OCaml",
   "nbconverter_exporter": null,
   "pygments_lexer": "OCaml",
   "version": "4.08.1"
  }
 },
 "nbformat": 4,
 "nbformat_minor": 5
}
