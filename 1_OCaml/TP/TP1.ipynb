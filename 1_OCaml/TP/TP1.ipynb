{
 "cells": [
  {
   "cell_type": "markdown",
   "id": "4ef1c104",
   "metadata": {},
   "source": [
    "# TP1 : Types, variables, fonctions"
   ]
  },
  {
   "cell_type": "markdown",
   "id": "becd8118",
   "metadata": {},
   "source": [
    "## Types\n",
    "\n",
    "Devinez le type des fonctions suivantes et vérifier avec OCaml :\n",
    "```ocaml\n",
    "let f x y = x**y\n",
    "(*float -> float -> float*)\n",
    "```\n",
    "```ocaml\n",
    "let g x y = x (y + 1)\n",
    "(* (int -> 'a) -> int -> 'a *)\n",
    "```\n",
    "```ocaml\n",
    "let h x y z = x (3. *. (y z)) + 1\n",
    "(*(float -> int) -> ('a -> float) -> 'a -> int*)\n",
    "```\n",
    "Puis tester ces fonctions sur des arguments de votre choix."
   ]
  },
  {
   "cell_type": "code",
   "execution_count": 320,
   "id": "4498caee-cff0-4f16-b1ab-9e3045a33c7c",
   "metadata": {},
   "outputs": [
    {
     "data": {
      "text/plain": [
       "- : float = 8.\n"
      ]
     },
     "execution_count": 320,
     "metadata": {},
     "output_type": "execute_result"
    },
    {
     "data": {
      "text/plain": [
       "- : int = 37\n"
      ]
     },
     "execution_count": 320,
     "metadata": {},
     "output_type": "execute_result"
    }
   ],
   "source": [
    "let f x y = x**y in\n",
    "f 2.0 3.0 ;;\n",
    "\n",
    "let temp a = if a+1=1 then () else () in \n",
    "let g x y = x (y + 1) in\n",
    "g temp 2;\n",
    "\n",
    "let a x = int_of_float(x*.x) in\n",
    "let b y = 2.0 in\n",
    "let c z = 3 in\n",
    "let h x y z = x (3. *. (y z)) + 1 in\n",
    "h a b c;"
   ]
  },
  {
   "cell_type": "markdown",
   "id": "23e9b523",
   "metadata": {},
   "source": [
    "## Tangente hyperbolique\n",
    "\n",
    "Définir en OCaml la fonction $\\tanh : x \\longmapsto \\frac{e^x - e^{-x}}{e^x + e^{-x}}$ en utilisant un seul appel à la fonction `exp : float -> float` de OCaml."
   ]
  },
  {
   "cell_type": "code",
   "execution_count": 28,
   "id": "53319a15-c346-4b82-bbe2-1e4a050208b5",
   "metadata": {},
   "outputs": [
    {
     "data": {
      "text/plain": [
       "val tanh2 : float -> float = <fun>\n"
      ]
     },
     "execution_count": 29,
     "metadata": {},
     "output_type": "execute_result"
    },
    {
     "data": {
      "text/plain": [
       "- : float = 22026.4658402045861\n"
      ]
     },
     "execution_count": 29,
     "metadata": {},
     "output_type": "execute_result"
    },
    {
     "data": {
      "text/plain": [
       "- : float = 22026.4658402045861\n"
      ]
     },
     "execution_count": 29,
     "metadata": {},
     "output_type": "execute_result"
    }
   ],
   "source": [
    "let tanh2 x = \n",
    "let e y = exp(y) in\n",
    "e x -. e (-.x) /. e x +. e (-.x) ;;\n",
    "\n",
    "tanh2 10.0 ;;\n",
    "tanh 10.0 ;;"
   ]
  },
  {
   "cell_type": "markdown",
   "id": "74da135f",
   "metadata": {},
   "source": [
    "## Géométrie\n",
    "\n",
    "Le type `float*float` désigne un couple de flottant, représentant un point `p` dans $\\mathbb{R}^2$. On peut récupérer les coordonnées de `p` avec `let x, y = p` . Par exemple :"
   ]
  },
  {
   "cell_type": "code",
   "execution_count": 1,
   "id": "7073f5d1",
   "metadata": {
    "execution": {
     "iopub.execute_input": "2021-09-09T19:25:52.406644Z",
     "iopub.status.busy": "2021-09-09T19:25:52.405787Z",
     "iopub.status.idle": "2021-09-09T19:25:52.409142Z",
     "shell.execute_reply": "2021-09-09T19:25:52.408391Z"
    }
   },
   "outputs": [
    {
     "data": {
      "text/plain": [
       "- : float = 2.1\n"
      ]
     },
     "execution_count": 1,
     "metadata": {},
     "output_type": "execute_result"
    }
   ],
   "source": [
    "let p = (2.1, 3.7) in (* exemple de point *)\n",
    "let x, y = p in (* récupération des coordonnées *)\n",
    "x;; (* affichage de x *)"
   ]
  },
  {
   "cell_type": "markdown",
   "id": "898ce016",
   "metadata": {},
   "source": [
    "**Exercice** Écrire une fonction `aire_boule : float -> float` telle que `aire_boule r` renvoie l'aire d'une boule (disque en dimension 3) de rayon `r`, c'est à dire $\\frac{4 \\pi r^3}{3}$. On pourra utiliser `Float.pi`."
   ]
  },
  {
   "cell_type": "code",
   "execution_count": 54,
   "id": "f43f2bb6-d5a7-4f6f-8d69-243ef5c14169",
   "metadata": {},
   "outputs": [
    {
     "data": {
      "text/plain": [
       "- : float = 268.082573106329\n"
      ]
     },
     "execution_count": 54,
     "metadata": {},
     "output_type": "execute_result"
    }
   ],
   "source": [
    "let aire_boule r = (4.0 *. Float.pi *. r**3.0) /. 3.0 in\n",
    "aire_boule 4.0 ;;"
   ]
  },
  {
   "cell_type": "markdown",
   "id": "18817317",
   "metadata": {},
   "source": [
    "**Exercice** Écrire une fonction `distance : float*float -> float*float -> float` telle que `distance p1 p2` renvoie la distance euclidienne entre les points `p1` et `p2`.  \n",
    "Vérifier que la distance entre $(0, 0)$ et $(1, 1)$ est (approximativement) $\\sqrt{2}$."
   ]
  },
  {
   "cell_type": "code",
   "execution_count": 63,
   "id": "35d92610-e3db-4824-8fbb-cd32ae8ae8f5",
   "metadata": {},
   "outputs": [
    {
     "data": {
      "text/plain": [
       "- : float = 1.41421356237309515\n"
      ]
     },
     "execution_count": 63,
     "metadata": {},
     "output_type": "execute_result"
    },
    {
     "data": {
      "text/plain": [
       "- : float = 1.41421356237309515\n"
      ]
     },
     "execution_count": 63,
     "metadata": {},
     "output_type": "execute_result"
    }
   ],
   "source": [
    "let p1 = (0., 0.) in\n",
    "let p2 = (1., 1.) in\n",
    "let distance (x1, y1) (x2, y2) = sqrt ((x2-.x1)**2. +. (y2-.y1)**2.) in\n",
    "distance p1 p2;;\n",
    "sqrt 2. ;;"
   ]
  },
  {
   "cell_type": "markdown",
   "id": "6be0092c",
   "metadata": {},
   "source": [
    "**Exercice** Écrire une fonction `polaire : float*float -> float*float` qui, étant donné les coordonnées polaires $(r, \\theta)$ d'un point, renvoie ses coordonnées cartésiennes $(x, y)$. On rappelle que $x = r\\cos(\\theta)$ et $y = r\\sin(\\theta)$. On pourra utiliser `cos` et `sin` en OCaml."
   ]
  },
  {
   "cell_type": "code",
   "execution_count": 64,
   "id": "bd6791fd-3fa8-4a06-b792-523d8e35ad57",
   "metadata": {},
   "outputs": [
    {
     "data": {
      "text/plain": [
       "- : float * float = (1., -2.44929359829470641e-16)\n"
      ]
     },
     "execution_count": 64,
     "metadata": {},
     "output_type": "execute_result"
    }
   ],
   "source": [
    "let point = (1., 2.*.Float.pi) in \n",
    "let polaire (r, teta) = (r*.cos(teta), r*.sin(teta)) in\n",
    "polaire point;;(* (1;0) *)"
   ]
  },
  {
   "cell_type": "markdown",
   "id": "2992c0fe",
   "metadata": {},
   "source": [
    "**Exercice** Écrire une fonction `milieu : float*float -> float*float -> float*float` telle que `milieu p1 p2` renvoie le milieu du segment d'extrémités `p1` et `p2`."
   ]
  },
  {
   "cell_type": "code",
   "execution_count": 66,
   "id": "7eb0815e-35fd-4223-bcf6-f52632f973c2",
   "metadata": {},
   "outputs": [
    {
     "data": {
      "text/plain": [
       "- : float * float = (0., 0.)\n"
      ]
     },
     "execution_count": 66,
     "metadata": {},
     "output_type": "execute_result"
    }
   ],
   "source": [
    "let p1 = (-2., 0.) in\n",
    "let p2 = (2., 0.) in\n",
    "let milieu (x1, y1) (x2, y2) = ((x2+.x1)/.2., (y2+.y1)/.2.) in\n",
    "milieu p1 p2 ;; "
   ]
  },
  {
   "cell_type": "markdown",
   "id": "b0d67dd4",
   "metadata": {},
   "source": [
    "**Exercice** Écrire une fonction `parallelogramme : float*float -> float*float -> float*float -> float*float -> bool` telle que `parallelogramme p1 p2 p3 p4` renvoie `true` si les points `p1`, `p1`, `p1`, `p1` forment un parallélogramme, c'est à dire si les côtés opposés sont (approximativement) de même longueur.  \n",
    "On fera attention à ne pas comparer 2 flottants avec `=`, mais regarder à la place si la différence est petite (< 0.001 par exemple)."
   ]
  },
  {
   "cell_type": "code",
   "execution_count": 2,
   "id": "46a4e515",
   "metadata": {
    "execution": {
     "iopub.execute_input": "2021-09-09T19:25:52.411490Z",
     "iopub.status.busy": "2021-09-09T19:25:52.410851Z",
     "iopub.status.idle": "2021-09-09T19:25:52.414563Z",
     "shell.execute_reply": "2021-09-09T19:25:52.416638Z"
    }
   },
   "outputs": [
    {
     "data": {
      "text/plain": [
       "- : float -> float = <fun>\n"
      ]
     },
     "execution_count": 2,
     "metadata": {},
     "output_type": "execute_result"
    }
   ],
   "source": [
    "acos"
   ]
  },
  {
   "cell_type": "code",
   "execution_count": 89,
   "id": "90dc5f4a-013b-402d-a24f-7dc646116341",
   "metadata": {},
   "outputs": [
    {
     "data": {
      "text/plain": [
       "- : bool = true\n"
      ]
     },
     "execution_count": 89,
     "metadata": {},
     "output_type": "execute_result"
    }
   ],
   "source": [
    "let p1 = (0., 0.) in\n",
    "let p2 = (5., 0.) in\n",
    "let p3 = (7., 5.) in\n",
    "let p4 = (2., 5.) in\n",
    "let distance (x1, y1) (x2, y2) = sqrt ((x2-.x1)**2. +. (y2-.y1)**2.) in\n",
    "let parallelogramme (x1, y1) (x2, y2) (x3, y3) (x4, y4) = (distance p1 p2 = distance p3 p4) && (distance p2 p3 = distance p1 p4) in\n",
    "parallelogramme p1 p2 p3 p4 ;;"
   ]
  },
  {
   "cell_type": "markdown",
   "id": "8a89d768",
   "metadata": {},
   "source": [
    "## Congruence\n",
    "\n",
    "Le but de cet exercice est de calculer $1357^{2013}$ mod $5$ (mais la méthode utilisée s'applique dans un grande nombre d'exercices mathématiques).  \n",
    "On rappelle que les congruences sont compatibles avec la puissance :\n",
    "$$a \\equiv b [n] \\Longrightarrow a^k \\equiv b^k [n]$$\n",
    "\n",
    "1. Soit $k$ un entier positif. Que vaut $2^{4k}$ mod $5$? On pourra calculer des valeurs avec OCaml puis le démontrer mathématiquement.\n",
    "2. Que vaut $1357$ mod $5$? En déduire la valeur de $1357^{2013}$ mod $5$."
   ]
  },
  {
   "cell_type": "code",
   "execution_count": 156,
   "id": "a5624242-70c8-423f-bbb5-070a3a5f04de",
   "metadata": {},
   "outputs": [
    {
     "data": {
      "text/plain": [
       "val mod_float : float -> float -> int = <fun>\n"
      ]
     },
     "execution_count": 156,
     "metadata": {},
     "output_type": "execute_result"
    },
    {
     "data": {
      "text/plain": [
       "- : int = 1\n"
      ]
     },
     "execution_count": 156,
     "metadata": {},
     "output_type": "execute_result"
    },
    {
     "data": {
      "text/plain": [
       "- : int = 1\n"
      ]
     },
     "execution_count": 156,
     "metadata": {},
     "output_type": "execute_result"
    },
    {
     "data": {
      "text/plain": [
       "- : int = 1\n"
      ]
     },
     "execution_count": 156,
     "metadata": {},
     "output_type": "execute_result"
    },
    {
     "data": {
      "text/plain": [
       "- : int = 2\n"
      ]
     },
     "execution_count": 156,
     "metadata": {},
     "output_type": "execute_result"
    }
   ],
   "source": [
    "(*1*)\n",
    "let mod_float dividande diviseur = int_of_float (dividande) - int_of_float(dividande /. diviseur) * (int_of_float diviseur) ;;\n",
    "\n",
    "mod_float (2.**(4.*.8.)) 5. ;;\n",
    "mod_float (2.**(4.*.7.)) 5. ;;\n",
    "mod_float (2.**(4.*.12.)) 5. ;;\n",
    "(*2 puissance 4 (=16) est congru à 1 modulo 5, donc 2 puissance 4k est congru à 1k (=1) modulo 5*)\n",
    "\n",
    "(*2*)\n",
    "1357 mod 5 ;;\n",
    "(* \n",
    "1357 ≡ 2 [5]\n",
    "1357**2013 ≡ 2**2O13 [5]\n",
    "1357**2013 ≡ 2**(4*503+1)[5] ( or 2**4 ≡ 1 [5] )\n",
    "1357**2013 ≡ (2**4)**503 + 2*1 [5]\n",
    "1357**2013 ≡ 1+2**1 [5]\n",
    "1357**2013 ≡ 3 [5]\n",
    "*)"
   ]
  },
  {
   "cell_type": "markdown",
   "id": "60c42e47",
   "metadata": {},
   "source": [
    "## Nombres aléatoires\n",
    "\n",
    "`Random.int n` permet d'obtenir un entier uniformément au hasard entre 0 et `n - 1` (chacun de ces entiers a la même probabilité $\\frac{1}{n}$ d'être obtenu).  \n",
    "Dans cet exercice, on imagine que l'on possède comme seule source aléatoire un dé à 5 faces (c'est à dire que l'on a seulement le droit d'utiliser `Random.int 5`).\n",
    "\n",
    "1. Calculer `(Random.int 5) + (Random.int 5)` plusieurs fois. Est-ce que le résultat vous semble être un entier uniformément au hasard entre 0 et 8?  \n",
    "2. Quelle est la probabilité d'obtenir `0` avec `(Random.int 5) + (Random.int 5)`? D'obtenir `1`? Quelle est l'entier qui a le plus de chances d'apparaître?\n",
    "3. Comment générer uniformément un entier entre 0 et 24? (C'est à dire passer de 5 possibilités à 25)\n",
    "3. Comment générer uniformément un entier entre 0 et 6? Écrire une fonction pour le faire. On utilisera une méthode par rejection (rejection sampling) : générer dans un espace plus grand et regénérer si la valeur n'est pas dans l'intervalle souhaité.  \n",
    "Pour cela on utilisera une boucle while :\n",
    "```ocaml\n",
    "while ... do\n",
    "    ...\n",
    "done\n",
    "```"
   ]
  },
  {
   "cell_type": "code",
   "execution_count": 1,
   "id": "c06e7074",
   "metadata": {},
   "outputs": [
    {
     "data": {
      "text/plain": [
       "- : unit = ()\n"
      ]
     },
     "execution_count": 1,
     "metadata": {},
     "output_type": "execute_result"
    }
   ],
   "source": [
    "(*1*)\n",
    "for i=0 to 10 do print_int ((Random.int 5)+(Random.int 5)) done ;;\n",
    "(* Les résultats ne semblent pas uniformes entre 0 et 8 *)\n",
    "\n",
    "(*2*)\n",
    "(* \n",
    "Il y'a (1/4)*(1/4)=0.625 de probabilité d'obtenir 0 (car il faut avoir deux fois 0)\n",
    "Il y'a 0.0625*2 de probabilité d'obtenir 1 (avoir 0+1 ou 1+0)\n",
    "L'entier qui a le plus de chances d'apparaître est 4 (1+3, 3+1, 2+2, 2+2)\n",
    "*)"
   ]
  },
  {
   "cell_type": "code",
   "execution_count": 692,
   "id": "b034a614-75f1-432d-a994-de11ae2cf84a",
   "metadata": {},
   "outputs": [
    {
     "data": {
      "text/plain": [
       "- : int = 11\n"
      ]
     },
     "execution_count": 692,
     "metadata": {},
     "output_type": "execute_result"
    },
    {
     "data": {
      "text/plain": [
       "val randomm : 'a -> int = <fun>\n"
      ]
     },
     "execution_count": 692,
     "metadata": {},
     "output_type": "execute_result"
    },
    {
     "data": {
      "text/plain": [
       "val randvar : int ref = {contents = 4}\n"
      ]
     },
     "execution_count": 692,
     "metadata": {},
     "output_type": "execute_result"
    },
    {
     "data": {
      "text/plain": [
       "- : unit = ()\n"
      ]
     },
     "execution_count": 692,
     "metadata": {},
     "output_type": "execute_result"
    },
    {
     "data": {
      "text/plain": [
       "- : int = 4\n"
      ]
     },
     "execution_count": 692,
     "metadata": {},
     "output_type": "execute_result"
    }
   ],
   "source": [
    "(*3*)\n",
    "(Random.int 5)*5 + Random.int 5 ;;\n",
    "\n",
    "(*4*)\n",
    "let randomm x = ((Random.int 5)*2 + Random.int 5) ;;\n",
    "let randvar = ref (randomm 1) ;;\n",
    "while !randvar > 6 do\n",
    "randvar := (randomm 1) ;\n",
    "done ;;\n",
    "!randvar ;;"
   ]
  }
 ],
 "metadata": {
  "kernelspec": {
   "display_name": "OCaml default",
   "language": "OCaml",
   "name": "ocaml-jupyter"
  },
  "language_info": {
   "codemirror_mode": "text/x-ocaml",
   "file_extension": ".ml",
   "mimetype": "text/x-ocaml",
   "name": "OCaml",
   "nbconverter_exporter": null,
   "pygments_lexer": "OCaml",
   "version": "4.08.1"
  }
 },
 "nbformat": 4,
 "nbformat_minor": 5
}
