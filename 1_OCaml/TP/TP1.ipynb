{
 "cells": [
  {
   "cell_type": "markdown",
   "id": "ab777a7b",
   "metadata": {},
   "source": [
    "# Types\n",
    "\n",
    "Devinez le type des fonctions suivantes et vérifier avec OCaml :\n",
    "```ocaml\n",
    "let f x y = x**y (* float -> float -> float *)\n",
    "```\n",
    "```ocaml\n",
    "let g x y = x (y + 1) (* (int -> 'a) -> int -> 'a *)\n",
    "```\n",
    "```ocaml\n",
    "let h x y z = x (3. *. (y z)) + 1 (* (float -> int) -> ('a -> float) -> 'a -> int *)\n",
    "```\n",
    "Puis utilisez ces fonctions sur des arguments de votre choix."
   ]
  },
  {
   "cell_type": "code",
   "execution_count": 13,
   "id": "e80f761b-c068-44ec-b479-425e3af8ed03",
   "metadata": {},
   "outputs": [
    {
     "data": {
      "text/plain": [
       "val f : float -> float -> float = <fun>\n"
      ]
     },
     "execution_count": 13,
     "metadata": {},
     "output_type": "execute_result"
    },
    {
     "data": {
      "text/plain": [
       "val g : (int -> 'a) -> int -> 'a = <fun>\n"
      ]
     },
     "execution_count": 13,
     "metadata": {},
     "output_type": "execute_result"
    },
    {
     "data": {
      "text/plain": [
       "val h : (float -> int) -> ('a -> float) -> 'a -> int = <fun>\n"
      ]
     },
     "execution_count": 13,
     "metadata": {},
     "output_type": "execute_result"
    },
    {
     "data": {
      "text/plain": [
       "- : float = 2187.\n"
      ]
     },
     "execution_count": 13,
     "metadata": {},
     "output_type": "execute_result"
    }
   ],
   "source": [
    "let f x y = x**y;;\n",
    "\n",
    "let g x y = x (y + 1);;\n",
    "\n",
    "let h x y z = x (3. *. (y z)) + 1;;\n",
    "\n",
    "f 3. 7."
   ]
  },
  {
   "cell_type": "code",
   "execution_count": 14,
   "id": "eafb4a00-a578-40a2-b9bd-1e074bc97e15",
   "metadata": {},
   "outputs": [
    {
     "data": {
      "text/plain": [
       "val int_int : int -> int = <fun>\n"
      ]
     },
     "execution_count": 14,
     "metadata": {},
     "output_type": "execute_result"
    },
    {
     "data": {
      "text/plain": [
       "- : int = 6\n"
      ]
     },
     "execution_count": 14,
     "metadata": {},
     "output_type": "execute_result"
    }
   ],
   "source": [
    "let int_int int =\n",
    "    int + 1;;\n",
    "g int_int 4"
   ]
  },
  {
   "cell_type": "code",
   "execution_count": 15,
   "id": "f91aca96-d1fd-45a3-a567-b54feac4ac2a",
   "metadata": {
    "tags": []
   },
   "outputs": [
    {
     "data": {
      "text/plain": [
       "val float_int : 'a -> int = <fun>\n"
      ]
     },
     "execution_count": 15,
     "metadata": {},
     "output_type": "execute_result"
    },
    {
     "data": {
      "text/plain": [
       "val float_float : float -> float = <fun>\n"
      ]
     },
     "execution_count": 15,
     "metadata": {},
     "output_type": "execute_result"
    },
    {
     "data": {
      "text/plain": [
       "- : int = 2\n"
      ]
     },
     "execution_count": 15,
     "metadata": {},
     "output_type": "execute_result"
    }
   ],
   "source": [
    "let float_int float =\n",
    "    1;;\n",
    "\n",
    "let float_float float =\n",
    "    float +. 1.;;\n",
    "\n",
    "h float_int float_float 7."
   ]
  },
  {
   "cell_type": "markdown",
   "id": "d1f941db",
   "metadata": {
    "tags": []
   },
   "source": [
    "# Tangente hyperbolique\n",
    "\n",
    "Définir en OCaml la fonction $\\tanh : x \\longmapsto \\frac{e^x - e^{-x}}{e^x + e^{-x}}$ en utilisant un seul appel à la fonction `exp : float -> float` de OCaml."
   ]
  },
  {
   "cell_type": "code",
   "execution_count": 16,
   "id": "02608bd2-f419-4988-876e-9b7875436e7b",
   "metadata": {},
   "outputs": [
    {
     "data": {
      "text/plain": [
       "val tanh : float -> float = <fun>\n"
      ]
     },
     "execution_count": 16,
     "metadata": {},
     "output_type": "execute_result"
    }
   ],
   "source": [
    "let tanh x =\n",
    "    let e = exp(x) in\n",
    "    (e -. 1./.e)/.(e +. 1./.e)"
   ]
  },
  {
   "cell_type": "markdown",
   "id": "41933741",
   "metadata": {},
   "source": [
    "# Géométrie\n",
    "\n",
    "Le type `float*float` désigne un couple de flottant, représentant un point `p` dans $\\mathbb{R}^2$. On peut récupérer les coordonnées de `p` avec `let x, y = p` . Par exemple :"
   ]
  },
  {
   "cell_type": "code",
   "execution_count": 1,
   "id": "806f1fc7",
   "metadata": {
    "execution": {
     "iopub.execute_input": "2021-09-06T17:02:34.763878Z",
     "iopub.status.busy": "2021-09-06T17:02:34.763495Z",
     "iopub.status.idle": "2021-09-06T17:02:34.765416Z",
     "shell.execute_reply": "2021-09-06T17:02:34.764999Z"
    }
   },
   "outputs": [
    {
     "data": {
      "text/plain": [
       "- : float = 2.1\n"
      ]
     },
     "execution_count": 1,
     "metadata": {},
     "output_type": "execute_result"
    }
   ],
   "source": [
    "let p = (2.1, 3.7) in (* exemple de point *)\n",
    "let x, y = p in (* récupération des coordonnées *)\n",
    "x;; (* affichage de x *)"
   ]
  },
  {
   "cell_type": "markdown",
   "id": "10984cbc",
   "metadata": {},
   "source": [
    "**Exercice** Écrire une fonction `aire_boule : float -> float` telle que `aire_boule r` renvoie le VOLUME d'une boule (disque en dimension 3) de rayon `r`, c'est à dire $\\frac{4 \\pi r^3}{3}$. On pourra utiliser `Float.pi`."
   ]
  },
  {
   "cell_type": "code",
   "execution_count": 17,
   "id": "8e0586a6-acbf-44de-895b-ee7289abe198",
   "metadata": {},
   "outputs": [
    {
     "data": {
      "text/plain": [
       "val aire_boule : float -> float = <fun>\n"
      ]
     },
     "execution_count": 17,
     "metadata": {},
     "output_type": "execute_result"
    }
   ],
   "source": [
    "let aire_boule r =\n",
    "    4./.3.*.Float.pi*.r*.r*.r"
   ]
  },
  {
   "cell_type": "markdown",
   "id": "5e8ad51b",
   "metadata": {},
   "source": [
    "**Exercice** Écrire une fonction `distance : float*float -> float*float -> float` telle que `distance p1 p2` renvoie la distance euclidienne entre les points `p1` et `p2`.  \n",
    "Vérifier que la distance entre $(0, 0)$ et $(1, 1)$ est (approximativement) $\\sqrt{2}$."
   ]
  },
  {
   "cell_type": "code",
   "execution_count": 18,
   "id": "0df0c186-fd64-4457-bae7-3b654157629d",
   "metadata": {},
   "outputs": [
    {
     "data": {
      "text/plain": [
       "val distance : float * float -> float * float -> float = <fun>\n"
      ]
     },
     "execution_count": 18,
     "metadata": {},
     "output_type": "execute_result"
    }
   ],
   "source": [
    "let distance p1 p2 =\n",
    "    let x1, y1 = p1 in\n",
    "    let x2, y2 = p2 in\n",
    "    sqrt((x1 -. x2)*.(x1 -. x2) +. (y1 -. y2)*.(y1 -. y2))"
   ]
  },
  {
   "cell_type": "code",
   "execution_count": 19,
   "id": "d018976b-d938-4dc8-a551-148bc188e371",
   "metadata": {},
   "outputs": [
    {
     "data": {
      "text/plain": [
       "val d1 : float * float = (0., 0.)\n"
      ]
     },
     "execution_count": 19,
     "metadata": {},
     "output_type": "execute_result"
    },
    {
     "data": {
      "text/plain": [
       "val d2 : float * float = (1., 1.)\n"
      ]
     },
     "execution_count": 19,
     "metadata": {},
     "output_type": "execute_result"
    },
    {
     "data": {
      "text/plain": [
       "- : float = 1.41421356237309515\n"
      ]
     },
     "execution_count": 19,
     "metadata": {},
     "output_type": "execute_result"
    }
   ],
   "source": [
    "let d1 = (0.,0.);;\n",
    "let d2 = (1.,1.);;\n",
    "distance d1 d2"
   ]
  },
  {
   "cell_type": "markdown",
   "id": "1addbddd",
   "metadata": {},
   "source": [
    "**Exercice** Écrire une fonction `polaire : float*float -> float*float` qui, étant donné les coordonnées polaires $(r, \\theta)$ d'un point, renvoie ses coordonnées cartésiennes $(x, y)$. On rappelle que $x = r\\cos(\\theta)$ et $y = r\\sin(\\theta)$. On pourra utiliser `cos` et `sin` en OCaml."
   ]
  },
  {
   "cell_type": "code",
   "execution_count": 20,
   "id": "1c63ee9b-f005-48e9-908c-c920d7aff9e5",
   "metadata": {},
   "outputs": [
    {
     "data": {
      "text/plain": [
       "val polaire : float * float -> float * float = <fun>\n"
      ]
     },
     "execution_count": 20,
     "metadata": {},
     "output_type": "execute_result"
    },
    {
     "data": {
      "text/plain": [
       "val cartesien_vers_polaire : float * float -> float * float = <fun>\n"
      ]
     },
     "execution_count": 20,
     "metadata": {},
     "output_type": "execute_result"
    }
   ],
   "source": [
    "let polaire p =\n",
    "    let r, teta = p in\n",
    "    r*.cos(teta),r*.sin(teta)\n",
    "\n",
    "let cartesien_vers_polaire p =\n",
    "    let x,y = p in\n",
    "    let d = sqrt(x*.x +. y*.y) in\n",
    "    d, acos x/.d"
   ]
  },
  {
   "cell_type": "markdown",
   "id": "785b28a3",
   "metadata": {},
   "source": [
    "**Exercice** Écrire une fonction `milieu : float*float -> float*float -> float*float` telle que `milieu p1 p2` renvoie le milieu du segment d'extrémités `p1` et `p2`."
   ]
  },
  {
   "cell_type": "code",
   "execution_count": 21,
   "id": "73ae8c24-e5a5-4ad1-840d-ce79189d526c",
   "metadata": {},
   "outputs": [
    {
     "data": {
      "text/plain": [
       "val milieu : float * float -> float * float -> float * float = <fun>\n"
      ]
     },
     "execution_count": 21,
     "metadata": {},
     "output_type": "execute_result"
    }
   ],
   "source": [
    "let milieu p1 p2 =\n",
    "    let x1, y1 = p1 in\n",
    "    let x2, y2 = p2 in\n",
    "    (x1+.x2)/.2., (y1+.y2)/.2."
   ]
  },
  {
   "cell_type": "markdown",
   "id": "87cda927",
   "metadata": {},
   "source": [
    "**Exercice** Écrire une fonction `parallelogramme : float*float -> float*float -> float*float -> float*float -> bool` telle que `parallelogramme p1 p2 p3 p4` renvoie `true` si les points `p1`, `p1`, `p1`, `p1` forment un parallélogramme, c'est à dire si les côtés opposés sont (approximativement) de même longueur.  \n",
    "On fera attention à ne pas comparer 2 flottants avec `=`, mais regarder à la place si la différence est petite (< 0.001 par exemple)."
   ]
  },
  {
   "cell_type": "code",
   "execution_count": 22,
   "id": "091c7ec0-ff91-4e1b-b80f-e14b6a849695",
   "metadata": {},
   "outputs": [
    {
     "data": {
      "text/plain": [
       "val parallelogramme :\n",
       "  float * float -> float * float -> float * float -> float * float -> bool =\n",
       "  <fun>\n"
      ]
     },
     "execution_count": 22,
     "metadata": {},
     "output_type": "execute_result"
    },
    {
     "data": {
      "text/plain": [
       "val parallelogramme2 :\n",
       "  float * float -> float * float -> float * float -> float * float -> bool =\n",
       "  <fun>\n"
      ]
     },
     "execution_count": 22,
     "metadata": {},
     "output_type": "execute_result"
    }
   ],
   "source": [
    "let parallelogramme p1 p2 p3 p4 =\n",
    "    (distance p1 p2) -. (distance p3 p4) <= 0.000000001 && (distance p3 p2) -. (distance p1 p4) <= 0.000000001\n",
    "\n",
    "(* Sur la base des vecteurs*)\n",
    "let parallelogramme2 p1 p2 p3 p4 =\n",
    "    let x1, y1 = p1 in\n",
    "    let x2, y2 = p2 in\n",
    "    let x3, y3 = p3 in\n",
    "    let x4, y4 = p4 in\n",
    "    (Float.abs(x2 +. x3 -. 2.*.x1 -. x4) <= 0.001 && Float.abs(y2 +. y3 -. 2.*.y1 -. y4) <= 0.001) || (Float.abs(x3 +. x4 -. 2.*.x1 -. x2) <= 0.001 && Float.abs(y3 +. y4 -. 2.*.y1 -. y2) <= 0.001) || (Float.abs(x2 +. x4 -. 2.*.x1 -. x3) <= 0.001 && Float.abs(y2 +. y4 -. 2.*.y1 -. y3) <= 0.001)"
   ]
  },
  {
   "cell_type": "markdown",
   "id": "044d6db1",
   "metadata": {
    "tags": []
   },
   "source": [
    "# Congruence\n",
    "\n",
    "Le but de cet exercice est de calculer $1357^{2013}$ mod $5$ (mais la méthode utilisée s'applique dans un grande nombre d'exercices mathématiques).  \n",
    "On rappelle que les congruences sont compatibles avec la puissance :\n",
    "$$a \\equiv b [n] \\Longrightarrow a^k \\equiv b^k [n]$$\n",
    "\n",
    "1. Soit $k$ un entier positif. Que vaut $2^{4k}$ mod $5$? On pourra calculer des valeurs avec OCaml puis le démontrer mathématiquement.\n",
    "2. Que vaut $1357$ mod $5$? En déduire la valeur de $1357^{2013}$ mod $5$."
   ]
  },
  {
   "cell_type": "code",
   "execution_count": 23,
   "id": "f221fdbf-a922-49a4-ad7a-533f8e965342",
   "metadata": {},
   "outputs": [
    {
     "data": {
      "text/plain": [
       "- : int = 1\n"
      ]
     },
     "execution_count": 23,
     "metadata": {},
     "output_type": "execute_result"
    }
   ],
   "source": [
    "2*2*2*2 mod 5"
   ]
  },
  {
   "cell_type": "code",
   "execution_count": 24,
   "id": "751fdc01-d0ef-41ff-b715-9034aa1104e4",
   "metadata": {},
   "outputs": [
    {
     "data": {
      "text/plain": [
       "- : int = 1\n"
      ]
     },
     "execution_count": 24,
     "metadata": {},
     "output_type": "execute_result"
    }
   ],
   "source": [
    "2*2*2*2*2*2*2*2 mod 5"
   ]
  },
  {
   "cell_type": "markdown",
   "id": "2622260b-b990-423b-890d-34cf622ef680",
   "metadata": {
    "tags": []
   },
   "source": [
    "2^4 ≡ 1 [5] ⟹ 2^4k ≡ 1^k [5] ⟹ 2^4k ≡ 1 [5]"
   ]
  },
  {
   "cell_type": "code",
   "execution_count": 25,
   "id": "b46db1f8-037f-4e6f-9ae9-cafd7c411e7f",
   "metadata": {},
   "outputs": [
    {
     "data": {
      "text/plain": [
       "- : int = 2\n"
      ]
     },
     "execution_count": 25,
     "metadata": {},
     "output_type": "execute_result"
    }
   ],
   "source": [
    "1357 mod 5"
   ]
  },
  {
   "cell_type": "code",
   "execution_count": 26,
   "id": "cd24233d-648c-4060-8596-37d973cc6aa4",
   "metadata": {},
   "outputs": [
    {
     "data": {
      "text/plain": [
       "- : int = 1\n"
      ]
     },
     "execution_count": 26,
     "metadata": {},
     "output_type": "execute_result"
    }
   ],
   "source": [
    "2013 mod 4"
   ]
  },
  {
   "cell_type": "markdown",
   "id": "3396fee4-4db4-4210-b80f-79f7b263bc14",
   "metadata": {
    "tags": []
   },
   "source": [
    "1357 ≡ 2 [5] et 2^(4k+1) ≡ 2 [5] ⟹ 1357^2013 ≡ 2 [5]"
   ]
  },
  {
   "cell_type": "markdown",
   "id": "95b313f4",
   "metadata": {},
   "source": [
    "# Nombres aléatoires\n",
    "\n",
    "`Random.int n` permet d'obtenir un entier uniformément au hasard entre 0 et `n - 1` (chacun de ces entiers a la même probabilité $\\frac{1}{n}$ d'être obtenu).  \n",
    "Dans cet exercice, on imagine que l'on possède comme seule source aléatoire un dé à 5 faces (c'est à dire que l'on a seulement le droit d'utiliser `Random.int 5`).\n",
    "\n",
    "1. Calculer `(Random.int 5) + (Random.int 5)` plusieurs fois. Est-ce que le résultat vous semble être un entier uniformément au hasard entre 0 et 8?  \n",
    "2. Quelle est la probabilité d'obtenir `0` avec `(Random.int 5) + (Random.int 5)`? D'obtenir `1`? Quelle est l'entier qui a le plus de chances d'apparaître?\n",
    "3. Comment générer uniformément un entier entre 0 et 24? (C'est à dire passer de 5 possibilités à 25)\n",
    "3. Comment générer uniformément un entier entre 0 et 6? Écrire une fonction pour le faire. On utilisera une méthode par rejection (rejection sampling) : générer dans un espace plus grand et regénérer si la valeur n'est pas dans l'intervalle souhaité.  \n",
    "Pour cela on utilisera une boucle while :\n",
    "```ocaml\n",
    "while ... do\n",
    "    ...\n",
    "done\n",
    "```"
   ]
  },
  {
   "cell_type": "code",
   "execution_count": 31,
   "id": "656a34cd",
   "metadata": {},
   "outputs": [
    {
     "data": {
      "text/plain": [
       "- : int = 4\n"
      ]
     },
     "execution_count": 31,
     "metadata": {},
     "output_type": "execute_result"
    }
   ],
   "source": [
    "(Random.int 5) + (Random.int 5)"
   ]
  },
  {
   "cell_type": "code",
   "execution_count": 35,
   "id": "62d9843c-978f-4a94-ad7e-57062052dd66",
   "metadata": {},
   "outputs": [
    {
     "data": {
      "text/plain": [
       "- : int = 4\n"
      ]
     },
     "execution_count": 35,
     "metadata": {},
     "output_type": "execute_result"
    }
   ],
   "source": [
    "(Random.int 5) + (Random.int 5)"
   ]
  },
  {
   "cell_type": "markdown",
   "id": "f55a238b-f344-4288-aa95-b979f76254e2",
   "metadata": {
    "tags": []
   },
   "source": [
    "Le résultat semble tourner autour de 4, et ne semble donc pas uniformément au hasard :\n",
    "La probabilité d'obtenir 0 est de 1/5×1/5 = 1/25\n",
    "La probabilité d'obtenir 1 est de 2×1/5×1/5 = 2/25\n",
    "\n",
    "L'entier qui a le plus de chance d'apparaître est celui qui peut sortir peu importe l'issue du premier tirage, si il existe et si il est unique, car sa probabilité d'issue est\n",
    "indépendante du premier tirage, contrairement aux autres. 4 est le seul nombre respectant la condition ici, donc 4 est l'entier qui a le plus de chance d'apparaître (p = 1/5).\n",
    "\n",
    "Pour générer un entier uniformément entre 0 et 24, il suffit de décomposer l'intervalle en une partition 5 parties distinctes de longueur égale, d'en choisir un parmis 5 au hasard, puis de choisir un nombre entre 1 et 4 au hasard, et ajouter ce nombre à la borne inférieure de l'intervalle choisi.\n",
    "Preuve : L'arbre de probabilité indique une équiprobabilité entre les issues."
   ]
  },
  {
   "cell_type": "code",
   "execution_count": 36,
   "id": "cb7a46f0-70a9-4cf7-b48f-2b088b4f9a3d",
   "metadata": {},
   "outputs": [
    {
     "data": {
      "text/plain": [
       "val rand : int ref = {contents = 2}\n"
      ]
     },
     "execution_count": 36,
     "metadata": {},
     "output_type": "execute_result"
    },
    {
     "data": {
      "text/plain": [
       "- : unit = ()\n"
      ]
     },
     "execution_count": 36,
     "metadata": {},
     "output_type": "execute_result"
    },
    {
     "data": {
      "text/plain": [
       "- : int = 2\n"
      ]
     },
     "execution_count": 36,
     "metadata": {},
     "output_type": "execute_result"
    }
   ],
   "source": [
    "let rand = ref ((Random.int 5)*5 + (Random.int 5));;\n",
    "while !rand > 6 do\n",
    "    rand := (Random.int 5)*5 + (Random.int 5);\n",
    "done;;\n",
    "!rand;;"
   ]
  }
 ],
 "metadata": {
  "kernelspec": {
   "display_name": "OCaml default",
   "language": "OCaml",
   "name": "ocaml-jupyter"
  },
  "language_info": {
   "codemirror_mode": "text/x-ocaml",
   "file_extension": ".ml",
   "mimetype": "text/x-ocaml",
   "name": "OCaml",
   "nbconverter_exporter": null,
   "pygments_lexer": "OCaml",
   "version": "4.08.1"
  }
 },
 "nbformat": 4,
 "nbformat_minor": 5
}
