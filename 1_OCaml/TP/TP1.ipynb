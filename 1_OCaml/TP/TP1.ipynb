{
 "cells": [
  {
   "cell_type": "markdown",
   "id": "4ef1c104",
   "metadata": {},
   "source": [
    "# TP1 : Types, variables, fonctions"
   ]
  },
  {
   "cell_type": "markdown",
   "id": "becd8118",
   "metadata": {},
   "source": [
    "## Types\n",
    "\n",
    "Devinez le type des fonctions suivantes et vérifier avec OCaml :\n",
    "```ocaml\n",
    "let f x y = x**y\n",
    "```\n",
    "```ocaml\n",
    "let g x y = x (y + 1)\n",
    "```\n",
    "```ocaml\n",
    "let h x y z = x (3. *. (y z)) + 1\n",
    "```\n",
    "Puis tester ces fonctions sur des arguments de votre choix."
   ]
  },
  {
   "cell_type": "code",
   "execution_count": 10,
   "id": "6615d0ae-c88d-44d5-8648-1b641c352a3e",
   "metadata": {},
   "outputs": [
    {
     "name": "stderr",
     "output_type": "stream",
     "text": [
      "File \"[10]\", line 5, characters 0-9:\n",
      "5 | f 2.0 3.0 ;\n",
      "    ^^^^^^^^^\n",
      "Warning 10: this expression should have type unit.\n"
     ]
    },
    {
     "ename": "error",
     "evalue": "compile_error",
     "output_type": "error",
     "traceback": [
      "File \"[10]\", line 6, characters 2-3:\n6 | g 2 3. ;\n      ^\nError: This expression has type int but an expression was expected of type\n         int -> 'a\n"
     ]
    }
   ],
   "source": [
    "(*  float -> float -> float\n",
    "    (int -> 'a) -> int -> 'a\n",
    "    (float -> int) -> ('a -> float) -> 'a -> int *)\n",
    "\n",
    "f 2.0 3.0 ;\n",
    "g 2 3. ;\n",
    "h 2 1 3 ;\n"
   ]
  },
  {
   "cell_type": "markdown",
   "id": "23e9b523",
   "metadata": {},
   "source": [
    "## Tangente hyperbolique\n",
    "\n",
    "Définir en OCaml la fonction $\\tanh : x \\longmapsto \\frac{e^x - e^{-x}}{e^x + e^{-x}}$ en utilisant un seul appel à la fonction `exp : float -> float` de OCaml."
   ]
  },
  {
   "cell_type": "code",
   "execution_count": 65,
   "id": "5c87daad-5420-4d88-bf9b-1658d3da5a14",
   "metadata": {},
   "outputs": [
    {
     "data": {
      "text/plain": [
       "val tanh2 : float -> float = <fun>\n"
      ]
     },
     "execution_count": 65,
     "metadata": {},
     "output_type": "execute_result"
    },
    {
     "data": {
      "text/plain": [
       "- : float = 0.964027580075817\n"
      ]
     },
     "execution_count": 65,
     "metadata": {},
     "output_type": "execute_result"
    },
    {
     "data": {
      "text/plain": [
       "- : float = 0.964027580075816903\n"
      ]
     },
     "execution_count": 65,
     "metadata": {},
     "output_type": "execute_result"
    }
   ],
   "source": [
    "let tanh2 x = \n",
    "    let y = exp(x) in\n",
    "    (y -. (1./.y)) /. (y +. (1./.y)) ;;\n",
    "\n",
    "tanh2 2. ;;\n",
    "tanh 2."
   ]
  },
  {
   "cell_type": "markdown",
   "id": "74da135f",
   "metadata": {},
   "source": [
    "## Géométrie\n",
    "\n",
    "Le type `float*float` désigne un couple de flottant, représentant un point `p` dans $\\mathbb{R}^2$. On peut récupérer les coordonnées de `p` avec `let x, y = p` . Par exemple :"
   ]
  },
  {
   "cell_type": "code",
   "execution_count": 1,
   "id": "7073f5d1",
   "metadata": {
    "execution": {
     "iopub.execute_input": "2021-09-09T19:25:52.406644Z",
     "iopub.status.busy": "2021-09-09T19:25:52.405787Z",
     "iopub.status.idle": "2021-09-09T19:25:52.409142Z",
     "shell.execute_reply": "2021-09-09T19:25:52.408391Z"
    }
   },
   "outputs": [
    {
     "data": {
      "text/plain": [
       "- : float = 2.1\n"
      ]
     },
     "execution_count": 1,
     "metadata": {},
     "output_type": "execute_result"
    }
   ],
   "source": [
    "let p = (2.1, 3.7) in (* exemple de point *)\n",
    "let x, y = p in (* récupération des coordonnées *)\n",
    "x;; (* affichage de x *)"
   ]
  },
  {
   "cell_type": "markdown",
   "id": "898ce016",
   "metadata": {},
   "source": [
    "**Exercice** Écrire une fonction `aire_boule : float -> float` telle que `aire_boule r` renvoie l'aire d'une boule (disque en dimension 3) de rayon `r`, c'est à dire $\\frac{4 \\pi r^3}{3}$. On pourra utiliser `Float.pi`."
   ]
  },
  {
   "cell_type": "code",
   "execution_count": 46,
   "id": "58c5bc53-75e3-4be5-8e3f-ed35530ed06e",
   "metadata": {},
   "outputs": [
    {
     "data": {
      "text/plain": [
       "val aire_boule : float -> float = <fun>\n"
      ]
     },
     "execution_count": 46,
     "metadata": {},
     "output_type": "execute_result"
    },
    {
     "data": {
      "text/plain": [
       "- : float = 33.5103216382911242\n"
      ]
     },
     "execution_count": 46,
     "metadata": {},
     "output_type": "execute_result"
    }
   ],
   "source": [
    "let aire_boule r = (4.*.Float.pi*.r**3.0)/.3. ;;\n",
    "aire_boule 2. ;"
   ]
  },
  {
   "cell_type": "markdown",
   "id": "18817317",
   "metadata": {},
   "source": [
    "**Exercice** Écrire une fonction `distance : float*float -> float*float -> float` telle que `distance p1 p2` renvoie la distance euclidienne entre les points `p1` et `p2`.  \n",
    "Vérifier que la distance entre $(0, 0)$ et $(1, 1)$ est (approximativement) $\\sqrt{2}$."
   ]
  },
  {
   "cell_type": "code",
   "execution_count": 66,
   "id": "990ad5e8-33e6-4822-88ff-8a73355a005f",
   "metadata": {},
   "outputs": [
    {
     "data": {
      "text/plain": [
       "val distance : float * float -> float * float -> float = <fun>\n"
      ]
     },
     "execution_count": 66,
     "metadata": {},
     "output_type": "execute_result"
    },
    {
     "data": {
      "text/plain": [
       "- : float = 1.41421356237309515\n"
      ]
     },
     "execution_count": 66,
     "metadata": {},
     "output_type": "execute_result"
    },
    {
     "data": {
      "text/plain": [
       "- : float = 1.41421356237309515\n"
      ]
     },
     "execution_count": 66,
     "metadata": {},
     "output_type": "execute_result"
    }
   ],
   "source": [
    "let distance p1 p2 = \n",
    "    let a,b = p1 in\n",
    "    let c,d = p2 in\n",
    "    ((a-.c)**2. +. (b-.d)**2.)**(1./.2.) ;;\n",
    "    \n",
    "distance (0.,0.) (1.,1.) ;;\n",
    "\n",
    "let x = 2.**(1./.2.) in x"
   ]
  },
  {
   "cell_type": "markdown",
   "id": "6be0092c",
   "metadata": {},
   "source": [
    "**Exercice** Écrire une fonction `polaire : float*float -> float*float` qui, étant donné les coordonnées polaires $(r, \\theta)$ d'un point, renvoie ses coordonnées cartésiennes $(x, y)$. On rappelle que $x = r\\cos(\\theta)$ et $y = r\\sin(\\theta)$. On pourra utiliser `cos` et `sin` en OCaml."
   ]
  },
  {
   "cell_type": "code",
   "execution_count": 67,
   "id": "b6908ca6-f5c4-4dee-a841-dbf6f22650de",
   "metadata": {},
   "outputs": [
    {
     "data": {
      "text/plain": [
       "val polaire : float -> float -> float * float = <fun>\n"
      ]
     },
     "execution_count": 67,
     "metadata": {},
     "output_type": "execute_result"
    },
    {
     "data": {
      "text/plain": [
       "- : float * float = (-3., 3.67394039744205938e-16)\n"
      ]
     },
     "execution_count": 67,
     "metadata": {},
     "output_type": "execute_result"
    }
   ],
   "source": [
    "let polaire r t = \n",
    "    let x = r*.cos(t) in\n",
    "    let y = r*.sin(t) in\n",
    "    x, y ;;\n",
    "    \n",
    "polaire 3.0 Float.pi"
   ]
  },
  {
   "cell_type": "markdown",
   "id": "2992c0fe",
   "metadata": {},
   "source": [
    "**Exercice** Écrire une fonction `milieu : float*float -> float*float -> float*float` telle que `milieu p1 p2` renvoie le milieu du segment d'extrémités `p1` et `p2`."
   ]
  },
  {
   "cell_type": "code",
   "execution_count": 70,
   "id": "69f41dc9-ccad-43fc-b043-132fd8e756e7",
   "metadata": {},
   "outputs": [
    {
     "data": {
      "text/plain": [
       "val milieu : float * float -> float * float -> float * float = <fun>\n"
      ]
     },
     "execution_count": 70,
     "metadata": {},
     "output_type": "execute_result"
    },
    {
     "data": {
      "text/plain": [
       "- : float * float = (3.5, 3.)\n"
      ]
     },
     "execution_count": 70,
     "metadata": {},
     "output_type": "execute_result"
    }
   ],
   "source": [
    "let milieu p1 p2 = \n",
    "    let a,b = p1 in\n",
    "    let c,d = p2 in\n",
    "    (a+.c)/.2., (b+.d)/.2. ;;\n",
    "    \n",
    "milieu (3.0,2.0) (4.0,4.0)"
   ]
  },
  {
   "cell_type": "markdown",
   "id": "b0d67dd4",
   "metadata": {},
   "source": [
    "**Exercice** Écrire une fonction `parallelogramme : float*float -> float*float -> float*float -> float*float -> bool` telle que `parallelogramme p1 p2 p3 p4` renvoie `true` si les points `p1`, `p1`, `p1`, `p1` forment un parallélogramme, c'est à dire si les côtés opposés sont (approximativement) de même longueur.  \n",
    "On fera attention à ne pas comparer 2 flottants avec `=`, mais regarder à la place si la différence est petite (< 0.001 par exemple)."
   ]
  },
  {
   "cell_type": "code",
   "execution_count": 72,
   "id": "46a4e515",
   "metadata": {
    "tags": []
   },
   "outputs": [
    {
     "data": {
      "text/plain": [
       "val parallelogramme :\n",
       "  float * float -> float * float -> float * float -> float * float -> bool =\n",
       "  <fun>\n"
      ]
     },
     "execution_count": 72,
     "metadata": {},
     "output_type": "execute_result"
    },
    {
     "data": {
      "text/plain": [
       "- : bool = true\n"
      ]
     },
     "execution_count": 72,
     "metadata": {},
     "output_type": "execute_result"
    }
   ],
   "source": [
    "let parallelogramme p1 p2 p3 p4 =\n",
    "    let a,b = p1 in\n",
    "    let c,d = p2 in\n",
    "    let e,f = p3 in\n",
    "    let g,h = p4 in\n",
    "        if ((a-.c)**2. +. (b-.d)**2.)**(1./.2.) -. ((e-.g)**2. +. (f-.d)**2.)**(1./.2.) < 0.001 (* p1p2 = p3p4  *) &&\n",
    "        ((a-.g)**2. +. (b-.h)**2.)**(1./.2.) -. ((c-.e)**2. +. (d-.f)**2.)**(1./.2.) < 0.001 (* p1p4 = p2p3 *)\n",
    "        then true\n",
    "        else false ;;\n",
    "        \n",
    "parallelogramme (1.0,1.0) (3.0,1.0) (3.0,4.0) (1.0,4.0)"
   ]
  },
  {
   "cell_type": "markdown",
   "id": "8a89d768",
   "metadata": {},
   "source": [
    "## Congruence\n",
    "\n",
    "Le but de cet exercice est de calculer $1357^{2013}$ mod $5$ (mais la méthode utilisée s'applique dans un grande nombre d'exercices mathématiques).  \n",
    "On rappelle que les congruences sont compatibles avec la puissance :\n",
    "$$a \\equiv b [n] \\Longrightarrow a^k \\equiv b^k [n]$$\n",
    "\n",
    "1. Soit $k$ un entier positif. Que vaut $2^{4k}$ mod $5$? On pourra calculer des valeurs avec OCaml puis le démontrer mathématiquement.\n",
    "2. Que vaut $1357$ mod $5$? En déduire la valeur de $1357^{2013}$ mod $5$."
   ]
  },
  {
   "cell_type": "markdown",
   "id": "60c42e47",
   "metadata": {},
   "source": [
    "## Nombres aléatoires\n",
    "\n",
    "`Random.int n` permet d'obtenir un entier uniformément au hasard entre 0 et `n - 1` (chacun de ces entiers a la même probabilité $\\frac{1}{n}$ d'être obtenu).  \n",
    "Dans cet exercice, on imagine que l'on possède comme seule source aléatoire un dé à 5 faces (c'est à dire que l'on a seulement le droit d'utiliser `Random.int 5`).\n",
    "\n",
    "1. Calculer `(Random.int 5) + (Random.int 5)` plusieurs fois. Est-ce que le résultat vous semble être un entier uniformément au hasard entre 0 et 8?  \n",
    "2. Quelle est la probabilité d'obtenir `0` avec `(Random.int 5) + (Random.int 5)`? D'obtenir `1`? Quelle est l'entier qui a le plus de chances d'apparaître?\n",
    "3. Comment générer uniformément un entier entre 0 et 24? (C'est à dire passer de 5 possibilités à 25)\n",
    "3. Comment générer uniformément un entier entre 0 et 6? Écrire une fonction pour le faire. On utilisera une méthode par rejection (rejection sampling) : générer dans un espace plus grand et regénérer si la valeur n'est pas dans l'intervalle souhaité.  \n",
    "Pour cela on utilisera une boucle while :\n",
    "```ocaml\n",
    "while ... do\n",
    "    ...\n",
    "done\n",
    "```"
   ]
  },
  {
   "cell_type": "code",
   "execution_count": null,
   "id": "c06e7074",
   "metadata": {},
   "outputs": [],
   "source": []
  }
 ],
 "metadata": {
  "kernelspec": {
   "display_name": "OCaml default",
   "language": "OCaml",
   "name": "ocaml-jupyter"
  },
  "language_info": {
   "codemirror_mode": "text/x-ocaml",
   "file_extension": ".ml",
   "mimetype": "text/x-ocaml",
   "name": "OCaml",
   "nbconverter_exporter": null,
   "pygments_lexer": "OCaml",
   "version": "4.08.1"
  }
 },
 "nbformat": 4,
 "nbformat_minor": 5
}
