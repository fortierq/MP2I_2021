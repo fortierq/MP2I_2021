{
 "cells": [
  {
   "cell_type": "markdown",
   "id": "4ef1c104",
   "metadata": {},
   "source": [
    "# TP1 : Types, variables, fonctions"
   ]
  },
  {
   "cell_type": "markdown",
   "id": "becd8118",
   "metadata": {},
   "source": [
    "## Types\n",
    "\n",
    "Devinez le type des fonctions suivantes et vérifier avec OCaml :\n",
    "```ocaml\n",
    "let f x y = x**y\n",
    "```\n",
    "```ocaml\n",
    "let g x y = x (y + 1)\n",
    "```\n",
    "```ocaml\n",
    "let h x y z = x (3. *. (y z)) + 1\n",
    "```\n",
    "Puis tester ces fonctions sur des arguments de votre choix."
   ]
  },
  {
   "cell_type": "raw",
   "id": "ad37e2d2-e3a5-4174-b7a4-b0be9f3e231a",
   "metadata": {},
   "source": [
    "1. float -> float -> float\n",
    "2. (int -> 'a) -> int -> 'a   (x est fonction)\n",
    "3. (float -> int) -> ('a -> float) -> 'a -> int"
   ]
  },
  {
   "cell_type": "code",
   "execution_count": 4,
   "id": "18952472-89dc-441b-a887-78ec9f5878d5",
   "metadata": {},
   "outputs": [
    {
     "data": {
      "text/plain": [
       "val h : (float -> int) -> ('a -> float) -> 'a -> int = <fun>\n"
      ]
     },
     "execution_count": 4,
     "metadata": {},
     "output_type": "execute_result"
    }
   ],
   "source": [
    "let h x y z = x (3. *. (y z)) + 1"
   ]
  },
  {
   "cell_type": "code",
   "execution_count": 12,
   "id": "86e60106-a06b-424f-b5c6-5c6634c2f969",
   "metadata": {},
   "outputs": [
    {
     "data": {
      "text/plain": [
       "val g : (int -> 'a) -> int -> 'a = <fun>\n"
      ]
     },
     "execution_count": 12,
     "metadata": {},
     "output_type": "execute_result"
    }
   ],
   "source": [
    "let g x y = x (y + 1)"
   ]
  },
  {
   "cell_type": "code",
   "execution_count": 43,
   "id": "669a1ec1-d6a3-446a-a724-3fbbe96d9aa2",
   "metadata": {},
   "outputs": [
    {
     "data": {
      "text/plain": [
       "- : int = 2\n"
      ]
     },
     "execution_count": 43,
     "metadata": {},
     "output_type": "execute_result"
    }
   ],
   "source": [
    "let x a = 2 * a in\n",
    "g x 0"
   ]
  },
  {
   "cell_type": "code",
   "execution_count": 67,
   "id": "e87462aa-2fca-4d5f-a729-4f5b7f9e9a4d",
   "metadata": {},
   "outputs": [
    {
     "data": {
      "text/plain": [
       "- : int = 3\n"
      ]
     },
     "execution_count": 67,
     "metadata": {},
     "output_type": "execute_result"
    }
   ],
   "source": [
    "let x a = 2 in let y b = b**2. in\n",
    "    h x y 2."
   ]
  },
  {
   "cell_type": "markdown",
   "id": "23e9b523",
   "metadata": {},
   "source": [
    "## Tangente hyperbolique\n",
    "\n",
    "Définir en OCaml la fonction $\\tanh : x \\longmapsto \\frac{e^x - e^{-x}}{e^x + e^{-x}}$ en utilisant un seul appel à la fonction `exp : float -> float` de OCaml."
   ]
  },
  {
   "cell_type": "code",
   "execution_count": 76,
   "id": "3e37e4f6-58f8-4c3c-a644-4f992227c1a1",
   "metadata": {},
   "outputs": [
    {
     "data": {
      "text/plain": [
       "val tanh2 : float -> float = <fun>\n"
      ]
     },
     "execution_count": 76,
     "metadata": {},
     "output_type": "execute_result"
    }
   ],
   "source": [
    "let tanh2 x = let e = exp x in\n",
    "    (e -. e**(-1.))/.(e +. e**(-1.))"
   ]
  },
  {
   "cell_type": "code",
   "execution_count": 80,
   "id": "a77d79e7-d435-4096-87bc-b3f0930fae0c",
   "metadata": {},
   "outputs": [
    {
     "data": {
      "text/plain": [
       "- : float = -0.998177897611198683\n"
      ]
     },
     "execution_count": 80,
     "metadata": {},
     "output_type": "execute_result"
    }
   ],
   "source": [
    "tanh2 (-3.5)"
   ]
  },
  {
   "cell_type": "code",
   "execution_count": 79,
   "id": "09308e40-7be5-4b22-8d0e-ac518e96dd6b",
   "metadata": {},
   "outputs": [
    {
     "data": {
      "text/plain": [
       "- : float = -0.998177897611198683\n"
      ]
     },
     "execution_count": 79,
     "metadata": {},
     "output_type": "execute_result"
    }
   ],
   "source": [
    "tanh (-3.5)"
   ]
  },
  {
   "cell_type": "markdown",
   "id": "74da135f",
   "metadata": {},
   "source": [
    "## Géométrie\n",
    "\n",
    "Le type `float*float` désigne un couple de flottant, représentant un point `p` dans $\\mathbb{R}^2$. On peut récupérer les coordonnées de `p` avec `let x, y = p` . Par exemple :"
   ]
  },
  {
   "cell_type": "code",
   "execution_count": 65,
   "id": "7073f5d1",
   "metadata": {
    "tags": []
   },
   "outputs": [
    {
     "data": {
      "text/plain": [
       "- : float = 2.1\n"
      ]
     },
     "execution_count": 65,
     "metadata": {},
     "output_type": "execute_result"
    }
   ],
   "source": [
    "let p = (2.1, 3.7) in (* exemple de point *)\n",
    "let x, y = p in (* récupération des coordonnées *)\n",
    "x;; (* affichage de x *)"
   ]
  },
  {
   "cell_type": "markdown",
   "id": "898ce016",
   "metadata": {},
   "source": [
    "**Exercice** Écrire une fonction `aire_boule : float -> float` telle que `aire_boule r` renvoie l'aire d'une boule (disque en dimension 3) de rayon `r`, c'est à dire $\\frac{4 \\pi r^3}{3}$. On pourra utiliser `Float.pi`."
   ]
  },
  {
   "cell_type": "code",
   "execution_count": 72,
   "id": "24749f71-3934-465b-bf63-e1709eb22b3f",
   "metadata": {},
   "outputs": [
    {
     "data": {
      "text/plain": [
       "val aire_boule : float -> float = <fun>\n"
      ]
     },
     "execution_count": 72,
     "metadata": {},
     "output_type": "execute_result"
    },
    {
     "data": {
      "text/plain": [
       "- : float = 33.5103216382911242\n"
      ]
     },
     "execution_count": 72,
     "metadata": {},
     "output_type": "execute_result"
    }
   ],
   "source": [
    "let aire_boule r = (4. *. Float.pi *. (r ** 3.)) /. 3.;;\n",
    "aire_boule 2."
   ]
  },
  {
   "cell_type": "markdown",
   "id": "18817317",
   "metadata": {},
   "source": [
    "**Exercice** Écrire une fonction `distance : float*float -> float*float -> float` telle que `distance p1 p2` renvoie la distance euclidienne entre les points `p1` et `p2`.  \n",
    "Vérifier que la distance entre $(0, 0)$ et $(1, 1)$ est (approximativement) $\\sqrt{2}$."
   ]
  },
  {
   "cell_type": "code",
   "execution_count": 16,
   "id": "4c13e1ac-f820-40b6-bba2-fad8ddd1f113",
   "metadata": {},
   "outputs": [
    {
     "data": {
      "text/plain": [
       "val distance : float * float -> float * float -> float = <fun>\n"
      ]
     },
     "execution_count": 16,
     "metadata": {},
     "output_type": "execute_result"
    }
   ],
   "source": [
    "let distance (x1,y1) (x2,y2) =\n",
    "    let a = abs_float (x1-.x2) in\n",
    "    let b = abs_float (y1-.y2) in\n",
    "    sqrt ((a**2.) +. (b**2.))"
   ]
  },
  {
   "cell_type": "code",
   "execution_count": 28,
   "id": "822b6ddc-e903-46ab-8137-e0176ffd6d7a",
   "metadata": {},
   "outputs": [
    {
     "data": {
      "text/plain": [
       "- : bool = true\n"
      ]
     },
     "execution_count": 28,
     "metadata": {},
     "output_type": "execute_result"
    }
   ],
   "source": [
    "(abs_float (distance (0.,0.) (1.,1.) -. sqrt 2.)) < 0.001"
   ]
  },
  {
   "cell_type": "markdown",
   "id": "6be0092c",
   "metadata": {},
   "source": [
    "**Exercice** Écrire une fonction `polaire : float*float -> float*float` qui, étant donné les coordonnées polaires $(r, \\theta)$ d'un point, renvoie ses coordonnées cartésiennes $(x, y)$. On rappelle que $x = r\\cos(\\theta)$ et $y = r\\sin(\\theta)$. On pourra utiliser `cos` et `sin` en OCaml."
   ]
  },
  {
   "cell_type": "code",
   "execution_count": 10,
   "id": "ce34a0aa-764d-41ca-9323-9e1078c6e0e8",
   "metadata": {},
   "outputs": [
    {
     "data": {
      "text/plain": [
       "val polaire : float * float -> float * float = <fun>\n"
      ]
     },
     "execution_count": 10,
     "metadata": {},
     "output_type": "execute_result"
    },
    {
     "data": {
      "text/plain": [
       "- : float * float = (6.12323399573676604e-17, 1.)\n"
      ]
     },
     "execution_count": 10,
     "metadata": {},
     "output_type": "execute_result"
    }
   ],
   "source": [
    "let polaire (r,o) =\n",
    "    let x = r *. cos o in\n",
    "    let y = r *. sin o in\n",
    "    (x,y);;\n",
    "polaire(1.,Float.pi/.2.)"
   ]
  },
  {
   "cell_type": "markdown",
   "id": "2992c0fe",
   "metadata": {},
   "source": [
    "**Exercice** Écrire une fonction `milieu : float*float -> float*float -> float*float` telle que `milieu p1 p2` renvoie le milieu du segment d'extrémités `p1` et `p2`."
   ]
  },
  {
   "cell_type": "code",
   "execution_count": 26,
   "id": "5f27ff40-0989-4d66-8528-84fa7bd66289",
   "metadata": {},
   "outputs": [
    {
     "data": {
      "text/plain": [
       "val milieu : float * float -> float * float -> float * float = <fun>\n"
      ]
     },
     "execution_count": 26,
     "metadata": {},
     "output_type": "execute_result"
    },
    {
     "data": {
      "text/plain": [
       "- : float * float = (1., 3.)\n"
      ]
     },
     "execution_count": 26,
     "metadata": {},
     "output_type": "execute_result"
    }
   ],
   "source": [
    "let milieu (x1,y1) (x2,y2) =\n",
    "    let x = (x1 +. x2)/.2. in\n",
    "    let y = (y1 +. y2)/.2. in\n",
    "    (x,y);;\n",
    "milieu (0.,4.) (2.,2.)"
   ]
  },
  {
   "cell_type": "markdown",
   "id": "b0d67dd4",
   "metadata": {},
   "source": [
    "**Exercice** Écrire une fonction `parallelogramme : float*float -> float*float -> float*float -> float*float -> bool` telle que `parallelogramme p1 p2 p3 p4` renvoie `true` si les points `p1`, `p2`, `p3`, `p4` forment un parallélogramme, c'est à dire si les côtés opposés sont (approximativement) de même longueur.  \n",
    "On fera attention à ne pas comparer 2 flottants avec `=`, mais regarder à la place si la différence est petite (< 0.001 par exemple)."
   ]
  },
  {
   "cell_type": "code",
   "execution_count": 40,
   "id": "8e5603b7-b81b-4c39-9c82-5866d6a01208",
   "metadata": {},
   "outputs": [
    {
     "data": {
      "text/plain": [
       "val parallelogramme :\n",
       "  float * float -> float * float -> float * float -> float * float -> bool =\n",
       "  <fun>\n"
      ]
     },
     "execution_count": 40,
     "metadata": {},
     "output_type": "execute_result"
    },
    {
     "data": {
      "text/plain": [
       "- : bool = true\n"
      ]
     },
     "execution_count": 40,
     "metadata": {},
     "output_type": "execute_result"
    }
   ],
   "source": [
    "let parallelogramme (x1,y1) (x2,y2) (x3,y3) (x4,y4) =\n",
    "    let a = abs_float (x1-.x2) in\n",
    "    let b = abs_float (y1-.y2) in\n",
    "    let c = abs_float (x3-.x4) in\n",
    "    let d = abs_float (y3-.y4) in\n",
    "    abs_float (sqrt ((a**2.) +. (b**2.)) -. sqrt ((c**2.) +. (d**2.))) < 0.001;;\n",
    "parallelogramme (0.,1.) (2.,2.) (3.,1.) (1.,0.)"
   ]
  },
  {
   "cell_type": "markdown",
   "id": "8a89d768",
   "metadata": {},
   "source": [
    "## Congruence\n",
    "\n",
    "Le but de cet exercice est de calculer $1357^{2013}$ mod $5$ (mais la méthode utilisée s'applique dans un grande nombre d'exercices mathématiques).  \n",
    "On rappelle que les congruences sont compatibles avec la puissance :\n",
    "$$a \\equiv b [n] \\Longrightarrow a^k \\equiv b^k [n]$$\n",
    "\n",
    "1. Soit $k$ un entier positif. Que vaut $2^{4k}$ mod $5$? On pourra calculer des valeurs avec OCaml puis le démontrer mathématiquement.\n",
    "2. Que vaut $1357$ mod $5$? En déduire la valeur de $1357^{2013}$ mod $5$."
   ]
  },
  {
   "cell_type": "code",
   "execution_count": 47,
   "id": "eba5838e-3a56-4a63-865b-e396665a7ecd",
   "metadata": {},
   "outputs": [
    {
     "data": {
      "text/plain": [
       "- : int = 1\n"
      ]
     },
     "execution_count": 47,
     "metadata": {},
     "output_type": "execute_result"
    },
    {
     "data": {
      "text/plain": [
       "- : int = 1\n"
      ]
     },
     "execution_count": 47,
     "metadata": {},
     "output_type": "execute_result"
    }
   ],
   "source": [
    "16 mod 5;; (* 2**4 *)\n",
    "256 mod 5;; (* 2**8 *)\n",
    "(*  \n",
    "2**4 = 16\n",
    "2**4 mod 5 = 1\n",
    "(2**4)**k mod 5 = 1**k\n",
    "2**(4*k) mod 5 = 1\n",
    "*)"
   ]
  },
  {
   "cell_type": "code",
   "execution_count": 303,
   "id": "5017ecc2-bf03-480f-abd3-7b47f21bdbbf",
   "metadata": {},
   "outputs": [
    {
     "data": {
      "text/plain": [
       "- : int = 2\n"
      ]
     },
     "execution_count": 303,
     "metadata": {},
     "output_type": "execute_result"
    }
   ],
   "source": [
    "1357 mod 5"
   ]
  },
  {
   "cell_type": "raw",
   "id": "1d559cce-52a2-4e2b-94e1-c158745eaf2e",
   "metadata": {},
   "source": [
    "1357 mod 5 = 2\n",
    "1357**2 mod 5 = 4\n",
    "(1357**2)**2 mod 5 = 4**2\n",
    "1357**4 mod 5 = 1\n",
    "\n",
    "2013 = 2012+1\n",
    "2013 = 4*503+1\n",
    "\n",
    "(1357**4)**503 mod 5 = 1**503\n",
    "1357**2012 mod 5 = 1\n",
    "(1357**2012)*1357 mod 5 = 1*1357\n",
    "1357**2013 mod 5 = 1357\n",
    "1357**2013 mod 5 = 2"
   ]
  },
  {
   "cell_type": "markdown",
   "id": "60c42e47",
   "metadata": {},
   "source": [
    "## Nombres aléatoires\n",
    "\n",
    "`Random.int n` permet d'obtenir un entier uniformément au hasard entre 0 et `n - 1` (chacun de ces entiers a la même probabilité $\\frac{1}{n}$ d'être obtenu).  \n",
    "Dans cet exercice, on imagine que l'on possède comme seule source aléatoire un dé à 5 faces (c'est à dire que l'on a seulement le droit d'utiliser `Random.int 5`).\n",
    "\n",
    "1. Calculer `(Random.int 5) + (Random.int 5)` plusieurs fois. Est-ce que le résultat vous semble être un entier uniformément au hasard entre 0 et 8?  \n",
    "2. Quelle est la probabilité d'obtenir `0` avec `(Random.int 5) + (Random.int 5)`? D'obtenir `1`? Quelle est l'entier qui a le plus de chances d'apparaître?\n",
    "3. Comment générer uniformément un entier entre 0 et 24? (C'est à dire passer de 5 possibilités à 25)\n",
    "3. Comment générer uniformément un entier entre 0 et 6? Écrire une fonction pour le faire. On utilisera une méthode par rejection (rejection sampling) : générer dans un espace plus grand et regénérer si la valeur n'est pas dans l'intervalle souhaité.  \n",
    "Pour cela on utilisera une boucle while :\n",
    "```ocaml\n",
    "while ... do\n",
    "    ...\n",
    "done\n",
    "```"
   ]
  },
  {
   "cell_type": "code",
   "execution_count": 1,
   "id": "c06e7074",
   "metadata": {},
   "outputs": [
    {
     "data": {
      "text/plain": [
       "- : int = 4\n"
      ]
     },
     "execution_count": 1,
     "metadata": {},
     "output_type": "execute_result"
    },
    {
     "data": {
      "text/plain": [
       "- : int = 3\n"
      ]
     },
     "execution_count": 1,
     "metadata": {},
     "output_type": "execute_result"
    },
    {
     "data": {
      "text/plain": [
       "- : int = 4\n"
      ]
     },
     "execution_count": 1,
     "metadata": {},
     "output_type": "execute_result"
    },
    {
     "data": {
      "text/plain": [
       "- : int = 4\n"
      ]
     },
     "execution_count": 1,
     "metadata": {},
     "output_type": "execute_result"
    },
    {
     "data": {
      "text/plain": [
       "- : int = 1\n"
      ]
     },
     "execution_count": 1,
     "metadata": {},
     "output_type": "execute_result"
    }
   ],
   "source": [
    "(Random.int 5) + (Random.int 5);;\n",
    "(Random.int 5) + (Random.int 5);;\n",
    "(Random.int 5) + (Random.int 5);;\n",
    "(Random.int 5) + (Random.int 5);;\n",
    "(Random.int 5) + (Random.int 5) (* le résultat ne semble pas être un entier uniforme entre 0 et 8 *)"
   ]
  },
  {
   "cell_type": "raw",
   "id": "60453c6a-337c-4ea5-9ef9-8b6abef47068",
   "metadata": {},
   "source": [
    "p(0) = p(0) sur le 1er tirage * p(0) sur le 2e tirage\n",
    "p(0) = 1/5 * 1/5\n",
    "p(0) = 1/25\n",
    "\n",
    "p(1) = (p(0) 1er * p(1) 2e) + (p(1) 1er * p(0) 2e)\n",
    "p(1) = 1/5 * 1/5 + 1/5 * 1/5\n",
    "p(1) = 2/25\n",
    "\n",
    "4 a le plus de chance d'apparaître car peut importe le résultat du 1er tirage, il sera quand même possible d'obtenir un 4 grâce au 2e tirage\n",
    "p(4) = 1/25 + 1/25 + 1/25 + 1/25 + 1/25\n",
    "p(4) = 5/25"
   ]
  }
 ],
 "metadata": {
  "kernelspec": {
   "display_name": "OCaml default",
   "language": "OCaml",
   "name": "ocaml-jupyter"
  },
  "language_info": {
   "codemirror_mode": "text/x-ocaml",
   "file_extension": ".ml",
   "mimetype": "text/x-ocaml",
   "name": "OCaml",
   "nbconverter_exporter": null,
   "pygments_lexer": "OCaml",
   "version": "4.08.1"
  }
 },
 "nbformat": 4,
 "nbformat_minor": 5
}
