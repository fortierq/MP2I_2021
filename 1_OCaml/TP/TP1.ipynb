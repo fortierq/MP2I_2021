{
 "cells": [
  {
   "cell_type": "markdown",
   "id": "4ef1c104",
   "metadata": {},
   "source": [
    "# TP1 : Types, variables, fonctions"
   ]
  },
  {
   "cell_type": "markdown",
   "id": "becd8118",
   "metadata": {},
   "source": [
    "## Types\n",
    "\n",
    "Devinez le type des fonctions suivantes et vérifier avec OCaml :\n",
    "```ocaml\n",
    "let f x y = x**y\n",
    "```\n",
    "```ocaml\n",
    "let g x y = x (y + 1)\n",
    "```\n",
    "```ocaml\n",
    "let h x y z = x (3. *. (y z)) + 1\n",
    "```\n",
    "Puis tester ces fonctions sur des arguments de votre choix."
   ]
  },
  {
   "cell_type": "code",
   "execution_count": 2,
   "id": "75d4c944-b8c8-4de0-8b30-59af394c455b",
   "metadata": {},
   "outputs": [
    {
     "data": {
      "text/plain": [
       "val f : float -> float -> float = <fun>\n"
      ]
     },
     "execution_count": 2,
     "metadata": {},
     "output_type": "execute_result"
    },
    {
     "data": {
      "text/plain": [
       "val g : (int -> 'a) -> int -> 'a = <fun>\n"
      ]
     },
     "execution_count": 2,
     "metadata": {},
     "output_type": "execute_result"
    },
    {
     "data": {
      "text/plain": [
       "val h : (float -> int) -> ('a -> float) -> 'a -> int = <fun>\n"
      ]
     },
     "execution_count": 2,
     "metadata": {},
     "output_type": "execute_result"
    }
   ],
   "source": [
    "let f x y = x**y\n",
    "let g x y = x (y + 1)\n",
    "let h x y z = x (3. *. (y z)) + 1"
   ]
  },
  {
   "cell_type": "code",
   "execution_count": 10,
   "id": "e1001b11-1f17-4452-a272-64300e5ec3a3",
   "metadata": {},
   "outputs": [
    {
     "ename": "error",
     "evalue": "compile_error",
     "output_type": "error",
     "traceback": [
      "File \"[10]\", line 1, characters 7-8:\n1 | h (2.*.y*.z+.1.) 2. 8.\n           ^\nError: Unbound value y\n"
     ]
    }
   ],
   "source": [
    "let x a = 3.14 in "
   ]
  },
  {
   "cell_type": "code",
   "execution_count": 1,
   "id": "3a0adf65-e500-46cc-8555-4de898872cd0",
   "metadata": {},
   "outputs": [],
   "source": [
    "(*float -> float -> float*)\n",
    "(* (int -> 'a) -> int -> 'a*)\n",
    "(*float -> int) -> ('a -> float) -> 'a*)"
   ]
  },
  {
   "cell_type": "markdown",
   "id": "23e9b523",
   "metadata": {},
   "source": [
    "## Tangente hyperbolique\n",
    "\n",
    "Définir en OCaml la fonction $\\tanh : x \\longmapsto \\frac{e^x - e^{-x}}{e^x + e^{-x}}$ en utilisant un seul appel à la fonction `exp : float -> float` de OCaml."
   ]
  },
  {
   "cell_type": "code",
   "execution_count": 17,
   "id": "2ef2fed9-3abe-4847-b8a9-3f5d07fc3246",
   "metadata": {},
   "outputs": [
    {
     "data": {
      "text/plain": [
       "val tanh2 : float -> float = <fun>\n"
      ]
     },
     "execution_count": 17,
     "metadata": {},
     "output_type": "execute_result"
    },
    {
     "ename": "interrupt",
     "evalue": "intterupt",
     "output_type": "error",
     "traceback": [
      "\u001b[31mException: Sys.Break.\u001b[0m"
     ]
    }
   ],
   "source": [
    "let tanh2 x = \n",
    "    let a = exp x in\n",
    "    (a -. a**(-1.))/. (a +. a**(-1.))"
   ]
  },
  {
   "cell_type": "markdown",
   "id": "74da135f",
   "metadata": {},
   "source": [
    "## Géométrie\n",
    "\n",
    "Le type `float*float` désigne un couple de flottant, représentant un point `p` dans $\\mathbb{R}^2$. On peut récupérer les coordonnées de `p` avec `let x, y = p` . Par exemple :"
   ]
  },
  {
   "cell_type": "code",
   "execution_count": 1,
   "id": "7073f5d1",
   "metadata": {
    "execution": {
     "iopub.execute_input": "2021-09-09T19:25:52.406644Z",
     "iopub.status.busy": "2021-09-09T19:25:52.405787Z",
     "iopub.status.idle": "2021-09-09T19:25:52.409142Z",
     "shell.execute_reply": "2021-09-09T19:25:52.408391Z"
    }
   },
   "outputs": [
    {
     "data": {
      "text/plain": [
       "- : float = 2.1\n"
      ]
     },
     "execution_count": 1,
     "metadata": {},
     "output_type": "execute_result"
    }
   ],
   "source": [
    "let p = (2.1, 3.7) in (* exemple de point *)\n",
    "let x, y = p in (* récupération des coordonnées *)\n",
    "x;; (* affichage de x *)"
   ]
  },
  {
   "cell_type": "markdown",
   "id": "898ce016",
   "metadata": {},
   "source": [
    "**Exercice** Écrire une fonction `aire_boule : float -> float` telle que `aire_boule r` renvoie l'aire d'une boule (disque en dimension 3) de rayon `r`, c'est à dire $\\frac{4 \\pi r^3}{3}$. On pourra utiliser `Float.pi`."
   ]
  },
  {
   "cell_type": "code",
   "execution_count": 12,
   "id": "25199d3e-b57b-419c-9a2b-29327b9f4745",
   "metadata": {},
   "outputs": [
    {
     "data": {
      "text/plain": [
       "val aire_boule : float -> float = <fun>\n"
      ]
     },
     "execution_count": 12,
     "metadata": {},
     "output_type": "execute_result"
    }
   ],
   "source": [
    "let aire_boule r = (4.*.Float.pi*.r**3.)/.3."
   ]
  },
  {
   "cell_type": "markdown",
   "id": "18817317",
   "metadata": {},
   "source": [
    "**Exercice** Écrire une fonction `distance : float*float -> float*float -> float` telle que `distance p1 p2` renvoie la distance euclidienne entre les points `p1` et `p2`.  \n",
    "Vérifier que la distance entre $(0, 0)$ et $(1, 1)$ est (approximativement) $\\sqrt{2}$."
   ]
  },
  {
   "cell_type": "code",
   "execution_count": 1,
   "id": "e63b4043-078f-461c-a922-d60c7be11410",
   "metadata": {},
   "outputs": [
    {
     "data": {
      "text/plain": [
       "val distance_euclide : float * float -> float * float -> float = <fun>\n"
      ]
     },
     "execution_count": 1,
     "metadata": {},
     "output_type": "execute_result"
    }
   ],
   "source": [
    "let distance_euclide (xp1,yp1) (xp2,yp2) = ((xp1-.xp2)**2.+.(yp1-.yp2)**2.)**0.5"
   ]
  },
  {
   "cell_type": "markdown",
   "id": "6be0092c",
   "metadata": {},
   "source": [
    "**Exercice** Écrire une fonction `polaire : float*float -> float*float` qui, étant donné les coordonnées polaires $(r, \\theta)$ d'un point, renvoie ses coordonnées cartésiennes $(x, y)$. On rappelle que $x = r\\cos(\\theta)$ et $y = r\\sin(\\theta)$. On pourra utiliser `cos` et `sin` en OCaml."
   ]
  },
  {
   "cell_type": "code",
   "execution_count": 2,
   "id": "34f73160-2683-45f6-aecf-31e2a3d64716",
   "metadata": {},
   "outputs": [
    {
     "data": {
      "text/plain": [
       "val polaire_cartesienne : float * float -> float * float = <fun>\n"
      ]
     },
     "execution_count": 2,
     "metadata": {},
     "output_type": "execute_result"
    }
   ],
   "source": [
    "let polaire_cartesienne (r,teta) =\n",
    "    let x = r*. cos teta in\n",
    "    let y = r*. sin teta in\n",
    "    (x,y)"
   ]
  },
  {
   "cell_type": "markdown",
   "id": "2992c0fe",
   "metadata": {},
   "source": [
    "**Exercice** Écrire une fonction `milieu : float*float -> float*float -> float*float` telle que `milieu p1 p2` renvoie le milieu du segment d'extrémités `p1` et `p2`."
   ]
  },
  {
   "cell_type": "code",
   "execution_count": 3,
   "id": "c413e2f8-01af-4fa0-9cc4-24436ab06fd6",
   "metadata": {},
   "outputs": [
    {
     "data": {
      "text/plain": [
       "val milieu : float * float -> float * float -> float * float = <fun>\n"
      ]
     },
     "execution_count": 3,
     "metadata": {},
     "output_type": "execute_result"
    }
   ],
   "source": [
    "let milieu (xp1,yp1) (xp2,yp2) =\n",
    "    let x = (xp1+.xp2)/.2. in\n",
    "    let y = (yp1+.yp2)/.2. in \n",
    "    (x,y)"
   ]
  },
  {
   "cell_type": "markdown",
   "id": "b0d67dd4",
   "metadata": {},
   "source": [
    "**Exercice** Écrire une fonction `parallelogramme : float*float -> float*float -> float*float -> float*float -> bool` telle que `parallelogramme p1 p2 p3 p4` renvoie `true` si les points `p1`, `p1`, `p1`, `p1` forment un parallélogramme, c'est à dire si les côtés opposés sont (approximativement) de même longueur.  \n",
    "On fera attention à ne pas comparer 2 flottants avec `=`, mais regarder à la place si la différence est petite (< 0.001 par exemple)."
   ]
  },
  {
   "cell_type": "code",
   "execution_count": 5,
   "id": "2f6448f3-160b-4b85-b8ea-8f3f31854cd2",
   "metadata": {},
   "outputs": [
    {
     "data": {
      "text/plain": [
       "val parallelogramme :\n",
       "  float * float -> float * float -> float * float -> float * float -> bool =\n",
       "  <fun>\n"
      ]
     },
     "execution_count": 5,
     "metadata": {},
     "output_type": "execute_result"
    }
   ],
   "source": [
    "let parallelogramme (xp1,yp1) (xp2,yp2) (xp3,yp3) (xp4,yp4) =\n",
    "    (distance_euclide (xp1,yp1) (xp3,yp3)) -. (distance_euclide (xp2,yp2) (xp4,yp4)) < 0.001"
   ]
  },
  {
   "cell_type": "code",
   "execution_count": 2,
   "id": "46a4e515",
   "metadata": {
    "execution": {
     "iopub.execute_input": "2021-09-09T19:25:52.411490Z",
     "iopub.status.busy": "2021-09-09T19:25:52.410851Z",
     "iopub.status.idle": "2021-09-09T19:25:52.414563Z",
     "shell.execute_reply": "2021-09-09T19:25:52.416638Z"
    }
   },
   "outputs": [
    {
     "data": {
      "text/plain": [
       "- : float -> float = <fun>\n"
      ]
     },
     "execution_count": 2,
     "metadata": {},
     "output_type": "execute_result"
    }
   ],
   "source": [
    "acos"
   ]
  },
  {
   "cell_type": "markdown",
   "id": "8a89d768",
   "metadata": {},
   "source": [
    "## Congruence\n",
    "\n",
    "Le but de cet exercice est de calculer $1357^{2013}$ mod $5$ (mais la méthode utilisée s'applique dans un grande nombre d'exercices mathématiques).  \n",
    "On rappelle que les congruences sont compatibles avec la puissance :\n",
    "$$a \\equiv b [n] \\Longrightarrow a^k \\equiv b^k [n]$$\n",
    "\n",
    "1. Soit $k$ un entier positif. Que vaut $2^{4k}$ mod $5$? On pourra calculer des valeurs avec OCaml puis le démontrer mathématiquement.\n",
    "2. Que vaut $1357$ mod $5$? En déduire la valeur de $1357^{2013}$ mod $5$."
   ]
  },
  {
   "cell_type": "code",
   "execution_count": 7,
   "id": "7dde6a27-ccf5-4e01-b9bf-60c9536019ff",
   "metadata": {},
   "outputs": [
    {
     "data": {
      "text/plain": [
       "- : int = 2\n"
      ]
     },
     "execution_count": 7,
     "metadata": {},
     "output_type": "execute_result"
    }
   ],
   "source": []
  },
  {
   "cell_type": "code",
   "execution_count": null,
   "id": "594a6579-2407-4666-8870-ce63357a1c7e",
   "metadata": {},
   "outputs": [],
   "source": [
    "(*1. 2**4 mod 5 = 1 donc 2**4k mod 5 = 1**k = 1*)"
   ]
  },
  {
   "cell_type": "code",
   "execution_count": null,
   "id": "9db6bfd1-78d9-4dfa-a6d3-9a01ec3e7a76",
   "metadata": {},
   "outputs": [],
   "source": [
    "(*2. 1357 mod 5 = 2 donc 1357**2013 mod 5 = 2**2013 et 2**2013 mod 5 = 2 donc 1357**2013 mod 5 = 2 *) "
   ]
  },
  {
   "cell_type": "markdown",
   "id": "60c42e47",
   "metadata": {},
   "source": [
    "## Nombres aléatoires\n",
    "\n",
    "`Random.int n` permet d'obtenir un entier uniformément au hasard entre 0 et `n - 1` (chacun de ces entiers a la même probabilité $\\frac{1}{n}$ d'être obtenu).  \n",
    "Dans cet exercice, on imagine que l'on possède comme seule source aléatoire un dé à 5 faces (c'est à dire que l'on a seulement le droit d'utiliser `Random.int 5`).\n",
    "\n",
    "1. Calculer `(Random.int 5) + (Random.int 5)` plusieurs fois. Est-ce que le résultat vous semble être un entier uniformément au hasard entre 0 et 8?  \n",
    "2. Quelle est la probabilité d'obtenir `0` avec `(Random.int 5) + (Random.int 5)`? D'obtenir `1`? Quelle est l'entier qui a le plus de chances d'apparaître?\n",
    "3. Comment générer uniformément un entier entre 0 et 24? (C'est à dire passer de 5 possibilités à 25)\n",
    "3. Comment générer uniformément un entier entre 0 et 6? Écrire une fonction pour le faire. On utilisera une méthode par rejection (rejection sampling) : générer dans un espace plus grand et regénérer si la valeur n'est pas dans l'intervalle souhaité.  \n",
    "Pour cela on utilisera une boucle while :\n",
    "```ocaml\n",
    "while ... do\n",
    "    ...\n",
    "done\n",
    "```"
   ]
  },
  {
   "cell_type": "code",
   "execution_count": null,
   "id": "ef01a709-5b44-466b-ac18-6defbe16b835",
   "metadata": {},
   "outputs": [],
   "source": [
    "(*1. oui car tous mes résultats se situent entre 0 et 8 *)"
   ]
  },
  {
   "cell_type": "code",
   "execution_count": null,
   "id": "c06e7074",
   "metadata": {},
   "outputs": [],
   "source": [
    "(*2. la probabilité d'obtenir 0 est 1/25 cat il y a une seul combinaisons sur 25 (5*5) qui donne zéro.\n",
    "Donc la probabilité d'obtenir 1 est 2/25\n",
    "L'entier qui a le plus de chance d'apparaître est 4 car 5 combinaisons peuvent donner 4*)"
   ]
  },
  {
   "cell_type": "code",
   "execution_count": null,
   "id": "cd239ac4-bedf-42c4-9f08-180990a67f8c",
   "metadata": {},
   "outputs": [],
   "source": [
    "(*3. il suffit de faire Random.int 25*)"
   ]
  }
 ],
 "metadata": {
  "kernelspec": {
   "display_name": "OCaml default",
   "language": "OCaml",
   "name": "ocaml-jupyter"
  },
  "language_info": {
   "codemirror_mode": "text/x-ocaml",
   "file_extension": ".ml",
   "mimetype": "text/x-ocaml",
   "name": "OCaml",
   "nbconverter_exporter": null,
   "pygments_lexer": "OCaml",
   "version": "4.08.1"
  }
 },
 "nbformat": 4,
 "nbformat_minor": 5
}
