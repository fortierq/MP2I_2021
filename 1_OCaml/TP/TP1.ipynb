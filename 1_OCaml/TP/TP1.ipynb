{
 "cells": [
  {
   "cell_type": "markdown",
   "id": "4ef1c104",
   "metadata": {},
   "source": [
    "# TP1 : Types, variables, fonctions"
   ]
  },
  {
   "cell_type": "markdown",
   "id": "becd8118",
   "metadata": {},
   "source": [
    "## Types\n",
    "\n",
    "Devinez le type des fonctions suivantes et vérifier avec OCaml :\n",
    "```ocaml\n",
    "let f x y = x**y \n",
    "```\n",
    "```ocaml\n",
    "let g x y = x (y + 1) \n",
    "```\n",
    "```ocaml\n",
    "let h x y z = x (3. *. (y z)) + 1\n",
    "```\n",
    "Puis tester ces fonctions sur des arguments de votre choix."
   ]
  },
  {
   "cell_type": "code",
   "execution_count": 18,
   "id": "10340dc3-878f-468c-9393-0fb0f7238a9b",
   "metadata": {},
   "outputs": [
    {
     "data": {
      "text/plain": [
       "val f : float -> float -> float = <fun>\n"
      ]
     },
     "execution_count": 18,
     "metadata": {},
     "output_type": "execute_result"
    },
    {
     "data": {
      "text/plain": [
       "val g : (int -> 'a) -> int -> 'a = <fun>\n"
      ]
     },
     "execution_count": 18,
     "metadata": {},
     "output_type": "execute_result"
    },
    {
     "data": {
      "text/plain": [
       "val h : (float -> int) -> ('a -> float) -> 'a -> int = <fun>\n"
      ]
     },
     "execution_count": 18,
     "metadata": {},
     "output_type": "execute_result"
    },
    {
     "data": {
      "text/plain": [
       "- : float = 9.\n"
      ]
     },
     "execution_count": 18,
     "metadata": {},
     "output_type": "execute_result"
    },
    {
     "data": {
      "text/plain": [
       "- : int = 5\n"
      ]
     },
     "execution_count": 18,
     "metadata": {},
     "output_type": "execute_result"
    },
    {
     "data": {
      "text/plain": [
       "- : int = 22\n"
      ]
     },
     "execution_count": 18,
     "metadata": {},
     "output_type": "execute_result"
    }
   ],
   "source": [
    "(*\n",
    "float -> float -> float\n",
    "(int -> 'a) -> int -> 'a\n",
    "(float -> int) -> (a' -> float) -> 'a -> int\n",
    "*)\n",
    "\n",
    "let f x y = x**y;;\n",
    "let g x y = x (y + 1);;\n",
    "let h x y z = x (3. *. (y z)) + 1;;\n",
    "\n",
    "f 3.0 2.0;;\n",
    "\n",
    "let a x = x + 2 in\n",
    "g a 2;;\n",
    "\n",
    "let alpha x = int_of_float x in\n",
    "let beta x = x +. 3.0 in\n",
    "let gamma = 4.0 in\n",
    "\n",
    "h alpha beta gamma"
   ]
  },
  {
   "cell_type": "markdown",
   "id": "23e9b523",
   "metadata": {},
   "source": [
    "## Tangente hyperbolique\n",
    "\n",
    "Définir en OCaml la fonction $\\tanh : x \\longmapsto \\frac{e^x - e^{-x}}{e^x + e^{-x}}$ en utilisant un seul appel à la fonction `exp : float -> float` de OCaml."
   ]
  },
  {
   "cell_type": "code",
   "execution_count": 23,
   "id": "6c7a748e-0224-45ea-8899-0adb9e69c1a2",
   "metadata": {},
   "outputs": [
    {
     "data": {
      "text/plain": [
       "val tanh2 : float -> float = <fun>\n"
      ]
     },
     "execution_count": 23,
     "metadata": {},
     "output_type": "execute_result"
    },
    {
     "data": {
      "text/plain": [
       "- : float = 0.761594155955764851\n"
      ]
     },
     "execution_count": 23,
     "metadata": {},
     "output_type": "execute_result"
    }
   ],
   "source": [
    "let tanh2 x =\n",
    "    let e = exp(x) in\n",
    "    (e-.e**(-1.0))/.(e+.e**(-1.0));;\n",
    "\n",
    "tanh2 1.0"
   ]
  },
  {
   "cell_type": "markdown",
   "id": "74da135f",
   "metadata": {},
   "source": [
    "## Géométrie\n",
    "\n",
    "Le type `float*float` désigne un couple de flottant, représentant un point `p` dans $\\mathbb{R}^2$. On peut récupérer les coordonnées de `p` avec `let x, y = p` . Par exemple :"
   ]
  },
  {
   "cell_type": "code",
   "execution_count": 1,
   "id": "7073f5d1",
   "metadata": {
    "execution": {
     "iopub.execute_input": "2021-09-09T19:25:52.406644Z",
     "iopub.status.busy": "2021-09-09T19:25:52.405787Z",
     "iopub.status.idle": "2021-09-09T19:25:52.409142Z",
     "shell.execute_reply": "2021-09-09T19:25:52.408391Z"
    }
   },
   "outputs": [
    {
     "data": {
      "text/plain": [
       "- : float = 2.1\n"
      ]
     },
     "execution_count": 1,
     "metadata": {},
     "output_type": "execute_result"
    }
   ],
   "source": [
    "let p = (2.1, 3.7) in (* exemple de point *)\n",
    "let x, y = p in (* récupération des coordonnées *)\n",
    "x;; (* affichage de x *)"
   ]
  },
  {
   "cell_type": "markdown",
   "id": "898ce016",
   "metadata": {},
   "source": [
    "**Exercice** Écrire une fonction `aire_boule : float -> float` telle que `aire_boule r` renvoie l'aire d'une boule (disque en dimension 3) de rayon `r`, c'est à dire $\\frac{4 \\pi r^3}{3}$. On pourra utiliser `Float.pi`."
   ]
  },
  {
   "cell_type": "code",
   "execution_count": 25,
   "id": "ac2f0559-165b-40d0-ac8a-a496bf3e11bc",
   "metadata": {},
   "outputs": [
    {
     "data": {
      "text/plain": [
       "val aire_boule : float -> float = <fun>\n"
      ]
     },
     "execution_count": 25,
     "metadata": {},
     "output_type": "execute_result"
    },
    {
     "data": {
      "text/plain": [
       "- : float = 4.18879020478639053\n"
      ]
     },
     "execution_count": 25,
     "metadata": {},
     "output_type": "execute_result"
    }
   ],
   "source": [
    "let aire_boule r =\n",
    "    (4.0*.Float.pi*.r**3.0)/.3.0;;\n",
    "\n",
    "aire_boule 1.0"
   ]
  },
  {
   "cell_type": "markdown",
   "id": "18817317",
   "metadata": {},
   "source": [
    "**Exercice** Écrire une fonction `distance : float*float -> float*float -> float` telle que `distance p1 p2` renvoie la distance euclidienne entre les points `p1` et `p2`.  \n",
    "Vérifier que la distance entre $(0, 0)$ et $(1, 1)$ est (approximativement) $\\sqrt{2}$."
   ]
  },
  {
   "cell_type": "code",
   "execution_count": 31,
   "id": "477427a0-eaa8-4f7d-b4b8-8adede5d2e2a",
   "metadata": {},
   "outputs": [
    {
     "data": {
      "text/plain": [
       "val distance : float * float -> float * float -> float = <fun>\n"
      ]
     },
     "execution_count": 31,
     "metadata": {},
     "output_type": "execute_result"
    },
    {
     "data": {
      "text/plain": [
       "- : float = 1.41421356237309515\n"
      ]
     },
     "execution_count": 31,
     "metadata": {},
     "output_type": "execute_result"
    }
   ],
   "source": [
    "let distance p1 p2 =\n",
    "    let x0, y0 = p1 in\n",
    "    let x1, y1 = p2 in\n",
    "    sqrt ((y1 -. y0)**2.+.(x1 -. x0)**2.);;\n",
    "    \n",
    "distance (0.0, 0.0) (1.0, 1.0)"
   ]
  },
  {
   "cell_type": "markdown",
   "id": "6be0092c",
   "metadata": {},
   "source": [
    "**Exercice** Écrire une fonction `polaire : float*float -> float*float` qui, étant donné les coordonnées polaires $(r, \\theta)$ d'un point, renvoie ses coordonnées cartésiennes $(x, y)$. On rappelle que $x = r\\cos(\\theta)$ et $y = r\\sin(\\theta)$. On pourra utiliser `cos` et `sin` en OCaml."
   ]
  },
  {
   "cell_type": "code",
   "execution_count": 40,
   "id": "22e6805e-08a0-415b-a230-c04d00f0c6e2",
   "metadata": {},
   "outputs": [
    {
     "data": {
      "text/plain": [
       "val polaire : float * float -> float * float = <fun>\n"
      ]
     },
     "execution_count": 40,
     "metadata": {},
     "output_type": "execute_result"
    },
    {
     "data": {
      "text/plain": [
       "- : float * float = (1.41421356237309515, 0.78539816339744839)\n"
      ]
     },
     "execution_count": 40,
     "metadata": {},
     "output_type": "execute_result"
    }
   ],
   "source": [
    "let polaire p =\n",
    "    let x, y = p in\n",
    "    let r = sqrt (x**2. +. y**2.) in\n",
    "    let theta = acos (x/.r) in\n",
    "    let rv = (r, theta) in\n",
    "    rv;;\n",
    "    \n",
    "polaire (1.0, 1.0)"
   ]
  },
  {
   "cell_type": "markdown",
   "id": "2992c0fe",
   "metadata": {},
   "source": [
    "**Exercice** Écrire une fonction `milieu : float*float -> float*float -> float*float` telle que `milieu p1 p2` renvoie le milieu du segment d'extrémités `p1` et `p2`."
   ]
  },
  {
   "cell_type": "code",
   "execution_count": 71,
   "id": "dc0f5a58-ea16-43e2-8699-72f17df68282",
   "metadata": {},
   "outputs": [
    {
     "data": {
      "text/plain": [
       "val milieu : float * float -> float * float -> float * float = <fun>\n"
      ]
     },
     "execution_count": 71,
     "metadata": {},
     "output_type": "execute_result"
    },
    {
     "data": {
      "text/plain": [
       "- : float * float = (1.5, -0.5)\n"
      ]
     },
     "execution_count": 71,
     "metadata": {},
     "output_type": "execute_result"
    }
   ],
   "source": [
    "let milieu p1 p2 =\n",
    "    let x0, y0 = p1 in\n",
    "    let x1, y1 = p2 in\n",
    "    let m = (((x0 +. x1)/.2.), (y0 +. y1)/.2.) in\n",
    "    m;;\n",
    "    \n",
    "milieu (1.0, -3.0) (2.0, 2.0)"
   ]
  },
  {
   "cell_type": "markdown",
   "id": "b0d67dd4",
   "metadata": {},
   "source": [
    "**Exercice** Écrire une fonction `parallelogramme : float*float -> float*float -> float*float -> float*float -> bool` telle que `parallelogramme p1 p2 p3 p4` renvoie `true` si les points `p1`, `p1`, `p1`, `p1` forment un parallélogramme, c'est à dire si les côtés opposés sont (approximativement) de même longueur.  \n",
    "On fera attention à ne pas comparer 2 flottants avec `=`, mais regarder à la place si la différence est petite (< 0.001 par exemple)."
   ]
  },
  {
   "cell_type": "code",
   "execution_count": 70,
   "id": "46a4e515",
   "metadata": {
    "tags": []
   },
   "outputs": [
    {
     "data": {
      "text/plain": [
       "val parallelogramme :\n",
       "  float * float -> float * float -> float * float -> float * float -> bool =\n",
       "  <fun>\n"
      ]
     },
     "execution_count": 70,
     "metadata": {},
     "output_type": "execute_result"
    },
    {
     "data": {
      "text/plain": [
       "- : bool = true\n"
      ]
     },
     "execution_count": 70,
     "metadata": {},
     "output_type": "execute_result"
    }
   ],
   "source": [
    "let parallelogramme p1 p2 p3 p4 = \n",
    "    abs_float(distance p1 p2 -. distance p3 p4) < 0.001 && abs_float(distance p1 p3 -. distance p2 p4) < 0.001;;\n",
    "    \n",
    "parallelogramme (0.0, 5.0) (10.0, 5.0) (2.0, 0.0) (12.0, 0.0)"
   ]
  },
  {
   "cell_type": "markdown",
   "id": "8a89d768",
   "metadata": {},
   "source": [
    "## Congruence\n",
    "\n",
    "Le but de cet exercice est de calculer $1357^{2013}$ mod $5$ (mais la méthode utilisée s'applique dans un grande nombre d'exercices mathématiques).  \n",
    "On rappelle que les congruences sont compatibles avec la puissance :\n",
    "$$a \\equiv b [n] \\Longrightarrow a^k \\equiv b^k [n]$$\n",
    "\n",
    "1. Soit $k$ un entier positif. Que vaut $2^{4k}$ mod $5$? On pourra calculer des valeurs avec OCaml puis le démontrer mathématiquement.\n",
    "2. Que vaut $1357$ mod $5$? En déduire la valeur de $1357^{2013}$ mod $5$."
   ]
  },
  {
   "cell_type": "markdown",
   "id": "60c42e47",
   "metadata": {},
   "source": [
    "## Nombres aléatoires\n",
    "\n",
    "`Random.int n` permet d'obtenir un entier uniformément au hasard entre 0 et `n - 1` (chacun de ces entiers a la même probabilité $\\frac{1}{n}$ d'être obtenu).  \n",
    "Dans cet exercice, on imagine que l'on possède comme seule source aléatoire un dé à 5 faces (c'est à dire que l'on a seulement le droit d'utiliser `Random.int 5`).\n",
    "\n",
    "1. Calculer `(Random.int 5) + (Random.int 5)` plusieurs fois. Est-ce que le résultat vous semble être un entier uniformément au hasard entre 0 et 8?  \n",
    "2. Quelle est la probabilité d'obtenir `0` avec `(Random.int 5) + (Random.int 5)`? D'obtenir `1`? Quelle est l'entier qui a le plus de chances d'apparaître?\n",
    "3. Comment générer uniformément un entier entre 0 et 24? (C'est à dire passer de 5 possibilités à 25)\n",
    "3. Comment générer uniformément un entier entre 0 et 6? Écrire une fonction pour le faire. On utilisera une méthode par rejection (rejection sampling) : générer dans un espace plus grand et regénérer si la valeur n'est pas dans l'intervalle souhaité.  \n",
    "Pour cela on utilisera une boucle while :\n",
    "```ocaml\n",
    "while ... do\n",
    "    ...\n",
    "done\n",
    "```"
   ]
  },
  {
   "cell_type": "code",
   "execution_count": null,
   "id": "c06e7074",
   "metadata": {},
   "outputs": [],
   "source": []
  }
 ],
 "metadata": {
  "kernelspec": {
   "display_name": "OCaml default",
   "language": "OCaml",
   "name": "ocaml-jupyter"
  },
  "language_info": {
   "codemirror_mode": "text/x-ocaml",
   "file_extension": ".ml",
   "mimetype": "text/x-ocaml",
   "name": "OCaml",
   "nbconverter_exporter": null,
   "pygments_lexer": "OCaml",
   "version": "4.08.1"
  }
 },
 "nbformat": 4,
 "nbformat_minor": 5
}
