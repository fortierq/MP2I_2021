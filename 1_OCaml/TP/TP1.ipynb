{
 "cells": [
  {
   "cell_type": "markdown",
   "id": "e5f3d70e",
   "metadata": {},
   "source": [
    "# Types\n",
    "\n",
    "Devinez le type des fonctions suivantes et vérifier avec OCaml :\n",
    "```ocaml\n",
    "let f x y = x**y\n",
    "```\n",
    "```ocaml\n",
    "let g x y = x (y + 1)\n",
    "```\n",
    "```ocaml\n",
    "let h x y z = x (3. *. (y z)) + 1\n",
    "```\n",
    "Puis utilisez ces fonctions sur des arguments de votre choix."
   ]
  },
  {
   "cell_type": "code",
   "execution_count": 1,
   "id": "867bf757",
   "metadata": {},
   "outputs": [
    {
     "data": {
      "text/plain": [
       "val f : float -> float -> float = <fun>\n"
      ]
     },
     "execution_count": 1,
     "metadata": {},
     "output_type": "execute_result"
    },
    {
     "data": {
      "text/plain": [
       "val g : (int -> 'a) -> int -> 'a = <fun>\n"
      ]
     },
     "execution_count": 1,
     "metadata": {},
     "output_type": "execute_result"
    },
    {
     "data": {
      "text/plain": [
       "val h : (float -> int) -> ('a -> float) -> 'a -> int = <fun>\n"
      ]
     },
     "execution_count": 1,
     "metadata": {},
     "output_type": "execute_result"
    },
    {
     "data": {
      "text/plain": [
       "- : float = 16.\n"
      ]
     },
     "execution_count": 1,
     "metadata": {},
     "output_type": "execute_result"
    },
    {
     "data": {
      "text/plain": [
       "- : int = 6\n"
      ]
     },
     "execution_count": 1,
     "metadata": {},
     "output_type": "execute_result"
    },
    {
     "data": {
      "text/plain": [
       "- : int = 5\n"
      ]
     },
     "execution_count": 1,
     "metadata": {},
     "output_type": "execute_result"
    }
   ],
   "source": [
    "(* --- Prédiction des types --- *)\n",
    "(* val f : float -> float -> float *)\n",
    "(* val g : (int -> 'a) -> int -> 'a *)\n",
    "(* val h : (float -> int) -> ('a -> float) -> 'a -> int *)\n",
    "\n",
    "(* --- Définition & utillisation --- *)\n",
    "\n",
    "let f x y = x**y;;\n",
    "let g x y = x (y + 1);;\n",
    "let h x y z = x (3. *. (y z)) + 1;;\n",
    "\n",
    "f 4. 2.;;                                                              (* prédiction: 16                   *)\n",
    "g (fun x -> 2*x) 2 ;;                                                  (* prédiction: 6                    *)\n",
    "h (fun x -> int_of_float (x /. 4.) ) (fun x -> float_of_int (2*x)) 3;; (* prédiction: 4 (4.5 arrondi en 4) *)\n",
    "\n",
    "(* Correction: int_of_float arrondi et ne tronque pas le int *)"
   ]
  },
  {
   "cell_type": "markdown",
   "id": "2a10d305-a22b-48a9-9639-8b4047b41e96",
   "metadata": {},
   "source": [
    "# Tangente hyperbolique\n",
    "\n",
    "Définir en OCaml la fonction $\\tanh : x \\longmapsto \\frac{e^x - e^{-x}}{e^x + e^{-x}}$ en utilisant un seul appel à la fonction `exp : float -> float` de OCaml."
   ]
  },
  {
   "cell_type": "code",
   "execution_count": 2,
   "id": "79cbd910",
   "metadata": {},
   "outputs": [
    {
     "data": {
      "text/plain": [
       "val tanh : float -> float = <fun>\n"
      ]
     },
     "execution_count": 2,
     "metadata": {},
     "output_type": "execute_result"
    },
    {
     "data": {
      "text/plain": [
       "- : float = 0.\n"
      ]
     },
     "execution_count": 2,
     "metadata": {},
     "output_type": "execute_result"
    },
    {
     "data": {
      "text/plain": [
       "- : float = 0.995054753686730575\n"
      ]
     },
     "execution_count": 2,
     "metadata": {},
     "output_type": "execute_result"
    },
    {
     "data": {
      "text/plain": [
       "- : float = -0.995054753686730575\n"
      ]
     },
     "execution_count": 2,
     "metadata": {},
     "output_type": "execute_result"
    }
   ],
   "source": [
    "let tanh x = \n",
    "    let expo = exp x in\n",
    "    let inv_expo = 1. /. expo in (* e^(-x) = 1. /. x *)\n",
    "    ( expo -. inv_expo ) /. ( expo +. inv_expo ) ;;\n",
    "    \n",
    "    \n",
    "(* Tests *)\n",
    "tanh 0.;;\n",
    "tanh 3.;;\n",
    "tanh (-3.);;"
   ]
  },
  {
   "cell_type": "markdown",
   "id": "fc8ce049",
   "metadata": {},
   "source": [
    "# Géométrie\n",
    "\n",
    "Le type `float*float` désigne un couple de flottant, représentant un point `p` dans $\\mathbb{R}^2$. On peut récupérer les coordonnées de `p` avec `let x, y = p` . Par exemple :"
   ]
  },
  {
   "cell_type": "code",
   "execution_count": 3,
   "id": "88e5be36",
   "metadata": {
    "execution": {
     "iopub.execute_input": "2021-09-06T11:40:05.869393Z",
     "iopub.status.busy": "2021-09-06T11:40:05.866912Z",
     "iopub.status.idle": "2021-09-06T11:40:05.875260Z",
     "shell.execute_reply": "2021-09-06T11:40:05.873454Z"
    }
   },
   "outputs": [
    {
     "data": {
      "text/plain": [
       "- : float = 2.1\n"
      ]
     },
     "execution_count": 3,
     "metadata": {},
     "output_type": "execute_result"
    }
   ],
   "source": [
    "let p = (2.1, 3.7) in (* Exemple de point *)\n",
    "let x, y = p in (* Récupération des coordonnées *)\n",
    "x;; (* Affichage de x *)"
   ]
  },
  {
   "cell_type": "markdown",
   "id": "7c497359",
   "metadata": {},
   "source": [
    "**Exercice** Écrire une fonction `aire_boule : float -> float` telle que `aire_boule r` renvoie l'aire d'une boule (disque en dimension 3) de rayon `r`, c'est à dire $\\frac{4 \\pi r^3}{3}$. On pourra utiliser `Float.pi`."
   ]
  },
  {
   "cell_type": "code",
   "execution_count": 4,
   "id": "c6686e6c",
   "metadata": {},
   "outputs": [
    {
     "data": {
      "text/plain": [
       "val aire_boule : float -> float = <fun>\n"
      ]
     },
     "execution_count": 4,
     "metadata": {},
     "output_type": "execute_result"
    },
    {
     "data": {
      "text/plain": [
       "- : float = 268.082573106329\n"
      ]
     },
     "execution_count": 4,
     "metadata": {},
     "output_type": "execute_result"
    }
   ],
   "source": [
    "let aire_boule = fun x -> x**3. *. 4. *. Float.pi  /. 3. ;; (* Utillisation de l'autre syntaxe pour m'entrainer *)\n",
    "\n",
    "aire_boule 4.;;"
   ]
  },
  {
   "cell_type": "markdown",
   "id": "33056159",
   "metadata": {},
   "source": [
    "**Exercice** Écrire une fonction `distance : float*float -> float*float -> float` telle que `distance p1 p2` renvoie la distance euclidienne entre les points `p1` et `p2`.  \n",
    "Vérifier que la distance entre $(0, 0)$ et $(1, 1)$ est (approximativement) $\\sqrt{2}$."
   ]
  },
  {
   "cell_type": "code",
   "execution_count": 5,
   "id": "f57f8a74",
   "metadata": {},
   "outputs": [
    {
     "data": {
      "text/plain": [
       "val distance : float * float -> float * float -> float = <fun>\n"
      ]
     },
     "execution_count": 5,
     "metadata": {},
     "output_type": "execute_result"
    },
    {
     "data": {
      "text/plain": [
       "- : float = 0.\n"
      ]
     },
     "execution_count": 5,
     "metadata": {},
     "output_type": "execute_result"
    }
   ],
   "source": [
    "let distance pt_a pt_b = let x1,y1 = pt_a in let x2, y2 = pt_b in\n",
    "    sqrt ((x1 -. x2) ** 2. +. (y1 -. y2)**2.);;\n",
    "\n",
    "distance (0.,0.) (1.,1.) -. (sqrt 2.);; (* résultat = 0. ( approximativement ), donc la fonction marche ! *)"
   ]
  },
  {
   "cell_type": "markdown",
   "id": "311d0730",
   "metadata": {},
   "source": [
    "**Exercice** Écrire une fonction `polaire : float*float -> float*float` qui, étant donné les coordonnées cartésiennes $(x, y)$ d'un point, renvoie ses coordonnées polaires $(r, \\theta)$. On pourra utiliser `cos` et `sin` en OCaml.  \n",
    "Quelles sont les coordonnées polaires de $(x, y) = (1, 1)$, de $(x, y) = (\\frac{\\sqrt{3}}{2}, \\frac{1}{2})$?"
   ]
  },
  {
   "cell_type": "code",
   "execution_count": 6,
   "id": "7126a47a",
   "metadata": {},
   "outputs": [
    {
     "data": {
      "text/plain": [
       "val to_polaire : float * float -> float * float = <fun>\n"
      ]
     },
     "execution_count": 6,
     "metadata": {},
     "output_type": "execute_result"
    },
    {
     "data": {
      "text/plain": [
       "- : float * float = (1.41421356237309515, 0.785398163397448279)\n"
      ]
     },
     "execution_count": 6,
     "metadata": {},
     "output_type": "execute_result"
    },
    {
     "data": {
      "text/plain": [
       "- : float * float = (0.999999999999999889, 0.523598775598298927)\n"
      ]
     },
     "execution_count": 6,
     "metadata": {},
     "output_type": "execute_result"
    }
   ],
   "source": [
    "(* Nous supposons que les valeurs x,y ne soit que positive, car les if n'ont pas été étudiés *)\n",
    "(* De plus nous nous permettons l'utillisation de la fonction atan *)\n",
    "\n",
    "let to_polaire pt = let x,y = pt in \n",
    "    let theta = atan (y /. x) in\n",
    "    (distance (0.,0.) pt, theta);;\n",
    "    \n",
    "to_polaire (1.,1.);;\n",
    "to_polaire ( (sqrt 3.) /. 2., 1. /. 2.);; (* A l'arondi près, les valeurs fonctionnent *)"
   ]
  },
  {
   "cell_type": "markdown",
   "id": "10dcf4cb",
   "metadata": {},
   "source": [
    "**Exercice** Écrire une fonction `milieu : float*float -> float*float -> float*float` telle que `milieu p1 p2` renvoie le milieu du segment d'extrémités `p1` et `p2`."
   ]
  },
  {
   "cell_type": "code",
   "execution_count": 7,
   "id": "24b84468",
   "metadata": {},
   "outputs": [
    {
     "data": {
      "text/plain": [
       "val milieu : float * float -> float * float -> float * float = <fun>\n"
      ]
     },
     "execution_count": 7,
     "metadata": {},
     "output_type": "execute_result"
    },
    {
     "data": {
      "text/plain": [
       "- : float * float = (0.5, 0.5)\n"
      ]
     },
     "execution_count": 7,
     "metadata": {},
     "output_type": "execute_result"
    },
    {
     "data": {
      "text/plain": [
       "- : float * float = (0.5, 1.5)\n"
      ]
     },
     "execution_count": 7,
     "metadata": {},
     "output_type": "execute_result"
    }
   ],
   "source": [
    "let milieu pt_a pt_b = let x1,y1 = pt_a in let x2, y2 = pt_b in\n",
    "    x1 +. (x2 -. x1) /. 2., y1 +. (y2 -. y1) /. 2. ;;\n",
    "    \n",
    "milieu (0., 1.) (1., 0.);;\n",
    "milieu (0., 1.) (1., 2.);;"
   ]
  },
  {
   "cell_type": "markdown",
   "id": "da58592f",
   "metadata": {},
   "source": [
    "**Exercice** Écrire une fonction `parallelogramme : float*float -> float*float -> float*float -> float*float -> bool` telle que `parallelogramme p1 p2 p3 p4` renvoie `true` si les points `p1`, `p1`, `p1`, `p1` forment un parallélogramme, c'est à dire si les côtés opposés sont (approximativement) de même longueur.  \n",
    "On fera attention à ne pas comparer 2 flottants avec `=`, mais regarder à la place si la différence est petite (< 0.001 par exemple)."
   ]
  },
  {
   "cell_type": "code",
   "execution_count": 8,
   "id": "5332a721",
   "metadata": {},
   "outputs": [
    {
     "data": {
      "text/plain": [
       "val parallelogramme :\n",
       "  float * float -> float * float -> float * float -> float * float -> bool =\n",
       "  <fun>\n"
      ]
     },
     "execution_count": 8,
     "metadata": {},
     "output_type": "execute_result"
    },
    {
     "data": {
      "text/plain": [
       "- : bool = true\n"
      ]
     },
     "execution_count": 8,
     "metadata": {},
     "output_type": "execute_result"
    },
    {
     "data": {
      "text/plain": [
       "- : bool = true\n"
      ]
     },
     "execution_count": 8,
     "metadata": {},
     "output_type": "execute_result"
    },
    {
     "data": {
      "text/plain": [
       "- : bool = false\n"
      ]
     },
     "execution_count": 8,
     "metadata": {},
     "output_type": "execute_result"
    }
   ],
   "source": [
    "let parallelogramme p1 p2 p3 p4 =\n",
    "    (distance p1 p2 -. distance p3 p4 <= 0.00001 ) && \n",
    "    (distance p1 p3 -. distance p2 p4 <= 0.00001 ) ;;\n",
    "    \n",
    "parallelogramme (0., 0.) (1., 0.) (0., 1.) (1., 1.) ;;    \n",
    "parallelogramme (0., 0.) (2., 0.) (0., 1.) (2., 1.) ;;\n",
    "parallelogramme (0., 0.) (1., 0.) (0., 1.4) (1., 1.) ;;"
   ]
  },
  {
   "cell_type": "markdown",
   "id": "70f6ebc5",
   "metadata": {},
   "source": [
    "# Congruence\n",
    "\n",
    "Le but de cet exercice est de calculer $1357^{2013}$ mod $5$ (mais la méthode utilisée s'applique dans un grande nombre d'exercices mathématiques).  \n",
    "On rappelle que les congruences sont compatibles avec la puissance :\n",
    "$$a \\equiv b [n] \\Longrightarrow a^k \\equiv b^k [n]$$\n",
    "\n",
    "1. Soit $k$ un entier positif. Que vaut $2^{4k}$ mod $5$? On pourra calculer des valeurs avec OCaml puis le démontrer mathématiquement.\n",
    "2. Que vaut $1357$ mod $5$? En déduire la valeur de $1357^{2013}$ mod $5$."
   ]
  },
  {
   "cell_type": "markdown",
   "id": "c4f5202d",
   "metadata": {},
   "source": [
    "### Question 1\n",
    "Prenons des exemples :"
   ]
  },
  {
   "cell_type": "code",
   "execution_count": 9,
   "id": "e4ed6a3f",
   "metadata": {},
   "outputs": [
    {
     "data": {
      "text/plain": [
       "val to_power_2 : int -> int = <fun>\n"
      ]
     },
     "execution_count": 9,
     "metadata": {},
     "output_type": "execute_result"
    },
    {
     "data": {
      "text/plain": [
       "- : int = 1\n"
      ]
     },
     "execution_count": 9,
     "metadata": {},
     "output_type": "execute_result"
    },
    {
     "data": {
      "text/plain": [
       "- : int = 1\n"
      ]
     },
     "execution_count": 9,
     "metadata": {},
     "output_type": "execute_result"
    },
    {
     "data": {
      "text/plain": [
       "- : int = 1\n"
      ]
     },
     "execution_count": 9,
     "metadata": {},
     "output_type": "execute_result"
    },
    {
     "data": {
      "text/plain": [
       "- : int = 0\n"
      ]
     },
     "execution_count": 9,
     "metadata": {},
     "output_type": "execute_result"
    }
   ],
   "source": [
    "let to_power_2 k = int_of_float (2. ** float_of_int ( 4 * k )) mod 5 ;;\n",
    "\n",
    "to_power_2 0;;\n",
    "to_power_2 1;;\n",
    "to_power_2 15;;\n",
    "to_power_2 16;; (* A partir de 16, to_power ne retourne que 0, mais c'est probablement du au dépassement de flottant,\n",
    "                   car nous avons 2^(4*16) ≈ 1.8446744e+19 *)"
   ]
  },
  {
   "cell_type": "markdown",
   "id": "41fcd8b1",
   "metadata": {},
   "source": [
    "Nous avons \n",
    "\n",
    "$$\n",
    "2^{4k} = 16^{k} = (3\\times 5 + 1)^{k} \\equiv 1 [5]\n",
    "$$\n",
    "\n",
    "Pour $k=0$, nous avons $16^{0} \\equiv 1 [5]$\n",
    "\n",
    "Et soit un $k$ tel que $(3\\times 5 + 1)^{k}$, nous remarquons que\n",
    "\n",
    "$$\n",
    "(3\\times 5 + 1)^{k} \\equiv 1 [5] \\implies (3\\times 5 + 1)^{k+1} \\equiv 3\\times 5+1 [5]\\implies (3\\times 5 + 1)^{k+1} \\equiv 1 [5]\n",
    "$$\n",
    "\n",
    "\n",
    "Par principe de récurrence, la propriété est vraie pour tout $k\\in \\mathbb{N} $"
   ]
  },
  {
   "cell_type": "markdown",
   "id": "ad8e1cb7",
   "metadata": {},
   "source": [
    "### Question 2\n",
    "Nous avons :"
   ]
  },
  {
   "cell_type": "code",
   "execution_count": 10,
   "id": "d60a3084",
   "metadata": {},
   "outputs": [
    {
     "data": {
      "text/plain": [
       "val a : int = 2\n"
      ]
     },
     "execution_count": 10,
     "metadata": {},
     "output_type": "execute_result"
    }
   ],
   "source": [
    "let a = 1357 mod 5;;"
   ]
  },
  {
   "cell_type": "markdown",
   "id": "aa26246f",
   "metadata": {},
   "source": [
    "La valeur de $1357^{2013} \\mod 5$ sera égal à $2 \\times 2013 \\mod 5 = 2 \\mod 5$"
   ]
  },
  {
   "cell_type": "markdown",
   "id": "9fae41ab",
   "metadata": {},
   "source": [
    "```py\n",
    "# Ocaml ne peut tester car ces floattants sont limités, mais python peut car la puissance entière existe et qu'il\n",
    "# est consitant !\n",
    "\n",
    "print(\"mod    is:\",1357 % 5)\n",
    "print(\"result is:\", ( 1357 ** 2013 ) % 5)\n",
    "```\n",
    "Nous donne :\n",
    "```\n",
    "mod    is: 2\n",
    "result is: 2\n",
    "```"
   ]
  },
  {
   "cell_type": "markdown",
   "id": "41c60907",
   "metadata": {},
   "source": [
    "# Nombres aléatoires\n",
    "\n",
    "`Random.int n` permet d'obtenir un entier uniformément au hasard entre 0 et `n - 1` (chacun de ces entiers a la même probabilité $\\frac{1}{n}$ d'être obtenu).  \n",
    "Dans cet exercice, on imagine que l'on possède comme seule source aléatoire un dé à 5 faces (c'est à dire que l'on a seulement le droit d'utiliser `Random.int 5`).\n",
    "\n",
    "1. Calculer `(Random.int 5) + (Random.int 5)` plusieurs fois. Est-ce que le résultat vous semble être un entier uniformément au hasard entre 0 et 8?  \n",
    "2. Quelle est la probabilité d'obtenir `0` avec `(Random.int 5) + (Random.int 5)`? D'obtenir `1`? Quelle est l'entier qui a le plus de chances d'apparaître?\n",
    "3. Comment générer uniformément un entier entre 0 et 24? (C'est à dire passer de 5 possibilités à 25)\n",
    "3. Comment générer uniformément un entier entre 0 et 6? Écrire une fonction pour le faire. On utilisera une méthode par rejection (rejection sampling) : générer dans un espace plus grand et regénérer si la valeur n'est pas dans l'intervalle souhaité.  \n",
    "Pour cela on utilisera une boucle while :\n",
    "```ocaml\n",
    "while ... do\n",
    "    ...\n",
    "done\n",
    "```"
   ]
  },
  {
   "cell_type": "code",
   "execution_count": 11,
   "id": "2beff3cf",
   "metadata": {},
   "outputs": [
    {
     "data": {
      "text/plain": [
       "- : int = 4\n"
      ]
     },
     "execution_count": 11,
     "metadata": {},
     "output_type": "execute_result"
    }
   ],
   "source": [
    "(Random.int 5) + (Random.int 5);; (* Il y aura plus de chance d'avoir un 3+3 = 6, un peu moins 2+3 = 5, moins un 2+2 = 4 etc *)"
   ]
  },
  {
   "cell_type": "markdown",
   "id": "5c6b0a37",
   "metadata": {},
   "source": [
    "### Question 2\n",
    "\n",
    "Il y aura $\\binom{10}{1}=\\frac{1}{10}$ d'obtenir deux 5.\n",
    "\n",
    "### Question 3\n",
    "Nous pouvons faire :"
   ]
  },
  {
   "cell_type": "code",
   "execution_count": 12,
   "id": "6cfe4d4e",
   "metadata": {},
   "outputs": [
    {
     "data": {
      "text/plain": [
       "val rnd_25 : 'a -> int = <fun>\n"
      ]
     },
     "execution_count": 12,
     "metadata": {},
     "output_type": "execute_result"
    },
    {
     "data": {
      "text/plain": [
       "- : int = 7\n"
      ]
     },
     "execution_count": 12,
     "metadata": {},
     "output_type": "execute_result"
    },
    {
     "data": {
      "text/plain": [
       "- : int = 4\n"
      ]
     },
     "execution_count": 12,
     "metadata": {},
     "output_type": "execute_result"
    },
    {
     "data": {
      "text/plain": [
       "- : int = 4\n"
      ]
     },
     "execution_count": 12,
     "metadata": {},
     "output_type": "execute_result"
    }
   ],
   "source": [
    "(* en base 5, nous avons [0-5]*5+[0-5] ce qui donne des nombres aléatoire entre 0 et 25 *)\n",
    "let rnd_25 = (fun _ -> (Random.int 5 * 5 + Random.int 5));; \n",
    "\n",
    "(* Je force à créé une fonction pour que chaque appel retourne une valeure différente *)\n",
    "\n",
    "rnd_25 ();; \n",
    "rnd_25 ();;\n",
    "rnd_25 ();;"
   ]
  },
  {
   "cell_type": "markdown",
   "id": "82820712",
   "metadata": {},
   "source": [
    "### Question 4\n",
    "\n",
    "Nous avons"
   ]
  },
  {
   "cell_type": "code",
   "execution_count": 13,
   "id": "ae9ebeb6",
   "metadata": {},
   "outputs": [
    {
     "data": {
      "text/plain": [
       "val gen_to : int -> int ref = <fun>\n"
      ]
     },
     "execution_count": 13,
     "metadata": {},
     "output_type": "execute_result"
    },
    {
     "data": {
      "text/plain": [
       "- : int ref = {contents = 1}\n"
      ]
     },
     "execution_count": 13,
     "metadata": {},
     "output_type": "execute_result"
    },
    {
     "data": {
      "text/plain": [
       "- : int ref = {contents = 2}\n"
      ]
     },
     "execution_count": 13,
     "metadata": {},
     "output_type": "execute_result"
    },
    {
     "data": {
      "text/plain": [
       "- : int ref = {contents = 6}\n"
      ]
     },
     "execution_count": 13,
     "metadata": {},
     "output_type": "execute_result"
    },
    {
     "data": {
      "text/plain": [
       "- : int ref = {contents = 0}\n"
      ]
     },
     "execution_count": 13,
     "metadata": {},
     "output_type": "execute_result"
    }
   ],
   "source": [
    "(* Fonction qui génère un nombre aléatoire entre 0 et min(n,25) *)\n",
    "let gen_to n =  \n",
    "    let a = ref 0 in\n",
    "    a := n+1;\n",
    "    while !a > n do\n",
    "        a := rnd_25 ();\n",
    "    done ;a ;;\n",
    "\n",
    "(* L'appel à la fonction est obligatoire pour avoir une nouvelle valeure, et quitte à avoir un paramètre autant\n",
    "   le rendre utile *)\n",
    "gen_to 6;;\n",
    "gen_to 6;;\n",
    "gen_to 6;;\n",
    "gen_to 6;;"
   ]
  },
  {
   "cell_type": "code",
   "execution_count": null,
   "id": "da67fc5a",
   "metadata": {},
   "outputs": [],
   "source": []
  }
 ],
 "metadata": {
  "kernelspec": {
   "display_name": "OCaml default",
   "language": "OCaml",
   "name": "ocaml-jupyter"
  },
  "language_info": {
   "codemirror_mode": "text/x-ocaml",
   "file_extension": ".ml",
   "mimetype": "text/x-ocaml",
   "name": "OCaml",
   "nbconverter_exporter": null,
   "pygments_lexer": "OCaml",
   "version": "4.11.1"
  }
 },
 "nbformat": 4,
 "nbformat_minor": 5
}
