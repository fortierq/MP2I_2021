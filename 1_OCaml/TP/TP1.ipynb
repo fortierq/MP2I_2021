{
 "cells": [
  {
   "cell_type": "markdown",
   "id": "4ef1c104",
   "metadata": {},
   "source": [
    "# TP1 : Types, variables, fonctions"
   ]
  },
  {
   "cell_type": "markdown",
   "id": "becd8118",
   "metadata": {},
   "source": [
    "## Types\n",
    "\n",
    "Devinez le type des fonctions suivantes et vérifier avec OCaml :\n",
    "```ocaml\n",
    "let f x y = x**y  float --> float --> float\n",
    "```\n",
    "```ocaml\n",
    "let g x y = x (y + 1)  (int -- 'a) --> int --> 'a\n",
    "```\n",
    "```ocaml\n",
    "let h x y z = x (3. *. (y z)) + 1   (float --> int) --> ('a --> float) --> 'a --> int\n",
    "```\n",
    "Puis tester ces fonctions sur des arguments de votre choix."
   ]
  },
  {
   "cell_type": "code",
   "execution_count": 19,
   "id": "7355dd4c-c861-404b-b5fe-eeb112698787",
   "metadata": {},
   "outputs": [
    {
     "data": {
      "text/plain": [
       "val f : float -> float -> float = <fun>\n"
      ]
     },
     "execution_count": 19,
     "metadata": {},
     "output_type": "execute_result"
    }
   ],
   "source": [
    "let f x y = x**y;;"
   ]
  },
  {
   "cell_type": "code",
   "execution_count": 20,
   "id": "c18e1903-f8c9-4bde-8c78-c162de6df2ec",
   "metadata": {},
   "outputs": [
    {
     "data": {
      "text/plain": [
       "- : float = 1.41421356237309515\n"
      ]
     },
     "execution_count": 20,
     "metadata": {},
     "output_type": "execute_result"
    }
   ],
   "source": [
    "f 2. 0.5;;"
   ]
  },
  {
   "cell_type": "code",
   "execution_count": 10,
   "id": "61854328-be03-459b-9d99-a7af36741f9e",
   "metadata": {},
   "outputs": [
    {
     "data": {
      "text/plain": [
       "val g : (int -> 'a) -> int -> 'a = <fun>\n"
      ]
     },
     "execution_count": 10,
     "metadata": {},
     "output_type": "execute_result"
    }
   ],
   "source": [
    "let g x y = x (y +1);;"
   ]
  },
  {
   "cell_type": "code",
   "execution_count": 18,
   "id": "5f0adb1a-baea-4cb1-9346-dcdfb88d0f83",
   "metadata": {},
   "outputs": [
    {
     "data": {
      "text/plain": [
       "- : int = 2\n"
      ]
     },
     "execution_count": 18,
     "metadata": {},
     "output_type": "execute_result"
    }
   ],
   "source": [
    "let x a = a + 1 in g x 0;;"
   ]
  },
  {
   "cell_type": "code",
   "execution_count": 22,
   "id": "2c118d7c-1938-4edf-9bc9-6718f3456d45",
   "metadata": {},
   "outputs": [
    {
     "data": {
      "text/plain": [
       "val h : (float -> int) -> ('a -> float) -> 'a -> int = <fun>\n"
      ]
     },
     "execution_count": 22,
     "metadata": {},
     "output_type": "execute_result"
    }
   ],
   "source": [
    "let h x y z = x (3. *. (y z)) + 1"
   ]
  },
  {
   "cell_type": "code",
   "execution_count": 26,
   "id": "476d8dff-a641-42c9-b78f-368fa5f804cc",
   "metadata": {},
   "outputs": [
    {
     "data": {
      "text/plain": [
       "- : int = 7\n"
      ]
     },
     "execution_count": 26,
     "metadata": {},
     "output_type": "execute_result"
    }
   ],
   "source": [
    "let x a = int_of_float a in let y b = 2.0 in let z = 2.0 in h x y z;;"
   ]
  },
  {
   "cell_type": "markdown",
   "id": "23e9b523",
   "metadata": {},
   "source": [
    "## Tangente hyperbolique\n",
    "\n",
    "Définir en OCaml la fonction $\\tanh : x \\longmapsto \\frac{e^x - e^{-x}}{e^x + e^{-x}}$ en utilisant un seul appel à la fonction `exp : float -> float` de OCaml."
   ]
  },
  {
   "cell_type": "code",
   "execution_count": 35,
   "id": "ef3a8a32-e7bc-45d3-be55-b7e42fcf5beb",
   "metadata": {},
   "outputs": [
    {
     "data": {
      "text/plain": [
       "val tanh2 : float -> float = <fun>\n"
      ]
     },
     "execution_count": 35,
     "metadata": {},
     "output_type": "execute_result"
    }
   ],
   "source": [
    "let tanh2 x = \n",
    "    let a = exp(x) in (a -. a**(-.1.0))/.(a +. a**(-.1.0));;"
   ]
  },
  {
   "cell_type": "code",
   "execution_count": 36,
   "id": "c9b738f9-2cde-4675-863b-79470cd46164",
   "metadata": {},
   "outputs": [
    {
     "data": {
      "text/plain": [
       "- : float = 0.964027580075817\n"
      ]
     },
     "execution_count": 36,
     "metadata": {},
     "output_type": "execute_result"
    }
   ],
   "source": [
    "tanh2 2.0"
   ]
  },
  {
   "cell_type": "code",
   "execution_count": 32,
   "id": "c19164c1-d612-4320-aa56-623a5eea33f2",
   "metadata": {},
   "outputs": [
    {
     "data": {
      "text/plain": [
       "- : float = 0.964027580075816903\n"
      ]
     },
     "execution_count": 32,
     "metadata": {},
     "output_type": "execute_result"
    }
   ],
   "source": [
    "tanh 2.0;;"
   ]
  },
  {
   "cell_type": "markdown",
   "id": "74da135f",
   "metadata": {},
   "source": [
    "## Géométrie\n",
    "\n",
    "Le type `float*float` désigne un couple de flottant, représentant un point `p` dans $\\mathbb{R}^2$. On peut récupérer les coordonnées de `p` avec `let x, y = p` . Par exemple :"
   ]
  },
  {
   "cell_type": "code",
   "execution_count": 1,
   "id": "7073f5d1",
   "metadata": {
    "execution": {
     "iopub.execute_input": "2021-09-09T19:25:52.406644Z",
     "iopub.status.busy": "2021-09-09T19:25:52.405787Z",
     "iopub.status.idle": "2021-09-09T19:25:52.409142Z",
     "shell.execute_reply": "2021-09-09T19:25:52.408391Z"
    }
   },
   "outputs": [
    {
     "data": {
      "text/plain": [
       "- : float = 2.1\n"
      ]
     },
     "execution_count": 1,
     "metadata": {},
     "output_type": "execute_result"
    }
   ],
   "source": [
    "let p = (2.1, 3.7) in (* exemple de point *)\n",
    "let x, y = p in (* récupération des coordonnées *)\n",
    "x;; (* affichage de x *)"
   ]
  },
  {
   "cell_type": "markdown",
   "id": "898ce016",
   "metadata": {},
   "source": [
    "**Exercice** Écrire une fonction `aire_boule : float -> float` telle que `aire_boule r` renvoie l'aire d'une boule (disque en dimension 3) de rayon `r`, c'est à dire $\\frac{4 \\pi r^3}{3}$. On pourra utiliser `Float.pi`."
   ]
  },
  {
   "cell_type": "code",
   "execution_count": 2,
   "id": "9e76e2dc-1e3e-473c-b051-79184f766774",
   "metadata": {},
   "outputs": [
    {
     "data": {
      "text/plain": [
       "val aire_boule : float -> float = <fun>\n"
      ]
     },
     "execution_count": 2,
     "metadata": {},
     "output_type": "execute_result"
    }
   ],
   "source": [
    "let aire_boule r = (4.0 *. Float.pi *. r**3.0)/.3.0;;"
   ]
  },
  {
   "cell_type": "code",
   "execution_count": 5,
   "id": "994cfe97-67a5-40a4-9c12-bf5b4118c781",
   "metadata": {},
   "outputs": [
    {
     "data": {
      "text/plain": [
       "- : float = 4.18879020478639053\n"
      ]
     },
     "execution_count": 5,
     "metadata": {},
     "output_type": "execute_result"
    }
   ],
   "source": [
    "aire_boule 1.0;;"
   ]
  },
  {
   "cell_type": "markdown",
   "id": "18817317",
   "metadata": {},
   "source": [
    "**Exercice** Écrire une fonction `distance : float*float -> float*float -> float` telle que `distance p1 p2` renvoie la distance euclidienne entre les points `p1` et `p2`.  \n",
    "Vérifier que la distance entre $(0, 0)$ et $(1, 1)$ est (approximativement) $\\sqrt{2}$."
   ]
  },
  {
   "cell_type": "code",
   "execution_count": 1,
   "id": "0cdff52e-d2d5-4f0e-b0da-a06144aee185",
   "metadata": {},
   "outputs": [
    {
     "data": {
      "text/plain": [
       "val distance : float * float -> float * float -> float = <fun>\n"
      ]
     },
     "execution_count": 1,
     "metadata": {},
     "output_type": "execute_result"
    }
   ],
   "source": [
    "let distance p1 p2 = \n",
    "    let x1, y1 = p1 in\n",
    "    let x2, y2 = p2 in\n",
    "    sqrt((x2 -. x1)**2.0 +. (y2 -. y1)**2.0);;"
   ]
  },
  {
   "cell_type": "code",
   "execution_count": 2,
   "id": "25c3d762-d5be-4ada-944d-84966a6ead3e",
   "metadata": {},
   "outputs": [
    {
     "data": {
      "text/plain": [
       "- : bool = true\n"
      ]
     },
     "execution_count": 2,
     "metadata": {},
     "output_type": "execute_result"
    }
   ],
   "source": [
    "distance (0.0,0.0) (1.0,1.0) -. sqrt(2.0)<0.001"
   ]
  },
  {
   "cell_type": "markdown",
   "id": "6be0092c",
   "metadata": {},
   "source": [
    "**Exercice** Écrire une fonction `polaire : float*float -> float*float` qui, étant donné les coordonnées polaires $(r, \\theta)$ d'un point, renvoie ses coordonnées cartésiennes $(x, y)$. On rappelle que $x = r\\cos(\\theta)$ et $y = r\\sin(\\theta)$. On pourra utiliser `cos` et `sin` en OCaml."
   ]
  },
  {
   "cell_type": "code",
   "execution_count": 44,
   "id": "4fbd93ed-6f67-471f-bc6f-8ebc378820a5",
   "metadata": {},
   "outputs": [
    {
     "data": {
      "text/plain": [
       "val polaire : float * float -> float * float = <fun>\n"
      ]
     },
     "execution_count": 44,
     "metadata": {},
     "output_type": "execute_result"
    }
   ],
   "source": [
    "let polaire (r,o) =\n",
    "let x = r*.cos(o) in\n",
    "let y = r*.sin(o) in\n",
    "(x,y);;"
   ]
  },
  {
   "cell_type": "code",
   "execution_count": 45,
   "id": "8230814d-6ad2-43b7-92f5-46e3f43193aa",
   "metadata": {},
   "outputs": [
    {
     "data": {
      "text/plain": [
       "- : float * float = (0.308502899775168093, -1.97606324818572365)\n"
      ]
     },
     "execution_count": 45,
     "metadata": {},
     "output_type": "execute_result"
    }
   ],
   "source": [
    "polaire (2.,30.0);;"
   ]
  },
  {
   "cell_type": "markdown",
   "id": "2992c0fe",
   "metadata": {},
   "source": [
    "**Exercice** Écrire une fonction `milieu : float*float -> float*float -> float*float` telle que `milieu p1 p2` renvoie le milieu du segment d'extrémités `p1` et `p2`."
   ]
  },
  {
   "cell_type": "code",
   "execution_count": 3,
   "id": "d8bc686b-6849-4504-9772-9fb82cbaf2ad",
   "metadata": {},
   "outputs": [
    {
     "data": {
      "text/plain": [
       "val milieu : float * float -> float * float -> float * float = <fun>\n"
      ]
     },
     "execution_count": 3,
     "metadata": {},
     "output_type": "execute_result"
    }
   ],
   "source": [
    "let milieu p1 p2 = \n",
    "    let x1, y1 = p1 in\n",
    "    let x2, y2 = p2 in\n",
    "    let x = ((x2 +. x1)/.2.0) in\n",
    "    let y = ((y2 +. y1)/.2.0) in\n",
    "(x,y);;"
   ]
  },
  {
   "cell_type": "code",
   "execution_count": null,
   "id": "f4e744bb-586b-4099-84bd-36a6b4c926bc",
   "metadata": {},
   "outputs": [],
   "source": []
  },
  {
   "cell_type": "code",
   "execution_count": 4,
   "id": "9c1ce427-7a34-4dba-af6c-1fb66c2877b1",
   "metadata": {},
   "outputs": [
    {
     "data": {
      "text/plain": [
       "- : float * float = (1.5, 1.5)\n"
      ]
     },
     "execution_count": 4,
     "metadata": {},
     "output_type": "execute_result"
    }
   ],
   "source": [
    "milieu (2.0,2.0) (1.0,1.0)"
   ]
  },
  {
   "cell_type": "code",
   "execution_count": null,
   "id": "40c59638-e39e-4311-95a9-68c462ac82e8",
   "metadata": {},
   "outputs": [],
   "source": []
  },
  {
   "cell_type": "code",
   "execution_count": null,
   "id": "5fbb4d1b-02bb-4d78-b6b6-c6cd745a6ca0",
   "metadata": {},
   "outputs": [],
   "source": []
  },
  {
   "cell_type": "markdown",
   "id": "b0d67dd4",
   "metadata": {},
   "source": [
    "**Exercice** Écrire une fonction `parallelogramme : float*float -> float*float -> float*float -> float*float -> bool` telle que `parallelogramme p1 p2 p3 p4` renvoie `true` si les points `p1`, `p1`, `p1`, `p1` forment un parallélogramme, c'est à dire si les côtés opposés sont (approximativement) de même longueur.  \n",
    "On fera attention à ne pas comparer 2 flottants avec `=`, mais regarder à la place si la différence est petite (< 0.001 par exemple)."
   ]
  },
  {
   "cell_type": "code",
   "execution_count": 5,
   "id": "46a4e515",
   "metadata": {
    "tags": []
   },
   "outputs": [
    {
     "data": {
      "text/plain": [
       "val parallelogramme :\n",
       "  float * float -> float * float -> float * float -> float * float -> bool =\n",
       "  <fun>\n"
      ]
     },
     "execution_count": 5,
     "metadata": {},
     "output_type": "execute_result"
    }
   ],
   "source": [
    "let parallelogramme p1 p2 p3 p4 =\n",
    "let distance1 = distance p1 p2 in \n",
    "let distance2 = distance p3 p4 in\n",
    "let distance3 = distance p1 p4 in\n",
    "let distance4 = distance p2 p3 in\n",
    "abs_float(distance1 -. distance2) < 0.001 && abs_float(distance3 -. distance4) <0.001;;"
   ]
  },
  {
   "cell_type": "code",
   "execution_count": 6,
   "id": "5d41f45f-7ae8-4856-8748-d61a4020bbbf",
   "metadata": {},
   "outputs": [
    {
     "data": {
      "text/plain": [
       "- : bool = true\n"
      ]
     },
     "execution_count": 6,
     "metadata": {},
     "output_type": "execute_result"
    }
   ],
   "source": [
    "parallelogramme (-.1.0,2.0) (1.0,4.0) (7.0,-.2.0) (5.0,-.4.0);;"
   ]
  },
  {
   "cell_type": "markdown",
   "id": "8a89d768",
   "metadata": {
    "tags": []
   },
   "source": [
    "## Congruence\n",
    "\n",
    "Le but de cet exercice est de calculer $1357^{2013}$ mod $5$ (mais la méthode utilisée s'applique dans un grande nombre d'exercices mathématiques).  \n",
    "On rappelle que les congruences sont compatibles avec la puissance :\n",
    "$$a \\equiv b [n] \\Longrightarrow a^k \\equiv b^k [n]$$\n",
    "\n",
    "1. Soit $k$ un entier positif. Que vaut $2^{4k}$ mod $5$? On pourra calculer des valeurs avec OCaml puis le démontrer mathématiquement.\n",
    "2. Que vaut $1357$ mod $5$? En déduire la valeur de $1357^{2013}$ mod $5$.\n",
    "\n",
    "\n",
    "1. 2^2 congrue à -1 modulo 5, donc 2^4 congrue à 1 modulo 5 donc finalement 2^4k congrue à 1 modulo 5"
   ]
  },
  {
   "cell_type": "code",
   "execution_count": 40,
   "id": "a2fdf116-d8d4-478d-bc32-528cc3ba36a1",
   "metadata": {},
   "outputs": [
    {
     "data": {
      "text/plain": [
       "- : int = 2\n"
      ]
     },
     "execution_count": 40,
     "metadata": {},
     "output_type": "execute_result"
    }
   ],
   "source": [
    "1357 mod 5"
   ]
  },
  {
   "cell_type": "code",
   "execution_count": 39,
   "id": "02163ba5-5388-4000-b5ee-0fd1d71b6581",
   "metadata": {},
   "outputs": [],
   "source": [
    "(*donc 1357^2 congrue à -1 modulo 5\n",
    "donc 1357^2012 congrue à (-1)^1006 modulo 5 donc 1 modulo 5\n",
    "1357 est congrue à 2 modulo 5\n",
    "donc 1357^2013 est congrue à 2 modulo 5*)"
   ]
  },
  {
   "cell_type": "code",
   "execution_count": 41,
   "id": "517175dd-b53a-464c-9d95-3d228002c06c",
   "metadata": {},
   "outputs": [
    {
     "data": {
      "text/plain": [
       "- : int = 4\n"
      ]
     },
     "execution_count": 41,
     "metadata": {},
     "output_type": "execute_result"
    }
   ],
   "source": [
    "1357*1357 mod 5"
   ]
  },
  {
   "cell_type": "markdown",
   "id": "60c42e47",
   "metadata": {},
   "source": [
    "## Nombres aléatoires\n",
    "\n",
    "`Random.int n` permet d'obtenir un entier uniformément au hasard entre 0 et `n - 1` (chacun de ces entiers a la même probabilité $\\frac{1}{n}$ d'être obtenu).  \n",
    "Dans cet exercice, on imagine que l'on possède comme seule source aléatoire un dé à 5 faces (c'est à dire que l'on a seulement le droit d'utiliser `Random.int 5`).\n",
    "\n",
    "1. Calculer `(Random.int 5) + (Random.int 5)` plusieurs fois. Est-ce que le résultat vous semble être un entier uniformément au hasard entre 0 et 8?  \n",
    "2. Quelle est la probabilité d'obtenir `0` avec `(Random.int 5) + (Random.int 5)`? D'obtenir `1`? Quelle est l'entier qui a le plus de chances d'apparaître?\n",
    "3. Comment générer uniformément un entier entre 0 et 24? (C'est à dire passer de 5 possibilités à 25)\n",
    "3. Comment générer uniformément un entier entre 0 et 6? Écrire une fonction pour le faire. On utilisera une méthode par rejection (rejection sampling) : générer dans un espace plus grand et regénérer si la valeur n'est pas dans l'intervalle souhaité.  \n",
    "Pour cela on utilisera une boucle while :\n",
    "```ocaml\n",
    "while ... do\n",
    "    ...\n",
    "done\n",
    "```"
   ]
  },
  {
   "cell_type": "code",
   "execution_count": 60,
   "id": "c06e7074",
   "metadata": {},
   "outputs": [
    {
     "data": {
      "text/plain": [
       "- : int = 0\n"
      ]
     },
     "execution_count": 60,
     "metadata": {},
     "output_type": "execute_result"
    }
   ],
   "source": [
    "(Random.int 5) + (Random.int 5);;"
   ]
  },
  {
   "cell_type": "code",
   "execution_count": 2,
   "id": "62235d6f-5a16-45df-9267-bbaf5b642d40",
   "metadata": {},
   "outputs": [],
   "source": [
    "(* 1. non ce n'est pas la même probabilité d'obtenir un 0 et un 6 par exemple*)"
   ]
  },
  {
   "cell_type": "code",
   "execution_count": 3,
   "id": "a8d98c37-6727-4632-bc5e-ca28b7f5235b",
   "metadata": {},
   "outputs": [],
   "source": [
    "(* 2. on a:\n",
    "p(0) = 1/25\n",
    "p(1) = 2/25\n",
    "p(2) = 3/25\n",
    "p(3) = 4/25\n",
    "p(4) = 5/25\n",
    "p(5) = 4/25\n",
    "p(6) = 3/25\n",
    "p(7) = 2/25\n",
    "p(8) = 1/25\n",
    "C'est donc l'entier 4 qui a le plus de chance d'apparaître.\n",
    "(on a calculé ces probabilités à l'aide d'un tableau)*)"
   ]
  }
 ],
 "metadata": {
  "kernelspec": {
   "display_name": "OCaml default",
   "language": "OCaml",
   "name": "ocaml-jupyter"
  },
  "language_info": {
   "codemirror_mode": "text/x-ocaml",
   "file_extension": ".ml",
   "mimetype": "text/x-ocaml",
   "name": "OCaml",
   "nbconverter_exporter": null,
   "pygments_lexer": "OCaml",
   "version": "4.08.1"
  }
 },
 "nbformat": 4,
 "nbformat_minor": 5
}

