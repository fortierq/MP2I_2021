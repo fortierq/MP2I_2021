{
 "cells": [
  {
   "cell_type": "markdown",
   "metadata": {},
   "source": [
    "# TP 3 : boucles, structures (tuples, listes, array)"
   ]
  },
  {
   "cell_type": "markdown",
   "metadata": {},
   "source": [
    "## Petites questions\n",
    "\n",
    "1. Ecrire une fonction `fact : int -> int` telle que `fact n` renvoie $n!$ (=$n\\times (n-1)\\times ... \\times 2 \\times 1$), en utilisant une boucle.\n",
    "2. Ecrire une fonction `taille : 'a list -> int` pour calculer le nombre d'élements d'une liste (déjà fait dans le cours mais il faut savoir le refaire).\n",
    "3. Ecrire une fonction `somme : float list -> int` pour calculer la somme des élements d'une liste (déjà fait dans le cours mais il faut savoir le refaire).\n",
    "4. Ecrire une fonction `moyenne : float list -> float` pour calculer la moyenne des élements d'une liste (on pourra utiliser les deux fonctions précédentes et `float_of_int`).\n",
    "5. Ecrire une fonction `positif : int list -> bool` pour déterminer si tous les éléments d'une liste sont positifs.\n",
    "6. Ecrire une fonction `oppose : int list -> int list` telle que `oppose l` renvoie une liste contenant l'opposé de chaque élément de `l`. Par exemple, `oppose [1; 2; 3]` renvoie `[-1; -2; -3]`."
   ]
  },
  {
   "cell_type": "code",
   "execution_count": 6,
   "metadata": {},
   "outputs": [
    {
     "data": {
      "text/plain": [
       "val fact : int -> int = <fun>\n"
      ]
     },
     "execution_count": 6,
     "metadata": {},
     "output_type": "execute_result"
    },
    {
     "data": {
      "text/plain": [
       "val taille : 'a list -> int = <fun>\n"
      ]
     },
     "execution_count": 6,
     "metadata": {},
     "output_type": "execute_result"
    },
    {
     "data": {
      "text/plain": [
       "val somme : float list -> float = <fun>\n"
      ]
     },
     "execution_count": 6,
     "metadata": {},
     "output_type": "execute_result"
    },
    {
     "data": {
      "text/plain": [
       "val moyenne : float list -> float = <fun>\n"
      ]
     },
     "execution_count": 6,
     "metadata": {},
     "output_type": "execute_result"
    },
    {
     "data": {
      "text/plain": [
       "val positif : int list -> bool = <fun>\n"
      ]
     },
     "execution_count": 6,
     "metadata": {},
     "output_type": "execute_result"
    },
    {
     "data": {
      "text/plain": [
       "val oppose : int list -> int list = <fun>\n"
      ]
     },
     "execution_count": 6,
     "metadata": {},
     "output_type": "execute_result"
    },
    {
     "data": {
      "text/plain": [
       "- : int = 24\n"
      ]
     },
     "execution_count": 6,
     "metadata": {},
     "output_type": "execute_result"
    },
    {
     "data": {
      "text/plain": [
       "- : int = 3\n"
      ]
     },
     "execution_count": 6,
     "metadata": {},
     "output_type": "execute_result"
    },
    {
     "data": {
      "text/plain": [
       "- : float = 12.\n"
      ]
     },
     "execution_count": 6,
     "metadata": {},
     "output_type": "execute_result"
    },
    {
     "data": {
      "text/plain": [
       "- : float = 4.6\n"
      ]
     },
     "execution_count": 6,
     "metadata": {},
     "output_type": "execute_result"
    },
    {
     "data": {
      "text/plain": [
       "- : bool = true\n"
      ]
     },
     "execution_count": 6,
     "metadata": {},
     "output_type": "execute_result"
    },
    {
     "data": {
      "text/plain": [
       "- : int list = [-4; -5; 6]\n"
      ]
     },
     "execution_count": 6,
     "metadata": {},
     "output_type": "execute_result"
    }
   ],
   "source": [
    "(* QUESTION 1 *)\n",
    "let     fact    n     = let acc = ref 1 in (for i=1 to n do acc := i* (!acc) done; !acc);;\n",
    "\n",
    "(* QUESTION 2 *)\n",
    "let rec taille  liste = match liste with |[] -> 0 | e::q -> 1 + (taille q);;\n",
    "\n",
    "(* QUESTION 3 *)\n",
    "let rec somme   liste = match liste with |[] -> 0. |e::q -> e +. (somme q);;\n",
    "\n",
    "(* QUESTION 4 *)\n",
    "let     moyenne liste = let sum,nb = (somme liste, taille liste) in sum /. float_of_int (nb);;  \n",
    "\n",
    "(* QUESTION 5 *)\n",
    "let rec positif liste = match liste with |[] -> true |e::q -> (e >= 0) && positif (q);;\n",
    "\n",
    "(* QUESTION 6 *)\n",
    "let rec oppose  liste = match liste with |[] -> [] |e::q -> (-e) :: oppose q;;\n",
    "\n",
    "(* TESTS *)\n",
    "fact 4;;\n",
    "taille [4;5;6];;\n",
    "somme [3.;4.;5.];;\n",
    "moyenne [4.1;4.4;4.8;5.1];;\n",
    "positif [4;5;6;0];;\n",
    "oppose [4;5;-6];;"
   ]
  },
  {
   "cell_type": "markdown",
   "metadata": {},
   "source": [
    "## Nombres premiers\n",
    "\n",
    "1. Ecrire une fonction `premier : int -> bool` déterminant si un entier est premier.\n",
    "2. En déduire une fonction `tous_premiers : int -> int list` telle que `tous_premiers n` renvoie la liste des nombres premiers entre $2$ et $n$."
   ]
  },
  {
   "cell_type": "code",
   "execution_count": 32,
   "metadata": {},
   "outputs": [
    {
     "data": {
      "text/plain": [
       "exception NotPrime\n"
      ]
     },
     "execution_count": 32,
     "metadata": {},
     "output_type": "execute_result"
    },
    {
     "data": {
      "text/plain": [
       "val premier : int -> bool = <fun>\n"
      ]
     },
     "execution_count": 32,
     "metadata": {},
     "output_type": "execute_result"
    },
    {
     "data": {
      "text/plain": [
       "- : bool = false\n"
      ]
     },
     "execution_count": 32,
     "metadata": {},
     "output_type": "execute_result"
    },
    {
     "data": {
      "text/plain": [
       "- : bool = true\n"
      ]
     },
     "execution_count": 32,
     "metadata": {},
     "output_type": "execute_result"
    }
   ],
   "source": [
    "exception NotPrime;;\n",
    "\n",
    "let rec premier n = \n",
    "    try \n",
    "        for i = 2 to n/2 do \n",
    "            if n mod i = 0 then raise NotPrime else ()\n",
    "        done;\n",
    "        true\n",
    "    with | NotPrime -> false;;\n",
    "\n",
    "premier 3105;;\n",
    "premier 3301;; (* 3301 est premier *)"
   ]
  },
  {
   "cell_type": "code",
   "execution_count": 34,
   "metadata": {
    "scrolled": true
   },
   "outputs": [
    {
     "data": {
      "text/plain": [
       "val tous_premiers : int -> int list = <fun>\n"
      ]
     },
     "execution_count": 34,
     "metadata": {},
     "output_type": "execute_result"
    },
    {
     "data": {
      "text/plain": [
       "- : int list =\n",
       "[97; 89; 83; 79; 73; 71; 67; 61; 59; 53; 47; 43; 41; 37; 31; 29; 23; 19; 17;\n",
       " 13; 11; 7; 5; 3; 2]\n"
      ]
     },
     "execution_count": 34,
     "metadata": {},
     "output_type": "execute_result"
    }
   ],
   "source": [
    "let rec tous_premiers n = \n",
    "    if n = 2 then [2] else\n",
    "    if premier n\n",
    "        then n:: tous_premiers (n-1)\n",
    "        else tous_premiers (n-1);;\n",
    "\n",
    "tous_premiers 100;;"
   ]
  },
  {
   "cell_type": "markdown",
   "metadata": {},
   "source": [
    "## Bezout\n",
    "\n",
    "Ecrire une fonction récursive `bezout : int -> int -> int*int*int` telle que `bezout a b` renvoie un triplet `(d, u, v)` tel que `d` est le PGCD de `a` et `b` et `u`, `v` vérifient `au + bv = d` (coefficients de Bézout).  \n",
    "Pour cela, on appelera récursivement `bezout b r` où $q$ est le quotient et $r$ le reste de la division euclidienne de $a$ par $b$ (on a donc $a = bq + r$). `bezout b r` donne un triplet $(d, u', v')$ et on essaiera d'exprimer $u, v$ en fonction de $u'$, $v'$ (on pourra sortir une feuille pour chercher une relation)."
   ]
  },
  {
   "cell_type": "code",
   "execution_count": 10,
   "metadata": {},
   "outputs": [
    {
     "data": {
      "text/plain": [
       "exception Trivial\n"
      ]
     },
     "execution_count": 10,
     "metadata": {},
     "output_type": "execute_result"
    },
    {
     "data": {
      "text/plain": [
       "val bezout : int -> int -> int * int * int = <fun>\n"
      ]
     },
     "execution_count": 10,
     "metadata": {},
     "output_type": "execute_result"
    },
    {
     "ename": "error",
     "evalue": "runtime_error",
     "output_type": "error",
     "traceback": [
      "\u001b[31mException: Trivial.\nRaised at bezout in file \"[10]\", line 6, characters 8-21\nCalled from bezout in file \"[10]\", line 5, characters 23-34\nCalled from bezout in file \"[10]\", line 5, characters 23-34\nCalled from Toploop.load_lambda in file \"toplevel/toploop.ml\", line 212, characters 17-27\n\u001b[0m"
     ]
    }
   ],
   "source": [
    "\n",
    "let rec bezout a b = if b = 0 then (a, 1, 0) else \n",
    "    let _q, _r = a/b, a mod b in\n",
    "    let _d, _up, _vp = bezout b _r in\n",
    "        (d,(up*_q+vp),r) ;;\n",
    "\n",
    "\n",
    "\n",
    "bezout 3 7;; (* 1 1*7 -3*7 *)\n",
    "bezout 3 7;; (* 1 1*7 -3*7 *)"
   ]
  },
  {
   "cell_type": "markdown",
   "metadata": {},
   "source": [
    "## Fusion de listes\n",
    "\n",
    "1. Écrire une fonction `fusion : int list -> int list -> int list` telle que, si `l1` et `l2` sont deux listes triées, `fusion l1 l2` renvoie une liste triée composée de l'union de `l1` et `l2`.  \n",
    "Par exemple, `fusion [2; 5; 8] [3; 4; 10]` doit renvoyer `[2; 3; 4; 5; 8; 10]`.\n",
    "2. Écrire une fonction `kfusion : int list list -> int list` qui prend une liste de listes triées en argument et renvoie une liste triée contenant l'union de toutes les ces listes.  \n",
    "Par exemple, `kfusion [[2; 5; 8]; [3; 4; 10]; [0; 13]]` doit renvoyer `[0; 2; 3; 4; 5; 8; 10; 13]`.\n",
    "3. Implémenter le tri fusion permettant de trier une liste `l` :\n",
    "    - Décomposer `l` en deux listes `l1` et `l2` de tailles (à peu près) égales\n",
    "    - Trier récursivement `l1` et `l2` pour obtenir `l1'` et `l2'`\n",
    "    - Fusionner `l1'` et `l2' pour obtenir une seule liste triée"
   ]
  },
  {
   "cell_type": "code",
   "execution_count": 1,
   "metadata": {},
   "outputs": [
    {
     "data": {
      "text/plain": [
       "val fusion : 'a list -> 'a list -> 'a list = <fun>\n"
      ]
     },
     "execution_count": 1,
     "metadata": {},
     "output_type": "execute_result"
    },
    {
     "data": {
      "text/plain": [
       "- : int list = [2; 3; 5; 6; 7; 8; 9]\n"
      ]
     },
     "execution_count": 1,
     "metadata": {},
     "output_type": "execute_result"
    }
   ],
   "source": [
    "(* QUESTION 1 *)\n",
    "\n",
    "let rec fusion a b = match a,b with\n",
    " | [],a -> a\n",
    " | a,[] -> a\n",
    " | e::q,e2::q2 -> if e < e2 then e::e2:: fusion q q2 else e2::e:: fusion q q2;;\n",
    "\n",
    "fusion [2;5;8] [3;6;7;9];;"
   ]
  },
  {
   "cell_type": "code",
   "execution_count": 3,
   "metadata": {},
   "outputs": [
    {
     "data": {
      "text/plain": [
       "val kfusion : 'a list list -> 'a list = <fun>\n"
      ]
     },
     "execution_count": 3,
     "metadata": {},
     "output_type": "execute_result"
    },
    {
     "data": {
      "text/plain": [
       "- : int list = [0; 2; 3; 5; 4; 8; 13; 10]\n"
      ]
     },
     "execution_count": 3,
     "metadata": {},
     "output_type": "execute_result"
    }
   ],
   "source": [
    "(* QUESTION 2 *)\n",
    "\n",
    "let rec kfusion thicc_boy = match thicc_boy with\n",
    " | [] -> []\n",
    " | [a] -> a\n",
    " | e::q -> fusion e (kfusion q);;\n",
    " \n",
    "kfusion [[2; 5; 8]; [3; 4; 10]; [0; 13]];;"
   ]
  },
  {
   "cell_type": "code",
   "execution_count": 10,
   "metadata": {},
   "outputs": [
    {
     "data": {
      "text/plain": [
       "val split : 'a list -> 'a list * 'a list = <fun>\n"
      ]
     },
     "execution_count": 10,
     "metadata": {},
     "output_type": "execute_result"
    },
    {
     "data": {
      "text/plain": [
       "- : int list * int list = ([4; 6; 8], [5; 7])\n"
      ]
     },
     "execution_count": 10,
     "metadata": {},
     "output_type": "execute_result"
    },
    {
     "data": {
      "text/plain": [
       "val tri : 'a list -> 'a list = <fun>\n"
      ]
     },
     "execution_count": 10,
     "metadata": {},
     "output_type": "execute_result"
    },
    {
     "data": {
      "text/plain": [
       "- : int list = [2; 5; 3; 4; 7; 8]\n"
      ]
     },
     "execution_count": 10,
     "metadata": {},
     "output_type": "execute_result"
    }
   ],
   "source": [
    "(* QUESTION 3 *)\n",
    "\n",
    "let rec split = function \n",
    "| [] -> [],[]\n",
    "| [a] -> [a],[]\n",
    "| e::q::n -> let a,b = split n in e::a, q::b;;\n",
    "\n",
    "split [4;5;6;7;8];;\n",
    "\n",
    "let rec tri a = match a with\n",
    " | [] -> []\n",
    " | [a] -> [a]\n",
    " | [a;b] -> fusion [a] [b]\n",
    " | e::b::q -> let a,c = split (e::b::q) in fusion a c;;\n",
    "\n",
    "tri [2;5;4;3;7;8];;\n"
   ]
  }
 ],
 "metadata": {
  "kernelspec": {
   "display_name": "OCaml default",
   "language": "OCaml",
   "name": "ocaml-jupyter"
  },
  "language_info": {
   "codemirror_mode": "text/x-ocaml",
   "file_extension": ".ml",
   "mimetype": "text/x-ocaml",
   "name": "OCaml",
   "nbconverter_exporter": null,
   "pygments_lexer": "OCaml",
   "version": "4.11.1"
  }
 },
 "nbformat": 4,
 "nbformat_minor": 4
}
