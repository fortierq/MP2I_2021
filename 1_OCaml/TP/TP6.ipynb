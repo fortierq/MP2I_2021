{
 "cells": [
  {
   "cell_type": "markdown",
   "metadata": {},
   "source": [
    "# TP 6 : types construits"
   ]
  },
  {
   "cell_type": "markdown",
   "metadata": {},
   "source": [
    "## Gestion des overflow\n",
    "\n",
    "On considère le type suivant :"
   ]
  },
  {
   "cell_type": "code",
   "execution_count": 3,
   "metadata": {},
   "outputs": [
    {
     "data": {
      "text/plain": [
       "type entier = Infini | MoinsInfini | Entier of int\n"
      ]
     },
     "execution_count": 3,
     "metadata": {},
     "output_type": "execute_result"
    }
   ],
   "source": [
    "type entier = Infini | MoinsInfini | Entier of int"
   ]
  },
  {
   "cell_type": "markdown",
   "metadata": {},
   "source": [
    "On rappelle que `max_int` est le plus grand entier représentable en OCaml et `min_int` le plus petit :"
   ]
  },
  {
   "cell_type": "code",
   "execution_count": 1,
   "metadata": {},
   "outputs": [
    {
     "data": {
      "text/plain": [
       "- : int = 4611686018427387903\n"
      ]
     },
     "execution_count": 1,
     "metadata": {},
     "output_type": "execute_result"
    },
    {
     "data": {
      "text/plain": [
       "- : int = -4611686018427387904\n"
      ]
     },
     "execution_count": 1,
     "metadata": {},
     "output_type": "execute_result"
    },
    {
     "data": {
      "text/plain": [
       "- : int = -4611686018427387904\n"
      ]
     },
     "execution_count": 1,
     "metadata": {},
     "output_type": "execute_result"
    }
   ],
   "source": [
    "max_int;;\n",
    "min_int;;\n",
    "max_int + 1;;  (* un dépassement du plus grand entier donne le plus petit *)"
   ]
  },
  {
   "cell_type": "markdown",
   "metadata": {},
   "source": [
    "On voudrait pouvoir additionner deux `entier` $a$ et $b$ en prennant en compte les dépassements de `int` (integer overflow), et en donnant `Infini` dans ce cas.  \n",
    "1. Pourquoi ne peut-on pas tout simplement tester si $a + b >$ `max_int` ?   \n",
    "2. Pourquoi peut-on tester à la place si `max_int` $ - ~a \\leq b$ avec $a \\geq 0$ ?\n",
    "3. Quel test similaire pourrait-on utiliser pour savoir si $a + b <$ `min_int` ?\n",
    "4. Écrire une fonction `add_int : int -> int -> entier` telle que `add_int` ajoute 2 `int`en tenant compte des dépassements (on renvoie `Infini` s'il y a un dépassement de `max_int` et `MoinsInfini` s'il y a un dépassement de `min_int` par le bas).  \n",
    "5. Écrire une fonction `add : entier -> entier -> entier` ajoutant 2 entiers en tenant compte des dépassements.  \n",
    "On pourra écrire `failwith \"Indeterminé\"` dans le cas d'une forme indéterminé.\n",
    "6. Écrire une fonction `oppose : entier -> entier` renvoyant l'opposé d'un entier. Par exemple, `oppose Infini` renvoie `MoinsInfini`, `oppose (Entier a)` renvoie `Entier (-a)...`\n",
    "7. Écrire une fonction `sub` effectuant la soustraction.\n",
    "8. Pour savoir si $a \\times b$ fait un dépassement, on propose la façon suivante :\n",
    "- Calculer $c = a \\times b$\n",
    "- Regarder si $c/a$ est égal à $b$  \n",
    "Pourquoi cela fonctionne ? À quelle autre erreur faut-il faire attention dans cette méthode ?\n",
    "9. Écrire une fonction `mult : entier -> entier -> entier` multipliant 2 entiers en tenant compte des dépassements"
   ]
  },
  {
   "cell_type": "markdown",
   "metadata": {},
   "source": [
    "1. on ne peut pas écrire a+b > max_int puisque si a+b > max_int alors a+b ne sera la vrai valeur de la somme, mais un nombre allant de min_int à max_int, la vérification sera donc fausse.\n",
    "\n",
    "2. Nous pouvons tester si max_int - a <= b avec a >= 0, puisque si max_int - a est inférieur à b cela veut dire que max_int est inférieur à a+b mais nous éviterons les problèmes de retour à la plus petite valeur min_int.\n",
    "\n",
    "3. Nous pourrons vérifier si la somme de deux nombres supérieurs à zéro, ne devient pas un nombre négatif. Si ce nombre devient négatif alors a+b aura dépassé max_int."
   ]
  },
  {
   "cell_type": "code",
   "execution_count": 36,
   "metadata": {},
   "outputs": [
    {
     "data": {
      "text/plain": [
       "val add_int : int -> int -> entier = <fun>\n"
      ]
     },
     "execution_count": 36,
     "metadata": {},
     "output_type": "execute_result"
    },
    {
     "data": {
      "text/plain": [
       "- : entier = Infini\n"
      ]
     },
     "execution_count": 36,
     "metadata": {},
     "output_type": "execute_result"
    }
   ],
   "source": [
    "let add_int a b = \n",
    "    if max_int - a <= b then Infini\n",
    "    else if min_int + a >= b then MoinsInfini\n",
    "        else Entier(a+b);;\n",
    "\n",
    "add_int 5 (max_int-1)"
   ]
  },
  {
   "cell_type": "code",
   "execution_count": 9,
   "metadata": {},
   "outputs": [
    {
     "data": {
      "text/plain": [
       "val add : entier -> entier -> entier = <fun>\n"
      ]
     },
     "execution_count": 9,
     "metadata": {},
     "output_type": "execute_result"
    },
    {
     "data": {
      "text/plain": [
       "- : entier = Infini\n"
      ]
     },
     "execution_count": 9,
     "metadata": {},
     "output_type": "execute_result"
    }
   ],
   "source": [
    "let add a b = match a,b with\n",
    "    | Entier(a1), Entier(b1) when max_int - a1 <= b1 && a1 > 0 -> Infini\n",
    "    | Entier(a1), Entier(b1) when min_int + a1 >= b1 && a1 > 0 -> MoinsInfini\n",
    "    | Infini, Entier(_) | Entier(_), Infini -> Infini\n",
    "    | Entier(_), MoinsInfini | MoinsInfini, Entier(_) -> MoinsInfini\n",
    "    | Entier(a1), Entier(b1) -> Entier(a1+b1)\n",
    "    | _ -> failwith \"Indeterminé\";;\n",
    "\n",
    "add (Entier 200) (Entier (max_int -1))"
   ]
  },
  {
   "cell_type": "code",
   "execution_count": 15,
   "metadata": {},
   "outputs": [
    {
     "data": {
      "text/plain": [
       "val oppose : entier -> entier = <fun>\n"
      ]
     },
     "execution_count": 15,
     "metadata": {},
     "output_type": "execute_result"
    },
    {
     "data": {
      "text/plain": [
       "- : entier = Infini\n"
      ]
     },
     "execution_count": 15,
     "metadata": {},
     "output_type": "execute_result"
    }
   ],
   "source": [
    "let oppose a = match a with\n",
    "    | Entier(a1) when a1 = min_int -> Infini\n",
    "    | Infini -> MoinsInfini\n",
    "    | Entier(a1) -> Entier(-a1)\n",
    "    | MoinsInfini -> Infini;;\n",
    "\n",
    "oppose (Entier min_int)"
   ]
  },
  {
   "cell_type": "code",
   "execution_count": 4,
   "metadata": {},
   "outputs": [
    {
     "data": {
      "text/plain": [
       "val sub : entier -> entier -> entier = <fun>\n"
      ]
     },
     "execution_count": 4,
     "metadata": {},
     "output_type": "execute_result"
    },
    {
     "data": {
      "text/plain": [
       "- : entier = Infini\n"
      ]
     },
     "execution_count": 4,
     "metadata": {},
     "output_type": "execute_result"
    }
   ],
   "source": [
    "let sub a b = match a,b with\n",
    "    | Entier(a1), Entier(b1) -> Entier(a1 - b1)\n",
    "    | Infini, Entier(b1) | Entier(b1), MoinsInfini -> Infini\n",
    "    | MoinsInfini, Entier(a1) | Entier(a1), Infini -> MoinsInfini\n",
    "    | _ -> failwith \"Indeterminé\";;\n",
    "    \n",
    "sub (Entier 5) MoinsInfini"
   ]
  },
  {
   "cell_type": "code",
   "execution_count": 16,
   "metadata": {},
   "outputs": [
    {
     "data": {
      "text/plain": [
       "val sub_cor : entier -> entier -> entier = <fun>\n"
      ]
     },
     "execution_count": 16,
     "metadata": {},
     "output_type": "execute_result"
    }
   ],
   "source": [
    "let sub_cor a b = \n",
    "    add a (oppose b);;"
   ]
  },
  {
   "cell_type": "markdown",
   "metadata": {},
   "source": [
    "8. Cette manipulation fonctionne car c/a = b est une simple résolution d'équation pour trouver la valeur de b. Si nous trouvons pas la bonne valeur, c'est que c a fait un dépassement car c = a*b"
   ]
  },
  {
   "cell_type": "code",
   "execution_count": 6,
   "metadata": {},
   "outputs": [
    {
     "data": {
      "text/plain": [
       "val mut : entier -> entier -> entier = <fun>\n"
      ]
     },
     "execution_count": 6,
     "metadata": {},
     "output_type": "execute_result"
    },
    {
     "data": {
      "text/plain": [
       "- : entier = Infini\n"
      ]
     },
     "execution_count": 6,
     "metadata": {},
     "output_type": "execute_result"
    }
   ],
   "source": [
    "let mut a b = match a,b with \n",
    "    | Entier(a1), Entier(b1) when Entier((a1*b1)/a1) <> Entier(b1) && ((Entier(a1)>Entier(0) && Entier(b1) > Entier(0))||(Entier(a1)<Entier(0) && Entier(b1) < Entier(0) )) -> Infini\n",
    "    | Entier(a1), Entier(b1) when Entier((a1*b1)/a1) <> Entier(b1) -> MoinsInfini\n",
    "    | Entier(a1), Entier(b1) -> Entier (a1*b1)\n",
    "    | Infini, Infini | MoinsInfini, MoinsInfini -> Infini\n",
    "    | MoinsInfini, Infini | Infini, MoinsInfini -> MoinsInfini\n",
    "    | Entier(a1), Infini | Infini, Entier(a1) when a1 < 0 -> if a1 < 0 then MoinsInfini else Infini\n",
    "    | Entier(a1), Infini | Infini, Entier(a1) when a1 > 0 -> Infini\n",
    "    | Entier(a1), MoinsInfini | MoinsInfini, Entier(a1) when a1 < 0 -> if a1 < 0 then Infini else if a1 >  0 then MoinsInfini else Entier(0)\n",
    "    | _ -> failwith \"Indeterminé\";;\n",
    "    \n",
    "mut (Entier max_int) (Entier 5)\n",
    "    "
   ]
  },
  {
   "cell_type": "markdown",
   "metadata": {},
   "source": [
    "1. on ne peut pas écrire a+b > max_int puisque si a+b > max_int ce nom la vérification sera donc fausse\n"
   ]
  },
  {
   "cell_type": "markdown",
   "metadata": {},
   "source": [
    "1. Par définition, aucun entier ne peut être supérieur à `max_int`.\n",
    "2. Déjà, $a + b >$ `max_int` implique que $a \\geq 0$ (car $b$ est un entier dans est inférieur à `max_int`). De plus `max_int` $- a$ n'effectue pas de dépassement. Donc le test fonctionne sans risque de dépassement.\n",
    "3. $a + b < $`min_int` se réécrit en $a < 0$ et `min_int`$ - a > b$.  "
   ]
  },
  {
   "cell_type": "markdown",
   "metadata": {},
   "source": [
    "## Tableaux dynamiques\n",
    "\n",
    "Il est impossible d'ajouter ou supprimer un élément dans tableau (`array`) en OCaml.  \n",
    "Les tableaux dynamiques (ou : redimensionnables) permettent d'ajouter un élément `e`, en recréant un tableau plus grand dans lequel on recopie tous les éléments ainsi que `e`.  \n",
    "Voici la définition de tableau dynamique que nous allons utiliser :"
   ]
  },
  {
   "cell_type": "code",
   "execution_count": 1,
   "metadata": {},
   "outputs": [
    {
     "data": {
      "text/plain": [
       "type 'a array_dyn = { mutable t : 'a array; mutable n : int; }\n"
      ]
     },
     "execution_count": 1,
     "metadata": {},
     "output_type": "execute_result"
    }
   ],
   "source": [
    "type 'a array_dyn = {mutable t : 'a array; mutable n : int};;"
   ]
  },
  {
   "cell_type": "markdown",
   "metadata": {},
   "source": [
    "`n` indique le nombre de cases du tableau `t` que l'on considère comme faisant partie du tableau dynamique. Les indices au delà de `n` dans `t` sont ignorés.  \n",
    "À chaque fois que l'on voudra ajouter un élément `e` à un tableau dynamique `d` :\n",
    "- s'il reste de la place dans `d.t` (c'est à dire si `d.n < Array.length t`), on met `e` dans `e` dans `d.t.(n)` et on met à jour `d.n`\n",
    "- sinon, on créé un nouveau tableau `t'` de taille `2n`, on recopie `d.t` dedans, on ajoute `e` puis on remplace `d.t` par `t'.`"
   ]
  },
  {
   "cell_type": "markdown",
   "metadata": {},
   "source": [
    "1. Écrire une fonction `add` ajoutant un élément dans un `array_dyn`. \n",
    "2. Quelle est la complexité dans le pire cas de `add` ?\n",
    "3. On suppose que l'on ajoute $n$ éléments (avec `add` à un tableau dynamique de taille initiale 1. Montrer que la complexité totale de ces $n$ opérations est O($n$) (autrement dit, la complexité moyenne ou **complexité amortie** d'une opération est O(1))"
   ]
  },
  {
   "cell_type": "code",
   "execution_count": 18,
   "metadata": {},
   "outputs": [
    {
     "data": {
      "text/plain": [
       "val exemple : int array_dyn = {t = [|0|]; n = 0}\n"
      ]
     },
     "execution_count": 18,
     "metadata": {},
     "output_type": "execute_result"
    }
   ],
   "source": [
    "let exemple = {t = [|0|]; n = 0}"
   ]
  },
  {
   "cell_type": "code",
   "execution_count": 22,
   "metadata": {},
   "outputs": [
    {
     "data": {
      "text/plain": [
       "val new_tab : int array -> int array = <fun>\n"
      ]
     },
     "execution_count": 22,
     "metadata": {},
     "output_type": "execute_result"
    },
    {
     "data": {
      "text/plain": [
       "val add : int -> int array_dyn -> unit = <fun>\n"
      ]
     },
     "execution_count": 22,
     "metadata": {},
     "output_type": "execute_result"
    },
    {
     "data": {
      "text/plain": [
       "- : unit = ()\n"
      ]
     },
     "execution_count": 22,
     "metadata": {},
     "output_type": "execute_result"
    },
    {
     "data": {
      "text/plain": [
       "- : int array_dyn = {t = [|5; 5; 5; 5; 0; 0; 0; 0|]; n = 4}\n"
      ]
     },
     "execution_count": 22,
     "metadata": {},
     "output_type": "execute_result"
    }
   ],
   "source": [
    "let new_tab t = \n",
    "    let new_t = Array.make ((Array.length t)*2) 0 in\n",
    "    for i = 0 to Array.length t -1 do \n",
    "        new_t.(i) <- t.(i)\n",
    "    done;\n",
    "    new_t;;\n",
    "\n",
    "let add e d =\n",
    "    d.n <- (d.n + 1);\n",
    "    if (d.n < Array.length d.t then d.t.((d.n)-1) <- e\n",
    "    else d.t <- (new_tab d.t); d.t.((d.n)-1) <- e;;\n",
    "    \n",
    "\n",
    "add 5 exemple;;\n",
    "exemple"
   ]
  },
  {
   "cell_type": "markdown",
   "metadata": {},
   "source": [
    "2. Quelle est la complexité dans le pire cas de `add` ? \n",
    "\n",
    "Ne savant pas la complexité de la fonction Array.make, nous allons considérer que celle-ci est linéaire.\n",
    "\n",
    "Le seul moment où la compléxité n'est pas de 1 est la boucle for de la fonction new_tab qui donne une compléxité O(n).\n",
    "La complexité de la fonction est donc O(n)."
   ]
  },
  {
   "cell_type": "markdown",
   "metadata": {},
   "source": [
    "3. On suppose que l'on ajoute $n$ éléments (avec `add` à un tableau dynamique de taille initiale 1. Montrer que la complexité totale de ces $n$ opérations est O($n$) (autrement dit, la complexité moyenne ou **complexité amortie** d'une opération est O(1))\n",
    "\n",
    "Lorsqu'on ajoute n éléments, on répété n-fois la fonction add de complexité O(n)"
   ]
  }
 ],
 "metadata": {
  "kernelspec": {
   "display_name": "OCaml default",
   "language": "OCaml",
   "name": "ocaml-jupyter"
  },
  "language_info": {
   "codemirror_mode": "text/x-ocaml",
   "file_extension": ".ml",
   "mimetype": "text/x-ocaml",
   "name": "OCaml",
   "nbconverter_exporter": null,
   "pygments_lexer": "OCaml",
   "version": "4.08.1"
  }
 },
 "nbformat": 4,
 "nbformat_minor": 4
}

