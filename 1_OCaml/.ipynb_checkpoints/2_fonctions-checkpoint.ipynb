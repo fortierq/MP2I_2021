{
 "cells": [
  {
   "cell_type": "markdown",
   "id": "f71dcc7b",
   "metadata": {},
   "source": [
    "# Utiliser une fonction\n",
    "\n",
    "OCaml est un langage fonctionnel, ce qui signifie que :\n",
    "- les fonctions y occupent une place importante et peuvent être manipulées un peu comme des variables\n",
    "- les fonctions sont censées ne pas effectuer d'effet de bord, c'est à dire d'action sur l'extérieur de la fonction (pas de modification de variable globale, pas d'écriture dans un fichier...)\n",
    "\n",
    "Pour utiliser une fonction `f` sur une valeur `x`, on écrira simplement `f x` (et non pas `f(x)`.  \n",
    "\n",
    "Un certain nombre de fonctions sont déjà définies en OCaml. Par exemple, la racine carrée : "
   ]
  },
  {
   "cell_type": "code",
   "execution_count": 1,
   "id": "30212d15",
   "metadata": {
    "execution": {
     "iopub.execute_input": "2021-09-03T14:49:09.551015Z",
     "iopub.status.busy": "2021-09-03T14:49:09.550520Z",
     "iopub.status.idle": "2021-09-03T14:49:09.553271Z",
     "shell.execute_reply": "2021-09-03T14:49:09.553956Z"
    },
    "tags": []
   },
   "outputs": [
    {
     "data": {
      "text/plain": [
       "- : float = 1.41421356237309515\n"
      ]
     },
     "execution_count": 1,
     "metadata": {},
     "output_type": "execute_result"
    }
   ],
   "source": [
    "sqrt 2.0 (* renvoie une approximation de racine de 2 *)"
   ]
  },
  {
   "cell_type": "markdown",
   "id": "8bba2e48",
   "metadata": {},
   "source": [
    "Chaque fonction possède une **signature**, qui donne les types des paramètres (valeurs en entrée de la fonction) et le type de la valeur de retour."
   ]
  },
  {
   "cell_type": "code",
   "execution_count": 2,
   "id": "f9c5d1cf",
   "metadata": {
    "execution": {
     "iopub.execute_input": "2021-09-03T14:49:09.556383Z",
     "iopub.status.busy": "2021-09-03T14:49:09.555876Z",
     "iopub.status.idle": "2021-09-03T14:49:09.558457Z",
     "shell.execute_reply": "2021-09-03T14:49:09.557540Z"
    },
    "tags": []
   },
   "outputs": [
    {
     "data": {
      "text/plain": [
       "- : float -> float = <fun>\n"
      ]
     },
     "execution_count": 2,
     "metadata": {},
     "output_type": "execute_result"
    }
   ],
   "source": [
    "sqrt"
   ]
  },
  {
   "cell_type": "markdown",
   "id": "fe9b2bb1",
   "metadata": {},
   "source": [
    "`float -> float` signifie que `sqrt` est une fonction qui prend un flottant en entrée et renvoie un flottant. On ne peut donc pas l'appliquer sur un entier :"
   ]
  },
  {
   "cell_type": "code",
   "execution_count": null,
   "id": "58bb4a02",
   "metadata": {
    "execution": {
     "iopub.execute_input": "2021-09-03T14:49:09.559901Z",
     "iopub.status.busy": "2021-09-03T14:49:09.559590Z",
     "iopub.status.idle": "2021-09-03T14:49:09.561020Z",
     "shell.execute_reply": "2021-09-03T14:49:09.561260Z"
    },
    "tags": []
   },
   "outputs": [
    {
     "ename": "error",
     "evalue": "compile_error",
     "output_type": "error",
     "traceback": [
      "File \"[3]\", line 1, characters 5-6:\n1 | sqrt 2 (* erreur : on donne un entier à sqrt qui attend un flottant *)\n         ^\nError: This expression has type int but an expression was expected of type\n         float\n"
     ]
    }
   ],
   "source": [
    "sqrt 2 (* erreur : on donne un entier à sqrt qui attend un flottant *)"
   ]
  },
  {
   "cell_type": "markdown",
   "id": "04313087",
   "metadata": {},
   "source": [
    "# Définir une fonction"
   ]
  },
  {
   "cell_type": "markdown",
   "id": "38cb38b2",
   "metadata": {},
   "source": [
    "En OCaml, une fonction se définie de la façon suivante :\n",
    "```ocaml\n",
    "let nom_fonction nom_argument = ... \n",
    "```\n",
    "où `...` est le corps de la fonction, c'est à dire ce qui est exécuté lorsqu'on utilise la fonction. \n",
    "\n",
    "**La valeur renvoyée par la fonction est celle de la dernière instruction (pas besoin de `return`)**."
   ]
  },
  {
   "cell_type": "markdown",
   "id": "29a55ae2",
   "metadata": {},
   "source": [
    "Définissons par exemple la fonction $f: x \\longmapsto 2x$ :"
   ]
  },
  {
   "cell_type": "code",
   "execution_count": null,
   "id": "9090e728",
   "metadata": {
    "execution": {
     "iopub.execute_input": "2021-09-03T14:49:09.562671Z",
     "iopub.status.busy": "2021-09-03T14:49:09.562363Z",
     "iopub.status.idle": "2021-09-03T14:49:09.564152Z",
     "shell.execute_reply": "2021-09-03T14:49:09.563863Z"
    },
    "tags": []
   },
   "outputs": [
    {
     "data": {
      "text/plain": [
       "val f : int -> int = <fun>\n"
      ]
     },
     "execution_count": 4,
     "metadata": {},
     "output_type": "execute_result"
    }
   ],
   "source": [
    "let f x = 2*x"
   ]
  },
  {
   "cell_type": "markdown",
   "id": "846d726e",
   "metadata": {},
   "source": [
    "OCaml nous dit que `f` est de type `int -> int`, ce qui signifie que `f` prend un entier en entrée et renvoie un entier en sortie. Ceci est similaire à la notation mathématique $f : \\mathbb{N} \\longrightarrow \\mathbb{N}$.\n",
    "\n",
    "On peut ensuite utiliser `f` et récupérer la valeur de retour :"
   ]
  },
  {
   "cell_type": "code",
   "execution_count": 5,
   "id": "40ad45eb",
   "metadata": {
    "execution": {
     "iopub.execute_input": "2021-09-03T14:49:09.565433Z",
     "iopub.status.busy": "2021-09-03T14:49:09.565123Z",
     "iopub.status.idle": "2021-09-03T14:49:09.566431Z",
     "shell.execute_reply": "2021-09-03T14:49:09.566668Z"
    }
   },
   "outputs": [
    {
     "data": {
      "text/plain": [
       "- : int = 6\n"
      ]
     },
     "execution_count": 5,
     "metadata": {},
     "output_type": "execute_result"
    }
   ],
   "source": [
    "f 3"
   ]
  },
  {
   "cell_type": "markdown",
   "id": "74b3ada5",
   "metadata": {},
   "source": [
    "Notons que `x` est une variable **muette** : elle n'existe qu'à l'intérieur de `f`, n'a aucun rapport avec une variable `x` définie précédemment et la fonction suivante définit exactement la même fonction :"
   ]
  },
  {
   "cell_type": "code",
   "execution_count": 9,
   "id": "71580afc",
   "metadata": {
    "execution": {
     "iopub.execute_input": "2021-09-03T14:49:09.568037Z",
     "iopub.status.busy": "2021-09-03T14:49:09.567718Z",
     "iopub.status.idle": "2021-09-03T14:49:09.569314Z",
     "shell.execute_reply": "2021-09-03T14:49:09.569617Z"
    },
    "tags": []
   },
   "outputs": [
    {
     "data": {
      "text/plain": [
       "val f : int -> int = <fun>\n"
      ]
     },
     "execution_count": 9,
     "metadata": {},
     "output_type": "execute_result"
    }
   ],
   "source": [
    "let f y = 2*y (* peu importe le nom de la variable muette y *)"
   ]
  },
  {
   "cell_type": "markdown",
   "id": "bd183eac",
   "metadata": {},
   "source": [
    "Maintenant que `f` est définie, on peut calculer $f(3)$ :"
   ]
  },
  {
   "cell_type": "code",
   "execution_count": 10,
   "id": "7ba64e1b",
   "metadata": {
    "execution": {
     "iopub.execute_input": "2021-09-03T14:49:09.571620Z",
     "iopub.status.busy": "2021-09-03T14:49:09.571136Z",
     "iopub.status.idle": "2021-09-03T14:49:09.572903Z",
     "shell.execute_reply": "2021-09-03T14:49:09.572562Z"
    },
    "tags": []
   },
   "outputs": [
    {
     "data": {
      "text/plain": [
       "- : int = 6\n"
      ]
     },
     "execution_count": 10,
     "metadata": {},
     "output_type": "execute_result"
    }
   ],
   "source": [
    "f 3"
   ]
  },
  {
   "cell_type": "markdown",
   "id": "02062911",
   "metadata": {},
   "source": [
    "**Exercice** : définir la fonction $f : x \\longmapsto \\frac{1}{\\sqrt{1 + x^2}}$ en OCaml."
   ]
  },
  {
   "cell_type": "code",
   "execution_count": 11,
   "id": "138bb55e",
   "metadata": {},
   "outputs": [
    {
     "data": {
      "text/plain": [
       "val f_2 : int -> float = <fun>\n"
      ]
     },
     "execution_count": 11,
     "metadata": {},
     "output_type": "execute_result"
    }
   ],
   "source": [
    "let f_2 x = 1. /. sqrt (1.+. float_of_int x ** 2.)"
   ]
  },
  {
   "cell_type": "code",
   "execution_count": 12,
   "id": "fcf3dea1",
   "metadata": {},
   "outputs": [
    {
     "data": {
      "text/plain": [
       "- : float = 0.316227766016837941\n"
      ]
     },
     "execution_count": 12,
     "metadata": {},
     "output_type": "execute_result"
    }
   ],
   "source": [
    "f_2 3"
   ]
  },
  {
   "cell_type": "markdown",
   "id": "03a30224",
   "metadata": {},
   "source": [
    "Comme pour les variables, il est possible d'utiliser in pour spécifier la portée d'une fonction $g$"
   ]
  },
  {
   "cell_type": "code",
   "execution_count": 13,
   "id": "7d7973ae",
   "metadata": {
    "execution": {
     "iopub.execute_input": "2021-09-03T14:49:09.574381Z",
     "iopub.status.busy": "2021-09-03T14:49:09.574071Z",
     "iopub.status.idle": "2021-09-03T14:49:09.576249Z",
     "shell.execute_reply": "2021-09-03T14:49:09.575986Z"
    },
    "tags": []
   },
   "outputs": [
    {
     "data": {
      "text/plain": [
       "- : int = 1\n"
      ]
     },
     "execution_count": 13,
     "metadata": {},
     "output_type": "execute_result"
    }
   ],
   "source": [
    "let g x = x + 1 in\n",
    "g 0  (* g est utilisable seulement dans le in *)"
   ]
  },
  {
   "cell_type": "markdown",
   "id": "35ee063a",
   "metadata": {},
   "source": [
    "**Exercice** Donner la valeur de l'expression suivante :\n",
    "```ocaml\n",
    "let h x = f x + 1 in\n",
    "h 3\n",
    "```"
   ]
  },
  {
   "cell_type": "code",
   "execution_count": 14,
   "id": "b5af1d48",
   "metadata": {},
   "outputs": [
    {
     "data": {
      "text/plain": [
       "- : int = 7\n"
      ]
     },
     "execution_count": 14,
     "metadata": {},
     "output_type": "execute_result"
    }
   ],
   "source": [
    "let h x = f x + 1 in\n",
    "h 3"
   ]
  },
  {
   "cell_type": "markdown",
   "id": "9cc846f9",
   "metadata": {},
   "source": [
    "Il est possible d'avoir plusieurs instructions dans une fonction (même si seule la dernière sera renvoyée) :"
   ]
  },
  {
   "cell_type": "code",
   "execution_count": 9,
   "id": "a9ae479d",
   "metadata": {
    "execution": {
     "iopub.execute_input": "2021-09-03T14:49:09.577732Z",
     "iopub.status.busy": "2021-09-03T14:49:09.577420Z",
     "iopub.status.idle": "2021-09-03T14:49:09.579312Z",
     "shell.execute_reply": "2021-09-03T14:49:09.579044Z"
    },
    "tags": []
   },
   "outputs": [
    {
     "data": {
      "text/plain": [
       "val pow4 : int -> int = <fun>\n"
      ]
     },
     "execution_count": 9,
     "metadata": {},
     "output_type": "execute_result"
    }
   ],
   "source": [
    "let pow4 x = (* je saute une ligne ici pour plus de lisibilité *)\n",
    "    let y = x*x in\n",
    "    y*y (* renvoie x puissance 4 *)"
   ]
  },
  {
   "cell_type": "code",
   "execution_count": 10,
   "id": "35d02f59",
   "metadata": {
    "execution": {
     "iopub.execute_input": "2021-09-03T14:49:09.580617Z",
     "iopub.status.busy": "2021-09-03T14:49:09.580297Z",
     "iopub.status.idle": "2021-09-03T14:49:09.581727Z",
     "shell.execute_reply": "2021-09-03T14:49:09.581453Z"
    },
    "tags": []
   },
   "outputs": [
    {
     "data": {
      "text/plain": [
       "- : int = 16\n"
      ]
     },
     "execution_count": 10,
     "metadata": {},
     "output_type": "execute_result"
    }
   ],
   "source": [
    "pow4 2 (* test de notre fonction *)"
   ]
  },
  {
   "cell_type": "markdown",
   "id": "4339528b",
   "metadata": {},
   "source": [
    "**Exercice** : Définir une fonction pour échanger les valeurs de 2 références `a` et `b` (pas forcément des entiers)."
   ]
  },
  {
   "cell_type": "code",
   "execution_count": 28,
   "id": "8eab19e4",
   "metadata": {},
   "outputs": [
    {
     "data": {
      "text/plain": [
       "val switch : 'a ref -> 'a ref -> unit = <fun>\n"
      ]
     },
     "execution_count": 28,
     "metadata": {},
     "output_type": "execute_result"
    }
   ],
   "source": [
    "let switch a b = \n",
    "    let c = ref !a in\n",
    "    a := !b;\n",
    "    b := !c"
   ]
  },
  {
   "cell_type": "code",
   "execution_count": 26,
   "id": "7e89ef08",
   "metadata": {},
   "outputs": [
    {
     "data": {
      "text/plain": [
       "val test1 : int ref = {contents = 34}\n"
      ]
     },
     "execution_count": 26,
     "metadata": {},
     "output_type": "execute_result"
    },
    {
     "data": {
      "text/plain": [
       "val test2 : int ref = {contents = 43}\n"
      ]
     },
     "execution_count": 26,
     "metadata": {},
     "output_type": "execute_result"
    },
    {
     "data": {
      "text/plain": [
       "- : unit = ()\n"
      ]
     },
     "execution_count": 26,
     "metadata": {},
     "output_type": "execute_result"
    },
    {
     "data": {
      "text/plain": [
       "- : int ref * int ref = ({contents = 43}, {contents = 34})\n"
      ]
     },
     "execution_count": 26,
     "metadata": {},
     "output_type": "execute_result"
    }
   ],
   "source": [
    "let test1 = ref 34;;\n",
    "let test2 = ref 43;;\n",
    "switch test1 test2;;\n",
    "test1, test2\n"
   ]
  },
  {
   "cell_type": "markdown",
   "id": "589e1674",
   "metadata": {},
   "source": [
    "On peut définir une variable à l'intérieur d'une fonction. Par exemple, pour éviter de calculer deux fois $e^{-{2x}}$ dans $\\tanh : x \\longmapsto \\frac{1 - e^{-{2x}}}{1 + e^{-{2x}}}$ :"
   ]
  },
  {
   "cell_type": "code",
   "execution_count": 11,
   "id": "167216ad",
   "metadata": {
    "execution": {
     "iopub.execute_input": "2021-09-03T14:49:09.583139Z",
     "iopub.status.busy": "2021-09-03T14:49:09.582831Z",
     "iopub.status.idle": "2021-09-03T14:49:09.585467Z",
     "shell.execute_reply": "2021-09-03T14:49:09.585123Z"
    }
   },
   "outputs": [
    {
     "data": {
      "text/plain": [
       "val tanh : float -> float = <fun>\n"
      ]
     },
     "execution_count": 11,
     "metadata": {},
     "output_type": "execute_result"
    },
    {
     "data": {
      "text/plain": [
       "- : float = 0.761594155955764851\n"
      ]
     },
     "execution_count": 11,
     "metadata": {},
     "output_type": "execute_result"
    }
   ],
   "source": [
    "let tanh x =\n",
    "    let e = exp (-.2.*.x) in  (* la fonction exp existe en OCaml *)\n",
    "    (1. -. e)/.(1. +. e);;\n",
    "tanh 1. (* test *)"
   ]
  },
  {
   "cell_type": "markdown",
   "id": "ef5ea0b9",
   "metadata": {},
   "source": [
    "# Fonctions anonymes"
   ]
  },
  {
   "cell_type": "markdown",
   "id": "5fb3af58",
   "metadata": {},
   "source": [
    "Quand on a besoin d'utiliser une fonction une seule fois, on peut définir une fonction anonyme (sans nom) avec `fun`. "
   ]
  },
  {
   "cell_type": "code",
   "execution_count": 12,
   "id": "2f99f5e4",
   "metadata": {
    "execution": {
     "iopub.execute_input": "2021-09-03T14:49:09.587178Z",
     "iopub.status.busy": "2021-09-03T14:49:09.586820Z",
     "iopub.status.idle": "2021-09-03T14:49:09.588703Z",
     "shell.execute_reply": "2021-09-03T14:49:09.588405Z"
    },
    "tags": []
   },
   "outputs": [
    {
     "data": {
      "text/plain": [
       "- : int -> int = <fun>\n"
      ]
     },
     "execution_count": 12,
     "metadata": {},
     "output_type": "execute_result"
    }
   ],
   "source": [
    "fun x -> x*2 (* définition d'une fonction anonyme *)"
   ]
  },
  {
   "cell_type": "code",
   "execution_count": 13,
   "id": "56344a95",
   "metadata": {
    "execution": {
     "iopub.execute_input": "2021-09-03T14:49:09.590469Z",
     "iopub.status.busy": "2021-09-03T14:49:09.590163Z",
     "iopub.status.idle": "2021-09-03T14:49:09.591959Z",
     "shell.execute_reply": "2021-09-03T14:49:09.591669Z"
    },
    "tags": []
   },
   "outputs": [
    {
     "data": {
      "text/plain": [
       "- : int = 6\n"
      ]
     },
     "execution_count": 13,
     "metadata": {},
     "output_type": "execute_result"
    }
   ],
   "source": [
    "(fun x -> x*2) 3 (* applique une fonction anonyme sur la valeur 3 *)"
   ]
  },
  {
   "cell_type": "markdown",
   "id": "568c9ad8",
   "metadata": {},
   "source": [
    "Remarque : les deux définitions suivantes sont en fait complètement équivalentes.\n",
    "```ocaml\n",
    "let f x = ...\n",
    "```\n",
    "```ocaml\n",
    "let f = fun x -> ...\n",
    "```"
   ]
  },
  {
   "cell_type": "markdown",
   "id": "99bb8a7e",
   "metadata": {},
   "source": [
    "# Fonctions de plusieurs variables"
   ]
  },
  {
   "cell_type": "markdown",
   "id": "c854eeb4",
   "metadata": {},
   "source": [
    "Il est possible de définir des fonctions avec plusieurs paramètres, par exemple :"
   ]
  },
  {
   "cell_type": "code",
   "execution_count": 14,
   "id": "25bca21d",
   "metadata": {
    "execution": {
     "iopub.execute_input": "2021-09-03T14:49:09.593418Z",
     "iopub.status.busy": "2021-09-03T14:49:09.593106Z",
     "iopub.status.idle": "2021-09-03T14:49:09.594867Z",
     "shell.execute_reply": "2021-09-03T14:49:09.594568Z"
    },
    "lines_to_next_cell": 0,
    "tags": []
   },
   "outputs": [
    {
     "data": {
      "text/plain": [
       "val sum : int -> int -> int = <fun>\n"
      ]
     },
     "execution_count": 14,
     "metadata": {},
     "output_type": "execute_result"
    }
   ],
   "source": [
    "let sum x y = x + y"
   ]
  },
  {
   "cell_type": "code",
   "execution_count": 15,
   "id": "f0d64228",
   "metadata": {
    "execution": {
     "iopub.execute_input": "2021-09-03T14:49:09.596168Z",
     "iopub.status.busy": "2021-09-03T14:49:09.595856Z",
     "iopub.status.idle": "2021-09-03T14:49:09.597360Z",
     "shell.execute_reply": "2021-09-03T14:49:09.597070Z"
    },
    "tags": []
   },
   "outputs": [
    {
     "data": {
      "text/plain": [
       "- : int = 7\n"
      ]
     },
     "execution_count": 15,
     "metadata": {},
     "output_type": "execute_result"
    }
   ],
   "source": [
    "sum 3 4 (* renvoie 3 + 4 *)"
   ]
  },
  {
   "cell_type": "markdown",
   "id": "23bc42d7",
   "metadata": {},
   "source": [
    "Le type de `sum` est `int -> int -> int`, ce qui peut paraître étrange. C'est équivalent à `int -> (int -> int)`, ce qui signifie que `sum` prend en entier en argument et renvoie une valeur de type `int -> int` (c'est à dire une fonction).  \n",
    "En effet :"
   ]
  },
  {
   "cell_type": "code",
   "execution_count": 16,
   "id": "96b4eb08",
   "metadata": {
    "execution": {
     "iopub.execute_input": "2021-09-03T14:49:09.598706Z",
     "iopub.status.busy": "2021-09-03T14:49:09.598399Z",
     "iopub.status.idle": "2021-09-03T14:49:09.601191Z",
     "shell.execute_reply": "2021-09-03T14:49:09.600902Z"
    },
    "tags": []
   },
   "outputs": [
    {
     "data": {
      "text/plain": [
       "- : int -> int = <fun>\n"
      ]
     },
     "execution_count": 16,
     "metadata": {},
     "output_type": "execute_result"
    }
   ],
   "source": [
    "sum 3"
   ]
  },
  {
   "cell_type": "markdown",
   "id": "8008c44e",
   "metadata": {},
   "source": [
    "`sum 3` est une fonction qui prend en argument un entier `y` et qui renvoie `3 + y`, ce qu'on peut vérifier :"
   ]
  },
  {
   "cell_type": "code",
   "execution_count": 17,
   "id": "4d46f7c8",
   "metadata": {
    "execution": {
     "iopub.execute_input": "2021-09-03T14:49:09.602833Z",
     "iopub.status.busy": "2021-09-03T14:49:09.602354Z",
     "iopub.status.idle": "2021-09-03T14:49:09.604485Z",
     "shell.execute_reply": "2021-09-03T14:49:09.604740Z"
    },
    "tags": []
   },
   "outputs": [
    {
     "data": {
      "text/plain": [
       "- : int = 7\n"
      ]
     },
     "execution_count": 17,
     "metadata": {},
     "output_type": "execute_result"
    }
   ],
   "source": [
    "let f = sum 3 in (* f est une fonction *)\n",
    "f 4 (* renvoie sum 3 4, c'est à dire 7 *)"
   ]
  },
  {
   "cell_type": "markdown",
   "id": "a5a58f6e",
   "metadata": {},
   "source": [
    "En fait, OCaml transforme automatiquement une fonction de plusieurs variables en une suite (composition) de fonctions à une variable (c'est ce qu'on appelle la **curryfication**) :"
   ]
  },
  {
   "cell_type": "code",
   "execution_count": 18,
   "id": "001f0bcc",
   "metadata": {
    "execution": {
     "iopub.execute_input": "2021-09-03T14:49:09.606266Z",
     "iopub.status.busy": "2021-09-03T14:49:09.605946Z",
     "iopub.status.idle": "2021-09-03T14:49:09.607830Z",
     "shell.execute_reply": "2021-09-03T14:49:09.607534Z"
    }
   },
   "outputs": [
    {
     "data": {
      "text/plain": [
       "val sum : int -> int -> int = <fun>\n"
      ]
     },
     "execution_count": 18,
     "metadata": {},
     "output_type": "execute_result"
    }
   ],
   "source": [
    "let sum x = fun y -> x + y (* OCaml transforme la définition de sum ci-dessus en celle-ci *)"
   ]
  },
  {
   "cell_type": "code",
   "execution_count": 19,
   "id": "ebbca41b",
   "metadata": {
    "execution": {
     "iopub.execute_input": "2021-09-03T14:49:09.609176Z",
     "iopub.status.busy": "2021-09-03T14:49:09.608861Z",
     "iopub.status.idle": "2021-09-03T14:49:09.610481Z",
     "shell.execute_reply": "2021-09-03T14:49:09.610183Z"
    }
   },
   "outputs": [
    {
     "data": {
      "text/plain": [
       "- : int = 5\n"
      ]
     },
     "execution_count": 19,
     "metadata": {},
     "output_type": "execute_result"
    }
   ],
   "source": [
    "(sum 2) 3  (* le calcul effectué par OCaml lorsqu'on écrit sum 2 3 *)"
   ]
  },
  {
   "cell_type": "markdown",
   "id": "231ef5e6",
   "metadata": {},
   "source": [
    "La possibilité d'appliquer une fonction seulement sur certains arguments s'appelle l'**application partielle** de fonction. C'est un des avantages d'OCaml par rapport à Python.  "
   ]
  },
  {
   "cell_type": "markdown",
   "id": "9ce62d69",
   "metadata": {},
   "source": [
    "De la même façon, une fonction OCaml à 3 arguments sera de type `... -> ... -> ... -> ...`."
   ]
  },
  {
   "cell_type": "markdown",
   "id": "81cfa83d",
   "metadata": {},
   "source": [
    "**Exercice** : \n",
    "1. Écrire une fonction `delta : float -> float -> float -> float` telle que `delta a b c` renvoie le discriminant de l'équation $ax^2 + bx + c = 0$.\n",
    "2. Écrire une fonction `xor : bool -> bool -> bool` telle que `xor a b` renvoie le ou exclusif de `a` et `b`, c'est à dire `true` si `a` ou `b` est `true`, mais pas les deux."
   ]
  },
  {
   "cell_type": "code",
   "execution_count": 20,
   "id": "8a381a1e",
   "metadata": {
    "execution": {
     "iopub.execute_input": "2021-09-03T14:49:09.611920Z",
     "iopub.status.busy": "2021-09-03T14:49:09.611605Z",
     "iopub.status.idle": "2021-09-03T14:49:09.613957Z",
     "shell.execute_reply": "2021-09-03T14:49:09.613673Z"
    },
    "tags": []
   },
   "outputs": [
    {
     "data": {
      "text/plain": [
       "val delta : float -> float -> float -> float = <fun>\n"
      ]
     },
     "execution_count": 20,
     "metadata": {},
     "output_type": "execute_result"
    }
   ],
   "source": [
    "(* 1. *)\n",
    "let delta a b c = b**2. -. 4.*.a*.c"
   ]
  },
  {
   "cell_type": "code",
   "execution_count": 35,
   "id": "98c01f54",
   "metadata": {},
   "outputs": [
    {
     "data": {
      "text/plain": [
       "val xor : bool -> bool -> bool = <fun>\n"
      ]
     },
     "execution_count": 35,
     "metadata": {},
     "output_type": "execute_result"
    },
    {
     "data": {
      "text/plain": [
       "- : bool = false\n"
      ]
     },
     "execution_count": 35,
     "metadata": {},
     "output_type": "execute_result"
    },
    {
     "data": {
      "text/plain": [
       "- : bool = true\n"
      ]
     },
     "execution_count": 35,
     "metadata": {},
     "output_type": "execute_result"
    },
    {
     "data": {
      "text/plain": [
       "- : bool = true\n"
      ]
     },
     "execution_count": 35,
     "metadata": {},
     "output_type": "execute_result"
    },
    {
     "data": {
      "text/plain": [
       "- : bool = false\n"
      ]
     },
     "execution_count": 35,
     "metadata": {},
     "output_type": "execute_result"
    }
   ],
   "source": [
    "let xor a b = (a && not b) || (b && not a) ;;\n",
    "\n",
    "xor false false;;\n",
    "xor true false;;\n",
    "xor false true;;\n",
    "xor true true;;\n"
   ]
  },
  {
   "cell_type": "markdown",
   "id": "461fcc14",
   "metadata": {},
   "source": [
    "Une fonction peut aussi avoir aucune valeur en entrée. Dans ce cas, on lui donne l'argument `()` (de type unit). C'est le cas par exemple de `print_newline`, qui saute une ligne : "
   ]
  },
  {
   "cell_type": "code",
   "execution_count": 21,
   "id": "f4300b45",
   "metadata": {
    "execution": {
     "iopub.execute_input": "2021-09-03T14:49:09.615347Z",
     "iopub.status.busy": "2021-09-03T14:49:09.615031Z",
     "iopub.status.idle": "2021-09-03T14:49:09.617879Z",
     "shell.execute_reply": "2021-09-03T14:49:09.617183Z"
    }
   },
   "outputs": [
    {
     "name": "stdout",
     "output_type": "stream",
     "text": [
      "0\n",
      "1\n"
     ]
    },
    {
     "data": {
      "text/plain": [
       "- : unit = ()\n"
      ]
     },
     "execution_count": 21,
     "metadata": {},
     "output_type": "execute_result"
    }
   ],
   "source": [
    "print_int 0;\n",
    "print_newline ();\n",
    "print_int 1;\n",
    "print_newline ();"
   ]
  },
  {
   "cell_type": "markdown",
   "id": "12fc1082",
   "metadata": {},
   "source": [
    "# Polymorphisme"
   ]
  },
  {
   "cell_type": "markdown",
   "id": "f0b1d34f",
   "metadata": {},
   "source": [
    "Reprenons notre 1er exemple de fonction :"
   ]
  },
  {
   "cell_type": "code",
   "execution_count": 22,
   "id": "d014b2c7",
   "metadata": {
    "execution": {
     "iopub.execute_input": "2021-09-03T14:49:09.619449Z",
     "iopub.status.busy": "2021-09-03T14:49:09.619126Z",
     "iopub.status.idle": "2021-09-03T14:49:09.620583Z",
     "shell.execute_reply": "2021-09-03T14:49:09.620857Z"
    }
   },
   "outputs": [
    {
     "data": {
      "text/plain": [
       "val f : int -> int = <fun>\n"
      ]
     },
     "execution_count": 22,
     "metadata": {},
     "output_type": "execute_result"
    }
   ],
   "source": [
    "let f x = 2*x"
   ]
  },
  {
   "cell_type": "markdown",
   "id": "23c62b33",
   "metadata": {},
   "source": [
    "OCaml sait que l'argument `x` de `f` est un `int` car on utilise l'opérateur `*` qui ne s'utilise que sur des entiers. Mais dans certaines fonctions, il n'y a pas de contrainte de type :"
   ]
  },
  {
   "cell_type": "code",
   "execution_count": 23,
   "id": "b243bcfa",
   "metadata": {
    "execution": {
     "iopub.execute_input": "2021-09-03T14:49:09.622252Z",
     "iopub.status.busy": "2021-09-03T14:49:09.621930Z",
     "iopub.status.idle": "2021-09-03T14:49:09.623447Z",
     "shell.execute_reply": "2021-09-03T14:49:09.623151Z"
    }
   },
   "outputs": [
    {
     "data": {
      "text/plain": [
       "val id : 'a -> 'a = <fun>\n"
      ]
     },
     "execution_count": 23,
     "metadata": {},
     "output_type": "execute_result"
    }
   ],
   "source": [
    "let id x = x"
   ]
  },
  {
   "cell_type": "markdown",
   "id": "85759216",
   "metadata": {},
   "source": [
    "Cette fonction `id` (pour identité) renvoie son argument sans le modifier. Comme aucune opération n'est appliquée sur `x`, il n'y a pas de conrainte sur son type. OCaml utilise alors `'a` pour désigner le type quelconque de `x`.  \n",
    "Notons que le type de retour de `id` est `'a` également : OCaml nous dit que `id` renvoie une valeur du même type que l'argument."
   ]
  },
  {
   "cell_type": "markdown",
   "id": "346300e3",
   "metadata": {},
   "source": [
    "**Exercice** : donner le type des fonctions suivantes  \n",
    "```ocaml\n",
    " let f x = 42\n",
    " ```\n",
    "```ocaml\n",
    " let g x y f = x + f y\n",
    " ```"
   ]
  },
  {
   "cell_type": "code",
   "execution_count": 37,
   "id": "cf4d98c1",
   "metadata": {},
   "outputs": [
    {
     "data": {
      "text/plain": [
       "val f : 'a -> int = <fun>\n"
      ]
     },
     "execution_count": 37,
     "metadata": {},
     "output_type": "execute_result"
    },
    {
     "data": {
      "text/plain": [
       "val g : int -> 'a -> ('a -> int) -> int = <fun>\n"
      ]
     },
     "execution_count": 37,
     "metadata": {},
     "output_type": "execute_result"
    }
   ],
   "source": [
    "(* val f : 'a -> int = fun *)\n",
    "(* val g : int 'a ('a -> int) -> int = fun *)\n",
    "let f x = 42 ;;\n",
    "let g x y f = x + f y ;;"
   ]
  },
  {
   "cell_type": "markdown",
   "id": "d26e7121",
   "metadata": {},
   "source": [
    "# Fonction comme argument\n",
    "\n",
    "Il est possible d'utiliser une fonction en argument d'une autre fonction. Par exemple, la fonction suivante évalue une autre fonction en la valeur 0 :"
   ]
  },
  {
   "cell_type": "code",
   "execution_count": 24,
   "id": "67ffbd45",
   "metadata": {
    "execution": {
     "iopub.execute_input": "2021-09-03T14:49:09.625625Z",
     "iopub.status.busy": "2021-09-03T14:49:09.625275Z",
     "iopub.status.idle": "2021-09-03T14:49:09.626620Z",
     "shell.execute_reply": "2021-09-03T14:49:09.625919Z"
    }
   },
   "outputs": [
    {
     "data": {
      "text/plain": [
       "val eval : (int -> 'a) -> 'a = <fun>\n"
      ]
     },
     "execution_count": 24,
     "metadata": {},
     "output_type": "execute_result"
    }
   ],
   "source": [
    "let eval f =\n",
    "f 0"
   ]
  },
  {
   "cell_type": "code",
   "execution_count": 25,
   "id": "2428e6d5",
   "metadata": {
    "execution": {
     "iopub.execute_input": "2021-09-03T14:49:09.627956Z",
     "iopub.status.busy": "2021-09-03T14:49:09.627637Z",
     "iopub.status.idle": "2021-09-03T14:49:09.629803Z",
     "shell.execute_reply": "2021-09-03T14:49:09.629505Z"
    }
   },
   "outputs": [
    {
     "data": {
      "text/plain": [
       "- : int = 7\n"
      ]
     },
     "execution_count": 25,
     "metadata": {},
     "output_type": "execute_result"
    }
   ],
   "source": [
    "let f x = 3*x + 7 in\n",
    "eval f"
   ]
  },
  {
   "cell_type": "markdown",
   "id": "06efc7dc",
   "metadata": {},
   "source": [
    "**Exercice** : \n",
    "1. On définit une fonction `h` :\n",
    "```ocaml\n",
    "let h f g x = f (g x)\n",
    "```\n",
    "Donner la valeur de l'expression :\n",
    "```ocaml\n",
    "h (fun x -> x*x) (fun x -> x + 1) 3\n",
    "```\n",
    "2. Donner le type de `h`.\n",
    "3. À quoi sert `h`? Comment cette opération s'appelle-t-elle mathématiquement?"
   ]
  },
  {
   "cell_type": "code",
   "execution_count": 39,
   "id": "b35cedb9",
   "metadata": {},
   "outputs": [],
   "source": [
    "(* val h : () ->*)\n",
    "\n",
    "(* h compose 2 fonctions f et g et les execute en x *)"
   ]
  },
  {
   "cell_type": "markdown",
   "id": "ad23d8d0",
   "metadata": {
    "tags": []
   },
   "source": [
    "# Fonction à l'intérieur de fonction\n",
    "\n",
    "On peut définir une fonction à l'intérieur d'une fonction. Par exemple, on peut définir $f: x \\longmapsto 2x + "
   ]
  },
  {
   "cell_type": "code",
   "execution_count": 26,
   "id": "564da33d",
   "metadata": {
    "execution": {
     "iopub.execute_input": "2021-09-03T14:49:09.631238Z",
     "iopub.status.busy": "2021-09-03T14:49:09.630923Z",
     "iopub.status.idle": "2021-09-03T14:49:09.633311Z",
     "shell.execute_reply": "2021-09-03T14:49:09.633011Z"
    }
   },
   "outputs": [
    {
     "data": {
      "text/plain": [
       "val f : int -> int = <fun>\n"
      ]
     },
     "execution_count": 26,
     "metadata": {},
     "output_type": "execute_result"
    }
   ],
   "source": [
    "let f x = \n",
    "    let g y = 2*y in (* g n'est utilisable que dans f *)\n",
    "    (g x)  + 2*g (x + 1)"
   ]
  },
  {
   "cell_type": "code",
   "execution_count": null,
   "id": "68d339ae",
   "metadata": {},
   "outputs": [],
   "source": []
  }
 ],
 "metadata": {
  "kernelspec": {
   "display_name": "OCaml default",
   "language": "OCaml",
   "name": "ocaml-jupyter"
  },
  "language_info": {
   "codemirror_mode": "text/x-ocaml",
   "file_extension": ".ml",
   "mimetype": "text/x-ocaml",
   "name": "OCaml",
   "nbconverter_exporter": null,
   "pygments_lexer": "OCaml",
   "version": "4.11.1"
  }
 },
 "nbformat": 4,
 "nbformat_minor": 5
}
