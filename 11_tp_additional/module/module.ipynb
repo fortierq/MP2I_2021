{
 "cells": [
  {
   "cell_type": "markdown",
   "metadata": {},
   "source": [
    "# <center><a href='https://notebook.basthon.fr/ocaml/?from=https://raw.githubusercontent.com/mp2i-fsm/mp2i-2021/main/11_tp_additional/module/module.ipynb'>Introduction aux modules OCaml <img src=https://framagit.org/uploads/-/system/project/avatar/55763/basthon_shadow.png width=100></a></center>\n",
    "\n",
    "Ce TP est une introduction à l'utilisation de [**modules**](https://ocaml.org/docs/modules) en OCaml. Un module est une façon de regrouper plusieurs fonctions (et types) similaires).  \n",
    "C'est hors-programme mais cela peut quand même être intéressant pour mieux architecturer le code de votre TIPE ou pour mieux comprendre la libraire standard OCaml (qui utilise des modules). Par exemple, `List` est un module."
   ]
  },
  {
   "cell_type": "markdown",
   "metadata": {},
   "source": [
    "**Remarque** : Un module est similaire à une classe en Python ou C++, sauf qu'il n'est pas possible d'instancier un module."
   ]
  },
  {
   "cell_type": "markdown",
   "metadata": {},
   "source": [
    "## Définition de module\n",
    "\n",
    "Voici un exemple de module, permettant de faire des calculs sur les polynômes. On stocke ici les coefficients d'un polynôme dans une liste de flottants (par exemple, `[1.; 5.; 0.; 2.]` représente le polynôme $1 + 5X + 2X^3$)."
   ]
  },
  {
   "cell_type": "code",
   "execution_count": 1,
   "metadata": {
    "vscode": {
     "languageId": "ocaml"
    }
   },
   "outputs": [
    {
     "data": {
      "text/plain": [
       "module Polynome :\n",
       "  sig\n",
       "    val deg : 'a list -> int\n",
       "    val add : float list -> float list -> float list\n",
       "  end\n"
      ]
     },
     "execution_count": 1,
     "metadata": {},
     "output_type": "execute_result"
    }
   ],
   "source": [
    "module Polynome = struct (* Polynome est un module *)\n",
    "    let deg p = (* deg p renvoie le degré du polynôme représenté par la liste p *)\n",
    "        1 + List.length p\n",
    "    let rec add p1 p2 = match p1, p2 with (* add renvoie la liste représentant la somme de deux polynômes *)\n",
    "        | [], _ -> p2\n",
    "        | _, [] -> p1\n",
    "        | c1::q1, c2::q2 -> (c1 +. c2)::add q1 q2\n",
    "end"
   ]
  },
  {
   "cell_type": "markdown",
   "metadata": {},
   "source": [
    "Exemple d'utilisation de ce module :"
   ]
  },
  {
   "cell_type": "code",
   "execution_count": 2,
   "metadata": {
    "vscode": {
     "languageId": "ocaml"
    }
   },
   "outputs": [
    {
     "data": {
      "text/plain": [
       "- : float list = [1.; 2.; 4.; 2.]\n"
      ]
     },
     "execution_count": 2,
     "metadata": {},
     "output_type": "execute_result"
    }
   ],
   "source": [
    "Polynome.add [1.; 2.; 3.] [0.; 0.; 1.; 2.]"
   ]
  },
  {
   "cell_type": "markdown",
   "metadata": {
    "tags": [
     "exo"
    ]
   },
   "source": [
    "**Exercice** : Ajouter une fonction `mult` à `Polynom` pour multiplier deux polynômes. Tester.  \n",
    "**Remarque** : On demande de le faire en O($n^2$) où $n$ est le plus grand degré, mais il existe des méthodes plus rapides (comme [Karastuba](https://fr.wikipedia.org/wiki/Algorithme_de_Karatsuba) ou [FFT](https://fr.wikipedia.org/wiki/Transformation_de_Fourier_rapide))."
   ]
  },
  {
   "cell_type": "markdown",
   "metadata": {},
   "source": [
    "## Signature de module\n",
    "\n",
    "De la même façon que l'on peut définir le type d'une fonction, on peut définir le **type d'un module**. Voici par exemple un type de module pour définir un anneau :"
   ]
  },
  {
   "cell_type": "code",
   "execution_count": 3,
   "metadata": {
    "vscode": {
     "languageId": "ocaml"
    }
   },
   "outputs": [
    {
     "data": {
      "text/plain": [
       "module type Anneau =\n",
       "  sig\n",
       "    type t\n",
       "    val neutre_somme : t\n",
       "    val neutre_mult : t\n",
       "    val somme : t -> t -> t\n",
       "    val mult : t -> t -> t\n",
       "    val somme_inv : t -> t\n",
       "    val print : t -> unit\n",
       "  end\n"
      ]
     },
     "execution_count": 3,
     "metadata": {},
     "output_type": "execute_result"
    }
   ],
   "source": [
    "module type Anneau = sig\n",
    "    type t (* type des éléments du groupe *)\n",
    "    val neutre_somme : t (* élément neutre pour + *)\n",
    "    val neutre_mult : t (* élément neutre pour * *)\n",
    "    val somme : t -> t -> t (* + *)\n",
    "    val mult : t -> t -> t (* * *)\n",
    "    val somme_inv : t -> t (* inverse additif *)\n",
    "    val print : t -> unit (* pour afficher une valeur *)\n",
    "end"
   ]
  },
  {
   "cell_type": "markdown",
   "metadata": {},
   "source": [
    "Par exemple, voici la définition de $\\mathbb{Z}/5\\mathbb{Z}$ sous forme d'un module de type `Anneau` :"
   ]
  },
  {
   "cell_type": "code",
   "execution_count": 4,
   "metadata": {
    "vscode": {
     "languageId": "ocaml"
    }
   },
   "outputs": [
    {
     "data": {
      "text/plain": [
       "module Z5Z : Anneau\n"
      ]
     },
     "execution_count": 4,
     "metadata": {},
     "output_type": "execute_result"
    }
   ],
   "source": [
    "module Z5Z : Anneau = struct\n",
    "    type t = int\n",
    "    let neutre_somme = 0\n",
    "    let neutre_mult = 1\n",
    "    let somme n p = (n + p) mod 5\n",
    "    let mult n p = (n*p) mod 5\n",
    "    let somme_inv n = (-n) mod 5\n",
    "    let print n = Format.printf \"%d@.\" n\n",
    "end"
   ]
  },
  {
   "cell_type": "markdown",
   "metadata": {},
   "source": [
    "Exemple d'utilisation :"
   ]
  },
  {
   "cell_type": "code",
   "execution_count": 5,
   "metadata": {
    "vscode": {
     "languageId": "ocaml"
    }
   },
   "outputs": [
    {
     "name": "stdout",
     "output_type": "stream",
     "text": [
      "4\n"
     ]
    },
    {
     "data": {
      "text/plain": [
       "- : unit = ()\n"
      ]
     },
     "execution_count": 5,
     "metadata": {},
     "output_type": "execute_result"
    }
   ],
   "source": [
    "let e = Z5Z.neutre_mult in\n",
    "let e2 = Z5Z.somme e e in\n",
    "Z5Z.print (Z5Z.mult e2 e2)"
   ]
  },
  {
   "cell_type": "markdown",
   "metadata": {
    "tags": [
     "exo"
    ]
   },
   "source": [
    "**Exercice** : Définir un module de type `Anneau` représentant le corps (donc aussi un anneau) $\\mathbb{C}$ des nombres complexes."
   ]
  },
  {
   "cell_type": "markdown",
   "metadata": {},
   "source": [
    "## Foncteur\n",
    "\n",
    "Cette partie est un complément qui peut être passé en première lecture.  \n",
    "Il est possible de définir des **modules paramétrés (foncteur)**, c'est-à-dire pouvoir définir automatiquement un nouveau module en faisant varier un paramètre. Par exemple, on pourrait définir un foncteur pour obtenir $\\mathbb{Z}/n\\mathbb{Z}$, pour $n$ quelconque :"
   ]
  },
  {
   "cell_type": "code",
   "execution_count": 6,
   "metadata": {
    "vscode": {
     "languageId": "ocaml"
    }
   },
   "outputs": [
    {
     "data": {
      "text/plain": [
       "module type Integer = sig val n : int end\n"
      ]
     },
     "execution_count": 6,
     "metadata": {},
     "output_type": "execute_result"
    },
    {
     "data": {
      "text/plain": [
       "module ZnZ : functor (N : Integer) -> Anneau\n"
      ]
     },
     "execution_count": 6,
     "metadata": {},
     "output_type": "execute_result"
    }
   ],
   "source": [
    "module type Integer = sig val n : int end (* type de module utilisé en paramètre de ZnZ *)\n",
    "\n",
    "module ZnZ (N : Integer) : Anneau = struct\n",
    "    type t = int\n",
    "    let neutre_somme = 0\n",
    "    let neutre_mult = 1\n",
    "    let somme p q = (p + q) mod N.n\n",
    "    let mult p q = (p*q) mod N.n\n",
    "    let somme_inv p = (p) mod N.n\n",
    "    let print n = Format.printf \"%d@.\" n (* pour afficher l'entier stocké *)\n",
    "end"
   ]
  },
  {
   "cell_type": "markdown",
   "metadata": {},
   "source": [
    "On peut alors définir $\\mathbb{Z}/2\\mathbb{Z}$ simplement :"
   ]
  },
  {
   "cell_type": "code",
   "execution_count": 7,
   "metadata": {
    "vscode": {
     "languageId": "ocaml"
    }
   },
   "outputs": [
    {
     "data": {
      "text/plain": [
       "module Z2Z : Anneau\n"
      ]
     },
     "execution_count": 7,
     "metadata": {},
     "output_type": "execute_result"
    },
    {
     "name": "stdout",
     "output_type": "stream",
     "text": [
      "0\n"
     ]
    },
    {
     "data": {
      "text/plain": [
       "- : unit = ()\n"
      ]
     },
     "execution_count": 7,
     "metadata": {},
     "output_type": "execute_result"
    }
   ],
   "source": [
    "module Z2Z = ZnZ (struct let n = 2 end);;\n",
    "\n",
    "let e = Z2Z.neutre_mult in\n",
    "Z2Z.print (Z2Z.somme e e)"
   ]
  },
  {
   "cell_type": "markdown",
   "metadata": {},
   "source": [
    "## File de priorité par arbre binaire de recherche\n",
    "\n",
    "On définit le type suivant de module de file de priorité persistante :"
   ]
  },
  {
   "cell_type": "code",
   "execution_count": 8,
   "metadata": {
    "vscode": {
     "languageId": "ocaml"
    }
   },
   "outputs": [
    {
     "data": {
      "text/plain": [
       "module type PrioQ =\n",
       "  sig\n",
       "    type 'a t\n",
       "    val empty : 'a t\n",
       "    val is_empty : 'a t -> bool\n",
       "    val add : 'a -> 'a t -> 'a t\n",
       "    val peek_min : 'a t -> 'a\n",
       "    val take_min : 'a t -> 'a t\n",
       "  end\n"
      ]
     },
     "execution_count": 8,
     "metadata": {},
     "output_type": "execute_result"
    }
   ],
   "source": [
    "module type PrioQ = sig\n",
    "  type 'a t (* structure contenant les éléments de la file de priorité *)\n",
    "  val empty : 'a t (* file de priorité vide *)\n",
    "  val is_empty : 'a t -> bool (* teste si une file de priorité est vide *)\n",
    "  val add : 'a -> 'a t -> 'a t (* ajoute un élément à la file de priorité *)\n",
    "  val peek_min : 'a t -> 'a (* renvoie le minimum de la file de priorité *)\n",
    "  val take_min : 'a t -> 'a t (* extrait le minimum de la file de priorité *)\n",
    "end"
   ]
  },
  {
   "cell_type": "markdown",
   "metadata": {},
   "source": [
    "Comme il s'agit d'une file de priorité persistante, `take_min` et `add` renvoient une nouvelle version de la file de priorité."
   ]
  },
  {
   "cell_type": "markdown",
   "metadata": {
    "tags": [
     "exo"
    ]
   },
   "source": [
    "**Exercice** : Compléter le module suivant pour implémenter une file de priorité par arbre binaire de recherche."
   ]
  },
  {
   "cell_type": "code",
   "execution_count": 9,
   "metadata": {
    "vscode": {
     "languageId": "ocaml"
    }
   },
   "outputs": [
    {
     "ename": "error",
     "evalue": "compile_error",
     "output_type": "error",
     "traceback": [
      "File \"[9]\", line 1, characters 21-165:\n1 | .....................struct\n2 |   type 'a t = E | N of 'a * 'a t * 'a t (* type d'arbre binaire *)\n3 |   let empty = E\n4 |   (* définir is_empty, add, peek_min, take_min *)\n5 | end\nError: Signature mismatch:\n       Modules do not match:\n         sig type 'a t = E | N of 'a * 'a t * 'a t val empty : 'a t end\n       is not included in\n         PrioQ\n       The value `take_min' is required but not provided\n       File \"[8]\", line 7, characters 2-29: Expected declaration\n       The value `peek_min' is required but not provided\n       File \"[8]\", line 6, characters 2-27: Expected declaration\n       The value `add' is required but not provided\n       File \"[8]\", line 5, characters 2-30: Expected declaration\n       The value `is_empty' is required but not provided\n       File \"[8]\", line 4, characters 2-29: Expected declaration\n"
     ]
    }
   ],
   "source": [
    "module Bst : PrioQ = struct\n",
    "  type 'a t = E | N of 'a * 'a t * 'a t (* type d'arbre binaire *)\n",
    "  let empty = E\n",
    "  (* définir is_empty, add, peek_min, take_min *)\n",
    "end"
   ]
  },
  {
   "cell_type": "markdown",
   "metadata": {},
   "source": [
    "## Algorithme de Dijkstra"
   ]
  },
  {
   "cell_type": "markdown",
   "metadata": {
    "tags": [
     "exo"
    ]
   },
   "source": [
    "**Exercice** : Écrire une fonction implémentant l'algorithme de Dijkstra en utilisant un `Bst` comme file de priorité. On pourra adapter le code du cours sur l'algorithme de Dijkstra. Tester votre fonction."
   ]
  },
  {
   "cell_type": "markdown",
   "metadata": {},
   "source": [
    "## Prolongements"
   ]
  },
  {
   "cell_type": "markdown",
   "metadata": {
    "tags": [
     "exo"
    ]
   },
   "source": [
    "**Exercice** : Réécrire l'algorithme de Dijkstra sous forme d'un foncteur, de façon à être utilisable avec n'importe quelle `PrioQ`. Tester. On pourra compléter le code suivant :"
   ]
  },
  {
   "cell_type": "code",
   "execution_count": 10,
   "metadata": {
    "vscode": {
     "languageId": "ocaml"
    }
   },
   "outputs": [
    {
     "ename": "error",
     "evalue": "compile_error",
     "output_type": "error",
     "traceback": [
      "File \"[10]\", line 4, characters 0-3:\n4 | end\n    ^^^\nError: Syntax error: 'end' expected\nFile \"[10]\", line 1, characters 30-36:\n1 | module Dijkstra (Q : PrioQ) = struct\n                                  ^^^^^^\n  This 'struct' might be unmatched\n"
     ]
    }
   ],
   "source": [
    "module Dijkstra (Q : PrioQ) = struct\n",
    "    let distances g r = (* renvoie un tableau des distances de r aux sommets de g *)\n",
    "        (* compléter *)\n",
    "end"
   ]
  },
  {
   "cell_type": "markdown",
   "metadata": {
    "tags": [
     "exo"
    ]
   },
   "source": [
    "**Exercice** : Écrire un module de type `PrioQ` implémenté par un tas. Vérifier que `Dijkstra` fonctionne avec ce nouveau `PrioQ`, avec des modifications minimes."
   ]
  },
  {
   "cell_type": "markdown",
   "metadata": {
    "tags": [
     "exo"
    ]
   },
   "source": [
    "**Exercice** : Écrire un type de module `Graph` (avec des fonctions `add_edge`, `is_edge`... et réimplémenter l'algorithme de Dijkstra sous forme d'un foncteur paramétré à la fois par un `Graph` et une `PrioQ`."
   ]
  }
 ],
 "metadata": {
  "celltoolbar": "Tags",
  "kernelspec": {
   "display_name": "OCaml default",
   "language": "OCaml",
   "name": "ocaml-jupyter"
  },
  "language_info": {
   "codemirror_mode": "text/x-ocaml",
   "file_extension": ".ml",
   "mimetype": "text/x-ocaml",
   "name": "OCaml",
   "nbconverter_exporter": null,
   "pygments_lexer": "OCaml",
   "version": "4.08.1"
  }
 },
 "nbformat": 4,
 "nbformat_minor": 4
}
